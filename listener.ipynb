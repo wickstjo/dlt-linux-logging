{
 "cells": [
  {
   "cell_type": "code",
   "execution_count": 1,
   "metadata": {},
   "outputs": [],
   "source": [
    "import time\n",
    "import os\n",
    "import re"
   ]
  },
  {
   "cell_type": "markdown",
   "metadata": {},
   "source": [
    "### LINE CONTAINER"
   ]
  },
  {
   "cell_type": "code",
   "execution_count": 2,
   "metadata": {},
   "outputs": [],
   "source": [
    "container = []"
   ]
  },
  {
   "cell_type": "markdown",
   "metadata": {},
   "source": [
    "### TRACK LOG FILE"
   ]
  },
  {
   "cell_type": "code",
   "execution_count": 3,
   "metadata": {},
   "outputs": [],
   "source": [
    "def track(logfile):\n",
    "    \n",
    "    # FETCH THE GLOBAL CONTAINER\n",
    "    global container\n",
    "    \n",
    "    # OPEN THE FILE\n",
    "    file = open(logfile, 'r')\n",
    "\n",
    "    # EXTRACT FILE PARAM\n",
    "    st_results = os.stat(logfile)\n",
    "    st_size = st_results[6]\n",
    "    \n",
    "    # FIND THE TAILEND OF THE FILE\n",
    "    file.seek(st_size)\n",
    "\n",
    "    # EVENT LOOP\n",
    "    while True:\n",
    "        \n",
    "        # READ THE LAST LINE\n",
    "        where = file.tell()\n",
    "        line = file.readline()\n",
    "        \n",
    "        # IF THERE IS NOTHING THERE, SLEEP FOR 1 SECOND\n",
    "        if not line:\n",
    "            time.sleep(1)\n",
    "            file.seek(where)\n",
    "        \n",
    "        # OTHERWISE...\n",
    "        else:\n",
    "            \n",
    "            # PARSE THE LINE & APPEND\n",
    "            parsed = parse_line(line)\n",
    "            container.append(parsed)"
   ]
  },
  {
   "cell_type": "markdown",
   "metadata": {},
   "source": [
    "### PARSE LINE"
   ]
  },
  {
   "cell_type": "code",
   "execution_count": 7,
   "metadata": {},
   "outputs": [],
   "source": [
    "def parse_line(line):\n",
    "    \n",
    "    # TRUNCATE MULTI-SPACING\n",
    "    line = re.sub(' +', ' ', line)\n",
    "    \n",
    "    # REMOVE LINEBREAK CHAR\n",
    "    line = re.sub('\\n', '', line)\n",
    "    \n",
    "    # FIND EACH OCCURRENCE OF SPACES IN LINE\n",
    "    spaces = [i for i, ltr in enumerate(line) if ltr == ' ']\n",
    "    \n",
    "    return {\n",
    "        'date': line[:spaces[2]],\n",
    "        'platform': line[spaces[2] + 1:spaces[3]],\n",
    "        'module': line[spaces[3] + 1:spaces[4] - 1],\n",
    "        'msg': line[spaces[4] + 1:]\n",
    "    }"
   ]
  },
  {
   "cell_type": "markdown",
   "metadata": {},
   "source": [
    "### START PROCESS"
   ]
  },
  {
   "cell_type": "code",
   "execution_count": 8,
   "metadata": {
    "scrolled": true
   },
   "outputs": [
    {
     "ename": "KeyboardInterrupt",
     "evalue": "",
     "output_type": "error",
     "traceback": [
      "\u001b[0;31m---------------------------------------------------------------------------\u001b[0m",
      "\u001b[0;31mKeyboardInterrupt\u001b[0m                         Traceback (most recent call last)",
      "\u001b[0;32m<ipython-input-8-131efa36772d>\u001b[0m in \u001b[0;36m<module>\u001b[0;34m\u001b[0m\n\u001b[0;32m----> 1\u001b[0;31m \u001b[0mtrack\u001b[0m\u001b[0;34m(\u001b[0m\u001b[0;34m'/var/log/syslog'\u001b[0m\u001b[0;34m)\u001b[0m\u001b[0;34m\u001b[0m\u001b[0;34m\u001b[0m\u001b[0m\n\u001b[0m",
      "\u001b[0;32m<ipython-input-3-e14b064a4d74>\u001b[0m in \u001b[0;36mtrack\u001b[0;34m(logfile)\u001b[0m\n\u001b[1;32m     23\u001b[0m         \u001b[0;31m# IF THERE IS NOTHING THERE, SLEEP FOR 1 SECOND\u001b[0m\u001b[0;34m\u001b[0m\u001b[0;34m\u001b[0m\u001b[0;34m\u001b[0m\u001b[0m\n\u001b[1;32m     24\u001b[0m         \u001b[0;32mif\u001b[0m \u001b[0;32mnot\u001b[0m \u001b[0mline\u001b[0m\u001b[0;34m:\u001b[0m\u001b[0;34m\u001b[0m\u001b[0;34m\u001b[0m\u001b[0m\n\u001b[0;32m---> 25\u001b[0;31m             \u001b[0mtime\u001b[0m\u001b[0;34m.\u001b[0m\u001b[0msleep\u001b[0m\u001b[0;34m(\u001b[0m\u001b[0;36m1\u001b[0m\u001b[0;34m)\u001b[0m\u001b[0;34m\u001b[0m\u001b[0;34m\u001b[0m\u001b[0m\n\u001b[0m\u001b[1;32m     26\u001b[0m             \u001b[0mfile\u001b[0m\u001b[0;34m.\u001b[0m\u001b[0mseek\u001b[0m\u001b[0;34m(\u001b[0m\u001b[0mwhere\u001b[0m\u001b[0;34m)\u001b[0m\u001b[0;34m\u001b[0m\u001b[0;34m\u001b[0m\u001b[0m\n\u001b[1;32m     27\u001b[0m \u001b[0;34m\u001b[0m\u001b[0m\n",
      "\u001b[0;31mKeyboardInterrupt\u001b[0m: "
     ]
    }
   ],
   "source": [
    "track('/var/log/syslog')"
   ]
  },
  {
   "cell_type": "code",
   "execution_count": 9,
   "metadata": {},
   "outputs": [
    {
     "data": {
      "text/plain": [
       "[{'date': 'Feb 3 05:06:47',\n",
       "  'platform': 'desktop',\n",
       "  'module': 'systemd[968]',\n",
       "  'msg': 'Started Application launched by gsd-media-keys.'},\n",
       " {'date': 'Feb 3 05:06:47',\n",
       "  'platform': 'desktop',\n",
       "  'module': 'systemd[968]',\n",
       "  'msg': 'Started VTE child process 111208 launched by gnome-terminal-server process 80977.'},\n",
       " {'date': 'Feb 3 05:06:47',\n",
       "  'platform': 'desktop',\n",
       "  'module': 'systemd[968]',\n",
       "  'msg': 'gnome-launched-x-terminal-emulator-111198.scope: Succeeded.'},\n",
       " {'date': 'Feb 3 05:06:48',\n",
       "  'platform': 'desktop',\n",
       "  'module': 'systemd[968]',\n",
       "  'msg': 'vte-spawn-c781233a-e583-4b09-be10-a799efc34492.scope: Succeeded.'},\n",
       " {'date': 'Feb 3 05:06:48',\n",
       "  'platform': 'desktop',\n",
       "  'module': 'systemd[968]',\n",
       "  'msg': 'Started Application launched by gsd-media-keys.'},\n",
       " {'date': 'Feb 3 05:06:49',\n",
       "  'platform': 'desktop',\n",
       "  'module': 'systemd[968]',\n",
       "  'msg': 'Started VTE child process 111224 launched by gnome-terminal-server process 80977.'},\n",
       " {'date': 'Feb 3 05:06:49',\n",
       "  'platform': 'desktop',\n",
       "  'module': 'systemd[968]',\n",
       "  'msg': 'gnome-launched-x-terminal-emulator-111216.scope: Succeeded.'},\n",
       " {'date': 'Feb 3 05:06:49',\n",
       "  'platform': 'desktop',\n",
       "  'module': 'systemd[968]',\n",
       "  'msg': 'vte-spawn-a4ba3f5c-aa0d-499c-b527-39338e8ce9e6.scope: Succeeded.'},\n",
       " {'date': 'Feb 3 05:06:50',\n",
       "  'platform': 'desktop',\n",
       "  'module': 'systemd[968]',\n",
       "  'msg': 'Started Application launched by gsd-media-keys.'},\n",
       " {'date': 'Feb 3 05:06:50',\n",
       "  'platform': 'desktop',\n",
       "  'module': 'systemd[968]',\n",
       "  'msg': 'Started VTE child process 111240 launched by gnome-terminal-server process 80977.'},\n",
       " {'date': 'Feb 3 05:06:50',\n",
       "  'platform': 'desktop',\n",
       "  'module': 'systemd[968]',\n",
       "  'msg': 'gnome-launched-x-terminal-emulator-111232.scope: Succeeded.'},\n",
       " {'date': 'Feb 3 05:07:04',\n",
       "  'platform': 'desktop',\n",
       "  'module': 'zeitgeist-datah[3414]',\n",
       "  'msg': \"downloads-directory-provider.vala:120: Couldn't process /home/wickstjo/.bash_history-11240.tmp: Error when getting information for file “/home/wickstjo/.bash_history-11240.tmp”: No such file or directory\"},\n",
       " {'date': 'Feb 3 05:07:04',\n",
       "  'platform': 'desktop',\n",
       "  'module': 'systemd[968]',\n",
       "  'msg': 'vte-spawn-5e32ddac-9c4e-4001-bac1-644803c7b167.scope: Succeeded.'},\n",
       " {'date': 'Feb 3 05:07:04',\n",
       "  'platform': 'desktop',\n",
       "  'module': 'dbus-daemon[999]',\n",
       "  'msg': '[session uid=1000 pid=999] Activating via systemd: service name=\\'org.freedesktop.Tracker1\\' unit=\\'tracker-store.service\\' requested by \\':1.2\\' (uid=1000 pid=984 comm=\"/usr/libexec/tracker-miner-fs \" label=\"unconfined\")'},\n",
       " {'date': 'Feb 3 05:07:04',\n",
       "  'platform': 'desktop',\n",
       "  'module': 'systemd[968]',\n",
       "  'msg': 'Starting Tracker metadata database store and lookup manager...'},\n",
       " {'date': 'Feb 3 05:07:04',\n",
       "  'platform': 'desktop',\n",
       "  'module': 'dbus-daemon[999]',\n",
       "  'msg': \"[session uid=1000 pid=999] Successfully activated service 'org.freedesktop.Tracker1'\"},\n",
       " {'date': 'Feb 3 05:07:04',\n",
       "  'platform': 'desktop',\n",
       "  'module': 'systemd[968]',\n",
       "  'msg': 'Started Tracker metadata database store and lookup manager.'}]"
      ]
     },
     "execution_count": 9,
     "metadata": {},
     "output_type": "execute_result"
    }
   ],
   "source": [
    "container"
   ]
  },
  {
   "cell_type": "code",
   "execution_count": null,
   "metadata": {},
   "outputs": [],
   "source": []
  }
 ],
 "metadata": {
  "kernelspec": {
   "display_name": "Python 3",
   "language": "python",
   "name": "python3"
  },
  "language_info": {
   "codemirror_mode": {
    "name": "ipython",
    "version": 3
   },
   "file_extension": ".py",
   "mimetype": "text/x-python",
   "name": "python",
   "nbconvert_exporter": "python",
   "pygments_lexer": "ipython3",
   "version": "3.8.5"
  }
 },
 "nbformat": 4,
 "nbformat_minor": 4
}
