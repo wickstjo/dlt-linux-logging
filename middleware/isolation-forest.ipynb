{
 "cells": [
  {
   "cell_type": "code",
   "execution_count": 1,
   "metadata": {},
   "outputs": [],
   "source": [
    "from sklearn.feature_extraction.text import TfidfVectorizer\n",
    "from sklearn.ensemble import IsolationForest"
   ]
  },
  {
   "cell_type": "code",
   "execution_count": 2,
   "metadata": {},
   "outputs": [],
   "source": [
    "import numpy as np\n",
    "import os\n",
    "import nbimporter\n",
    "from IPython.display import clear_output"
   ]
  },
  {
   "cell_type": "code",
   "execution_count": 3,
   "metadata": {},
   "outputs": [
    {
     "name": "stdout",
     "output_type": "stream",
     "text": [
      "Importing Jupyter notebook from utils.ipynb\n"
     ]
    }
   ],
   "source": [
    "import utils"
   ]
  },
  {
   "cell_type": "markdown",
   "metadata": {},
   "source": [
    "### CREATE DATASET FROM COMPRESSED LOG FILES"
   ]
  },
  {
   "cell_type": "code",
   "execution_count": 4,
   "metadata": {},
   "outputs": [],
   "source": [
    "dataframe = utils.create_dataset('data/logs')"
   ]
  },
  {
   "cell_type": "code",
   "execution_count": 5,
   "metadata": {},
   "outputs": [
    {
     "data": {
      "text/html": [
       "<div>\n",
       "<style scoped>\n",
       "    .dataframe tbody tr th:only-of-type {\n",
       "        vertical-align: middle;\n",
       "    }\n",
       "\n",
       "    .dataframe tbody tr th {\n",
       "        vertical-align: top;\n",
       "    }\n",
       "\n",
       "    .dataframe thead th {\n",
       "        text-align: right;\n",
       "    }\n",
       "</style>\n",
       "<table border=\"1\" class=\"dataframe\">\n",
       "  <thead>\n",
       "    <tr style=\"text-align: right;\">\n",
       "      <th></th>\n",
       "      <th>timestamp</th>\n",
       "      <th>module</th>\n",
       "      <th>code</th>\n",
       "      <th>message</th>\n",
       "    </tr>\n",
       "  </thead>\n",
       "  <tbody>\n",
       "    <tr>\n",
       "      <th>0</th>\n",
       "      <td>1613190301</td>\n",
       "      <td>libloggingstdlog</td>\n",
       "      <td>none</td>\n",
       "      <td>[origin software=\"rsyslogd\" swVersion=\"8.24.0\"...</td>\n",
       "    </tr>\n",
       "    <tr>\n",
       "      <th>1</th>\n",
       "      <td>1613193421</td>\n",
       "      <td>CRON</td>\n",
       "      <td>32398</td>\n",
       "      <td>(root) CMD ( cd / &amp;&amp; run-parts --report /etc/c...</td>\n",
       "    </tr>\n",
       "    <tr>\n",
       "      <th>2</th>\n",
       "      <td>1613197021</td>\n",
       "      <td>CRON</td>\n",
       "      <td>6546</td>\n",
       "      <td>(root) CMD ( cd / &amp;&amp; run-parts --report /etc/c...</td>\n",
       "    </tr>\n",
       "    <tr>\n",
       "      <th>3</th>\n",
       "      <td>1613200621</td>\n",
       "      <td>CRON</td>\n",
       "      <td>12800</td>\n",
       "      <td>(root) CMD ( cd / &amp;&amp; run-parts --report /etc/c...</td>\n",
       "    </tr>\n",
       "    <tr>\n",
       "      <th>4</th>\n",
       "      <td>1613204221</td>\n",
       "      <td>CRON</td>\n",
       "      <td>19277</td>\n",
       "      <td>(root) CMD ( cd / &amp;&amp; run-parts --report /etc/c...</td>\n",
       "    </tr>\n",
       "  </tbody>\n",
       "</table>\n",
       "</div>"
      ],
      "text/plain": [
       "    timestamp            module   code  \\\n",
       "0  1613190301  libloggingstdlog   none   \n",
       "1  1613193421              CRON  32398   \n",
       "2  1613197021              CRON   6546   \n",
       "3  1613200621              CRON  12800   \n",
       "4  1613204221              CRON  19277   \n",
       "\n",
       "                                             message  \n",
       "0  [origin software=\"rsyslogd\" swVersion=\"8.24.0\"...  \n",
       "1  (root) CMD ( cd / && run-parts --report /etc/c...  \n",
       "2  (root) CMD ( cd / && run-parts --report /etc/c...  \n",
       "3  (root) CMD ( cd / && run-parts --report /etc/c...  \n",
       "4  (root) CMD ( cd / && run-parts --report /etc/c...  "
      ]
     },
     "execution_count": 5,
     "metadata": {},
     "output_type": "execute_result"
    }
   ],
   "source": [
    "dataframe.head(5)"
   ]
  },
  {
   "cell_type": "code",
   "execution_count": 6,
   "metadata": {},
   "outputs": [],
   "source": [
    "#dataframe.to_csv('data/may-dataset.csv')"
   ]
  },
  {
   "cell_type": "code",
   "execution_count": 7,
   "metadata": {},
   "outputs": [],
   "source": [
    "#dataset = utils.load_csv('data/may-dataset.csv')"
   ]
  },
  {
   "cell_type": "code",
   "execution_count": 8,
   "metadata": {},
   "outputs": [
    {
     "data": {
      "text/plain": [
       "16191"
      ]
     },
     "execution_count": 8,
     "metadata": {},
     "output_type": "execute_result"
    }
   ],
   "source": [
    "len(dataframe)"
   ]
  },
  {
   "cell_type": "markdown",
   "metadata": {},
   "source": [
    "### SEPARATE DATAFRAME INTO SEGMENTS"
   ]
  },
  {
   "cell_type": "code",
   "execution_count": 9,
   "metadata": {},
   "outputs": [],
   "source": [
    "def separate(dataframe):\n",
    "    \n",
    "    # CONTAINERS\n",
    "    normal_events, anomalous_events = [], []\n",
    "    \n",
    "    # EXTRACT THE MESSAGE COLUMN\n",
    "    messages = list(dataframe['message'])\n",
    "    \n",
    "    # BLACKLISTED PHRASES\n",
    "    blacklisted_phrases = [\n",
    "        'ropsten',\n",
    "        'Created slice User',\n",
    "        'Started Session c',\n",
    "        'New USB device found',\n",
    "        '@reboot jobs',\n",
    "        'Started System Logging'\n",
    "    ]\n",
    "    \n",
    "    # LOOP THROUGH THE MESSAGES\n",
    "    for message in messages:\n",
    "        \n",
    "        # CHECK IF MESSAGE CONTAINS A BLACKLISTED PHRASE\n",
    "        anomalous = contains(message, blacklisted_phrases)\n",
    "            \n",
    "        # APPEND TO THE CORRECT CONTAINER\n",
    "        if anomalous:\n",
    "            anomalous_events.append(message)\n",
    "        else:\n",
    "            normal_events.append(message)\n",
    "                \n",
    "    # PRINT LENGTHS\n",
    "    print('TOTAL EVENTS:\\t\\t', len(messages))\n",
    "    print('UNIQUE EVENTS:\\t\\t', len(set(messages)), '\\n')\n",
    "    print('NORMAL EVENTS:\\t\\t', len(normal_events) )\n",
    "    print('ANOMALOUS EVENTS:\\t', len(anomalous_events))\n",
    "    \n",
    "    return normal_events, anomalous_events, messages"
   ]
  },
  {
   "cell_type": "code",
   "execution_count": 10,
   "metadata": {},
   "outputs": [],
   "source": [
    "def contains(message, blacklist):\n",
    "    \n",
    "    # LOOP THROUGH BLACKLIST\n",
    "    for phrase in blacklist:\n",
    "        \n",
    "        # CHECK IF THE MESSAGE CONTAINS THE BAD PHRASE\n",
    "        if phrase in message:\n",
    "            return True\n",
    "        \n",
    "    return False"
   ]
  },
  {
   "cell_type": "code",
   "execution_count": 11,
   "metadata": {},
   "outputs": [
    {
     "name": "stdout",
     "output_type": "stream",
     "text": [
      "TOTAL EVENTS:\t\t 16191\n",
      "UNIQUE EVENTS:\t\t 1354 \n",
      "\n",
      "NORMAL EVENTS:\t\t 15870\n",
      "ANOMALOUS EVENTS:\t 321\n"
     ]
    }
   ],
   "source": [
    "normal_dataset, anomalous_dataset, combined_dataset = separate(dataframe)"
   ]
  },
  {
   "cell_type": "markdown",
   "metadata": {},
   "source": [
    "### VECTORIZE DATASET INTO FEATURES"
   ]
  },
  {
   "cell_type": "code",
   "execution_count": 12,
   "metadata": {},
   "outputs": [],
   "source": [
    "def create_features(dataset):\n",
    "    \n",
    "    # CREATE THE VECTORIZER\n",
    "    vectorizer = TfidfVectorizer()\n",
    "    \n",
    "    # FIT VECTORIZER & CREATE TRAIN FEATURES\n",
    "    features = vectorizer.fit_transform(dataset)\n",
    "    \n",
    "    return features, vectorizer"
   ]
  },
  {
   "cell_type": "markdown",
   "metadata": {},
   "source": [
    "### TRAIN ISOLATION FOREST"
   ]
  },
  {
   "cell_type": "code",
   "execution_count": 13,
   "metadata": {},
   "outputs": [],
   "source": [
    "def train_isolation(features, config):\n",
    "    \n",
    "    # CREATE THE MODEL\n",
    "    model = IsolationForest(**config)\n",
    "    \n",
    "    # TRAIN IT\n",
    "    model.fit(features)\n",
    "    \n",
    "    return model"
   ]
  },
  {
   "cell_type": "markdown",
   "metadata": {},
   "source": [
    "### PREDICTION ACCURACY"
   ]
  },
  {
   "cell_type": "code",
   "execution_count": 14,
   "metadata": {},
   "outputs": [],
   "source": [
    "def set_accuracy(prediction_vector, dataset, anomalies):\n",
    "    \n",
    "    # INITIALIZE VARS\n",
    "    hit, miss = 0, 0\n",
    "    \n",
    "    # CONVERT ANOMALIES INTO A SET FOR FASTER QUERYING\n",
    "    anomalies = set(anomalies)\n",
    "    \n",
    "    # LOOP THROUGH PREDICTIONS\n",
    "    for index, prediction in enumerate(prediction_vector):\n",
    "    \n",
    "        # FIND ALL -1 VALUES (ANOMALIES)\n",
    "        if prediction != 1:\n",
    "            \n",
    "            # FIND THE MESSAGE\n",
    "            message = dataset[index]\n",
    "\n",
    "            # INCREMENT HIT/MISS BASED ON WHETHER MESSAGE EXISTS IN ANOMALIES\n",
    "            if message in anomalies:\n",
    "                hit += 1\n",
    "            else:\n",
    "                miss += 1\n",
    "    \n",
    "    # ACCURACY PERCENTAGE\n",
    "    percentage = (hit / miss) * 100\n",
    "    rounded = round(percentage, 2)\n",
    "    \n",
    "    # PRINT ACCURACY\n",
    "    #print('accuracy: {}%'.format(rounded))\n",
    "    \n",
    "    return percentage"
   ]
  },
  {
   "cell_type": "code",
   "execution_count": 15,
   "metadata": {},
   "outputs": [],
   "source": [
    "def length_accuracy(prediction_vector, dataset):\n",
    "    \n",
    "    # INITIALIZE HIT VAR\n",
    "    hit = 0\n",
    "    \n",
    "    # LOOP THROUGH PREDICTIONS\n",
    "    for index, prediction in enumerate(prediction_vector):\n",
    "    \n",
    "        # FIND ALL -1 VALUES (ANOMALIES)\n",
    "        if prediction != 1:\n",
    "            hit += 1\n",
    "            \n",
    "    # ACCURACY PERCENTAGE\n",
    "    percentage = (hit / len(dataset)) * 100\n",
    "    rounded = round(percentage, 2)\n",
    "    \n",
    "    # PRINT ACCURACY\n",
    "    #print('accuracy: {}%'.format(rounded))\n",
    "    \n",
    "    return percentage"
   ]
  },
  {
   "cell_type": "markdown",
   "metadata": {},
   "source": [
    "### EXPERIMENT #1 -- TRAIN WITH COMBINED DATASET"
   ]
  },
  {
   "cell_type": "code",
   "execution_count": 16,
   "metadata": {},
   "outputs": [],
   "source": [
    "def combined_experiment(model_config={}):\n",
    "    \n",
    "    # VECTORIZE TRAINING DATASET\n",
    "    training_features, vectorizer = create_features(combined_dataset)\n",
    "    \n",
    "    # ADD STATIC MODEL CONFIG PARAMS TO THE PROVIDED CONFIG\n",
    "    model_config['random_state'] = 200\n",
    "    model_config['contamination'] = len(anomalous_dataset) / len(combined_dataset)\n",
    "    \n",
    "    # TRAIN THE MODEL\n",
    "    model = train_isolation(training_features, model_config)\n",
    "    \n",
    "    # PREDICT WITH TRAINING FEATURES\n",
    "    predictions = model.predict(training_features)\n",
    "    \n",
    "    # MEASURE & RETURN ACCURACY\n",
    "    return set_accuracy(predictions, combined_dataset, anomalous_dataset)"
   ]
  },
  {
   "cell_type": "code",
   "execution_count": 17,
   "metadata": {},
   "outputs": [
    {
     "data": {
      "text/plain": [
       "0.0"
      ]
     },
     "execution_count": 17,
     "metadata": {},
     "output_type": "execute_result"
    }
   ],
   "source": [
    "combined_experiment({\n",
    "    'n_estimators': 1000\n",
    "})"
   ]
  },
  {
   "cell_type": "markdown",
   "metadata": {},
   "source": [
    "### EXPERIMENT #2 -- TRAIN & TEST WITH SEPARATE SEGMENTS"
   ]
  },
  {
   "cell_type": "code",
   "execution_count": 18,
   "metadata": {},
   "outputs": [],
   "source": [
    "def segmented_experiment(model_config={}):\n",
    "    \n",
    "    # VECTORIZE NORMAL DATASET\n",
    "    training_features, vectorizer = create_features(normal_dataset)\n",
    "    \n",
    "    # ADD STATIC MODEL CONFIG PARAMS TO THE PROVIDED CONFIG\n",
    "    model_config['random_state'] = 200\n",
    "    model_config['contamination'] = 0\n",
    "    \n",
    "    # TRAIN THE MODEL\n",
    "    model = train_isolation(training_features, model_config)\n",
    "    \n",
    "    # VECTORIZE ANOMALOUS DATASET\n",
    "    testing_features = vectorizer.transform(anomalous_dataset)\n",
    "    \n",
    "    # PREDICT WITH ANOMALIES\n",
    "    predictions = model.predict(testing_features)\n",
    "    \n",
    "    # MEASURE & RETURN ACCURACY\n",
    "    return length_accuracy(predictions, anomalous_dataset)"
   ]
  },
  {
   "cell_type": "code",
   "execution_count": 19,
   "metadata": {
    "scrolled": true
   },
   "outputs": [
    {
     "data": {
      "text/plain": [
       "0.0"
      ]
     },
     "execution_count": 19,
     "metadata": {},
     "output_type": "execute_result"
    }
   ],
   "source": [
    "segmented_experiment({\n",
    "    'n_estimators': 1000\n",
    "})"
   ]
  },
  {
   "cell_type": "markdown",
   "metadata": {},
   "source": [
    "### GRID SEARCH"
   ]
  },
  {
   "cell_type": "code",
   "execution_count": 20,
   "metadata": {},
   "outputs": [],
   "source": [
    "def grid_search(param, minimum, maximum, increment):\n",
    "    \n",
    "    # GRID LABELS\n",
    "    grid = list(range(minimum, maximum, increment))\n",
    "    \n",
    "    # CONTAINERS\n",
    "    combined, segmented = [], []\n",
    "    \n",
    "    # BEST ACCURACY\n",
    "    best = 0\n",
    "    \n",
    "    # LOOP THROUGH ESTIMATORS\n",
    "    for value in grid:\n",
    "\n",
    "        # RUN COMBINED EXPERIMENT & APPEND ACCURACY\n",
    "        accuracy = combined_experiment({ param: value })\n",
    "        combined.append(accuracy)\n",
    "        \n",
    "        # UPDATE ACCURACY WHEN A BETTER RESULT IS FOUND\n",
    "        if accuracy > best:\n",
    "            best = accuracy\n",
    "        \n",
    "        # RUN SEGMENTED EXPERIMENT & APPEND ACCURACY\n",
    "        accuracy = segmented_experiment({ param: value })\n",
    "        segmented.append(accuracy)\n",
    "        \n",
    "        # UPDATE ACCURACY WHEN A BETTER RESULT IS FOUND\n",
    "        if accuracy > best:\n",
    "            best = accuracy\n",
    "        \n",
    "        # CLEAR OLD OUTPUT & PRINT NEW\n",
    "        clear_output(wait=True)\n",
    "        print('GRID:\\t\\t', value + 1, '/', maximum)\n",
    "        print('BEST ACCURACY:\\t', str(best) + '%')\n",
    "        \n",
    "    return grid, combined, segmented"
   ]
  },
  {
   "cell_type": "code",
   "execution_count": 21,
   "metadata": {},
   "outputs": [
    {
     "name": "stdout",
     "output_type": "stream",
     "text": [
      "GRID:\t\t 50 / 50\n",
      "BEST ACCURACY:\t 0%\n"
     ]
    }
   ],
   "source": [
    "estimators, combined, segmented = grid_search(\n",
    "    param='n_estimators',\n",
    "    minimum=1,\n",
    "    maximum=50,\n",
    "    increment=1\n",
    ")"
   ]
  },
  {
   "cell_type": "code",
   "execution_count": null,
   "metadata": {},
   "outputs": [],
   "source": []
  }
 ],
 "metadata": {
  "kernelspec": {
   "display_name": "Python 3",
   "language": "python",
   "name": "python3"
  },
  "language_info": {
   "codemirror_mode": {
    "name": "ipython",
    "version": 3
   },
   "file_extension": ".py",
   "mimetype": "text/x-python",
   "name": "python",
   "nbconvert_exporter": "python",
   "pygments_lexer": "ipython3",
   "version": "3.8.5"
  }
 },
 "nbformat": 4,
 "nbformat_minor": 4
}
