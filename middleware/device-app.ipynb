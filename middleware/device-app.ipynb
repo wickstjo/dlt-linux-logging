{
 "cells": [
  {
   "cell_type": "code",
   "execution_count": 1,
   "metadata": {},
   "outputs": [],
   "source": [
    "import os\n",
    "import time\n",
    "import nbimporter"
   ]
  },
  {
   "cell_type": "code",
   "execution_count": 2,
   "metadata": {},
   "outputs": [
    {
     "name": "stdout",
     "output_type": "stream",
     "text": [
      "Importing Jupyter notebook from utils.ipynb\n",
      "Importing Jupyter notebook from blockchain.ipynb\n",
      "Importing Jupyter notebook from encryption.ipynb\n"
     ]
    }
   ],
   "source": [
    "import utils\n",
    "import blockchain as blockchain_utils\n",
    "import encryption"
   ]
  },
  {
   "cell_type": "markdown",
   "metadata": {},
   "source": [
    "### LOAD RESOURCES"
   ]
  },
  {
   "cell_type": "code",
   "execution_count": 3,
   "metadata": {},
   "outputs": [],
   "source": [
    "settings = utils.load_yaml('resources/settings.yaml')"
   ]
  },
  {
   "cell_type": "code",
   "execution_count": 4,
   "metadata": {},
   "outputs": [],
   "source": [
    "identifier = utils.load_yaml('resources/identifier.yaml')"
   ]
  },
  {
   "cell_type": "code",
   "execution_count": 5,
   "metadata": {},
   "outputs": [],
   "source": [
    "latest = utils.load_json('resources/latest.json')"
   ]
  },
  {
   "cell_type": "markdown",
   "metadata": {},
   "source": [
    "### CONNECT TO THE ETHEREUM GATEWAY"
   ]
  },
  {
   "cell_type": "code",
   "execution_count": 6,
   "metadata": {},
   "outputs": [],
   "source": [
    "web3 = blockchain_utils.connect(settings)"
   ]
  },
  {
   "cell_type": "markdown",
   "metadata": {},
   "source": [
    "### SERIALIZE THE MANAGER CONTRACT"
   ]
  },
  {
   "cell_type": "code",
   "execution_count": 7,
   "metadata": {},
   "outputs": [],
   "source": [
    "device_manager = blockchain_utils.contract(latest['devicemanager'], web3, settings)"
   ]
  },
  {
   "cell_type": "markdown",
   "metadata": {},
   "source": [
    "### HASH THE DEVICE IDENTIFIER"
   ]
  },
  {
   "cell_type": "code",
   "execution_count": 8,
   "metadata": {},
   "outputs": [],
   "source": [
    "hashed_identifier = utils.hash_data(identifier)"
   ]
  },
  {
   "cell_type": "markdown",
   "metadata": {},
   "source": [
    "### USE THE HASHED IDENTIFIER TO LOCATE THE DEVICES SMART CONTRACT"
   ]
  },
  {
   "cell_type": "code",
   "execution_count": 9,
   "metadata": {},
   "outputs": [],
   "source": [
    "device_address = device_manager.read({\n",
    "    'func': 'fetch_device',\n",
    "    'params': hashed_identifier\n",
    "})"
   ]
  },
  {
   "cell_type": "markdown",
   "metadata": {},
   "source": [
    "### SERIALIZE THE DEVICE SPECIFIC CONTRACT"
   ]
  },
  {
   "cell_type": "code",
   "execution_count": 10,
   "metadata": {},
   "outputs": [],
   "source": [
    "device_contract = blockchain_utils.contract({\n",
    "    'address': device_address,\n",
    "    'abi': latest['device']['abi']\n",
    "}, web3, settings)"
   ]
  },
  {
   "cell_type": "markdown",
   "metadata": {},
   "source": [
    "### FETCH & SERIALIZE RSA ENCRYPTION KEY"
   ]
  },
  {
   "cell_type": "code",
   "execution_count": 11,
   "metadata": {},
   "outputs": [],
   "source": [
    "def fetch_rsa():\n",
    "    \n",
    "    # FETCH MOST RECENT KEY\n",
    "    raw_rsa_pubkey = device_contract.read('encryption_key')\n",
    "    \n",
    "    # SERIALIZE & RETURN\n",
    "    return encryption.serialize_key(raw_rsa_pubkey, 'public')"
   ]
  },
  {
   "cell_type": "markdown",
   "metadata": {},
   "source": [
    "### EVENTS"
   ]
  },
  {
   "cell_type": "code",
   "execution_count": 12,
   "metadata": {},
   "outputs": [],
   "source": [
    "new_key_event = device_contract.event('new_key')"
   ]
  },
  {
   "cell_type": "markdown",
   "metadata": {},
   "source": [
    "### EVENT LOOP"
   ]
  },
  {
   "cell_type": "code",
   "execution_count": 19,
   "metadata": {},
   "outputs": [],
   "source": [
    "str_data = [\n",
    "    'IjM5MWFhMGM5NDJlZjJjZDc0ZjNkOGE3OWNkZTk5MWFkODNjN2QwNzkxOWVhMTJh',\n",
    "    'IjkxNjI5MGUxMzEyZjMzNDY1MTU1OWU4YTEyOGVlOTBlMTQwNzI5ZTJhMDBkYzUy',\n",
    "    'IjM5MWFhMGM5NDJlZjJjZDc0ZjNkOGE3OWNkZTk5MWFkODNjN2QwNzkxOWVhMTJh',\n",
    "    'IjkxNjI5MGUxMzEyZjMzNDY1MTU1OWU4YTEyOGVlOTBlMTQwNzI5ZTJhMDBkYzUy',\n",
    "    'IjM5MWFhMGM5NDJlZjJjZDc0ZjNkOGE3OWNkZTk5MWFkODNjN2QwNzkxOWVhMTJh',\n",
    "    'IjkxNjI5MGUxMzEyZjMzNDY1MTU1OWU4YTEyOGVlOTBlMTQwNzI5ZTJhMDBkYzUy',\n",
    "    'IjM5MWFhMGM5NDJlZjJjZDc0ZjNkOGE3OWNkZTk5MWFkODNjN2QwNzkxOWVhMTJh',\n",
    "    'IjkxNjI5MGUxMzEyZjMzNDY1MTU1OWU4YTEyOGVlOTBlMTQwNzI5ZTJhMDBkYzUy'\n",
    "]"
   ]
  },
  {
   "cell_type": "code",
   "execution_count": 20,
   "metadata": {},
   "outputs": [],
   "source": [
    "int_data = [1615915771, 1615915772, 1615915771, 1615915771, 1615915772, 1615915771, 1615915772, 1615915771]"
   ]
  },
  {
   "cell_type": "code",
   "execution_count": 15,
   "metadata": {},
   "outputs": [],
   "source": [
    "str_short = ['foo', 'bar', 'biz']"
   ]
  },
  {
   "cell_type": "code",
   "execution_count": 16,
   "metadata": {},
   "outputs": [],
   "source": [
    "int_short = [123, 234, 345]"
   ]
  },
  {
   "cell_type": "code",
   "execution_count": 22,
   "metadata": {},
   "outputs": [
    {
     "data": {
      "text/plain": [
       "ValueError({'code': -32000,\n",
       "            'message': 'invalid opcode: opcode 0xfe not defined'})"
      ]
     },
     "execution_count": 22,
     "metadata": {},
     "output_type": "execute_result"
    }
   ],
   "source": [
    "device_contract.write({\n",
    "    'func': 'evaluate', \n",
    "    'params': [str_data, int_data]\n",
    "})"
   ]
  },
  {
   "cell_type": "code",
   "execution_count": null,
   "metadata": {},
   "outputs": [],
   "source": []
  },
  {
   "cell_type": "code",
   "execution_count": null,
   "metadata": {},
   "outputs": [],
   "source": []
  },
  {
   "cell_type": "code",
   "execution_count": null,
   "metadata": {},
   "outputs": [],
   "source": []
  },
  {
   "cell_type": "markdown",
   "metadata": {},
   "source": [
    "### APP PROCESS"
   ]
  },
  {
   "cell_type": "code",
   "execution_count": null,
   "metadata": {
    "scrolled": false
   },
   "outputs": [],
   "source": [
    "try:\n",
    "    print('TRACKING SYSLOG...\\n')\n",
    "    \n",
    "    # OPEN THE FILE\n",
    "    file = open(settings['log_path'], 'r')\n",
    "\n",
    "    # FIND THE TAILEND OF THE FILE\n",
    "    file_stats = os.stat(settings['log_path'])\n",
    "    file_size = file_stats[6]\n",
    "    \n",
    "    # GOTO THE LAST ROW\n",
    "    file.seek(file_size)\n",
    "    \n",
    "    # DATA CONTAINERS\n",
    "    hashes = []\n",
    "    timestamps = []\n",
    "    batch = []\n",
    "    \n",
    "    # FETCH & SERIALIZE RSA PUBKEY\n",
    "    rsa_pubkey = fetch_rsa()\n",
    "\n",
    "    # EVENT LOOP\n",
    "    while(True):\n",
    "\n",
    "        # FETCH & SERIALIZE RSA PUBKEY WHEN UPDATED\n",
    "        for event in new_key_event.get_new_entries():\n",
    "            rsa_pubkey = fetch_rsa()\n",
    "\n",
    "        # READ THE LAST LINE\n",
    "        where = file.tell()\n",
    "        line = file.readline()\n",
    "\n",
    "        # IF THE LINE ISNT EMPTY\n",
    "        if line:\n",
    "\n",
    "            # EXTRACT THE EVENT PARAMS\n",
    "            module, code, message, timestamp = utils.parse_line(line)\n",
    "            \n",
    "            # HASH THE MODULE & MESSAGE\n",
    "            hashed = utils.hash_data({\n",
    "                'module': module,\n",
    "                'message': message\n",
    "            })\n",
    "            \n",
    "            # ENCODE THE HASH TO BASE64\n",
    "            encoded = utils.encode(hashed)\n",
    "            \n",
    "            # APPEND TO HASH & TIMESTAMP CONTAINERS\n",
    "            hashes.append(encoded)\n",
    "            timestamps.append(timestamp)\n",
    "\n",
    "            # PUSH FULL ENTRY TO BATCH CONTAINER\n",
    "            batch.append({\n",
    "                'hash': encoded,\n",
    "                'timestamp': timestamp,\n",
    "                'module': module,\n",
    "                'code': code,\n",
    "                'message': message,\n",
    "            })\n",
    "\n",
    "        # IF THE TAILEND OF THE FILE WAS REACHED AND CONTAINER IS NOT EMPTY\n",
    "        if file.tell() == os.path.getsize(settings['log_path']) and len(hashes)>0 and len(batch)>0:\n",
    "            \n",
    "            # AES ENCRYPT THE BATCH\n",
    "            sym_data, sym_params = encryption.aes_encrypt({\n",
    "                'events': batch\n",
    "            })\n",
    "            \n",
    "            # RSA ENCRYPT AES PARAMS\n",
    "            asym_params = encryption.rsa_encrypt(sym_params, rsa_pubkey)\n",
    "\n",
    "            # SUBMIT BATCH DATA TO THE SMART CONTRACT\n",
    "            device_contract.write({\n",
    "                'func': 'evaluate',\n",
    "                'params': [(sym_data, asym_params), hashes, timestamps]\n",
    "            })\n",
    "\n",
    "            # PRINT MSG\n",
    "            print('UPLOADED BATCH ({})'.format(len(batch)))\n",
    "\n",
    "            # RESET CONTAINERS\n",
    "            hashes = []\n",
    "            timestamps = []\n",
    "            batch = []\n",
    "            \n",
    "        # SLEEP FOR A SECOND\n",
    "        time.sleep(1)\n",
    "        \n",
    "except:\n",
    "    print('\\nTHE PROCESS WAS MANUALLY KILLED')"
   ]
  },
  {
   "cell_type": "code",
   "execution_count": null,
   "metadata": {},
   "outputs": [],
   "source": []
  }
 ],
 "metadata": {
  "kernelspec": {
   "display_name": "Python 3",
   "language": "python",
   "name": "python3"
  },
  "language_info": {
   "codemirror_mode": {
    "name": "ipython",
    "version": 3
   },
   "file_extension": ".py",
   "mimetype": "text/x-python",
   "name": "python",
   "nbconvert_exporter": "python",
   "pygments_lexer": "ipython3",
   "version": "3.8.5"
  }
 },
 "nbformat": 4,
 "nbformat_minor": 4
}
