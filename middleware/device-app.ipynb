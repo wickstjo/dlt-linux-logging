{
 "cells": [
  {
   "cell_type": "code",
   "execution_count": 1,
   "metadata": {},
   "outputs": [],
   "source": [
    "import os\n",
    "import time\n",
    "import nbimporter"
   ]
  },
  {
   "cell_type": "code",
   "execution_count": 2,
   "metadata": {},
   "outputs": [
    {
     "name": "stdout",
     "output_type": "stream",
     "text": [
      "Importing Jupyter notebook from utils.ipynb\n",
      "Importing Jupyter notebook from blockchain.ipynb\n",
      "Importing Jupyter notebook from elliptic_encryption.ipynb\n"
     ]
    }
   ],
   "source": [
    "import utils\n",
    "import blockchain as blockchain_utils\n",
    "import elliptic_encryption as encryption"
   ]
  },
  {
   "cell_type": "markdown",
   "metadata": {},
   "source": [
    "### LOAD RESOURCES"
   ]
  },
  {
   "cell_type": "code",
   "execution_count": 3,
   "metadata": {},
   "outputs": [],
   "source": [
    "settings = utils.load_yaml('resources/settings.yaml')"
   ]
  },
  {
   "cell_type": "code",
   "execution_count": 4,
   "metadata": {},
   "outputs": [],
   "source": [
    "identifier = utils.load_yaml('resources/identifier.yaml')"
   ]
  },
  {
   "cell_type": "code",
   "execution_count": 5,
   "metadata": {},
   "outputs": [],
   "source": [
    "latest = utils.load_json('resources/latest.json')"
   ]
  },
  {
   "cell_type": "markdown",
   "metadata": {},
   "source": [
    "### CONNECT TO THE ETHEREUM GATEWAY"
   ]
  },
  {
   "cell_type": "code",
   "execution_count": 6,
   "metadata": {},
   "outputs": [],
   "source": [
    "web3 = blockchain_utils.connect(settings)"
   ]
  },
  {
   "cell_type": "markdown",
   "metadata": {},
   "source": [
    "### SERIALIZE THE MANAGER CONTRACT"
   ]
  },
  {
   "cell_type": "code",
   "execution_count": 7,
   "metadata": {},
   "outputs": [],
   "source": [
    "device_manager = blockchain_utils.contract(latest['devicemanager'], web3, settings)"
   ]
  },
  {
   "cell_type": "markdown",
   "metadata": {},
   "source": [
    "### HASH THE DEVICE IDENTIFIER"
   ]
  },
  {
   "cell_type": "code",
   "execution_count": 8,
   "metadata": {},
   "outputs": [],
   "source": [
    "hashed_identifier = utils.hash_data(identifier)"
   ]
  },
  {
   "cell_type": "markdown",
   "metadata": {},
   "source": [
    "### USE THE HASHED IDENTIFIER TO LOCATE THE DEVICES SMART CONTRACT"
   ]
  },
  {
   "cell_type": "code",
   "execution_count": 9,
   "metadata": {},
   "outputs": [],
   "source": [
    "device_address = device_manager.read({\n",
    "    'func': 'fetch_device',\n",
    "    'params': hashed_identifier\n",
    "})"
   ]
  },
  {
   "cell_type": "markdown",
   "metadata": {},
   "source": [
    "### SERIALIZE THE DEVICE SPECIFIC CONTRACT"
   ]
  },
  {
   "cell_type": "code",
   "execution_count": 10,
   "metadata": {},
   "outputs": [],
   "source": [
    "device_contract = blockchain_utils.contract({\n",
    "    'address': device_address,\n",
    "    'abi': latest['device']['abi']\n",
    "}, web3, settings)"
   ]
  },
  {
   "cell_type": "markdown",
   "metadata": {},
   "source": [
    "### EVENTS"
   ]
  },
  {
   "cell_type": "code",
   "execution_count": 11,
   "metadata": {},
   "outputs": [],
   "source": [
    "key_assigned_event = device_contract.event('key_assigned')"
   ]
  },
  {
   "cell_type": "markdown",
   "metadata": {},
   "source": [
    "### APP PROCESS"
   ]
  },
  {
   "cell_type": "code",
   "execution_count": 12,
   "metadata": {
    "scrolled": false
   },
   "outputs": [
    {
     "name": "stdout",
     "output_type": "stream",
     "text": [
      "TRACKING SYSLOG...\n",
      "\n",
      "UPLOADED BATCH (12)\n",
      "UPLOADED BATCH (1)\n",
      "\n",
      "THE PROCESS WAS MANUALLY KILLED\n"
     ]
    }
   ],
   "source": [
    "try:\n",
    "    print('TRACKING SYSLOG...\\n')\n",
    "    \n",
    "    # OPEN THE FILE\n",
    "    file = open(settings['log_path'], 'r')\n",
    "\n",
    "    # FIND THE TAILEND OF THE FILE\n",
    "    file_stats = os.stat(settings['log_path'])\n",
    "    file_size = file_stats[6]\n",
    "    \n",
    "    # GOTO THE LAST ROW\n",
    "    file.seek(file_size)\n",
    "    \n",
    "    # DATA CONTAINERS\n",
    "    hashes = []\n",
    "    timestamps = []\n",
    "    batch = []\n",
    "    \n",
    "    # FETCH THE ELLIPTIC ENCRYPTION KEY\n",
    "    encryption_key = device_contract.read('encryption_key')\n",
    "\n",
    "    # EVENT LOOP\n",
    "    while(True):\n",
    "\n",
    "        # FETCH A NEW ENCRYPTION KEY WHEN ITS UPDATED\n",
    "        for event in key_assigned_event.get_new_entries():\n",
    "            encryption_key = device_contract.read('encryption_key')\n",
    "            print('UPDATED ENCRYPTION KEY!')\n",
    "\n",
    "        # READ THE LAST LINE\n",
    "        where = file.tell()\n",
    "        line = file.readline()\n",
    "\n",
    "        # IF THE LINE ISNT EMPTY\n",
    "        if line:\n",
    "\n",
    "            # EXTRACT THE EVENT PARAMS\n",
    "            module, code, message, timestamp = utils.parse_line(line)\n",
    "            \n",
    "            # HASH THE MODULE & MESSAGE\n",
    "            hashed = utils.hash_data({\n",
    "                'module': module,\n",
    "                'message': message\n",
    "            })\n",
    "            \n",
    "            # ENCODE THE HASH TO BASE64\n",
    "            #encoded = utils.encode(hashed)\n",
    "\n",
    "            # PUSH FULL ENTRY TO BATCH CONTAINER\n",
    "            batch.append({\n",
    "                'hash': hashed,\n",
    "                'timestamp': timestamp,\n",
    "                'module': module,\n",
    "                'code': code,\n",
    "                'message': message,\n",
    "            })\n",
    "\n",
    "        # IF THE TAILEND OF THE FILE WAS REACHED AND CONTAINER IS NOT EMPTY\n",
    "        if file.tell() == os.path.getsize(settings['log_path']) and len(batch)>0:\n",
    "            \n",
    "            # ENCRYPT THE BATCH\n",
    "            encrypted = encryption.encrypt(batch, encryption_key)\n",
    "\n",
    "            # PUSH TO THE CONTRACT\n",
    "            device_contract.write({\n",
    "                'func': 'archive',\n",
    "                'params': [(encrypted, encryption_key)]\n",
    "            })\n",
    "\n",
    "            # PRINT MSG\n",
    "            print('UPLOADED BATCH ({})'.format(len(batch)))\n",
    "\n",
    "            # RESET BATCH CONTAINER\n",
    "            batch = []\n",
    "            \n",
    "        # SLEEP FOR A SECOND\n",
    "        time.sleep(1)\n",
    "        \n",
    "except:\n",
    "    print('\\nTHE PROCESS WAS MANUALLY KILLED')"
   ]
  },
  {
   "cell_type": "code",
   "execution_count": null,
   "metadata": {},
   "outputs": [],
   "source": []
  }
 ],
 "metadata": {
  "kernelspec": {
   "display_name": "Python 3",
   "language": "python",
   "name": "python3"
  },
  "language_info": {
   "codemirror_mode": {
    "name": "ipython",
    "version": 3
   },
   "file_extension": ".py",
   "mimetype": "text/x-python",
   "name": "python",
   "nbconvert_exporter": "python",
   "pygments_lexer": "ipython3",
   "version": "3.8.5"
  }
 },
 "nbformat": 4,
 "nbformat_minor": 4
}
