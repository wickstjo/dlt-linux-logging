{
 "cells": [
  {
   "cell_type": "code",
   "execution_count": 1,
   "metadata": {},
   "outputs": [],
   "source": [
    "import os\n",
    "import time\n",
    "import nbimporter"
   ]
  },
  {
   "cell_type": "code",
   "execution_count": 2,
   "metadata": {},
   "outputs": [
    {
     "name": "stdout",
     "output_type": "stream",
     "text": [
      "Importing Jupyter notebook from utils.ipynb\n",
      "Importing Jupyter notebook from blockchain.ipynb\n",
      "Importing Jupyter notebook from encryption.ipynb\n"
     ]
    }
   ],
   "source": [
    "import utils\n",
    "import blockchain as blockchain_utils\n",
    "import encryption"
   ]
  },
  {
   "cell_type": "markdown",
   "metadata": {},
   "source": [
    "### LOAD RESOURCES"
   ]
  },
  {
   "cell_type": "code",
   "execution_count": 3,
   "metadata": {},
   "outputs": [],
   "source": [
    "settings = utils.load_yaml('resources/settings.yaml')"
   ]
  },
  {
   "cell_type": "code",
   "execution_count": 4,
   "metadata": {},
   "outputs": [],
   "source": [
    "identifier = utils.load_yaml('resources/identifier.yaml')"
   ]
  },
  {
   "cell_type": "code",
   "execution_count": 5,
   "metadata": {},
   "outputs": [],
   "source": [
    "latest = utils.load_json('resources/latest.json')"
   ]
  },
  {
   "cell_type": "markdown",
   "metadata": {},
   "source": [
    "### CONNECT TO THE ETHEREUM GATEWAY"
   ]
  },
  {
   "cell_type": "code",
   "execution_count": 6,
   "metadata": {},
   "outputs": [],
   "source": [
    "web3 = blockchain_utils.connect(settings)"
   ]
  },
  {
   "cell_type": "markdown",
   "metadata": {},
   "source": [
    "### SERIALIZE THE MANAGER CONTRACT"
   ]
  },
  {
   "cell_type": "code",
   "execution_count": 7,
   "metadata": {},
   "outputs": [],
   "source": [
    "device_manager = blockchain_utils.contract(latest['devicemanager'], web3, settings)"
   ]
  },
  {
   "cell_type": "markdown",
   "metadata": {},
   "source": [
    "### HASH THE DEVICE IDENTIFIER"
   ]
  },
  {
   "cell_type": "code",
   "execution_count": 8,
   "metadata": {},
   "outputs": [],
   "source": [
    "hashed_identifier = utils.hash_data(identifier)"
   ]
  },
  {
   "cell_type": "markdown",
   "metadata": {},
   "source": [
    "### USE THE HASHED IDENTIFIER TO LOCATE THE DEVICES SMART CONTRACT"
   ]
  },
  {
   "cell_type": "code",
   "execution_count": 9,
   "metadata": {},
   "outputs": [],
   "source": [
    "device_address = device_manager.read({\n",
    "    'func': 'fetch_device',\n",
    "    'params': hashed_identifier\n",
    "})"
   ]
  },
  {
   "cell_type": "markdown",
   "metadata": {},
   "source": [
    "### SERIALIZE THE DEVICE SPECIFIC CONTRACT"
   ]
  },
  {
   "cell_type": "code",
   "execution_count": 10,
   "metadata": {},
   "outputs": [],
   "source": [
    "device_contract = blockchain_utils.contract({\n",
    "    'address': device_address,\n",
    "    'abi': latest['device']['abi']\n",
    "}, web3, settings)"
   ]
  },
  {
   "cell_type": "markdown",
   "metadata": {},
   "source": [
    "### FETCH & SERIALIZE RSA ENCRYPTION KEY"
   ]
  },
  {
   "cell_type": "code",
   "execution_count": 11,
   "metadata": {},
   "outputs": [],
   "source": [
    "def fetch_rsa():\n",
    "    \n",
    "    # FETCH MOST RECENT KEY\n",
    "    raw_rsa_pubkey = device_contract.read('encryption_key')\n",
    "    \n",
    "    # SERIALIZE & RETURN\n",
    "    return encryption.serialize_key(raw_rsa_pubkey, 'public')"
   ]
  },
  {
   "cell_type": "markdown",
   "metadata": {},
   "source": [
    "### EVENTS"
   ]
  },
  {
   "cell_type": "code",
   "execution_count": 12,
   "metadata": {},
   "outputs": [],
   "source": [
    "new_key_event = device_contract.event('new_key')"
   ]
  },
  {
   "cell_type": "markdown",
   "metadata": {},
   "source": [
    "### EVENT LOOP"
   ]
  },
  {
   "cell_type": "code",
   "execution_count": 40,
   "metadata": {},
   "outputs": [],
   "source": [
    "str_data = [\n",
    "    'IjM5MWFhMGM5NDJlZjJjZDc0ZjNkOGE3OWNkZTk5MWFkODNjN2QwNzkxOWVhMTJh',\n",
    "    'IjkxNjI5MGUxMzEyZjMzNDY1MTU1OWU4YTEyOGVlOTBlMTQwNzI5ZTJhMDBkYzUy',\n",
    "    'IjM5MWFhMGM5NDJlZjJjZDc0ZjNkOGE3OWNkZTk5MWFkODNjN2QwNzkxOWVhMTJh',\n",
    "    'IjkxNjI5MGUxMzEyZjMzNDY1MTU1OWU4YTEyOGVlOTBlMTQwNzI5ZTJhMDBkYzUy',\n",
    "    'IjM5MWFhMGM5NDJlZjJjZDc0ZjNkOGE3OWNkZTk5MWFkODNjN2QwNzkxOWVhMTJh',\n",
    "    'IjkxNjI5MGUxMzEyZjMzNDY1MTU1OWU4YTEyOGVlOTBlMTQwNzI5ZTJhMDBkYzUy',\n",
    "    'IjM5MWFhMGM5NDJlZjJjZDc0ZjNkOGE3OWNkZTk5MWFkODNjN2QwNzkxOWVhMTJh',\n",
    "    'IjkxNjI5MGUxMzEyZjMzNDY1MTU1OWU4YTEyOGVlOTBlMTQwNzI5ZTJhMDBkYzUy'\n",
    "]"
   ]
  },
  {
   "cell_type": "code",
   "execution_count": 41,
   "metadata": {},
   "outputs": [],
   "source": [
    "int_data = [1615915771, 1615915772, 1615915771, 1615915772, 1615915771, 1615915772, 1615915771, 1615915772]"
   ]
  },
  {
   "cell_type": "code",
   "execution_count": 44,
   "metadata": {},
   "outputs": [
    {
     "data": {
      "text/plain": [
       "64"
      ]
     },
     "execution_count": 44,
     "metadata": {},
     "output_type": "execute_result"
    }
   ],
   "source": [
    "len('IjM5MWFhMGM5NDJlZjJjZDc0ZjNkOGE3OWNkZTk5MWFkODNjN2QwNzkxOWVhMTJh')"
   ]
  },
  {
   "cell_type": "code",
   "execution_count": 43,
   "metadata": {},
   "outputs": [
    {
     "data": {
      "text/plain": [
       "ValueError({'code': -32000,\n",
       "            'message': 'invalid opcode: opcode 0xfe not defined'})"
      ]
     },
     "execution_count": 43,
     "metadata": {},
     "output_type": "execute_result"
    }
   ],
   "source": [
    "device_contract.write({\n",
    "    'func': 'evaluate',\n",
    "    'params': [('foo', 'bar'), str_data, int_data]\n",
    "})"
   ]
  },
  {
   "cell_type": "code",
   "execution_count": null,
   "metadata": {},
   "outputs": [],
   "source": []
  },
  {
   "cell_type": "code",
   "execution_count": null,
   "metadata": {},
   "outputs": [],
   "source": []
  },
  {
   "cell_type": "code",
   "execution_count": 13,
   "metadata": {
    "scrolled": false
   },
   "outputs": [
    {
     "name": "stdout",
     "output_type": "stream",
     "text": [
      "['IjM5MWFhMGM5NDJlZjJjZDc0ZjNkOGE3OWNkZTk5MWFkODNjN2QwNzkxOWVhMTJhNWIyNmFiMDAyZDM0ZmNlNzci', 'IjkxNjI5MGUxMzEyZjMzNDY1MTU1OWU4YTEyOGVlOTBlMTQwNzI5ZTJhMDBkYzUyMDE2YzE0YjNmZTZiZTc1Zjci', 'ImViYmEwOTBiOGE5NTFkYWU5Mjc1N2FlMzYxYjA2YTE0MzBlYzY2M2Q4ZGI4ZTAwNzYyMDhkODExOGFlY2ViZjci', 'ImFlZTFiZjNlNGU2NjhmNzRkZTlhMmYxYzg3NTg1NTkxYjM5NTA0NjIwNWU3MzQ5NWRlMGIzOGM5YTk1NTdiNGUi', 'IjM5MWFhMGM5NDJlZjJjZDc0ZjNkOGE3OWNkZTk5MWFkODNjN2QwNzkxOWVhMTJhNWIyNmFiMDAyZDM0ZmNlNzci', 'Ijg3ZDMzZDIzNGRkNjQyNjc3ZTJiNTc3Y2QzNjU5OGI0ODQyZGZhM2EzZTNiMWM5M2JlYWFkNzRkNWIxZTk0MGYi', 'IjE4MWMyNjg2MGEyOWExMGFhYzFhNDIxYzQ4NDA0MzdiNTRjMjI5ZmZmNGQ4ZTFkOWM2MDZhMWY4YTNlNzhjZWMi', 'IjhmYTA5MTQ2NGE3MDFlZDkyZmY3OTU2YTIzNmJkZWExNmQ5ZmYyNTMyZWE1ZGFkNGI4MzFjYzk5MGM4MGVhNDIi']\n",
      "[1615915771, 1615915772, 1615915772, 1615915773, 1615915773, 1615915773, 1615915773, 1615915774]\n"
     ]
    },
    {
     "ename": "ValidationError",
     "evalue": "\nCould not identify the intended function with name `evaluate`, positional argument(s) of type `(<class 'tuple'>, <class 'list'>, <class 'list'>)` and keyword argument(s) of type `{}`.\nFound 1 function(s) with the name `evaluate`: ['evaluate(tuple,string[],uint256[])']\nFunction invocation failed due to no matching argument types.",
     "output_type": "error",
     "traceback": [
      "\u001b[0;31m---------------------------------------------------------------------------\u001b[0m",
      "\u001b[0;31mValidationError\u001b[0m                           Traceback (most recent call last)",
      "\u001b[0;32m<ipython-input-13-6ec1fccf0da8>\u001b[0m in \u001b[0;36m<module>\u001b[0;34m\u001b[0m\n\u001b[1;32m     71\u001b[0m \u001b[0;34m\u001b[0m\u001b[0m\n\u001b[1;32m     72\u001b[0m         \u001b[0;31m# SUBMIT BATCH DATA TO THE SMART CONTRACT\u001b[0m\u001b[0;34m\u001b[0m\u001b[0;34m\u001b[0m\u001b[0;34m\u001b[0m\u001b[0m\n\u001b[0;32m---> 73\u001b[0;31m         device_contract.write({\n\u001b[0m\u001b[1;32m     74\u001b[0m             \u001b[0;34m'func'\u001b[0m\u001b[0;34m:\u001b[0m \u001b[0;34m'evaluate'\u001b[0m\u001b[0;34m,\u001b[0m\u001b[0;34m\u001b[0m\u001b[0;34m\u001b[0m\u001b[0m\n\u001b[1;32m     75\u001b[0m             \u001b[0;34m'params'\u001b[0m\u001b[0;34m:\u001b[0m \u001b[0;34m[\u001b[0m\u001b[0;34m(\u001b[0m\u001b[0msym_data\u001b[0m\u001b[0;34m,\u001b[0m \u001b[0masym_params\u001b[0m\u001b[0;34m)\u001b[0m\u001b[0;34m,\u001b[0m \u001b[0mhashes\u001b[0m\u001b[0;34m,\u001b[0m \u001b[0mtimestamps\u001b[0m\u001b[0;34m]\u001b[0m\u001b[0;34m\u001b[0m\u001b[0;34m\u001b[0m\u001b[0m\n",
      "\u001b[0;32m~/coding/linux-logging/middleware/blockchain.ipynb\u001b[0m in \u001b[0;36mwrite\u001b[0;34m(self, details)\u001b[0m\n\u001b[1;32m     34\u001b[0m     \u001b[0;34m\"    # CHECK INSTANCE CONNECTION\\n\"\u001b[0m\u001b[0;34m,\u001b[0m\u001b[0;34m\u001b[0m\u001b[0;34m\u001b[0m\u001b[0m\n\u001b[1;32m     35\u001b[0m     \u001b[0;34m\"    if instance.isConnected():\\n\"\u001b[0m\u001b[0;34m,\u001b[0m\u001b[0;34m\u001b[0m\u001b[0;34m\u001b[0m\u001b[0m\n\u001b[0;32m---> 36\u001b[0;31m     \u001b[0;34m\"        return instance\\n\"\u001b[0m\u001b[0;34m,\u001b[0m\u001b[0;34m\u001b[0m\u001b[0;34m\u001b[0m\u001b[0m\n\u001b[0m\u001b[1;32m     37\u001b[0m     \u001b[0;34m\"        \\n\"\u001b[0m\u001b[0;34m,\u001b[0m\u001b[0;34m\u001b[0m\u001b[0;34m\u001b[0m\u001b[0m\n\u001b[1;32m     38\u001b[0m     \u001b[0;34m\"    # IF IT FAILS, ABORT THE PROCESS\\n\"\u001b[0m\u001b[0;34m,\u001b[0m\u001b[0;34m\u001b[0m\u001b[0;34m\u001b[0m\u001b[0m\n",
      "\u001b[0;32m~/.local/lib/python3.8/site-packages/eth_utils/decorators.py\u001b[0m in \u001b[0;36m_wrapper\u001b[0;34m(*args, **kwargs)\u001b[0m\n\u001b[1;32m     16\u001b[0m         \u001b[0;32mdef\u001b[0m \u001b[0m_wrapper\u001b[0m\u001b[0;34m(\u001b[0m\u001b[0;34m*\u001b[0m\u001b[0margs\u001b[0m\u001b[0;34m:\u001b[0m \u001b[0mAny\u001b[0m\u001b[0;34m,\u001b[0m \u001b[0;34m**\u001b[0m\u001b[0mkwargs\u001b[0m\u001b[0;34m:\u001b[0m \u001b[0mAny\u001b[0m\u001b[0;34m)\u001b[0m \u001b[0;34m->\u001b[0m \u001b[0mAny\u001b[0m\u001b[0;34m:\u001b[0m\u001b[0;34m\u001b[0m\u001b[0;34m\u001b[0m\u001b[0m\n\u001b[1;32m     17\u001b[0m             \u001b[0;32mif\u001b[0m \u001b[0mobj\u001b[0m \u001b[0;32mis\u001b[0m \u001b[0;32mnot\u001b[0m \u001b[0;32mNone\u001b[0m\u001b[0;34m:\u001b[0m\u001b[0;34m\u001b[0m\u001b[0;34m\u001b[0m\u001b[0m\n\u001b[0;32m---> 18\u001b[0;31m                 \u001b[0;32mreturn\u001b[0m \u001b[0mself\u001b[0m\u001b[0;34m.\u001b[0m\u001b[0mmethod\u001b[0m\u001b[0;34m(\u001b[0m\u001b[0mobj\u001b[0m\u001b[0;34m,\u001b[0m \u001b[0;34m*\u001b[0m\u001b[0margs\u001b[0m\u001b[0;34m,\u001b[0m \u001b[0;34m**\u001b[0m\u001b[0mkwargs\u001b[0m\u001b[0;34m)\u001b[0m\u001b[0;34m\u001b[0m\u001b[0;34m\u001b[0m\u001b[0m\n\u001b[0m\u001b[1;32m     19\u001b[0m             \u001b[0;32melse\u001b[0m\u001b[0;34m:\u001b[0m\u001b[0;34m\u001b[0m\u001b[0;34m\u001b[0m\u001b[0m\n\u001b[1;32m     20\u001b[0m                 \u001b[0;32mreturn\u001b[0m \u001b[0mself\u001b[0m\u001b[0;34m.\u001b[0m\u001b[0mmethod\u001b[0m\u001b[0;34m(\u001b[0m\u001b[0mobjtype\u001b[0m\u001b[0;34m,\u001b[0m \u001b[0;34m*\u001b[0m\u001b[0margs\u001b[0m\u001b[0;34m,\u001b[0m \u001b[0;34m**\u001b[0m\u001b[0mkwargs\u001b[0m\u001b[0;34m)\u001b[0m\u001b[0;34m\u001b[0m\u001b[0;34m\u001b[0m\u001b[0m\n",
      "\u001b[0;32m~/.local/lib/python3.8/site-packages/web3/contract.py\u001b[0m in \u001b[0;36mencodeABI\u001b[0;34m(cls, fn_name, args, kwargs, data)\u001b[0m\n\u001b[1;32m    405\u001b[0m         \u001b[0;34m:\u001b[0m\u001b[0mparam\u001b[0m \u001b[0mdata\u001b[0m\u001b[0;34m:\u001b[0m \u001b[0mdefaults\u001b[0m \u001b[0mto\u001b[0m \u001b[0mfunction\u001b[0m \u001b[0mselector\u001b[0m\u001b[0;34m\u001b[0m\u001b[0;34m\u001b[0m\u001b[0m\n\u001b[1;32m    406\u001b[0m         \"\"\"\n\u001b[0;32m--> 407\u001b[0;31m         fn_abi, fn_selector, fn_arguments = get_function_info(\n\u001b[0m\u001b[1;32m    408\u001b[0m             \u001b[0mfn_name\u001b[0m\u001b[0;34m,\u001b[0m \u001b[0mcls\u001b[0m\u001b[0;34m.\u001b[0m\u001b[0mweb3\u001b[0m\u001b[0;34m.\u001b[0m\u001b[0mcodec\u001b[0m\u001b[0;34m,\u001b[0m \u001b[0mcontract_abi\u001b[0m\u001b[0;34m=\u001b[0m\u001b[0mcls\u001b[0m\u001b[0;34m.\u001b[0m\u001b[0mabi\u001b[0m\u001b[0;34m,\u001b[0m \u001b[0margs\u001b[0m\u001b[0;34m=\u001b[0m\u001b[0margs\u001b[0m\u001b[0;34m,\u001b[0m \u001b[0mkwargs\u001b[0m\u001b[0;34m=\u001b[0m\u001b[0mkwargs\u001b[0m\u001b[0;34m,\u001b[0m\u001b[0;34m\u001b[0m\u001b[0;34m\u001b[0m\u001b[0m\n\u001b[1;32m    409\u001b[0m         )\n",
      "\u001b[0;32m~/.local/lib/python3.8/site-packages/web3/_utils/contracts.py\u001b[0m in \u001b[0;36mget_function_info\u001b[0;34m(fn_name, abi_codec, contract_abi, fn_abi, args, kwargs)\u001b[0m\n\u001b[1;32m    299\u001b[0m \u001b[0;34m\u001b[0m\u001b[0m\n\u001b[1;32m    300\u001b[0m     \u001b[0;32mif\u001b[0m \u001b[0mfn_abi\u001b[0m \u001b[0;32mis\u001b[0m \u001b[0;32mNone\u001b[0m\u001b[0;34m:\u001b[0m\u001b[0;34m\u001b[0m\u001b[0;34m\u001b[0m\u001b[0m\n\u001b[0;32m--> 301\u001b[0;31m         \u001b[0mfn_abi\u001b[0m \u001b[0;34m=\u001b[0m \u001b[0mfind_matching_fn_abi\u001b[0m\u001b[0;34m(\u001b[0m\u001b[0mcontract_abi\u001b[0m\u001b[0;34m,\u001b[0m \u001b[0mabi_codec\u001b[0m\u001b[0;34m,\u001b[0m \u001b[0mfn_name\u001b[0m\u001b[0;34m,\u001b[0m \u001b[0margs\u001b[0m\u001b[0;34m,\u001b[0m \u001b[0mkwargs\u001b[0m\u001b[0;34m)\u001b[0m\u001b[0;34m\u001b[0m\u001b[0;34m\u001b[0m\u001b[0m\n\u001b[0m\u001b[1;32m    302\u001b[0m \u001b[0;34m\u001b[0m\u001b[0m\n\u001b[1;32m    303\u001b[0m     \u001b[0;31m# typed dict cannot be used w/ a normal Dict\u001b[0m\u001b[0;34m\u001b[0m\u001b[0;34m\u001b[0m\u001b[0;34m\u001b[0m\u001b[0m\n",
      "\u001b[0;32m~/.local/lib/python3.8/site-packages/web3/_utils/contracts.py\u001b[0m in \u001b[0;36mfind_matching_fn_abi\u001b[0;34m(abi, abi_codec, fn_identifier, args, kwargs)\u001b[0m\n\u001b[1;32m    161\u001b[0m         )\n\u001b[1;32m    162\u001b[0m \u001b[0;34m\u001b[0m\u001b[0m\n\u001b[0;32m--> 163\u001b[0;31m         \u001b[0;32mraise\u001b[0m \u001b[0mValidationError\u001b[0m\u001b[0;34m(\u001b[0m\u001b[0mmessage\u001b[0m\u001b[0;34m)\u001b[0m\u001b[0;34m\u001b[0m\u001b[0;34m\u001b[0m\u001b[0m\n\u001b[0m\u001b[1;32m    164\u001b[0m \u001b[0;34m\u001b[0m\u001b[0m\n\u001b[1;32m    165\u001b[0m \u001b[0;34m\u001b[0m\u001b[0m\n",
      "\u001b[0;31mValidationError\u001b[0m: \nCould not identify the intended function with name `evaluate`, positional argument(s) of type `(<class 'tuple'>, <class 'list'>, <class 'list'>)` and keyword argument(s) of type `{}`.\nFound 1 function(s) with the name `evaluate`: ['evaluate(tuple,string[],uint256[])']\nFunction invocation failed due to no matching argument types."
     ]
    }
   ],
   "source": [
    "    # OPEN THE FILE\n",
    "    file = open(settings['log_path'], 'r')\n",
    "\n",
    "    # FIND THE TAILEND OF THE FILE\n",
    "    file_stats = os.stat(settings['log_path'])\n",
    "    file_size = file_stats[6]\n",
    "    \n",
    "    # GOTO THE LAST ROW\n",
    "    file.seek(file_size)\n",
    "    \n",
    "    # DATA CONTAINERS\n",
    "    hashes = []\n",
    "    timestamps = []\n",
    "    batch = []\n",
    "    \n",
    "    # FETCH & SERIALIZE RSA PUBKEY\n",
    "    rsa_pubkey = fetch_rsa()\n",
    "\n",
    "    # EVENT LOOP\n",
    "    while(True):\n",
    "\n",
    "        # FETCH & SERIALIZE RSA PUBKEY WHEN UPDATED\n",
    "        for event in new_key_event.get_new_entries():\n",
    "            rsa_pubkey = fetch_rsa()\n",
    "\n",
    "        # READ THE LAST LINE\n",
    "        where = file.tell()\n",
    "        line = file.readline()\n",
    "\n",
    "        # IF THE LINE ISNT EMPTY\n",
    "        if line:\n",
    "\n",
    "            # EXTRACT THE EVENT PARAMS\n",
    "            module, code, message, timestamp = utils.parse_line(line)\n",
    "            \n",
    "            # HASH THE MODULE & MESSAGE\n",
    "            hashed = utils.hash_data({\n",
    "                'module': module,\n",
    "                'message': message\n",
    "            })\n",
    "            \n",
    "            # ENCODE THE HASH TO BASE64\n",
    "            encoded = utils.encode(hashed)\n",
    "            \n",
    "            # APPEND TO HASH & TIMESTAMP CONTAINERS\n",
    "            hashes.append(encoded)\n",
    "            timestamps.append(timestamp)\n",
    "\n",
    "            # PUSH FULL ENTRY TO BATCH CONTAINER\n",
    "            batch.append({\n",
    "                'hash': encoded,\n",
    "                'timestamp': timestamp,\n",
    "                'module': module,\n",
    "                'code': code,\n",
    "                'message': message,\n",
    "            })\n",
    "\n",
    "        # IF THE TAILEND OF THE FILE WAS REACHED AND CONTAINER IS NOT EMPTY\n",
    "        if file.tell() == os.path.getsize(settings['log_path']) and len(hashes)>0 and len(batch)>0:\n",
    "            \n",
    "            # AES ENCRYPT THE BATCH\n",
    "            sym_data, sym_params = encryption.aes_encrypt({\n",
    "                'events': batch\n",
    "            })\n",
    "            \n",
    "            print(hashes)\n",
    "            print(timestamps)\n",
    "\n",
    "            # RSA ENCRYPT AES PARAMS\n",
    "            asym_params = encryption.rsa_encrypt(sym_params, rsa_pubkey)\n",
    "\n",
    "            # SUBMIT BATCH DATA TO THE SMART CONTRACT\n",
    "            device_contract.write({\n",
    "                'func': 'evaluate',\n",
    "                'params': [(sym_data, asym_params), hashes, timestamps]\n",
    "            })\n",
    "\n",
    "            # PRINT MSG\n",
    "            print('UPLOADED BATCH ({})'.format(len(batch)))\n",
    "\n",
    "            # RESET CONTAINERS\n",
    "            hashes = []\n",
    "            timestamps = []\n",
    "            batch = []\n",
    "            \n",
    "        # SLEEP FOR A SECOND\n",
    "        time.sleep(1)"
   ]
  },
  {
   "cell_type": "code",
   "execution_count": null,
   "metadata": {},
   "outputs": [],
   "source": []
  }
 ],
 "metadata": {
  "kernelspec": {
   "display_name": "Python 3",
   "language": "python",
   "name": "python3"
  },
  "language_info": {
   "codemirror_mode": {
    "name": "ipython",
    "version": 3
   },
   "file_extension": ".py",
   "mimetype": "text/x-python",
   "name": "python",
   "nbconvert_exporter": "python",
   "pygments_lexer": "ipython3",
   "version": "3.8.5"
  }
 },
 "nbformat": 4,
 "nbformat_minor": 4
}
