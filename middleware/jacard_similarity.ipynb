{
 "cells": [
  {
   "cell_type": "code",
   "execution_count": 1,
   "metadata": {},
   "outputs": [],
   "source": [
    "import pandas as pd\n",
    "import numpy as np"
   ]
  },
  {
   "cell_type": "code",
   "execution_count": 2,
   "metadata": {},
   "outputs": [],
   "source": [
    "import binascii\n",
    "import itertools"
   ]
  },
  {
   "cell_type": "code",
   "execution_count": 3,
   "metadata": {},
   "outputs": [],
   "source": [
    "from collections import Counter\n",
    "import operator"
   ]
  },
  {
   "cell_type": "markdown",
   "metadata": {},
   "source": [
    "### LOAD DATAFRAME"
   ]
  },
  {
   "cell_type": "code",
   "execution_count": 4,
   "metadata": {},
   "outputs": [],
   "source": [
    "dataframe = pd.read_csv('data/cleaned_data.csv', index_col='Unnamed: 0')"
   ]
  },
  {
   "cell_type": "code",
   "execution_count": 5,
   "metadata": {},
   "outputs": [
    {
     "data": {
      "text/html": [
       "<div>\n",
       "<style scoped>\n",
       "    .dataframe tbody tr th:only-of-type {\n",
       "        vertical-align: middle;\n",
       "    }\n",
       "\n",
       "    .dataframe tbody tr th {\n",
       "        vertical-align: top;\n",
       "    }\n",
       "\n",
       "    .dataframe thead th {\n",
       "        text-align: right;\n",
       "    }\n",
       "</style>\n",
       "<table border=\"1\" class=\"dataframe\">\n",
       "  <thead>\n",
       "    <tr style=\"text-align: right;\">\n",
       "      <th></th>\n",
       "      <th>timestamp</th>\n",
       "      <th>module</th>\n",
       "      <th>code</th>\n",
       "      <th>message</th>\n",
       "    </tr>\n",
       "  </thead>\n",
       "  <tbody>\n",
       "    <tr>\n",
       "      <th>0</th>\n",
       "      <td>1613190301</td>\n",
       "      <td>libloggingstdlog</td>\n",
       "      <td>none</td>\n",
       "      <td>[origin software=\"rsyslogd\" swVersion=\"8.24.0\"...</td>\n",
       "    </tr>\n",
       "    <tr>\n",
       "      <th>1</th>\n",
       "      <td>1613193421</td>\n",
       "      <td>CRON</td>\n",
       "      <td>32398</td>\n",
       "      <td>(root) CMD ( cd / &amp;&amp; run-parts --report /etc/c...</td>\n",
       "    </tr>\n",
       "    <tr>\n",
       "      <th>2</th>\n",
       "      <td>1613197021</td>\n",
       "      <td>CRON</td>\n",
       "      <td>6546</td>\n",
       "      <td>(root) CMD ( cd / &amp;&amp; run-parts --report /etc/c...</td>\n",
       "    </tr>\n",
       "    <tr>\n",
       "      <th>3</th>\n",
       "      <td>1613200621</td>\n",
       "      <td>CRON</td>\n",
       "      <td>12800</td>\n",
       "      <td>(root) CMD ( cd / &amp;&amp; run-parts --report /etc/c...</td>\n",
       "    </tr>\n",
       "    <tr>\n",
       "      <th>4</th>\n",
       "      <td>1613204221</td>\n",
       "      <td>CRON</td>\n",
       "      <td>19277</td>\n",
       "      <td>(root) CMD ( cd / &amp;&amp; run-parts --report /etc/c...</td>\n",
       "    </tr>\n",
       "  </tbody>\n",
       "</table>\n",
       "</div>"
      ],
      "text/plain": [
       "    timestamp            module   code  \\\n",
       "0  1613190301  libloggingstdlog   none   \n",
       "1  1613193421              CRON  32398   \n",
       "2  1613197021              CRON   6546   \n",
       "3  1613200621              CRON  12800   \n",
       "4  1613204221              CRON  19277   \n",
       "\n",
       "                                             message  \n",
       "0  [origin software=\"rsyslogd\" swVersion=\"8.24.0\"...  \n",
       "1  (root) CMD ( cd / && run-parts --report /etc/c...  \n",
       "2  (root) CMD ( cd / && run-parts --report /etc/c...  \n",
       "3  (root) CMD ( cd / && run-parts --report /etc/c...  \n",
       "4  (root) CMD ( cd / && run-parts --report /etc/c...  "
      ]
     },
     "execution_count": 5,
     "metadata": {},
     "output_type": "execute_result"
    }
   ],
   "source": [
    "dataframe.head(5)"
   ]
  },
  {
   "cell_type": "markdown",
   "metadata": {},
   "source": [
    "### CONVERT MESSAGES TO NUMPY ARRAY"
   ]
  },
  {
   "cell_type": "code",
   "execution_count": 6,
   "metadata": {},
   "outputs": [],
   "source": [
    "dataset = np.array(dataframe['message'])"
   ]
  },
  {
   "cell_type": "markdown",
   "metadata": {},
   "source": [
    "### BLACKLISTED PHRASES -- DANGEROUS ANOMALIES"
   ]
  },
  {
   "cell_type": "code",
   "execution_count": 7,
   "metadata": {},
   "outputs": [],
   "source": [
    "blacklist = [\n",
    "    'ropsten',\n",
    "    'Created slice User',\n",
    "    'Started Session c',\n",
    "    'New USB device found',\n",
    "    '@reboot jobs',\n",
    "    'Started System Logging'\n",
    "]"
   ]
  },
  {
   "cell_type": "markdown",
   "metadata": {},
   "source": [
    "### SPLIT INTO NORMAL & ANOMALOUS EVENTS"
   ]
  },
  {
   "cell_type": "code",
   "execution_count": 8,
   "metadata": {},
   "outputs": [],
   "source": [
    "def split(dataset, blacklist):\n",
    "    \n",
    "    # CONTAINERS\n",
    "    normal, anomalous = [], []\n",
    "    \n",
    "    # LOOP THROUGH DATASET\n",
    "    for event in dataset:\n",
    "        \n",
    "        # CHECK IF EVENT CONTAINS BLACKLISTED PHRASES\n",
    "        anomaly = contains(event, blacklist)\n",
    "        \n",
    "        # APPEND TO ANOMALOUS EVENTS\n",
    "        if anomaly:\n",
    "            anomalous.append(event)\n",
    "            \n",
    "        # APPEND TO NORMAL EVENTS\n",
    "        else:\n",
    "            normal.append(event)\n",
    "        \n",
    "    # RETURN UNIQUE EVENTS\n",
    "    return list(set(normal)), list(set(anomalous))"
   ]
  },
  {
   "cell_type": "code",
   "execution_count": 9,
   "metadata": {},
   "outputs": [],
   "source": [
    "def contains(message, blacklist):\n",
    "    \n",
    "    # LOOP THROUGH BLACKLIST\n",
    "    for phrase in blacklist:\n",
    "        \n",
    "        # CHECK IF THE MESSAGE CONTAINS THE BAD PHRASE\n",
    "        if phrase in message:\n",
    "            return True\n",
    "        \n",
    "    return False"
   ]
  },
  {
   "cell_type": "code",
   "execution_count": 10,
   "metadata": {},
   "outputs": [],
   "source": [
    "normal_dataset, anomalous_dataset = split(dataset, blacklist)"
   ]
  },
  {
   "cell_type": "markdown",
   "metadata": {},
   "source": [
    "### CONVERT MESSAGE TO HASHED SHINGLES"
   ]
  },
  {
   "cell_type": "code",
   "execution_count": 11,
   "metadata": {},
   "outputs": [],
   "source": [
    "def hashed_shingles(message, size=10):\n",
    "    \n",
    "    # SHINGLE CONTAINER -- USING SET TO ELIMINATE DUPLICATED\n",
    "    shingles = set()\n",
    "\n",
    "    # CRAWL THROUGH THE MESSAGE IN CHUNKS\n",
    "    for i in range(len(message)-size+1):\n",
    "\n",
    "        # CREATE SHINGLE & HASH IT TO A 32-BIT INTEGER\n",
    "        shingle = message[i:i+size]\n",
    "        crc = binascii.crc32(shingle.encode('utf-8'))\n",
    "\n",
    "        # APPEND TO CONTAINER\n",
    "        shingles.add(crc)\n",
    "\n",
    "    return shingles"
   ]
  },
  {
   "cell_type": "markdown",
   "metadata": {},
   "source": [
    "#### EXAMPLE - WITH SHINGLE SIZE 10"
   ]
  },
  {
   "cell_type": "code",
   "execution_count": 52,
   "metadata": {},
   "outputs": [
    {
     "data": {
      "text/plain": [
       "'BCM2708FB: allocated DMA channel 0'"
      ]
     },
     "execution_count": 52,
     "metadata": {},
     "output_type": "execute_result"
    }
   ],
   "source": [
    "normal_dataset[0]"
   ]
  },
  {
   "cell_type": "code",
   "execution_count": 54,
   "metadata": {},
   "outputs": [
    {
     "data": {
      "text/plain": [
       "34"
      ]
     },
     "execution_count": 54,
     "metadata": {},
     "output_type": "execute_result"
    }
   ],
   "source": [
    "len(normal_dataset[0])"
   ]
  },
  {
   "cell_type": "code",
   "execution_count": 53,
   "metadata": {
    "scrolled": false
   },
   "outputs": [
    {
     "data": {
      "text/plain": [
       "{97016831,\n",
       " 155059334,\n",
       " 224570597,\n",
       " 656957105,\n",
       " 667840274,\n",
       " 933119675,\n",
       " 935589922,\n",
       " 1017414130,\n",
       " 1082190970,\n",
       " 1232749889,\n",
       " 1373320409,\n",
       " 1434168141,\n",
       " 1691671328,\n",
       " 1951906778,\n",
       " 2190387590,\n",
       " 2277818445,\n",
       " 2308618111,\n",
       " 2365764720,\n",
       " 2404013047,\n",
       " 2428818993,\n",
       " 3006685846,\n",
       " 3214337224,\n",
       " 3995843060,\n",
       " 4153444613,\n",
       " 4211946975}"
      ]
     },
     "execution_count": 53,
     "metadata": {},
     "output_type": "execute_result"
    }
   ],
   "source": [
    "hashed_shingles(normal_dataset[0])"
   ]
  },
  {
   "cell_type": "code",
   "execution_count": 55,
   "metadata": {},
   "outputs": [
    {
     "data": {
      "text/plain": [
       "25"
      ]
     },
     "execution_count": 55,
     "metadata": {},
     "output_type": "execute_result"
    }
   ],
   "source": [
    "len(hashed_shingles(normal_dataset[0]))"
   ]
  },
  {
   "cell_type": "markdown",
   "metadata": {},
   "source": [
    "### JACCARD SIMILARITY SCORE"
   ]
  },
  {
   "cell_type": "code",
   "execution_count": 42,
   "metadata": {},
   "outputs": [],
   "source": [
    "def jaccard_similarity(first_shingle, second_shingle):\n",
    "    \n",
    "    # FIND NUMBER OF HASHES THAT EXIST IN BOTH SHINGLES\n",
    "    intersection_cardinality = len(first_shingle.intersection(second_shingle))\n",
    "    \n",
    "    # FIND NUMBER OF UNIQUE HASHES IN BOTH SHINGLES\n",
    "    union_cardinality = len(first_shingle.union(second_shingle))\n",
    "    \n",
    "    # RETURN DIFFERENCE\n",
    "    return intersection_cardinality / float(union_cardinality)"
   ]
  },
  {
   "cell_type": "markdown",
   "metadata": {},
   "source": [
    "### FIND SIMILAR EVENTS"
   ]
  },
  {
   "cell_type": "code",
   "execution_count": 13,
   "metadata": {},
   "outputs": [],
   "source": [
    "def find_similar(dataset, shingle_size=10, similarity_threshold=0.5):\n",
    "\n",
    "    # CONTAINER\n",
    "    candidates = []\n",
    "\n",
    "    # LOOP THROUGH UNIQUE EVENT PAIRS\n",
    "    for pair in itertools.combinations(dataset, 2):\n",
    "        \n",
    "        # GENERATE HASHED SHINGLES FOR PAIR\n",
    "        first = hashed_shingles(pair[0], size=shingle_size)\n",
    "        second = hashed_shingles(pair[1], size=shingle_size)\n",
    "        \n",
    "        # CALCULATE JACCARD SIMILARITY SCORE FOR PAIR\n",
    "        score = jaccard_similarity(first, second)\n",
    "\n",
    "        # IF THE SIMILARITY THRESHOLD IS BREACHED\n",
    "        if score > similarity_threshold:\n",
    "                \n",
    "            # APPEND TO CONTAINER\n",
    "            candidates.append(pair)\n",
    "    \n",
    "    # PRINT RESULTS\n",
    "    print('SIMILARITY THRESHOLD:\\t\\t', similarity_threshold)\n",
    "    print('NUMBER OF SIMILAR ITEMS:\\t', len(candidates))\n",
    "    \n",
    "    return candidates"
   ]
  },
  {
   "cell_type": "code",
   "execution_count": 14,
   "metadata": {
    "scrolled": true
   },
   "outputs": [
    {
     "name": "stdout",
     "output_type": "stream",
     "text": [
      "SIMILARITY THRESHOLD:\t\t 0.9\n",
      "NUMBER OF SIMILAR ITEMS:\t 19\n"
     ]
    }
   ],
   "source": [
    "items = find_similar(\n",
    "    normal_dataset,\n",
    "    shingle_size=5,\n",
    "    similarity_threshold=0.90\n",
    ")"
   ]
  },
  {
   "cell_type": "markdown",
   "metadata": {},
   "source": [
    "### CREATE EVENT CLUSTERS & CENTROIDS"
   ]
  },
  {
   "cell_type": "code",
   "execution_count": 16,
   "metadata": {},
   "outputs": [],
   "source": [
    "def clusterize(data):\n",
    "    \n",
    "    # CONTAINERS\n",
    "    clusters = []\n",
    "    centroids = []\n",
    "    \n",
    "    # CREATE CLUSTERS\n",
    "    if len(data) > 1:\n",
    "        tmp = [data[0]]\n",
    "        for i in range(1,len(data)):\n",
    "            if data[i][0] == data[i-1][1] or data[i][1] == data[i-1][0] or data[i][1] == data[i-1][1] or data[i][0] == data[i-1][0]:\n",
    "                tmp.append(data[i])\n",
    "            else:\n",
    "                clusters.append(tmp)\n",
    "                tmp = [data[i]]\n",
    "        clusters.append(tmp)\n",
    "    else:\n",
    "        clusters = data\n",
    "\n",
    "    # CREATE CENTROIDS\n",
    "    for elem in clusters:\n",
    "        b = Counter([i for sub in elem for i in sub])\n",
    "        mx = max(b.items(), key=operator.itemgetter(1))[0]\n",
    "        centroids.append(mx)\n",
    "        \n",
    "    # PRINT RESULTS\n",
    "    print('CLUSTER COUNT:\\t\\t\\t', len(clusters))\n",
    "    print('CENTROID COUNT:\\t\\t\\t', len(centroids))\n",
    "\n",
    "    return clusters, centroids"
   ]
  },
  {
   "cell_type": "code",
   "execution_count": 17,
   "metadata": {},
   "outputs": [
    {
     "name": "stdout",
     "output_type": "stream",
     "text": [
      "CLUSTER COUNT:\t\t\t 10\n",
      "CENTROID COUNT:\t\t\t 10\n"
     ]
    }
   ],
   "source": [
    "clusters, centroids = clusterize(items)"
   ]
  },
  {
   "cell_type": "code",
   "execution_count": null,
   "metadata": {},
   "outputs": [],
   "source": []
  }
 ],
 "metadata": {
  "kernelspec": {
   "display_name": "Python 3",
   "language": "python",
   "name": "python3"
  },
  "language_info": {
   "codemirror_mode": {
    "name": "ipython",
    "version": 3
   },
   "file_extension": ".py",
   "mimetype": "text/x-python",
   "name": "python",
   "nbconvert_exporter": "python",
   "pygments_lexer": "ipython3",
   "version": "3.8.5"
  }
 },
 "nbformat": 4,
 "nbformat_minor": 4
}
