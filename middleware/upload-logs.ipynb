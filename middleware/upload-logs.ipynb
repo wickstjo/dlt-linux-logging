{
 "cells": [
  {
   "cell_type": "code",
   "execution_count": 7,
   "metadata": {},
   "outputs": [],
   "source": [
    "import os\n",
    "import time\n",
    "import nbimporter"
   ]
  },
  {
   "cell_type": "code",
   "execution_count": 8,
   "metadata": {},
   "outputs": [],
   "source": [
    "import utils\n",
    "import blockchain as blockchain_utils\n",
    "import encryption"
   ]
  },
  {
   "cell_type": "markdown",
   "metadata": {},
   "source": [
    "### LOAD RESOURCES"
   ]
  },
  {
   "cell_type": "code",
   "execution_count": 3,
   "metadata": {},
   "outputs": [],
   "source": [
    "settings = utils.load_yaml('resources/settings.yaml')"
   ]
  },
  {
   "cell_type": "code",
   "execution_count": 4,
   "metadata": {},
   "outputs": [],
   "source": [
    "identifier = utils.load_yaml('resources/identifier.yaml')"
   ]
  },
  {
   "cell_type": "code",
   "execution_count": 5,
   "metadata": {},
   "outputs": [],
   "source": [
    "latest = utils.load_json('resources/latest.json')"
   ]
  },
  {
   "cell_type": "markdown",
   "metadata": {},
   "source": [
    "### CONNECT TO THE ETHEREUM GATEWAY"
   ]
  },
  {
   "cell_type": "code",
   "execution_count": null,
   "metadata": {},
   "outputs": [],
   "source": [
    "web3 = blockchain_utils.connect(settings)"
   ]
  },
  {
   "cell_type": "markdown",
   "metadata": {},
   "source": [
    "### SERIALIZE THE MANAGER CONTRACT"
   ]
  },
  {
   "cell_type": "code",
   "execution_count": 7,
   "metadata": {},
   "outputs": [],
   "source": [
    "device_manager = blockchain_utils.contract(latest['devicemanager'], web3, settings)"
   ]
  },
  {
   "cell_type": "markdown",
   "metadata": {},
   "source": [
    "### HASH THE DEVICE IDENTIFIER"
   ]
  },
  {
   "cell_type": "code",
   "execution_count": 8,
   "metadata": {},
   "outputs": [],
   "source": [
    "hashed_identifier = utils.hash_data(identifier)"
   ]
  },
  {
   "cell_type": "markdown",
   "metadata": {},
   "source": [
    "### USE THE HASHED IDENTIFIER TO LOCATE THE DEVICES SMART CONTRACT"
   ]
  },
  {
   "cell_type": "code",
   "execution_count": 9,
   "metadata": {},
   "outputs": [],
   "source": [
    "device_address = device_manager.read({\n",
    "    'func': 'fetch_device',\n",
    "    'params': hashed_identifier\n",
    "})"
   ]
  },
  {
   "cell_type": "code",
   "execution_count": 10,
   "metadata": {
    "scrolled": true
   },
   "outputs": [],
   "source": [
    "# IF IT DOES NOT EXIST\n",
    "if device_address == '0x0000000000000000000000000000000000000000':\n",
    "    print('THE DEVICE IS NOT REGISTERED')\n",
    "    sys.exit(0)"
   ]
  },
  {
   "cell_type": "markdown",
   "metadata": {},
   "source": [
    "### SERIALIZE THE DEVICE SPECIFIC CONTRACT"
   ]
  },
  {
   "cell_type": "code",
   "execution_count": 11,
   "metadata": {},
   "outputs": [],
   "source": [
    "device_contract = blockchain_utils.contract({\n",
    "    'address': device_address,\n",
    "    'abi': latest['device']['abi']\n",
    "}, web3, settings)"
   ]
  },
  {
   "cell_type": "markdown",
   "metadata": {},
   "source": [
    "### FETCH & SERIALIZE RSA ENCRYPTION KEY - TEMP SOLUTION"
   ]
  },
  {
   "cell_type": "code",
   "execution_count": 9,
   "metadata": {},
   "outputs": [],
   "source": [
    "raw_rsa_pubkey, raw_rsa_privkey = encryption.generate_rsa_keys()"
   ]
  },
  {
   "cell_type": "code",
   "execution_count": 10,
   "metadata": {},
   "outputs": [],
   "source": [
    "# SANITIZE TO SIMULATE BLOCKCHAIN FORMAT\n",
    "sanitized = encryption.sanitize_key(raw_rsa_pubkey)"
   ]
  },
  {
   "cell_type": "code",
   "execution_count": 11,
   "metadata": {},
   "outputs": [],
   "source": [
    "# CONVERT TO RSA FORMAT\n",
    "rsa_pubkey = encryption.serialize_key(sanitized)"
   ]
  },
  {
   "cell_type": "markdown",
   "metadata": {},
   "source": [
    "### CALLBACK FUNC FOR UPLOADING DATA"
   ]
  },
  {
   "cell_type": "code",
   "execution_count": 12,
   "metadata": {},
   "outputs": [],
   "source": [
    "def track(file_path):\n",
    "    \n",
    "    # OPEN THE FILE\n",
    "    file = open(file_path, 'r')\n",
    "\n",
    "    # FIND THE TAILEND OF THE FILE\n",
    "    file_stats = os.stat(file_path)\n",
    "    file_size = file_stats[6]\n",
    "    \n",
    "    # GOTO THE LAST ROW\n",
    "    file.seek(file_size)\n",
    "    \n",
    "    # DATA CONTAINERS\n",
    "    hashes = []\n",
    "    batch = []\n",
    "        \n",
    "    # EVENT LOOP\n",
    "    while True:\n",
    "\n",
    "        # READ THE LAST LINE\n",
    "        where = file.tell()\n",
    "        line = file.readline()\n",
    "\n",
    "        # IF THE LINE ISNT EMPTY\n",
    "        if line:\n",
    "\n",
    "            # EXTRACT THE EVENT PARAMS\n",
    "            module, code, message, timestamp = utils.parse_line(line)\n",
    "            \n",
    "            # HASH THE MODULE & MESSAGE\n",
    "            hashed = utils.hash_dict({\n",
    "                'module': module,\n",
    "                'message': message\n",
    "            })\n",
    "            \n",
    "            # ENCODE THE HASH TO BASE64\n",
    "            encoded = utils.encode(hashed)\n",
    "            \n",
    "            # PUSH HASH & TIMESTAMP\n",
    "            hashes.append([encoded, timestamp])\n",
    "\n",
    "            # PUSH FULL ENTRY TO BATCH CONTAINER\n",
    "            batch.append({\n",
    "                'hash': encoded,\n",
    "                'timestamp': timestamp,\n",
    "                'module': module,\n",
    "                'code': code,\n",
    "                'message': message,\n",
    "            })\n",
    "\n",
    "        # OTHERWISE, SLEEP FOR A SECOND TO PREVENT SPAM\n",
    "        else:\n",
    "            time.sleep(3)\n",
    "\n",
    "        # IF THE TAILEND OF THE FILE WAS REACHED\n",
    "        # AND CONTAINER IS NOT EMPTY\n",
    "        if file.tell() == os.path.getsize(file_path) and len(hashes) > 0 and len(batch) > 0:\n",
    "            \n",
    "            # AES ENCRYPT THE BATCH\n",
    "            sym_data, sym_params = encryption.aes_encrypt({\n",
    "                'events': batch\n",
    "            })\n",
    "\n",
    "            # RSA ENCRYPT AES PARAMS\n",
    "            asym_params = encryption.rsa_encrypt(sym_params, rsa_pubkey)\n",
    "\n",
    "            # SUBMIT BATCH DATA TO THE SMART CONTRACT\n",
    "            device_contract.write({\n",
    "                'func': 'add',\n",
    "                'params': [sym_data, asym_params, hashes]\n",
    "            })\n",
    "\n",
    "            # PRINT MSG\n",
    "            print('UPLOADED ', len(batch), 'LINES')\n",
    "\n",
    "            # RESET CONTAINERS\n",
    "            hashes = []\n",
    "            batch = []"
   ]
  },
  {
   "cell_type": "markdown",
   "metadata": {},
   "source": [
    "### START TRACKING LOG FILE"
   ]
  },
  {
   "cell_type": "code",
   "execution_count": null,
   "metadata": {
    "scrolled": false
   },
   "outputs": [],
   "source": [
    "track(settings['log_path'])"
   ]
  },
  {
   "cell_type": "code",
   "execution_count": null,
   "metadata": {},
   "outputs": [],
   "source": []
  }
 ],
 "metadata": {
  "kernelspec": {
   "display_name": "Python 3",
   "language": "python",
   "name": "python3"
  },
  "language_info": {
   "codemirror_mode": {
    "name": "ipython",
    "version": 3
   },
   "file_extension": ".py",
   "mimetype": "text/x-python",
   "name": "python",
   "nbconvert_exporter": "python",
   "pygments_lexer": "ipython3",
   "version": "3.8.5"
  }
 },
 "nbformat": 4,
 "nbformat_minor": 4
}
