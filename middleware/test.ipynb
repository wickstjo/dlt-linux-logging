{
 "cells": [
  {
   "cell_type": "code",
   "execution_count": 1,
   "metadata": {},
   "outputs": [],
   "source": [
    "import os\n",
    "import time\n",
    "import nbimporter"
   ]
  },
  {
   "cell_type": "code",
   "execution_count": 2,
   "metadata": {},
   "outputs": [
    {
     "name": "stdout",
     "output_type": "stream",
     "text": [
      "Importing Jupyter notebook from utils.ipynb\n",
      "Importing Jupyter notebook from blockchain.ipynb\n"
     ]
    }
   ],
   "source": [
    "import utils\n",
    "import blockchain as blockchain_utils"
   ]
  },
  {
   "cell_type": "markdown",
   "metadata": {},
   "source": [
    "### LOAD RESOURCES"
   ]
  },
  {
   "cell_type": "code",
   "execution_count": 3,
   "metadata": {},
   "outputs": [],
   "source": [
    "settings = utils.load_yaml('resources/settings.yaml')"
   ]
  },
  {
   "cell_type": "markdown",
   "metadata": {},
   "source": [
    "### EVENT OCCURRENEC CACHE"
   ]
  },
  {
   "cell_type": "code",
   "execution_count": 4,
   "metadata": {},
   "outputs": [],
   "source": [
    "container = {}"
   ]
  },
  {
   "cell_type": "markdown",
   "metadata": {},
   "source": [
    "### TRACKING FUNC"
   ]
  },
  {
   "cell_type": "code",
   "execution_count": 8,
   "metadata": {
    "scrolled": false
   },
   "outputs": [
    {
     "name": "stdout",
     "output_type": "stream",
     "text": [
      "STARTED LISTENING...\n",
      "\n",
      "1c83e7a716a0ed7420098474f9277f14794ace4c6f7f18a1dab3e9914cbdcc38\n",
      "{'module': 'systemd', 'code': '1011', 'msg': 'Started Application launched by gsd-media-keys.', 'timestamp': 1613506735, 'hash': '1c83e7a716a0ed7420098474f9277f14794ace4c6f7f18a1dab3e9914cbdcc38'}\n",
      "\n",
      "2a0fe599cb3e2925328f84195b46298448481ccd8b655c9c6c0cff5ddc606e84\n",
      "{'module': 'systemd', 'code': '1011', 'msg': 'Started VTE child process 585755 launched by gnome-terminal-server process 543373.', 'timestamp': 1613506735, 'hash': '2a0fe599cb3e2925328f84195b46298448481ccd8b655c9c6c0cff5ddc606e84'}\n",
      "\n",
      "6ddb149b01c2279fb4f0a444003c11cedbc347dfa6206723ba75ba5f73fd8694\n",
      "{'module': 'systemd', 'code': '1011', 'msg': 'gnome-launched-x-terminal-emulator-585745.scope: Succeeded.', 'timestamp': 1613506735, 'hash': '6ddb149b01c2279fb4f0a444003c11cedbc347dfa6206723ba75ba5f73fd8694'}\n",
      "\n",
      "01f1465b6eac031298f24cd59da550fe1dc1e6de1a6532eda6c379587fb9fdd5\n",
      "{'module': 'systemd', 'code': '1011', 'msg': 'vte-spawn-4e32b70f-a2b8-4978-aa94-378bd1dbc205.scope: Succeeded.', 'timestamp': 1613506736, 'hash': '01f1465b6eac031298f24cd59da550fe1dc1e6de1a6532eda6c379587fb9fdd5'}\n",
      "\n",
      "1c83e7a716a0ed7420098474f9277f14794ace4c6f7f18a1dab3e9914cbdcc38\n",
      "{'module': 'systemd', 'code': '1011', 'msg': 'Started Application launched by gsd-media-keys.', 'timestamp': 1613506738, 'hash': '1c83e7a716a0ed7420098474f9277f14794ace4c6f7f18a1dab3e9914cbdcc38'}\n",
      "\n",
      "70781d497a9a02df4ba7993479cd5d7a3cd352fbaa2568f3b050e3737595064f\n",
      "{'module': 'systemd', 'code': '1011', 'msg': 'Started VTE child process 585774 launched by gnome-terminal-server process 543373.', 'timestamp': 1613506738, 'hash': '70781d497a9a02df4ba7993479cd5d7a3cd352fbaa2568f3b050e3737595064f'}\n",
      "\n",
      "77d937f783a9bbde86730f2bc38df97a2b16e334d88613aa6e5999cae3d58ae1\n",
      "{'module': 'systemd', 'code': '1011', 'msg': 'gnome-launched-x-terminal-emulator-585766.scope: Succeeded.', 'timestamp': 1613506738, 'hash': '77d937f783a9bbde86730f2bc38df97a2b16e334d88613aa6e5999cae3d58ae1'}\n",
      "\n",
      "2f39f11f45acff41ecafc521d07fcde192473e52340f0a8adadfa9fe4220d85e\n",
      "{'module': 'systemd', 'code': '1011', 'msg': 'vte-spawn-52f9058a-511c-403c-9892-d05b4723da22.scope: Succeeded.', 'timestamp': 1613506739, 'hash': '2f39f11f45acff41ecafc521d07fcde192473e52340f0a8adadfa9fe4220d85e'}\n",
      "\n",
      "\n",
      "THE PROCESS WAS MANUALLY KILLED\n"
     ]
    }
   ],
   "source": [
    "try:\n",
    "    print('STARTED LISTENING...\\n')\n",
    "\n",
    "    # OPEN THE FILE\n",
    "    file = open(settings['log_path'], 'r')\n",
    "\n",
    "    # FIND THE TAILEND OF THE FILE\n",
    "    file_stats = os.stat(settings['log_path'])\n",
    "    file_size = file_stats[6]\n",
    "\n",
    "    # GOTO THE LAST ROW\n",
    "    file.seek(file_size)\n",
    "\n",
    "    # EVENT LOOP\n",
    "    while True:\n",
    "\n",
    "        # READ THE LAST LINE\n",
    "        where = file.tell()\n",
    "        line = file.readline()\n",
    "\n",
    "        # IF THE LINE ISNT EMPTY\n",
    "        if line:\n",
    "\n",
    "            # PARSE THE COMPLETE OBJECT\n",
    "            parsed = utils.parse_line(line)\n",
    "\n",
    "            # SEND HASH & TIMESTAMP FOR VERIFICATION\n",
    "            hash_id = parsed['hash']\n",
    "            timestamp = parsed['timestamp']\n",
    "            \n",
    "            print(hash_id)\n",
    "            print(parsed)\n",
    "            print('')\n",
    "\n",
    "        # OTHERWISE, SLEEP FOR A SECOND TO PREVENT SPAM\n",
    "        else:\n",
    "            time.sleep(1)\n",
    "\n",
    "# KILL THE PROCESS\n",
    "except:\n",
    "    print('\\nTHE PROCESS WAS MANUALLY KILLED')"
   ]
  },
  {
   "cell_type": "code",
   "execution_count": null,
   "metadata": {},
   "outputs": [],
   "source": []
  }
 ],
 "metadata": {
  "kernelspec": {
   "display_name": "Python 3",
   "language": "python",
   "name": "python3"
  },
  "language_info": {
   "codemirror_mode": {
    "name": "ipython",
    "version": 3
   },
   "file_extension": ".py",
   "mimetype": "text/x-python",
   "name": "python",
   "nbconvert_exporter": "python",
   "pygments_lexer": "ipython3",
   "version": "3.8.5"
  }
 },
 "nbformat": 4,
 "nbformat_minor": 4
}
