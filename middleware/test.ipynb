{
 "cells": [
  {
   "cell_type": "code",
   "execution_count": 1,
   "metadata": {},
   "outputs": [],
   "source": [
    "import os\n",
    "import time\n",
    "import nbimporter"
   ]
  },
  {
   "cell_type": "code",
   "execution_count": 2,
   "metadata": {},
   "outputs": [
    {
     "name": "stdout",
     "output_type": "stream",
     "text": [
      "Importing Jupyter notebook from utils.ipynb\n",
      "Importing Jupyter notebook from blockchain.ipynb\n"
     ]
    }
   ],
   "source": [
    "import utils\n",
    "import blockchain as blockchain_utils"
   ]
  },
  {
   "cell_type": "markdown",
   "metadata": {},
   "source": [
    "### LOAD RESOURCES"
   ]
  },
  {
   "cell_type": "code",
   "execution_count": 3,
   "metadata": {},
   "outputs": [],
   "source": [
    "settings = utils.load_yaml('resources/settings.yaml')"
   ]
  },
  {
   "cell_type": "markdown",
   "metadata": {},
   "source": [
    "### EVENT OCCURRENEC CACHE"
   ]
  },
  {
   "cell_type": "code",
   "execution_count": 4,
   "metadata": {},
   "outputs": [],
   "source": [
    "container = {}"
   ]
  },
  {
   "cell_type": "markdown",
   "metadata": {},
   "source": [
    "### CONFIG PARAMS"
   ]
  },
  {
   "cell_type": "code",
   "execution_count": 5,
   "metadata": {},
   "outputs": [],
   "source": [
    "history_length = 5"
   ]
  },
  {
   "cell_type": "code",
   "execution_count": 6,
   "metadata": {},
   "outputs": [],
   "source": [
    "error_margin = 0.2"
   ]
  },
  {
   "cell_type": "markdown",
   "metadata": {},
   "source": [
    "### TRACKING FUNC"
   ]
  },
  {
   "cell_type": "code",
   "execution_count": 8,
   "metadata": {
    "scrolled": false
   },
   "outputs": [
    {
     "name": "stdout",
     "output_type": "stream",
     "text": [
      "STARTED LISTENING...\n",
      "\n"
     ]
    },
    {
     "ename": "IndexError",
     "evalue": "list assignment index out of range",
     "output_type": "error",
     "traceback": [
      "\u001b[0;31m---------------------------------------------------------------------------\u001b[0m",
      "\u001b[0;31mIndexError\u001b[0m                                Traceback (most recent call last)",
      "\u001b[0;32m<ipython-input-8-44e5aeb821b9>\u001b[0m in \u001b[0;36m<module>\u001b[0;34m\u001b[0m\n\u001b[1;32m     61\u001b[0m             \u001b[0;31m# REGARDLESS, ADD DISTANCE DELTA TO HISTORY\u001b[0m\u001b[0;34m\u001b[0m\u001b[0;34m\u001b[0m\u001b[0;34m\u001b[0m\u001b[0m\n\u001b[1;32m     62\u001b[0m             \u001b[0mindex\u001b[0m \u001b[0;34m=\u001b[0m \u001b[0mcontainer\u001b[0m\u001b[0;34m[\u001b[0m\u001b[0mhash_id\u001b[0m\u001b[0;34m]\u001b[0m\u001b[0;34m[\u001b[0m\u001b[0;34m'next_index'\u001b[0m\u001b[0;34m]\u001b[0m\u001b[0;34m\u001b[0m\u001b[0;34m\u001b[0m\u001b[0m\n\u001b[0;32m---> 63\u001b[0;31m             \u001b[0mcontainer\u001b[0m\u001b[0;34m[\u001b[0m\u001b[0mhash_id\u001b[0m\u001b[0;34m]\u001b[0m\u001b[0;34m[\u001b[0m\u001b[0;34m'history'\u001b[0m\u001b[0;34m]\u001b[0m\u001b[0;34m[\u001b[0m\u001b[0mindex\u001b[0m\u001b[0;34m]\u001b[0m \u001b[0;34m=\u001b[0m \u001b[0mdelta\u001b[0m\u001b[0;34m\u001b[0m\u001b[0;34m\u001b[0m\u001b[0m\n\u001b[0m\u001b[1;32m     64\u001b[0m \u001b[0;34m\u001b[0m\u001b[0m\n\u001b[1;32m     65\u001b[0m             \u001b[0;31m# SELECT THE NEXT HISTORY INDEX OR DEFUALT TO ZERO IF LIMIT IS EXCEEDED\u001b[0m\u001b[0;34m\u001b[0m\u001b[0;34m\u001b[0m\u001b[0;34m\u001b[0m\u001b[0m\n",
      "\u001b[0;31mIndexError\u001b[0m: list assignment index out of range"
     ]
    }
   ],
   "source": [
    "try:\n",
    "    print('STARTED LISTENING...\\n')\n",
    "\n",
    "    # OPEN THE FILE\n",
    "    file = open(settings['log_path'], 'r')\n",
    "\n",
    "    # FIND THE TAILEND OF THE FILE\n",
    "    file_stats = os.stat(settings['log_path'])\n",
    "    file_size = file_stats[6]\n",
    "\n",
    "    # GOTO THE LAST ROW\n",
    "    file.seek(file_size)\n",
    "\n",
    "    # EVENT LOOP\n",
    "    while True:\n",
    "\n",
    "        # READ THE LAST LINE\n",
    "        where = file.tell()\n",
    "        line = file.readline()\n",
    "\n",
    "        # IF THE LINE ISNT EMPTY\n",
    "        if line:\n",
    "\n",
    "            # PARSE THE COMPLETE OBJECT\n",
    "            parsed = utils.parse_line(line)\n",
    "\n",
    "            # SEND HASH & TIMESTAMP FOR VERIFICATION\n",
    "            hash_id = parsed['hash']\n",
    "            timestamp = parsed['timestamp']\n",
    "\n",
    "            # IF THE EVENT HAS OCCURRED BEFORE\n",
    "            if hash_id in container:\n",
    "\n",
    "                # CALCULATE TIMESTAMP DELTA BETWEEN CURRENT AND PREVIOUS\n",
    "                delta = timestamp - container[hash_id]['previous']\n",
    "\n",
    "                # SET PREVIOUS AS CURRENT\n",
    "                container[hash_id]['timestamp'] = timestamp\n",
    "\n",
    "                # IF THE HISTORY ISNT EMPTY\n",
    "                if len(container[hash_id]['history']) > 0:\n",
    "\n",
    "                    # AVERAGE HISTORY DISTANCE\n",
    "                    avg = sum(container[hash_id]['history']) / len(container[hash_id]['history'])\n",
    "\n",
    "                    # ERROR MARGIN\n",
    "                    margin = avg * error_margin\n",
    "\n",
    "                    # PRINT MSG\n",
    "                    print('EVENT:\\t\\t\\t', hash_id)\n",
    "                    print('DELTA:\\t\\t\\t', delta)\n",
    "                    print('AVG:\\t\\t\\t', avg)\n",
    "\n",
    "                    # CHECK IF DELTA IS NOT WITHIN RANGE\n",
    "                    if value >= avg - margin and value <= avg + margin:\n",
    "                        print('SUCCESS:\\t\\tTRUE')\n",
    "\n",
    "                    # OTHERWISE\n",
    "                    else:\n",
    "                        print('SUCCESS:\\t\\tFALSE')\n",
    "\n",
    "                # REGARDLESS, ADD DISTANCE DELTA TO HISTORY\n",
    "                index = container[hash_id]['next_index']\n",
    "                container[hash_id]['history'][index] = delta\n",
    "\n",
    "                # SELECT THE NEXT HISTORY INDEX OR DEFUALT TO ZERO IF LIMIT IS EXCEEDED\n",
    "                find_next = index + 1 if index + 1 <= history_length else 0\n",
    "\n",
    "                # SET NEXT INDEX IN STATE\n",
    "                container[hash_id]['next_index'] = find_next\n",
    "\n",
    "            # OTHERWISE\n",
    "            else:\n",
    "\n",
    "                # CREATE AN ENTRY\n",
    "                container[hash_id] = {\n",
    "                    'history': []\n",
    "                    'previous': timestamp,\n",
    "                    'next_index': 0\n",
    "                }\n",
    "\n",
    "                # PRINT MSG\n",
    "                print('NEW EVENT DETECTED!')\n",
    "                print(hash_id)\n",
    "                print('')\n",
    "\n",
    "        # OTHERWISE, SLEEP FOR A SECOND TO PREVENT SPAM\n",
    "        else:\n",
    "            time.sleep(1)\n",
    "\n",
    "\n",
    "# KILL THE PROCESS\n",
    "except:\n",
    "    print('\\nTHE PROCESS WAS MANUALLY KILLED')"
   ]
  },
  {
   "cell_type": "code",
   "execution_count": null,
   "metadata": {},
   "outputs": [],
   "source": []
  }
 ],
 "metadata": {
  "kernelspec": {
   "display_name": "Python 3",
   "language": "python",
   "name": "python3"
  },
  "language_info": {
   "codemirror_mode": {
    "name": "ipython",
    "version": 3
   },
   "file_extension": ".py",
   "mimetype": "text/x-python",
   "name": "python",
   "nbconvert_exporter": "python",
   "pygments_lexer": "ipython3",
   "version": "3.8.5"
  }
 },
 "nbformat": 4,
 "nbformat_minor": 4
}
