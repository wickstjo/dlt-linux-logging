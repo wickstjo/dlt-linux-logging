{
 "cells": [
  {
   "cell_type": "code",
   "execution_count": 1,
   "metadata": {},
   "outputs": [],
   "source": [
    "import os\n",
    "import time\n",
    "import nbimporter"
   ]
  },
  {
   "cell_type": "code",
   "execution_count": 2,
   "metadata": {},
   "outputs": [
    {
     "name": "stdout",
     "output_type": "stream",
     "text": [
      "Importing Jupyter notebook from utils.ipynb\n",
      "Importing Jupyter notebook from blockchain.ipynb\n"
     ]
    }
   ],
   "source": [
    "import utils\n",
    "import blockchain as blockchain_utils"
   ]
  },
  {
   "cell_type": "markdown",
   "metadata": {},
   "source": [
    "### LOAD RESOURCES"
   ]
  },
  {
   "cell_type": "code",
   "execution_count": 3,
   "metadata": {},
   "outputs": [],
   "source": [
    "settings = utils.load_yaml('resources/settings.yaml')"
   ]
  },
  {
   "cell_type": "markdown",
   "metadata": {},
   "source": [
    "### EVENT OCCURRENEC CACHE"
   ]
  },
  {
   "cell_type": "code",
   "execution_count": 4,
   "metadata": {},
   "outputs": [],
   "source": [
    "container = {}"
   ]
  },
  {
   "cell_type": "markdown",
   "metadata": {},
   "source": [
    "### CONFIG PARAMS"
   ]
  },
  {
   "cell_type": "code",
   "execution_count": 5,
   "metadata": {},
   "outputs": [],
   "source": [
    "history_length = 5"
   ]
  },
  {
   "cell_type": "code",
   "execution_count": 6,
   "metadata": {},
   "outputs": [],
   "source": [
    "error_margin = 0.2"
   ]
  },
  {
   "cell_type": "markdown",
   "metadata": {},
   "source": [
    "### TRACKING FUNC"
   ]
  },
  {
   "cell_type": "code",
   "execution_count": 7,
   "metadata": {
    "scrolled": false
   },
   "outputs": [
    {
     "name": "stdout",
     "output_type": "stream",
     "text": [
      "STARTED LISTENING...\n",
      "\n",
      "NEW EVENT DETECTED!\n",
      "1c83e7a716a0ed7420098474f9277f14794ace4c6f7f18a1dab3e9914cbdcc38\n",
      "\n",
      "NEW EVENT DETECTED!\n",
      "5ea8de73368d1532de7a62286d151ff0af431885930d9f869821113c148e6505\n",
      "\n",
      "NEW EVENT DETECTED!\n",
      "6c14d002c347e97a999557251eb813c474bd9e71dfaf54a70b3012be7cd93fe6\n",
      "\n",
      "NEW EVENT DETECTED!\n",
      "2ffff433190205263b1971a607a0d4bdb04973cd1fd9ced0c63003acecd0bfad\n",
      "\n",
      "NEW EVENT DETECTED!\n",
      "bb9cd60e78e9db9b4ee8a88b5f99d63457d9968a684ea98a67fc119bac114489\n",
      "\n",
      "NEW EVENT DETECTED!\n",
      "5708a20f63b8cdd9706f5cb62a7721a91bdf063fcb1d6cd2c83daea7233c8d7c\n",
      "\n",
      "NEW EVENT DETECTED!\n",
      "daa698fa4fb56cb8f20df78a36a877dffb66f6c44cd84003695624071360888e\n",
      "\n",
      "\n",
      "THE PROCESS WAS MANUALLY KILLED\n"
     ]
    }
   ],
   "source": [
    "try: \n",
    "    print('STARTED LISTENING...\\n')\n",
    "\n",
    "    # OPEN THE FILE\n",
    "    file = open(settings['log_path'], 'r')\n",
    "\n",
    "    # FIND THE TAILEND OF THE FILE\n",
    "    file_stats = os.stat(settings['log_path'])\n",
    "    file_size = file_stats[6]\n",
    "\n",
    "    # GOTO THE LAST ROW\n",
    "    file.seek(file_size)\n",
    "\n",
    "    # EVENT LOOP\n",
    "    while True:\n",
    "\n",
    "        # READ THE LAST LINE\n",
    "        where = file.tell()\n",
    "        line = file.readline()\n",
    "\n",
    "        # IF THE LINE ISNT EMPTY\n",
    "        if line:\n",
    "\n",
    "            # PARSE THE COMPLETE OBJECT\n",
    "            parsed = utils.parse_line(line)\n",
    "\n",
    "            # SEND HASH & TIMESTAMP FOR VERIFICATION\n",
    "            hash_id = parsed['hash']\n",
    "            timestamp = parsed['timestamp']\n",
    "\n",
    "            # IF THE EVENT HAS OCCURRED BEFORE\n",
    "            if hash_id in container:\n",
    "\n",
    "                # CALCULATE TIMESTAMP DELTA BETWEEN CURRENT AND PREVIOUS\n",
    "                delta = timestamp - container[hash_id]['previous']\n",
    "\n",
    "                # SET PREVIOUS AS CURRENT\n",
    "                container[hash_id]['timestamp'] = timestamp\n",
    "\n",
    "                # IF THE HISTORY ISNT EMPTY\n",
    "                if len(container[hash_id]['history']) > 0:\n",
    "\n",
    "                    # AVERAGE HISTORY DISTANCE\n",
    "                    avg = sum(container[hash_id]['history']) / len(container[hash_id]['history'])\n",
    "\n",
    "                    # ERROR MARGIN\n",
    "                    margin = avg * error_margin\n",
    "\n",
    "                    # PRINT MSG\n",
    "                    print('EVENT:\\t\\t\\t', hash_id)\n",
    "                    print('DELTA:\\t\\t\\t', delta)\n",
    "                    print('AVG:\\t\\t\\t', avg)\n",
    "\n",
    "                    # CHECK IF DELTA IS NOT WITHIN RANGE\n",
    "                    if delta >= avg - margin and delta <= avg + margin:\n",
    "                        print('SUCCESS:\\t\\t', True)\n",
    "                        print('')\n",
    "\n",
    "                    # OTHERWISE\n",
    "                    else:\n",
    "                        print('SUCCESS:\\t\\t', False)\n",
    "                        print('')\n",
    "\n",
    "                # REGARDLESS, ADD DISTANCE DELTA TO HISTORY\n",
    "                index = container[hash_id]['next_index']\n",
    "\n",
    "                # ATTEMPT TO SET AT INDEX\n",
    "                try:\n",
    "                    container[hash_id]['history'][index] = delta\n",
    "\n",
    "                # IF IT FAILS, PUSH\n",
    "                except:\n",
    "                    container[hash_id]['history'].append(delta)\n",
    "\n",
    "                # SELECT THE NEXT HISTORY INDEX OR DEFUALT TO ZERO IF LIMIT IS EXCEEDED\n",
    "                find_next = index + 1 if index + 1 <= history_length else 0\n",
    "\n",
    "                # SET NEXT INDEX IN STATE\n",
    "                container[hash_id]['next_index'] = find_next\n",
    "\n",
    "            # OTHERWISE\n",
    "            else:\n",
    "\n",
    "                # CREATE AN ENTRY\n",
    "                container[hash_id] = {\n",
    "                    'history': [],\n",
    "                    'previous': timestamp,\n",
    "                    'next_index': 0\n",
    "                }\n",
    "\n",
    "                # PRINT MSG\n",
    "                print('NEW EVENT DETECTED!')\n",
    "                print(hash_id)\n",
    "                print('')\n",
    "\n",
    "        # OTHERWISE, SLEEP FOR A SECOND TO PREVENT SPAM\n",
    "        else:\n",
    "            time.sleep(1)\n",
    "\n",
    "# KILL THE PROCESS\n",
    "except:\n",
    "    print('\\nTHE PROCESS WAS MANUALLY KILLED')"
   ]
  },
  {
   "cell_type": "code",
   "execution_count": null,
   "metadata": {},
   "outputs": [],
   "source": []
  }
 ],
 "metadata": {
  "kernelspec": {
   "display_name": "Python 3",
   "language": "python",
   "name": "python3"
  },
  "language_info": {
   "codemirror_mode": {
    "name": "ipython",
    "version": 3
   },
   "file_extension": ".py",
   "mimetype": "text/x-python",
   "name": "python",
   "nbconvert_exporter": "python",
   "pygments_lexer": "ipython3",
   "version": "3.8.5"
  }
 },
 "nbformat": 4,
 "nbformat_minor": 4
}
