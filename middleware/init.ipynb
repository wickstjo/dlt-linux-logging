{
 "cells": [
  {
   "cell_type": "code",
   "execution_count": 1,
   "metadata": {},
   "outputs": [],
   "source": [
    "import nbimporter"
   ]
  },
  {
   "cell_type": "code",
   "execution_count": 2,
   "metadata": {
    "scrolled": true
   },
   "outputs": [
    {
     "name": "stdout",
     "output_type": "stream",
     "text": [
      "Importing Jupyter notebook from utils.ipynb\n",
      "Importing Jupyter notebook from blockchain.ipynb\n",
      "Importing Jupyter notebook from encryption.ipynb\n"
     ]
    }
   ],
   "source": [
    "import utils\n",
    "import blockchain as blockchain\n",
    "import encryption"
   ]
  },
  {
   "cell_type": "markdown",
   "metadata": {},
   "source": [
    "### LOAD RESOURCES"
   ]
  },
  {
   "cell_type": "code",
   "execution_count": 3,
   "metadata": {},
   "outputs": [],
   "source": [
    "settings = utils.load_yaml('resources/settings.yaml')"
   ]
  },
  {
   "cell_type": "code",
   "execution_count": 4,
   "metadata": {},
   "outputs": [],
   "source": [
    "identifier = utils.load_yaml('resources/identifier.yaml')"
   ]
  },
  {
   "cell_type": "code",
   "execution_count": 5,
   "metadata": {},
   "outputs": [],
   "source": [
    "latest = utils.load_json('resources/latest.json')"
   ]
  },
  {
   "cell_type": "markdown",
   "metadata": {},
   "source": [
    "### CONNECT TO ETHEREUM GATEWAY"
   ]
  },
  {
   "cell_type": "code",
   "execution_count": 6,
   "metadata": {},
   "outputs": [],
   "source": [
    "web3 = blockchain.connect(settings)"
   ]
  },
  {
   "cell_type": "markdown",
   "metadata": {},
   "source": [
    "### SERIALIZE MANAGER CONTRACTS"
   ]
  },
  {
   "cell_type": "code",
   "execution_count": 7,
   "metadata": {},
   "outputs": [],
   "source": [
    "device_manager = blockchain.contract(latest['devicemanager'], web3, settings)"
   ]
  },
  {
   "cell_type": "code",
   "execution_count": 8,
   "metadata": {},
   "outputs": [],
   "source": [
    "auth_manager = blockchain.contract(latest['authmanager'], web3, settings)"
   ]
  },
  {
   "cell_type": "markdown",
   "metadata": {},
   "source": [
    "### INIT DEVICE MANAGER"
   ]
  },
  {
   "cell_type": "code",
   "execution_count": 9,
   "metadata": {},
   "outputs": [
    {
     "data": {
      "text/plain": [
       "AttributeDict({'blockHash': HexBytes('0x445bbc505eee49d047e70f8635e6eb8d65d78a7f553b008bbc1ef71e123bc428'),\n",
       " 'blockNumber': 128026,\n",
       " 'contractAddress': None,\n",
       " 'cumulativeGasUsed': 43465,\n",
       " 'from': '0x1ecC18DC2c41B6A5cC760dEdeBb0D857223A5721',\n",
       " 'gasUsed': 43465,\n",
       " 'logs': [],\n",
       " 'logsBloom': HexBytes('0x00000000000000000000000000000000000000000000000000000000000000000000000000000000000000000000000000000000000000000000000000000000000000000000000000000000000000000000000000000000000000000000000000000000000000000000000000000000000000000000000000000000000000000000000000000000000000000000000000000000000000000000000000000000000000000000000000000000000000000000000000000000000000000000000000000000000000000000000000000000000000000000000000000000000000000000000000000000000000000000000000000000000000000000000000000000'),\n",
       " 'status': 1,\n",
       " 'to': '0xA804B29333E922998fD4B41C5E2dc8aEAc86c130',\n",
       " 'transactionHash': HexBytes('0xd45d4a8ce514a285bec503f5dfddebf8344ffd5ddcec6bdb405252d826a05914'),\n",
       " 'transactionIndex': 0})"
      ]
     },
     "execution_count": 9,
     "metadata": {},
     "output_type": "execute_result"
    }
   ],
   "source": [
    "device_manager.write({\n",
    "    'func': 'init',\n",
    "    'params': [auth_manager.address]\n",
    "})"
   ]
  },
  {
   "cell_type": "markdown",
   "metadata": {},
   "source": [
    "### INIT AUTH MANAGER"
   ]
  },
  {
   "cell_type": "code",
   "execution_count": 10,
   "metadata": {},
   "outputs": [
    {
     "data": {
      "text/plain": [
       "AttributeDict({'blockHash': HexBytes('0xef091d27bbcada2130ec22c17118d23e9788a46672c58b74158e2109c91a2eaf'),\n",
       " 'blockNumber': 128027,\n",
       " 'contractAddress': None,\n",
       " 'cumulativeGasUsed': 64316,\n",
       " 'from': '0x1ecC18DC2c41B6A5cC760dEdeBb0D857223A5721',\n",
       " 'gasUsed': 64316,\n",
       " 'logs': [],\n",
       " 'logsBloom': HexBytes('0x00000000000000000000000000000000000000000000000000000000000000000000000000000000000000000000000000000000000000000000000000000000000000000000000000000000000000000000000000000000000000000000000000000000000000000000000000000000000000000000000000000000000000000000000000000000000000000000000000000000000000000000000000000000000000000000000000000000000000000000000000000000000000000000000000000000000000000000000000000000000000000000000000000000000000000000000000000000000000000000000000000000000000000000000000000000'),\n",
       " 'status': 1,\n",
       " 'to': '0x0396f0224C6BaC1b6337Ec6745C9904F7DCe24cF',\n",
       " 'transactionHash': HexBytes('0x49143358f5919bb9afdf4dbd37fa94499da7458c9f4b4dfd7b796716660d0451'),\n",
       " 'transactionIndex': 0})"
      ]
     },
     "execution_count": 10,
     "metadata": {},
     "output_type": "execute_result"
    }
   ],
   "source": [
    "auth_manager.write({\n",
    "    'func': 'init',\n",
    "    'params': [device_manager.address]\n",
    "})"
   ]
  },
  {
   "cell_type": "markdown",
   "metadata": {},
   "source": [
    "### REGISTER THE DEVICE"
   ]
  },
  {
   "cell_type": "code",
   "execution_count": 11,
   "metadata": {},
   "outputs": [],
   "source": [
    "# SHA256 HASH THE IDENTIFIER\n",
    "hashed_identifier = utils.hash_data(identifier)"
   ]
  },
  {
   "cell_type": "code",
   "execution_count": 12,
   "metadata": {},
   "outputs": [
    {
     "data": {
      "text/plain": [
       "AttributeDict({'blockHash': HexBytes('0x83e003e234bfd39920d02195a924dd1d8f6bdbb965131e8c5155e4c85cce3a40'),\n",
       " 'blockNumber': 128029,\n",
       " 'contractAddress': None,\n",
       " 'cumulativeGasUsed': 1202334,\n",
       " 'from': '0x1ecC18DC2c41B6A5cC760dEdeBb0D857223A5721',\n",
       " 'gasUsed': 1202334,\n",
       " 'logs': [AttributeDict({'address': '0xA804B29333E922998fD4B41C5E2dc8aEAc86c130',\n",
       "   'topics': [HexBytes('0xc87542064bc1930c362cb7f85a979ab1051627291e7db73dfda0f48bca405481')],\n",
       "   'data': '0x',\n",
       "   'blockNumber': 128029,\n",
       "   'transactionHash': HexBytes('0x40d44bd02c992a97f0595dce2220ad228c44c7d4ea492d99c48f6e6e3c3add40'),\n",
       "   'transactionIndex': 0,\n",
       "   'blockHash': HexBytes('0x83e003e234bfd39920d02195a924dd1d8f6bdbb965131e8c5155e4c85cce3a40'),\n",
       "   'logIndex': 0,\n",
       "   'removed': False})],\n",
       " 'logsBloom': HexBytes('0x00000000000000000000000000000000000000000000000000000000000000010000000000000000000000000000000000000000000000000000000000000000000000000000000000000000000000000000000000000000000000000000000000000000000000000000000000000000000000000000000000000800000000000000000000000020000000000000000000000000000000200000002000000000000000000000000000000000000000000000000000000000000200000000000000000000000000000000000000000000000000000000000000000000000000000000000000000000000000000000000000000000000000000000000000000000'),\n",
       " 'status': 1,\n",
       " 'to': '0xA804B29333E922998fD4B41C5E2dc8aEAc86c130',\n",
       " 'transactionHash': HexBytes('0x40d44bd02c992a97f0595dce2220ad228c44c7d4ea492d99c48f6e6e3c3add40'),\n",
       " 'transactionIndex': 0})"
      ]
     },
     "execution_count": 12,
     "metadata": {},
     "output_type": "execute_result"
    }
   ],
   "source": [
    "device_manager.write({\n",
    "    'func': 'add',\n",
    "    'params': [hashed_identifier]\n",
    "})"
   ]
  },
  {
   "cell_type": "markdown",
   "metadata": {},
   "source": [
    "### REQUEST AN ENCRYPTION KEY FOR THE DEVICE"
   ]
  },
  {
   "cell_type": "code",
   "execution_count": 13,
   "metadata": {},
   "outputs": [
    {
     "data": {
      "text/plain": [
       "AttributeDict({'blockHash': HexBytes('0xa36c2d8de4a2b285fa83a701df44c4e08b218fb8f04cbcbc3cf7ed404d5c5c8d'),\n",
       " 'blockNumber': 128031,\n",
       " 'contractAddress': None,\n",
       " 'cumulativeGasUsed': 83686,\n",
       " 'from': '0x1ecC18DC2c41B6A5cC760dEdeBb0D857223A5721',\n",
       " 'gasUsed': 83686,\n",
       " 'logs': [AttributeDict({'address': '0x0396f0224C6BaC1b6337Ec6745C9904F7DCe24cF',\n",
       "   'topics': [HexBytes('0x60a2a5991d9781a24cd2bcd88acc860a8334ef02efdad1c00fa914e64797926a')],\n",
       "   'data': '0x',\n",
       "   'blockNumber': 128031,\n",
       "   'transactionHash': HexBytes('0x96defab8c8cc654ce74e8a19c0e072a88250aa29a02d62a4e85a071c36223165'),\n",
       "   'transactionIndex': 0,\n",
       "   'blockHash': HexBytes('0xa36c2d8de4a2b285fa83a701df44c4e08b218fb8f04cbcbc3cf7ed404d5c5c8d'),\n",
       "   'logIndex': 0,\n",
       "   'removed': False})],\n",
       " 'logsBloom': HexBytes('0x00000000000000000000000000000000000000000000000000000000000000000000000000000000000020000000000000000000000000000000000000000000000000000000000000000000000000800000000000000000000000400000000000000000000000000000000000000000000000000000000000000000000010000000010000000000000000000000000000000000000000000000000000000000000000000000000000000000000000000000000000000000000000000000000000000000000000000000000000000000000000000000000000000000000000000000000000000000000000000000000000000000200000000000000000000000'),\n",
       " 'status': 1,\n",
       " 'to': '0x0396f0224C6BaC1b6337Ec6745C9904F7DCe24cF',\n",
       " 'transactionHash': HexBytes('0x96defab8c8cc654ce74e8a19c0e072a88250aa29a02d62a4e85a071c36223165'),\n",
       " 'transactionIndex': 0})"
      ]
     },
     "execution_count": 13,
     "metadata": {},
     "output_type": "execute_result"
    }
   ],
   "source": [
    "auth_manager.write({\n",
    "    'func': 'request_key',\n",
    "    'params': [hashed_identifier]\n",
    "})"
   ]
  },
  {
   "cell_type": "code",
   "execution_count": null,
   "metadata": {},
   "outputs": [],
   "source": []
  }
 ],
 "metadata": {
  "kernelspec": {
   "display_name": "Python 3",
   "language": "python",
   "name": "python3"
  },
  "language_info": {
   "codemirror_mode": {
    "name": "ipython",
    "version": 3
   },
   "file_extension": ".py",
   "mimetype": "text/x-python",
   "name": "python",
   "nbconvert_exporter": "python",
   "pygments_lexer": "ipython3",
   "version": "3.8.5"
  }
 },
 "nbformat": 4,
 "nbformat_minor": 2
}
