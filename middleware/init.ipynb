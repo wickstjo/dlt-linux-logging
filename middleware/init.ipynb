{
 "cells": [
  {
   "cell_type": "code",
   "execution_count": 1,
   "metadata": {},
   "outputs": [],
   "source": [
    "import nbimporter"
   ]
  },
  {
   "cell_type": "code",
   "execution_count": 2,
   "metadata": {
    "scrolled": true
   },
   "outputs": [
    {
     "name": "stdout",
     "output_type": "stream",
     "text": [
      "Importing Jupyter notebook from utils.ipynb\n",
      "Importing Jupyter notebook from blockchain.ipynb\n",
      "Importing Jupyter notebook from encryption.ipynb\n"
     ]
    }
   ],
   "source": [
    "import utils\n",
    "import blockchain as blockchain\n",
    "import encryption"
   ]
  },
  {
   "cell_type": "markdown",
   "metadata": {},
   "source": [
    "### LOAD RESOURCES"
   ]
  },
  {
   "cell_type": "code",
   "execution_count": 3,
   "metadata": {},
   "outputs": [],
   "source": [
    "settings = utils.load_yaml('resources/settings.yaml')"
   ]
  },
  {
   "cell_type": "code",
   "execution_count": 4,
   "metadata": {},
   "outputs": [],
   "source": [
    "identifier = utils.load_yaml('resources/identifier.yaml')"
   ]
  },
  {
   "cell_type": "code",
   "execution_count": 5,
   "metadata": {},
   "outputs": [],
   "source": [
    "latest = utils.load_json('resources/latest.json')"
   ]
  },
  {
   "cell_type": "markdown",
   "metadata": {},
   "source": [
    "### CONNECT TO ETHEREUM GATEWAY"
   ]
  },
  {
   "cell_type": "code",
   "execution_count": 6,
   "metadata": {},
   "outputs": [],
   "source": [
    "web3 = blockchain.connect(settings)"
   ]
  },
  {
   "cell_type": "markdown",
   "metadata": {},
   "source": [
    "### SERIALIZE MANAGER CONTRACTS"
   ]
  },
  {
   "cell_type": "code",
   "execution_count": 7,
   "metadata": {},
   "outputs": [],
   "source": [
    "device_manager = blockchain.contract(latest['devicemanager'], web3, settings)"
   ]
  },
  {
   "cell_type": "code",
   "execution_count": 8,
   "metadata": {},
   "outputs": [],
   "source": [
    "auth_manager = blockchain.contract(latest['authmanager'], web3, settings)"
   ]
  },
  {
   "cell_type": "markdown",
   "metadata": {},
   "source": [
    "### INIT DEVICE MANAGER"
   ]
  },
  {
   "cell_type": "code",
   "execution_count": 9,
   "metadata": {},
   "outputs": [
    {
     "data": {
      "text/plain": [
       "AttributeDict({'blockHash': HexBytes('0x033f51bb8008c99fa7226eb66d6775c396402fea9decedc8194ac8873e9a5f5f'),\n",
       " 'blockNumber': 133633,\n",
       " 'contractAddress': None,\n",
       " 'cumulativeGasUsed': 43465,\n",
       " 'from': '0x1ecC18DC2c41B6A5cC760dEdeBb0D857223A5721',\n",
       " 'gasUsed': 43465,\n",
       " 'logs': [],\n",
       " 'logsBloom': HexBytes('0x00000000000000000000000000000000000000000000000000000000000000000000000000000000000000000000000000000000000000000000000000000000000000000000000000000000000000000000000000000000000000000000000000000000000000000000000000000000000000000000000000000000000000000000000000000000000000000000000000000000000000000000000000000000000000000000000000000000000000000000000000000000000000000000000000000000000000000000000000000000000000000000000000000000000000000000000000000000000000000000000000000000000000000000000000000000'),\n",
       " 'status': 1,\n",
       " 'to': '0xc3f37B83ba2b86e54F9495C6109af0D881d69FDF',\n",
       " 'transactionHash': HexBytes('0x6ae9365b2c6e6a964659eecff8b536dfc309316a303e132a7ba73c75372a47b4'),\n",
       " 'transactionIndex': 0})"
      ]
     },
     "execution_count": 9,
     "metadata": {},
     "output_type": "execute_result"
    }
   ],
   "source": [
    "device_manager.write({\n",
    "    'func': 'init',\n",
    "    'params': [auth_manager.address]\n",
    "})"
   ]
  },
  {
   "cell_type": "markdown",
   "metadata": {},
   "source": [
    "### INIT AUTH MANAGER"
   ]
  },
  {
   "cell_type": "code",
   "execution_count": 10,
   "metadata": {},
   "outputs": [
    {
     "data": {
      "text/plain": [
       "AttributeDict({'blockHash': HexBytes('0x3b44027ddd8e0ee9bb0ab27136b54919cc6c8df9724467bcda1220c7b9335244'),\n",
       " 'blockNumber': 133634,\n",
       " 'contractAddress': None,\n",
       " 'cumulativeGasUsed': 64316,\n",
       " 'from': '0x1ecC18DC2c41B6A5cC760dEdeBb0D857223A5721',\n",
       " 'gasUsed': 64316,\n",
       " 'logs': [],\n",
       " 'logsBloom': HexBytes('0x00000000000000000000000000000000000000000000000000000000000000000000000000000000000000000000000000000000000000000000000000000000000000000000000000000000000000000000000000000000000000000000000000000000000000000000000000000000000000000000000000000000000000000000000000000000000000000000000000000000000000000000000000000000000000000000000000000000000000000000000000000000000000000000000000000000000000000000000000000000000000000000000000000000000000000000000000000000000000000000000000000000000000000000000000000000'),\n",
       " 'status': 1,\n",
       " 'to': '0x2e5e631986286A271aC407Adf997C67baDB1DC9e',\n",
       " 'transactionHash': HexBytes('0x11caf126645391a275e594cf066643958a5ffb30d43cb682307675e1c4c8e8ec'),\n",
       " 'transactionIndex': 0})"
      ]
     },
     "execution_count": 10,
     "metadata": {},
     "output_type": "execute_result"
    }
   ],
   "source": [
    "auth_manager.write({\n",
    "    'func': 'init',\n",
    "    'params': [device_manager.address]\n",
    "})"
   ]
  },
  {
   "cell_type": "markdown",
   "metadata": {},
   "source": [
    "### REGISTER THE DEVICE"
   ]
  },
  {
   "cell_type": "code",
   "execution_count": 11,
   "metadata": {},
   "outputs": [],
   "source": [
    "# SHA256 HASH THE IDENTIFIER\n",
    "hashed_identifier = utils.hash_data(identifier)"
   ]
  },
  {
   "cell_type": "code",
   "execution_count": 12,
   "metadata": {},
   "outputs": [
    {
     "data": {
      "text/plain": [
       "AttributeDict({'blockHash': HexBytes('0x58753158298dff145ba1079e76fdceaf9b466ac7c819222f52d0fc3dd757e5d0'),\n",
       " 'blockNumber': 133636,\n",
       " 'contractAddress': None,\n",
       " 'cumulativeGasUsed': 1157042,\n",
       " 'from': '0x1ecC18DC2c41B6A5cC760dEdeBb0D857223A5721',\n",
       " 'gasUsed': 1157042,\n",
       " 'logs': [AttributeDict({'address': '0xc3f37B83ba2b86e54F9495C6109af0D881d69FDF',\n",
       "   'topics': [HexBytes('0xc87542064bc1930c362cb7f85a979ab1051627291e7db73dfda0f48bca405481')],\n",
       "   'data': '0x',\n",
       "   'blockNumber': 133636,\n",
       "   'transactionHash': HexBytes('0xd46c8c8ddb26db9443b814465c4d51e12c35277e42fa40a70ba609dc591065e3'),\n",
       "   'transactionIndex': 0,\n",
       "   'blockHash': HexBytes('0x58753158298dff145ba1079e76fdceaf9b466ac7c819222f52d0fc3dd757e5d0'),\n",
       "   'logIndex': 0,\n",
       "   'removed': False})],\n",
       " 'logsBloom': HexBytes('0x00000000000000000000000000000000000000000000000000000000000000010000000000000000000000000000000000002000000000000000000000000000000000000000000000000000000000000000000000000000000000000000000000000000000000040004000000000000000000000000000000000000000000000000000000000020000000000000000000000000000000000000000000000000000000000000000000000000000000000000000000000000000200000000000000000000000000000000000000000000000000000000000000000000000000000000000000000000000000000000000000000000000000000000000000000000'),\n",
       " 'status': 1,\n",
       " 'to': '0xc3f37B83ba2b86e54F9495C6109af0D881d69FDF',\n",
       " 'transactionHash': HexBytes('0xd46c8c8ddb26db9443b814465c4d51e12c35277e42fa40a70ba609dc591065e3'),\n",
       " 'transactionIndex': 0})"
      ]
     },
     "execution_count": 12,
     "metadata": {},
     "output_type": "execute_result"
    }
   ],
   "source": [
    "device_manager.write({\n",
    "    'func': 'add',\n",
    "    'params': [hashed_identifier]\n",
    "})"
   ]
  },
  {
   "cell_type": "markdown",
   "metadata": {},
   "source": [
    "### REQUEST AN ENCRYPTION KEY FOR THE DEVICE"
   ]
  },
  {
   "cell_type": "code",
   "execution_count": 13,
   "metadata": {},
   "outputs": [
    {
     "data": {
      "text/plain": [
       "AttributeDict({'blockHash': HexBytes('0xc5bf4752846881c3ce0e3ad45eefde8329f2ebbfdc1ed5595c159ef2522efb14'),\n",
       " 'blockNumber': 133637,\n",
       " 'contractAddress': None,\n",
       " 'cumulativeGasUsed': 83708,\n",
       " 'from': '0x1ecC18DC2c41B6A5cC760dEdeBb0D857223A5721',\n",
       " 'gasUsed': 83708,\n",
       " 'logs': [AttributeDict({'address': '0x2e5e631986286A271aC407Adf997C67baDB1DC9e',\n",
       "   'topics': [HexBytes('0x60a2a5991d9781a24cd2bcd88acc860a8334ef02efdad1c00fa914e64797926a')],\n",
       "   'data': '0x',\n",
       "   'blockNumber': 133637,\n",
       "   'transactionHash': HexBytes('0xe40c19c055e8953dbb99e5ce4cba34449952a471d2ad47c37469af4ef089a2c5'),\n",
       "   'transactionIndex': 0,\n",
       "   'blockHash': HexBytes('0xc5bf4752846881c3ce0e3ad45eefde8329f2ebbfdc1ed5595c159ef2522efb14'),\n",
       "   'logIndex': 0,\n",
       "   'removed': False})],\n",
       " 'logsBloom': HexBytes('0x00000000000000000000000000000000000000000000000000000000000000000000000000000000000020000000000000000000000000000000000000000000800000000000000000000000000000000000000000000000000000400000000000000000000000000000000000000000000000000000000000000000000010000000000000000000000000000000000000000000000000000000000000000000000000000000000000100000000000000000000000000000000000000000000000000000000000000000000000000000000000000000000000000000000000000000000000000000000000080000000000000000000000000000000000000000'),\n",
       " 'status': 1,\n",
       " 'to': '0x2e5e631986286A271aC407Adf997C67baDB1DC9e',\n",
       " 'transactionHash': HexBytes('0xe40c19c055e8953dbb99e5ce4cba34449952a471d2ad47c37469af4ef089a2c5'),\n",
       " 'transactionIndex': 0})"
      ]
     },
     "execution_count": 13,
     "metadata": {},
     "output_type": "execute_result"
    }
   ],
   "source": [
    "auth_manager.write({\n",
    "    'func': 'request_key',\n",
    "    'params': [hashed_identifier]\n",
    "})"
   ]
  },
  {
   "cell_type": "code",
   "execution_count": null,
   "metadata": {},
   "outputs": [],
   "source": []
  }
 ],
 "metadata": {
  "kernelspec": {
   "display_name": "Python 3",
   "language": "python",
   "name": "python3"
  },
  "language_info": {
   "codemirror_mode": {
    "name": "ipython",
    "version": 3
   },
   "file_extension": ".py",
   "mimetype": "text/x-python",
   "name": "python",
   "nbconvert_exporter": "python",
   "pygments_lexer": "ipython3",
   "version": "3.8.5"
  }
 },
 "nbformat": 4,
 "nbformat_minor": 2
}
