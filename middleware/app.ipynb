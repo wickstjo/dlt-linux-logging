{
 "cells": [
  {
   "cell_type": "code",
   "execution_count": 1,
   "metadata": {},
   "outputs": [],
   "source": [
    "import os\n",
    "import time\n",
    "import nbimporter"
   ]
  },
  {
   "cell_type": "code",
   "execution_count": 2,
   "metadata": {},
   "outputs": [
    {
     "name": "stdout",
     "output_type": "stream",
     "text": [
      "Importing Jupyter notebook from utils.ipynb\n",
      "Importing Jupyter notebook from blockchain.ipynb\n"
     ]
    }
   ],
   "source": [
    "import utils\n",
    "import blockchain as blockchain_utils"
   ]
  },
  {
   "cell_type": "markdown",
   "metadata": {},
   "source": [
    "### LOAD RESOURCES"
   ]
  },
  {
   "cell_type": "code",
   "execution_count": 3,
   "metadata": {},
   "outputs": [],
   "source": [
    "settings = utils.load_yaml('resources/settings.yaml')"
   ]
  },
  {
   "cell_type": "code",
   "execution_count": 4,
   "metadata": {},
   "outputs": [],
   "source": [
    "identifier = utils.load_yaml('resources/identifier.yaml')"
   ]
  },
  {
   "cell_type": "code",
   "execution_count": 5,
   "metadata": {},
   "outputs": [],
   "source": [
    "latest = utils.load_json('resources/latest.json')"
   ]
  },
  {
   "cell_type": "markdown",
   "metadata": {},
   "source": [
    "### CONNECT TO THE ETHEREUM GATEWAY"
   ]
  },
  {
   "cell_type": "code",
   "execution_count": 6,
   "metadata": {},
   "outputs": [],
   "source": [
    "web3 = blockchain_utils.connect(settings)"
   ]
  },
  {
   "cell_type": "markdown",
   "metadata": {},
   "source": [
    "### SERIALIZE THE MANAGER CONTRACT"
   ]
  },
  {
   "cell_type": "code",
   "execution_count": 7,
   "metadata": {},
   "outputs": [],
   "source": [
    "device_manager = blockchain_utils.contract(latest['devicemanager'], web3, settings)"
   ]
  },
  {
   "cell_type": "markdown",
   "metadata": {},
   "source": [
    "### HASH THE DEVICE IDENTIFIER"
   ]
  },
  {
   "cell_type": "code",
   "execution_count": 8,
   "metadata": {},
   "outputs": [],
   "source": [
    "hashed_identifier = utils.hash_data(identifier)"
   ]
  },
  {
   "cell_type": "markdown",
   "metadata": {},
   "source": [
    "### ATTEMPT TO FETCH A CONTRACT WITH THE DEVICE HASH"
   ]
  },
  {
   "cell_type": "code",
   "execution_count": 9,
   "metadata": {},
   "outputs": [],
   "source": [
    "device_address = device_manager.read({\n",
    "    'func': 'fetch_device',\n",
    "    'params': hashed_identifier\n",
    "})"
   ]
  },
  {
   "cell_type": "code",
   "execution_count": 10,
   "metadata": {
    "scrolled": true
   },
   "outputs": [],
   "source": [
    "# IF IT DOES NOT EXIST\n",
    "if device_address == '0x0000000000000000000000000000000000000000':\n",
    "    \n",
    "    # REGISTER IT\n",
    "    device_manager.write({\n",
    "        'func': 'add',\n",
    "        'params': [hashed_identifier]\n",
    "    })\n",
    "    \n",
    "    # FETCH THE ADDRESS AGAIN\n",
    "    device_address = device_manager.read({\n",
    "        'func': 'fetch_device',\n",
    "        'params': hashed_identifier\n",
    "    })"
   ]
  },
  {
   "cell_type": "markdown",
   "metadata": {},
   "source": [
    "### SERIALIZE THE DEVICE SPECIFIC CONTRACT"
   ]
  },
  {
   "cell_type": "code",
   "execution_count": 11,
   "metadata": {},
   "outputs": [],
   "source": [
    "device_contract = blockchain_utils.contract({\n",
    "    'address': device_address,\n",
    "    'abi': latest['device']['abi']\n",
    "}, web3, settings)"
   ]
  },
  {
   "cell_type": "markdown",
   "metadata": {},
   "source": [
    "### CALLBACK FUNC FOR UPLOADING DATA"
   ]
  },
  {
   "cell_type": "code",
   "execution_count": 12,
   "metadata": {},
   "outputs": [],
   "source": [
    "def track(file_path):\n",
    "    \n",
    "    # OPEN THE FILE\n",
    "    file = open(file_path, 'r')\n",
    "\n",
    "    # FIND THE TAILEND OF THE FILE\n",
    "    file_stats = os.stat(file_path)\n",
    "    file_size = file_stats[6]\n",
    "    \n",
    "    # GOTO THE LAST ROW\n",
    "    file.seek(file_size)\n",
    "    \n",
    "    # LINE CONTAINER\n",
    "    container = []\n",
    "\n",
    "    try:\n",
    "        print('READING LOG...\\n')\n",
    "        \n",
    "        # EVENT LOOP\n",
    "        while True:\n",
    "\n",
    "                # READ THE LAST LINE\n",
    "                where = file.tell()\n",
    "                line = file.readline()\n",
    "\n",
    "                # IF THE LINE ISNT EMPTY\n",
    "                if line:\n",
    "\n",
    "                    # PARSE & ENCODE THE LINE\n",
    "                    parsed = utils.parse_line(line)\n",
    "                    encoded = utils.encode(parsed)\n",
    "\n",
    "                    # APPEND IT TO THE CONTAINER\n",
    "                    container.append(encoded)\n",
    "\n",
    "                # OTHERWISE, SLEEP FOR A SECOND TO PREVENT SPAM\n",
    "                else:\n",
    "                    time.sleep(1)\n",
    "\n",
    "                # IF THE TAILEND OF THE FILE WAS REACHED\n",
    "                # AND CONTAINER IS NOT EMPTY\n",
    "                if file.tell() == os.path.getsize(file_path) and len(container) > 0:\n",
    "\n",
    "                    # PUSH THE HASHED DATA\n",
    "                    device_contract.write({\n",
    "                        'func': 'add',\n",
    "                        'params': [container]\n",
    "                    })\n",
    "\n",
    "                    print('UPLOADED ', len(container), 'LINES')\n",
    "\n",
    "                    # RESET THE CONTAINER\n",
    "                    container = []\n",
    "\n",
    "    # MANUALLY KILL THE PROCESS\n",
    "    except:\n",
    "        print('\\nTHE PROCESS WAS MANUALLY KILLED')"
   ]
  },
  {
   "cell_type": "markdown",
   "metadata": {},
   "source": [
    "### START TRACKING LOG FILE"
   ]
  },
  {
   "cell_type": "code",
   "execution_count": 13,
   "metadata": {
    "scrolled": false
   },
   "outputs": [
    {
     "name": "stdout",
     "output_type": "stream",
     "text": [
      "READING LOG...\n",
      "\n",
      "\n",
      "THE PROCESS WAS MANUALLY KILLED\n"
     ]
    }
   ],
   "source": [
    "track(settings['log_path'])"
   ]
  },
  {
   "cell_type": "code",
   "execution_count": null,
   "metadata": {},
   "outputs": [],
   "source": []
  }
 ],
 "metadata": {
  "kernelspec": {
   "display_name": "Python 3",
   "language": "python",
   "name": "python3"
  },
  "language_info": {
   "codemirror_mode": {
    "name": "ipython",
    "version": 3
   },
   "file_extension": ".py",
   "mimetype": "text/x-python",
   "name": "python",
   "nbconvert_exporter": "python",
   "pygments_lexer": "ipython3",
   "version": "3.8.5"
  }
 },
 "nbformat": 4,
 "nbformat_minor": 4
}
