{
 "cells": [
  {
   "cell_type": "code",
   "execution_count": 1,
   "metadata": {},
   "outputs": [],
   "source": [
    "import nbimporter"
   ]
  },
  {
   "cell_type": "code",
   "execution_count": 2,
   "metadata": {},
   "outputs": [
    {
     "name": "stdout",
     "output_type": "stream",
     "text": [
      "Importing Jupyter notebook from utils.ipynb\n",
      "Importing Jupyter notebook from blockchain.ipynb\n"
     ]
    }
   ],
   "source": [
    "import utils\n",
    "import blockchain as blockchain_utils"
   ]
  },
  {
   "cell_type": "markdown",
   "metadata": {},
   "source": [
    "### LOAD RESOURCES"
   ]
  },
  {
   "cell_type": "code",
   "execution_count": 3,
   "metadata": {},
   "outputs": [],
   "source": [
    "settings = utils.load_yaml('resources/settings.yaml')"
   ]
  },
  {
   "cell_type": "code",
   "execution_count": 4,
   "metadata": {},
   "outputs": [],
   "source": [
    "identifier = utils.load_yaml('resources/identifier.yaml')"
   ]
  },
  {
   "cell_type": "code",
   "execution_count": 5,
   "metadata": {},
   "outputs": [],
   "source": [
    "latest = utils.load_json('resources/latest.json')"
   ]
  },
  {
   "cell_type": "markdown",
   "metadata": {},
   "source": [
    "### CONNECT TO THE ETHEREUM GATEWAY"
   ]
  },
  {
   "cell_type": "code",
   "execution_count": 35,
   "metadata": {},
   "outputs": [],
   "source": [
    "web3 = blockchain_utils.connect(settings)"
   ]
  },
  {
   "cell_type": "markdown",
   "metadata": {},
   "source": [
    "### SERIALIZE THE MANAGER CONTRACT"
   ]
  },
  {
   "cell_type": "code",
   "execution_count": 36,
   "metadata": {},
   "outputs": [],
   "source": [
    "device_manager = blockchain_utils.contract(latest['device_manager'], web3, settings)"
   ]
  },
  {
   "cell_type": "markdown",
   "metadata": {},
   "source": [
    "### HASH THE DEVICE IDENTIFIER"
   ]
  },
  {
   "cell_type": "code",
   "execution_count": 6,
   "metadata": {},
   "outputs": [],
   "source": [
    "hashed_identifier = utils.hash_data(identifier)"
   ]
  },
  {
   "cell_type": "markdown",
   "metadata": {},
   "source": [
    "### FETCH & SERIALIZE THE DEVICE SPECIFIC CONTRACT"
   ]
  },
  {
   "cell_type": "code",
   "execution_count": 11,
   "metadata": {},
   "outputs": [],
   "source": [
    "contract = blockchain_utils.contract({\n",
    "    'address': device_manager.read({\n",
    "        'func': 'fetch',\n",
    "        'params': hashed_identifier\n",
    "    }),\n",
    "    'abi': latest['device']['abi']\n",
    "}, web3, settings)"
   ]
  },
  {
   "cell_type": "markdown",
   "metadata": {},
   "source": [
    "### CALLBACK FUNC FOR UPLOADING DATA"
   ]
  },
  {
   "cell_type": "code",
   "execution_count": 27,
   "metadata": {},
   "outputs": [],
   "source": [
    "def upload(data):\n",
    "    print(latest)"
   ]
  },
  {
   "cell_type": "markdown",
   "metadata": {},
   "source": [
    "### START TRACKING LOG FILE"
   ]
  },
  {
   "cell_type": "code",
   "execution_count": 6,
   "metadata": {},
   "outputs": [],
   "source": [
    "container = []"
   ]
  },
  {
   "cell_type": "code",
   "execution_count": 7,
   "metadata": {
    "scrolled": true
   },
   "outputs": [
    {
     "name": "stdout",
     "output_type": "stream",
     "text": [
      "LISTENING TO: /var/log/syslog\n",
      "\n",
      "THE PROCESS WAS MANUALLY KILLED\n"
     ]
    }
   ],
   "source": [
    "utils.track(\n",
    "    settings['log_path'],\n",
    "    container\n",
    ")"
   ]
  },
  {
   "cell_type": "markdown",
   "metadata": {},
   "source": [
    "### GATHERED DATA"
   ]
  },
  {
   "cell_type": "code",
   "execution_count": 8,
   "metadata": {
    "scrolled": false
   },
   "outputs": [
    {
     "data": {
      "text/plain": [
       "[{'date': 1612477287,\n",
       "  'platform': 'desktop',\n",
       "  'module': 'systemd[968]',\n",
       "  'msg': 'Started Application launched by gsd-media-keys.'},\n",
       " {'date': 1612477287,\n",
       "  'platform': 'desktop',\n",
       "  'module': 'systemd[968]',\n",
       "  'msg': 'Started VTE child process 276982 launched by gnome-terminal-server process 276105.'},\n",
       " {'date': 1612477287,\n",
       "  'platform': 'desktop',\n",
       "  'module': 'systemd[968]',\n",
       "  'msg': 'gnome-launched-x-terminal-emulator-276972.scope: Succeeded.'},\n",
       " {'date': 1612477299,\n",
       "  'platform': 'desktop',\n",
       "  'module': 'systemd[968]',\n",
       "  'msg': 'Started Application launched by gsd-media-keys.'},\n",
       " {'date': 1612477299,\n",
       "  'platform': 'desktop',\n",
       "  'module': 'systemd[968]',\n",
       "  'msg': 'Started VTE child process 277031 launched by gnome-terminal-server process 276105.'},\n",
       " {'date': 1612477299,\n",
       "  'platform': 'desktop',\n",
       "  'module': 'systemd[968]',\n",
       "  'msg': 'gnome-launched-x-terminal-emulator-277023.scope: Succeeded.'},\n",
       " {'date': 1612477300,\n",
       "  'platform': 'desktop',\n",
       "  'module': 'zeitgeist-datah[3414]',\n",
       "  'msg': \"downloads-directory-provider.vala:120: Couldn't process /home/wickstjo/.bash_history-76982.tmp: Error when getting information for file “/home/wickstjo/.bash_history-76982.tmp”: No such file or directory\"},\n",
       " {'date': 1612477300,\n",
       "  'platform': 'desktop',\n",
       "  'module': 'systemd[968]',\n",
       "  'msg': 'vte-spawn-55d98466-e092-4f7d-87f5-dd21b472bb4a.scope: Succeeded.'},\n",
       " {'date': 1612477300,\n",
       "  'platform': 'desktop',\n",
       "  'module': 'dbus-daemon[999]',\n",
       "  'msg': '[session uid=1000 pid=999] Activating via systemd: service name=\\'org.freedesktop.Tracker1\\' unit=\\'tracker-store.service\\' requested by \\':1.2\\' (uid=1000 pid=984 comm=\"/usr/libexec/tracker-miner-fs \" label=\"unconfined\")'},\n",
       " {'date': 1612477300,\n",
       "  'platform': 'desktop',\n",
       "  'module': 'systemd[968]',\n",
       "  'msg': 'Starting Tracker metadata database store and lookup manager...'},\n",
       " {'date': 1612477300,\n",
       "  'platform': 'desktop',\n",
       "  'module': 'dbus-daemon[999]',\n",
       "  'msg': \"[session uid=1000 pid=999] Successfully activated service 'org.freedesktop.Tracker1'\"},\n",
       " {'date': 1612477300,\n",
       "  'platform': 'desktop',\n",
       "  'module': 'systemd[968]',\n",
       "  'msg': 'Started Tracker metadata database store and lookup manager.'},\n",
       " {'date': 1612477300,\n",
       "  'platform': 'desktop',\n",
       "  'module': 'systemd[968]',\n",
       "  'msg': 'vte-spawn-70618324-5e0b-433b-8bc1-0413c03acb14.scope: Succeeded.'}]"
      ]
     },
     "execution_count": 8,
     "metadata": {},
     "output_type": "execute_result"
    }
   ],
   "source": [
    "container"
   ]
  },
  {
   "cell_type": "code",
   "execution_count": null,
   "metadata": {},
   "outputs": [],
   "source": []
  }
 ],
 "metadata": {
  "kernelspec": {
   "display_name": "Python 3",
   "language": "python",
   "name": "python3"
  },
  "language_info": {
   "codemirror_mode": {
    "name": "ipython",
    "version": 3
   },
   "file_extension": ".py",
   "mimetype": "text/x-python",
   "name": "python",
   "nbconvert_exporter": "python",
   "pygments_lexer": "ipython3",
   "version": "3.8.5"
  }
 },
 "nbformat": 4,
 "nbformat_minor": 4
}
