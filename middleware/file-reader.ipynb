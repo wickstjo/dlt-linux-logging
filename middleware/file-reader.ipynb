{
 "cells": [
  {
   "cell_type": "code",
   "execution_count": 15,
   "metadata": {},
   "outputs": [],
   "source": [
    "import gzip\n",
    "import pandas as pd\n",
    "import nbimporter"
   ]
  },
  {
   "cell_type": "code",
   "execution_count": 16,
   "metadata": {},
   "outputs": [],
   "source": [
    "import utils"
   ]
  },
  {
   "cell_type": "markdown",
   "metadata": {},
   "source": [
    "### CLASSIFY EVENTS"
   ]
  },
  {
   "cell_type": "code",
   "execution_count": 17,
   "metadata": {},
   "outputs": [],
   "source": [
    "def classify(path):\n",
    "    \n",
    "    # CONTAINERS\n",
    "    events = {}\n",
    "    \n",
    "    # OPEN & READ THE COMPRESSED FILE\n",
    "    with gzip.open(path,'rb') as file:\n",
    "        for line in file:\n",
    "            \n",
    "            # DECODE AS STRING\n",
    "            decoded = line.decode(\"utf-8\")\n",
    "            \n",
    "            # PARSE LINE & EXTRACT PARAMS\n",
    "            module, code, message, timestamp = utils.parse_line(decoded)\n",
    "            \n",
    "            # GENERATE AN EVENT HASH\n",
    "            hash_id = utils.hash_data({\n",
    "                'module': module,\n",
    "                'message': message\n",
    "            })\n",
    "            \n",
    "            # IF THE EVENT HAS OCCURRED BEFORE\n",
    "            if hash_id in events:\n",
    "                \n",
    "                # INCREMENT OCCURRENCE\n",
    "                events[hash_id]['occurrence'] += 1\n",
    "                \n",
    "            # OTHERWISE, DD PROPERTY TO CONTAINER\n",
    "            else:\n",
    "                events[hash_id] = {\n",
    "                    'module': module,\n",
    "                    'code': code,\n",
    "                    'message': message,\n",
    "                    'timestamp': timestamp,\n",
    "                    'hash': hash_id,\n",
    "                    'occurrence': 1\n",
    "                }\n",
    "            \n",
    "    # CONSTRUCT A DATAFRAME\n",
    "    dataframe = pd.DataFrame.from_dict(events, orient='index')\n",
    "\n",
    "    # DROP THE UNNECESSARY HASH COL (INDEX)\n",
    "    dataframe.drop(['hash'], axis=1, inplace=True)\n",
    "    \n",
    "    # RE-ORDER COLUMNS\n",
    "    dataframe = dataframe.reindex(columns=[\n",
    "        'occurrence',\n",
    "        'module',\n",
    "        'code',\n",
    "        'message',\n",
    "        'timestamp'\n",
    "    ])\n",
    "    \n",
    "    # SORT MY MESSAGE COL\n",
    "    dataframe = dataframe.sort_values(by=['message'])\n",
    "    \n",
    "    return dataframe"
   ]
  },
  {
   "cell_type": "markdown",
   "metadata": {},
   "source": [
    "### EXECUTE"
   ]
  },
  {
   "cell_type": "code",
   "execution_count": 18,
   "metadata": {
    "scrolled": false
   },
   "outputs": [],
   "source": [
    "dataframe = classify('data/iot-syslog.gz')"
   ]
  },
  {
   "cell_type": "code",
   "execution_count": 24,
   "metadata": {},
   "outputs": [
    {
     "data": {
      "text/plain": [
       "769"
      ]
     },
     "execution_count": 24,
     "metadata": {},
     "output_type": "execute_result"
    }
   ],
   "source": [
    "len(dataframe)"
   ]
  },
  {
   "cell_type": "code",
   "execution_count": 23,
   "metadata": {},
   "outputs": [
    {
     "data": {
      "text/plain": [
       "4     467\n",
       "1     144\n",
       "2      47\n",
       "3      31\n",
       "5      19\n",
       "8      19\n",
       "19      7\n",
       "6       7\n",
       "12      6\n",
       "7       5\n",
       "23      4\n",
       "13      3\n",
       "15      3\n",
       "14      3\n",
       "18      1\n",
       "24      1\n",
       "25      1\n",
       "26      1\n",
       "Name: occurrence, dtype: int64"
      ]
     },
     "execution_count": 23,
     "metadata": {},
     "output_type": "execute_result"
    }
   ],
   "source": [
    "dataframe['occurrence'].value_counts()"
   ]
  },
  {
   "cell_type": "code",
   "execution_count": 19,
   "metadata": {
    "scrolled": true
   },
   "outputs": [
    {
     "data": {
      "text/html": [
       "<div>\n",
       "<style scoped>\n",
       "    .dataframe tbody tr th:only-of-type {\n",
       "        vertical-align: middle;\n",
       "    }\n",
       "\n",
       "    .dataframe tbody tr th {\n",
       "        vertical-align: top;\n",
       "    }\n",
       "\n",
       "    .dataframe thead th {\n",
       "        text-align: right;\n",
       "    }\n",
       "</style>\n",
       "<table border=\"1\" class=\"dataframe\">\n",
       "  <thead>\n",
       "    <tr style=\"text-align: right;\">\n",
       "      <th></th>\n",
       "      <th>occurrence</th>\n",
       "      <th>module</th>\n",
       "      <th>code</th>\n",
       "      <th>message</th>\n",
       "      <th>timestamp</th>\n",
       "    </tr>\n",
       "  </thead>\n",
       "  <tbody>\n",
       "    <tr>\n",
       "      <th>76cd1e55f2e8bf23e56048b524fcf533b9a2c1aa960c79dcceb507142e0b42d5</th>\n",
       "      <td>4</td>\n",
       "      <td>cron</td>\n",
       "      <td>325</td>\n",
       "      <td>(CRON) INFO (Running @reboot jobs)</td>\n",
       "      <td>1613389600</td>\n",
       "    </tr>\n",
       "    <tr>\n",
       "      <th>53eac99acba6c33cfabdf631e4c7a0196f2e1647a0303190375ea680190510ed</th>\n",
       "      <td>4</td>\n",
       "      <td>cron</td>\n",
       "      <td>325</td>\n",
       "      <td>(CRON) INFO (pidfile fd = 3)</td>\n",
       "      <td>1613389600</td>\n",
       "    </tr>\n",
       "    <tr>\n",
       "      <th>81759ec7de5efa9657b37800e1ec317692fe41c67ca7de759b23fed45015a931</th>\n",
       "      <td>1</td>\n",
       "      <td>CRON</td>\n",
       "      <td>1152</td>\n",
       "      <td>(CRON) info (No MTA installed, discarding output)</td>\n",
       "      <td>1613386801</td>\n",
       "    </tr>\n",
       "    <tr>\n",
       "      <th>30129d78176e0d7a3e9fe5948b2df6bd3b4afd183f6b47f4c67a585239bf8fd7</th>\n",
       "      <td>24</td>\n",
       "      <td>CRON</td>\n",
       "      <td>18192</td>\n",
       "      <td>(root) CMD ( cd / &amp;&amp; run-parts --report /etc/c...</td>\n",
       "      <td>1613366221</td>\n",
       "    </tr>\n",
       "    <tr>\n",
       "      <th>c4ec89aae91fea6f4c675192f0d774c5796e101500d50d7db77bcac276ee0a16</th>\n",
       "      <td>1</td>\n",
       "      <td>CRON</td>\n",
       "      <td>1156</td>\n",
       "      <td>(root) CMD (./home/wickstjo/scripts/ropsten.sh)</td>\n",
       "      <td>1613386801</td>\n",
       "    </tr>\n",
       "  </tbody>\n",
       "</table>\n",
       "</div>"
      ],
      "text/plain": [
       "                                                    occurrence module   code  \\\n",
       "76cd1e55f2e8bf23e56048b524fcf533b9a2c1aa960c79d...           4   cron    325   \n",
       "53eac99acba6c33cfabdf631e4c7a0196f2e1647a030319...           4   cron    325   \n",
       "81759ec7de5efa9657b37800e1ec317692fe41c67ca7de7...           1   CRON   1152   \n",
       "30129d78176e0d7a3e9fe5948b2df6bd3b4afd183f6b47f...          24   CRON  18192   \n",
       "c4ec89aae91fea6f4c675192f0d774c5796e101500d50d7...           1   CRON   1156   \n",
       "\n",
       "                                                                                              message  \\\n",
       "76cd1e55f2e8bf23e56048b524fcf533b9a2c1aa960c79d...                 (CRON) INFO (Running @reboot jobs)   \n",
       "53eac99acba6c33cfabdf631e4c7a0196f2e1647a030319...                       (CRON) INFO (pidfile fd = 3)   \n",
       "81759ec7de5efa9657b37800e1ec317692fe41c67ca7de7...  (CRON) info (No MTA installed, discarding output)   \n",
       "30129d78176e0d7a3e9fe5948b2df6bd3b4afd183f6b47f...  (root) CMD ( cd / && run-parts --report /etc/c...   \n",
       "c4ec89aae91fea6f4c675192f0d774c5796e101500d50d7...    (root) CMD (./home/wickstjo/scripts/ropsten.sh)   \n",
       "\n",
       "                                                     timestamp  \n",
       "76cd1e55f2e8bf23e56048b524fcf533b9a2c1aa960c79d...  1613389600  \n",
       "53eac99acba6c33cfabdf631e4c7a0196f2e1647a030319...  1613389600  \n",
       "81759ec7de5efa9657b37800e1ec317692fe41c67ca7de7...  1613386801  \n",
       "30129d78176e0d7a3e9fe5948b2df6bd3b4afd183f6b47f...  1613366221  \n",
       "c4ec89aae91fea6f4c675192f0d774c5796e101500d50d7...  1613386801  "
      ]
     },
     "execution_count": 19,
     "metadata": {},
     "output_type": "execute_result"
    }
   ],
   "source": [
    "dataframe.head(5)"
   ]
  },
  {
   "cell_type": "code",
   "execution_count": 20,
   "metadata": {},
   "outputs": [],
   "source": [
    "#dataframe.to_csv('data/ignore-code-kernel-fix.csv')"
   ]
  },
  {
   "cell_type": "code",
   "execution_count": null,
   "metadata": {},
   "outputs": [],
   "source": []
  },
  {
   "cell_type": "markdown",
   "metadata": {},
   "source": [
    "### FOO"
   ]
  },
  {
   "cell_type": "code",
   "execution_count": 10,
   "metadata": {},
   "outputs": [],
   "source": [
    "first = 'Feb 15 13:46:40 raspberrypi kernel: [    0.000000] cma: Reserved 8 MiB at 0x37800000'"
   ]
  },
  {
   "cell_type": "code",
   "execution_count": 11,
   "metadata": {},
   "outputs": [],
   "source": [
    "second = 'Feb 15 13:02:29 raspberrypi systemd[576]: Stopped target Default.'"
   ]
  },
  {
   "cell_type": "markdown",
   "metadata": {},
   "source": [
    "### FUNC"
   ]
  },
  {
   "cell_type": "code",
   "execution_count": 12,
   "metadata": {},
   "outputs": [],
   "source": [
    "def smoothen(line):\n",
    "    \n",
    "    # FISH OUT THE CODE\n",
    "    raw_code = re.match(r\"[^[]*\\[([^]]*)\\]\", line).groups()[0]\n",
    "    code = raw_code.replace(' ', '')\n",
    "    \n",
    "    # REMOVE THE BRACKETED CODE FROM THE LINE\n",
    "    temp_block = '[{}]'.format(raw_code)\n",
    "    line = line.replace(temp_block, '')\n",
    "    \n",
    "    # FIND ALL SPACES IN STRING\n",
    "    spaces = [i for i, ltr in enumerate(line) if ltr == ' ']\n",
    "    \n",
    "    # FISH OUT THE DATE\n",
    "    raw_date = line[:spaces[2]]\n",
    "    timestamp = int(parser.parse(raw_date).timestamp())\n",
    "    \n",
    "    # FISH OUT THE MODULE\n",
    "    raw_module = line[spaces[3]:spaces[4]]\n",
    "    module = re.sub(r'[^A-Za-z]', '', raw_module)\n",
    "    \n",
    "    # FISH OUT THE REMAINING MESSAGE\n",
    "    message = line[spaces[4]:].strip()\n",
    "    message = re.sub(' +', ' ', message)\n",
    "    \n",
    "    return module, code, message, timestamp"
   ]
  },
  {
   "cell_type": "code",
   "execution_count": 13,
   "metadata": {},
   "outputs": [
    {
     "data": {
      "text/plain": [
       "('kernel', '0.000000', 'cma: Reserved 8 MiB at 0x37800000', 1613389600)"
      ]
     },
     "execution_count": 13,
     "metadata": {},
     "output_type": "execute_result"
    }
   ],
   "source": [
    "smoothen(first)"
   ]
  },
  {
   "cell_type": "markdown",
   "metadata": {},
   "source": [
    "### FOO"
   ]
  },
  {
   "cell_type": "code",
   "execution_count": 14,
   "metadata": {},
   "outputs": [
    {
     "ename": "NameError",
     "evalue": "name 'foob' is not defined",
     "output_type": "error",
     "traceback": [
      "\u001b[0;31m---------------------------------------------------------------------------\u001b[0m",
      "\u001b[0;31mNameError\u001b[0m                                 Traceback (most recent call last)",
      "\u001b[0;32m<ipython-input-14-f1f50125e111>\u001b[0m in \u001b[0;36m<module>\u001b[0;34m\u001b[0m\n\u001b[0;32m----> 1\u001b[0;31m \u001b[0mspaces\u001b[0m \u001b[0;34m=\u001b[0m \u001b[0;34m[\u001b[0m\u001b[0mi\u001b[0m \u001b[0;32mfor\u001b[0m \u001b[0mi\u001b[0m\u001b[0;34m,\u001b[0m \u001b[0mltr\u001b[0m \u001b[0;32min\u001b[0m \u001b[0menumerate\u001b[0m\u001b[0;34m(\u001b[0m\u001b[0mfoob\u001b[0m\u001b[0;34m)\u001b[0m \u001b[0;32mif\u001b[0m \u001b[0mltr\u001b[0m \u001b[0;34m==\u001b[0m \u001b[0;34m' '\u001b[0m\u001b[0;34m]\u001b[0m\u001b[0;34m\u001b[0m\u001b[0;34m\u001b[0m\u001b[0m\n\u001b[0m",
      "\u001b[0;31mNameError\u001b[0m: name 'foob' is not defined"
     ]
    }
   ],
   "source": [
    "spaces = [i for i, ltr in enumerate(foob) if ltr == ' ']"
   ]
  },
  {
   "cell_type": "code",
   "execution_count": null,
   "metadata": {},
   "outputs": [],
   "source": [
    "spaces"
   ]
  },
  {
   "cell_type": "markdown",
   "metadata": {},
   "source": [
    "### DATE"
   ]
  },
  {
   "cell_type": "code",
   "execution_count": null,
   "metadata": {},
   "outputs": [],
   "source": [
    "date = foob[:spaces[2]]"
   ]
  },
  {
   "cell_type": "code",
   "execution_count": null,
   "metadata": {},
   "outputs": [],
   "source": [
    "date"
   ]
  },
  {
   "cell_type": "code",
   "execution_count": null,
   "metadata": {},
   "outputs": [],
   "source": [
    "result = re.match(r\"[^[]*\\[([^]]*)\\]\", first).groups()[0]"
   ]
  },
  {
   "cell_type": "code",
   "execution_count": null,
   "metadata": {},
   "outputs": [],
   "source": [
    "result"
   ]
  },
  {
   "cell_type": "markdown",
   "metadata": {},
   "source": [
    "### CODE"
   ]
  },
  {
   "cell_type": "code",
   "execution_count": null,
   "metadata": {},
   "outputs": [],
   "source": [
    "first"
   ]
  },
  {
   "cell_type": "code",
   "execution_count": null,
   "metadata": {},
   "outputs": [],
   "source": []
  },
  {
   "cell_type": "code",
   "execution_count": null,
   "metadata": {},
   "outputs": [],
   "source": []
  },
  {
   "cell_type": "code",
   "execution_count": null,
   "metadata": {},
   "outputs": [],
   "source": []
  },
  {
   "cell_type": "code",
   "execution_count": null,
   "metadata": {},
   "outputs": [],
   "source": []
  },
  {
   "cell_type": "code",
   "execution_count": null,
   "metadata": {},
   "outputs": [],
   "source": []
  },
  {
   "cell_type": "code",
   "execution_count": null,
   "metadata": {},
   "outputs": [],
   "source": [
    "re.findall(r\"\\[([0-9. ]*[0-9]+)\\]\", second)"
   ]
  },
  {
   "cell_type": "code",
   "execution_count": null,
   "metadata": {},
   "outputs": [],
   "source": []
  },
  {
   "cell_type": "code",
   "execution_count": null,
   "metadata": {},
   "outputs": [],
   "source": []
  },
  {
   "cell_type": "code",
   "execution_count": null,
   "metadata": {},
   "outputs": [],
   "source": []
  },
  {
   "cell_type": "code",
   "execution_count": null,
   "metadata": {},
   "outputs": [],
   "source": []
  },
  {
   "cell_type": "code",
   "execution_count": null,
   "metadata": {},
   "outputs": [],
   "source": []
  },
  {
   "cell_type": "code",
   "execution_count": null,
   "metadata": {},
   "outputs": [],
   "source": []
  },
  {
   "cell_type": "code",
   "execution_count": null,
   "metadata": {},
   "outputs": [],
   "source": [
    "result = re.match(r\"[^[]*\\[([^]]*)\\]\", first).groups()[0]"
   ]
  },
  {
   "cell_type": "code",
   "execution_count": null,
   "metadata": {},
   "outputs": [],
   "source": [
    "type(result)"
   ]
  },
  {
   "cell_type": "code",
   "execution_count": null,
   "metadata": {},
   "outputs": [],
   "source": [
    "result"
   ]
  },
  {
   "cell_type": "code",
   "execution_count": null,
   "metadata": {},
   "outputs": [],
   "source": []
  },
  {
   "cell_type": "code",
   "execution_count": null,
   "metadata": {},
   "outputs": [],
   "source": [
    "foo = re.match(r'[\\d\\.]', first)"
   ]
  },
  {
   "cell_type": "code",
   "execution_count": null,
   "metadata": {},
   "outputs": [],
   "source": [
    "type(foo)"
   ]
  },
  {
   "cell_type": "code",
   "execution_count": null,
   "metadata": {},
   "outputs": [],
   "source": [
    "re.match(r\"[^[]*\\[([^]]*)\\]\", first).groups()[0]"
   ]
  },
  {
   "cell_type": "code",
   "execution_count": null,
   "metadata": {},
   "outputs": [],
   "source": [
    "raw_code.groups()"
   ]
  },
  {
   "cell_type": "code",
   "execution_count": null,
   "metadata": {},
   "outputs": [],
   "source": [
    "type(raw_code)"
   ]
  },
  {
   "cell_type": "code",
   "execution_count": null,
   "metadata": {},
   "outputs": [],
   "source": [
    "code = raw_code.replace(' ', '')"
   ]
  },
  {
   "cell_type": "code",
   "execution_count": null,
   "metadata": {},
   "outputs": [],
   "source": [
    "code"
   ]
  },
  {
   "cell_type": "markdown",
   "metadata": {},
   "source": [
    "### MODULE"
   ]
  },
  {
   "cell_type": "code",
   "execution_count": null,
   "metadata": {},
   "outputs": [],
   "source": [
    "block = '[{}]'.format(raw_code)"
   ]
  },
  {
   "cell_type": "code",
   "execution_count": null,
   "metadata": {},
   "outputs": [],
   "source": [
    "temp = first.replace(block, '')"
   ]
  },
  {
   "cell_type": "code",
   "execution_count": null,
   "metadata": {},
   "outputs": [],
   "source": [
    "temp"
   ]
  },
  {
   "cell_type": "code",
   "execution_count": null,
   "metadata": {},
   "outputs": [],
   "source": [
    "foob[spaces[3]:spaces[5]]"
   ]
  },
  {
   "cell_type": "code",
   "execution_count": null,
   "metadata": {},
   "outputs": [],
   "source": [
    "re.search(r\"\\[(\\w+)\\]\", first)"
   ]
  },
  {
   "cell_type": "code",
   "execution_count": null,
   "metadata": {},
   "outputs": [],
   "source": [
    "foob"
   ]
  },
  {
   "cell_type": "code",
   "execution_count": null,
   "metadata": {},
   "outputs": [],
   "source": []
  },
  {
   "cell_type": "code",
   "execution_count": null,
   "metadata": {
    "scrolled": true
   },
   "outputs": [],
   "source": [
    "re.match(r\"[^[]*\\[([^]]*)\\]\", first).groups()[0]"
   ]
  },
  {
   "cell_type": "code",
   "execution_count": null,
   "metadata": {},
   "outputs": [],
   "source": []
  },
  {
   "cell_type": "code",
   "execution_count": null,
   "metadata": {},
   "outputs": [],
   "source": []
  },
  {
   "cell_type": "code",
   "execution_count": null,
   "metadata": {},
   "outputs": [],
   "source": []
  },
  {
   "cell_type": "code",
   "execution_count": null,
   "metadata": {},
   "outputs": [],
   "source": []
  },
  {
   "cell_type": "code",
   "execution_count": null,
   "metadata": {},
   "outputs": [],
   "source": []
  },
  {
   "cell_type": "code",
   "execution_count": null,
   "metadata": {},
   "outputs": [],
   "source": []
  },
  {
   "cell_type": "code",
   "execution_count": null,
   "metadata": {},
   "outputs": [],
   "source": []
  },
  {
   "cell_type": "code",
   "execution_count": null,
   "metadata": {},
   "outputs": [],
   "source": []
  },
  {
   "cell_type": "code",
   "execution_count": null,
   "metadata": {},
   "outputs": [],
   "source": []
  }
 ],
 "metadata": {
  "kernelspec": {
   "display_name": "Python 3",
   "language": "python",
   "name": "python3"
  },
  "language_info": {
   "codemirror_mode": {
    "name": "ipython",
    "version": 3
   },
   "file_extension": ".py",
   "mimetype": "text/x-python",
   "name": "python",
   "nbconvert_exporter": "python",
   "pygments_lexer": "ipython3",
   "version": "3.8.5"
  }
 },
 "nbformat": 4,
 "nbformat_minor": 4
}
