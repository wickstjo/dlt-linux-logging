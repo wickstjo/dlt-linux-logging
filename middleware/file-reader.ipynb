{
 "cells": [
  {
   "cell_type": "code",
   "execution_count": 1,
   "metadata": {},
   "outputs": [],
   "source": [
    "import gzip\n",
    "import pandas as pd\n",
    "import nbimporter"
   ]
  },
  {
   "cell_type": "code",
   "execution_count": 2,
   "metadata": {},
   "outputs": [
    {
     "name": "stdout",
     "output_type": "stream",
     "text": [
      "Importing Jupyter notebook from utils.ipynb\n"
     ]
    }
   ],
   "source": [
    "import utils"
   ]
  },
  {
   "cell_type": "markdown",
   "metadata": {},
   "source": [
    "### CLASSIFY EVENTS"
   ]
  },
  {
   "cell_type": "code",
   "execution_count": 20,
   "metadata": {},
   "outputs": [],
   "source": [
    "def classify(path):\n",
    "    \n",
    "    # CONTAINERS\n",
    "    events = {}\n",
    "    \n",
    "    # OPEN & READ THE COMPRESSED FILE\n",
    "    with gzip.open(path,'rb') as file:\n",
    "        for line in file:\n",
    "            \n",
    "            # DECODE AS STRING\n",
    "            decoded = line.decode(\"utf-8\")\n",
    "            \n",
    "            # PARSE LINE & EXTRACT PARAMS\n",
    "            module, code, message, timestamp = utils.parse_line(decoded)\n",
    "            \n",
    "            # GENERATE AN EVENT HASH\n",
    "            hash_id = utils.hash_data({\n",
    "                'module': module,\n",
    "                'message': message\n",
    "            })\n",
    "            \n",
    "            # IF THE EVENT HAS OCCURRED BEFORE\n",
    "            if hash_id in events:\n",
    "                \n",
    "                # INCREMENT OCCURRENCE\n",
    "                events[hash_id]['occurrence'] += 1\n",
    "                \n",
    "            # OTHERWISE, DD PROPERTY TO CONTAINER\n",
    "            else:\n",
    "                events[hash_id] = {\n",
    "                    'module': module,\n",
    "                    'code': code,\n",
    "                    'message': message,\n",
    "                    'timestamp': timestamp,\n",
    "                    'hash': hash_id,\n",
    "                    'occurrence': 1\n",
    "                }\n",
    "            \n",
    "    # CONSTRUCT A DATAFRAME\n",
    "    dataframe = pd.DataFrame.from_dict(events, orient='index')\n",
    "\n",
    "    # DROP THE UNNECESSARY HASH COL (INDEX)\n",
    "    dataframe.drop(['hash'], axis=1, inplace=True)\n",
    "    \n",
    "    # RE-ORDER COLUMNS\n",
    "    dataframe = dataframe.reindex(columns=[\n",
    "        'occurrence',\n",
    "        'module',\n",
    "        'code',\n",
    "        'message',\n",
    "        'timestamp'\n",
    "    ])\n",
    "    \n",
    "    # SORT MY MESSAGE COL\n",
    "    dataframe = dataframe.sort_values(by=['message'])\n",
    "    \n",
    "    return dataframe"
   ]
  },
  {
   "cell_type": "markdown",
   "metadata": {},
   "source": [
    "### EXECUTE"
   ]
  },
  {
   "cell_type": "code",
   "execution_count": 21,
   "metadata": {
    "scrolled": false
   },
   "outputs": [],
   "source": [
    "dataframe = classify('data/iot-syslog.gz')"
   ]
  },
  {
   "cell_type": "code",
   "execution_count": 24,
   "metadata": {},
   "outputs": [
    {
     "data": {
      "text/html": [
       "<div>\n",
       "<style scoped>\n",
       "    .dataframe tbody tr th:only-of-type {\n",
       "        vertical-align: middle;\n",
       "    }\n",
       "\n",
       "    .dataframe tbody tr th {\n",
       "        vertical-align: top;\n",
       "    }\n",
       "\n",
       "    .dataframe thead th {\n",
       "        text-align: right;\n",
       "    }\n",
       "</style>\n",
       "<table border=\"1\" class=\"dataframe\">\n",
       "  <thead>\n",
       "    <tr style=\"text-align: right;\">\n",
       "      <th></th>\n",
       "      <th>occurrence</th>\n",
       "      <th>module</th>\n",
       "      <th>code</th>\n",
       "      <th>message</th>\n",
       "      <th>timestamp</th>\n",
       "    </tr>\n",
       "  </thead>\n",
       "  <tbody>\n",
       "    <tr>\n",
       "      <th>272f526b1398f4b6a01a300398da1bdaa48501ed906b4bff8ed5864f9da63cf5</th>\n",
       "      <td>4</td>\n",
       "      <td>kernel</td>\n",
       "      <td>None</td>\n",
       "      <td>[ 0.000000] .bss : 0x(ptrval) - 0x(ptrval) ( 8...</td>\n",
       "      <td>1613389600</td>\n",
       "    </tr>\n",
       "    <tr>\n",
       "      <th>d64119970eeab4153109eb8e0be66d6bd30684c068cdf98bc428e6b1146be6e9</th>\n",
       "      <td>1</td>\n",
       "      <td>kernel</td>\n",
       "      <td>None</td>\n",
       "      <td>[ 0.000000] .data : 0x(ptrval) - 0x(ptrval) ( ...</td>\n",
       "      <td>1613389600</td>\n",
       "    </tr>\n",
       "    <tr>\n",
       "      <th>945fcff5388c81b7b3d4adbe8f70ab0666d89f6d802f657710e043dc7f13bfb4</th>\n",
       "      <td>3</td>\n",
       "      <td>kernel</td>\n",
       "      <td>None</td>\n",
       "      <td>[ 0.000000] .data : 0x(ptrval) - 0x(ptrval) ( ...</td>\n",
       "      <td>1613392397</td>\n",
       "    </tr>\n",
       "    <tr>\n",
       "      <th>492a9a954b6f56be31e2cbff1266ad8af2339666d6588af2bdcd0280de3da58c</th>\n",
       "      <td>4</td>\n",
       "      <td>kernel</td>\n",
       "      <td>None</td>\n",
       "      <td>[ 0.000000] .init : 0x(ptrval) - 0x(ptrval) (1...</td>\n",
       "      <td>1613389600</td>\n",
       "    </tr>\n",
       "    <tr>\n",
       "      <th>cfad33b78dc60a6b0ec0c0d8070a424faacfdbb9086a6744e321e60024a768c3</th>\n",
       "      <td>4</td>\n",
       "      <td>kernel</td>\n",
       "      <td>None</td>\n",
       "      <td>[ 0.000000] .text : 0x(ptrval) - 0x(ptrval) (9...</td>\n",
       "      <td>1613389600</td>\n",
       "    </tr>\n",
       "    <tr>\n",
       "      <th>...</th>\n",
       "      <td>...</td>\n",
       "      <td>...</td>\n",
       "      <td>...</td>\n",
       "      <td>...</td>\n",
       "      <td>...</td>\n",
       "    </tr>\n",
       "    <tr>\n",
       "      <th>6c4e4d9c6caed5b676b45623dda1cd910aadbe8f7e07d8b8ece95022086f01ad</th>\n",
       "      <td>1</td>\n",
       "      <td>kernel</td>\n",
       "      <td>None</td>\n",
       "      <td>[ 8.857613] IPv6: ADDRCONF(NETDEV_UP): eth0: l...</td>\n",
       "      <td>1613389602</td>\n",
       "    </tr>\n",
       "    <tr>\n",
       "      <th>1716c8a3cb7f63e4997159243e8b26146c590c285fd142f1fa195cee20deec87</th>\n",
       "      <td>1</td>\n",
       "      <td>kernel</td>\n",
       "      <td>None</td>\n",
       "      <td>[ 8.907380] IPv6: ADDRCONF(NETDEV_UP): eth0: l...</td>\n",
       "      <td>1613392399</td>\n",
       "    </tr>\n",
       "    <tr>\n",
       "      <th>82667efb1ca188e52438836589caf5288cdab4b1aab336e006feeacfd48fdec0</th>\n",
       "      <td>1</td>\n",
       "      <td>kernel</td>\n",
       "      <td>None</td>\n",
       "      <td>[ 9.140396] Adding 102396k swap on /var/swap. ...</td>\n",
       "      <td>1613389602</td>\n",
       "    </tr>\n",
       "    <tr>\n",
       "      <th>c1ee25cb94f45a52ac8472dc053cf7895a0c170714853687287ecf6b13b57d93</th>\n",
       "      <td>1</td>\n",
       "      <td>kernel</td>\n",
       "      <td>None</td>\n",
       "      <td>[ 9.214176] Adding 102396k swap on /var/swap. ...</td>\n",
       "      <td>1613392399</td>\n",
       "    </tr>\n",
       "    <tr>\n",
       "      <th>429ab0fec8ba874324ff2c09cf690c884980e436037824ca3aa310fb7c9d854d</th>\n",
       "      <td>1</td>\n",
       "      <td>kernel</td>\n",
       "      <td>None</td>\n",
       "      <td>[344013.395486] EXT4-fs (mmcblk0p5): mounted f...</td>\n",
       "      <td>1613386955</td>\n",
       "    </tr>\n",
       "  </tbody>\n",
       "</table>\n",
       "<p>1125 rows × 5 columns</p>\n",
       "</div>"
      ],
      "text/plain": [
       "                                                    occurrence  module  code  \\\n",
       "272f526b1398f4b6a01a300398da1bdaa48501ed906b4bf...           4  kernel  None   \n",
       "d64119970eeab4153109eb8e0be66d6bd30684c068cdf98...           1  kernel  None   \n",
       "945fcff5388c81b7b3d4adbe8f70ab0666d89f6d802f657...           3  kernel  None   \n",
       "492a9a954b6f56be31e2cbff1266ad8af2339666d6588af...           4  kernel  None   \n",
       "cfad33b78dc60a6b0ec0c0d8070a424faacfdbb9086a674...           4  kernel  None   \n",
       "...                                                        ...     ...   ...   \n",
       "6c4e4d9c6caed5b676b45623dda1cd910aadbe8f7e07d8b...           1  kernel  None   \n",
       "1716c8a3cb7f63e4997159243e8b26146c590c285fd142f...           1  kernel  None   \n",
       "82667efb1ca188e52438836589caf5288cdab4b1aab336e...           1  kernel  None   \n",
       "c1ee25cb94f45a52ac8472dc053cf7895a0c17071485368...           1  kernel  None   \n",
       "429ab0fec8ba874324ff2c09cf690c884980e436037824c...           1  kernel  None   \n",
       "\n",
       "                                                                                              message  \\\n",
       "272f526b1398f4b6a01a300398da1bdaa48501ed906b4bf...  [ 0.000000] .bss : 0x(ptrval) - 0x(ptrval) ( 8...   \n",
       "d64119970eeab4153109eb8e0be66d6bd30684c068cdf98...  [ 0.000000] .data : 0x(ptrval) - 0x(ptrval) ( ...   \n",
       "945fcff5388c81b7b3d4adbe8f70ab0666d89f6d802f657...  [ 0.000000] .data : 0x(ptrval) - 0x(ptrval) ( ...   \n",
       "492a9a954b6f56be31e2cbff1266ad8af2339666d6588af...  [ 0.000000] .init : 0x(ptrval) - 0x(ptrval) (1...   \n",
       "cfad33b78dc60a6b0ec0c0d8070a424faacfdbb9086a674...  [ 0.000000] .text : 0x(ptrval) - 0x(ptrval) (9...   \n",
       "...                                                                                               ...   \n",
       "6c4e4d9c6caed5b676b45623dda1cd910aadbe8f7e07d8b...  [ 8.857613] IPv6: ADDRCONF(NETDEV_UP): eth0: l...   \n",
       "1716c8a3cb7f63e4997159243e8b26146c590c285fd142f...  [ 8.907380] IPv6: ADDRCONF(NETDEV_UP): eth0: l...   \n",
       "82667efb1ca188e52438836589caf5288cdab4b1aab336e...  [ 9.140396] Adding 102396k swap on /var/swap. ...   \n",
       "c1ee25cb94f45a52ac8472dc053cf7895a0c17071485368...  [ 9.214176] Adding 102396k swap on /var/swap. ...   \n",
       "429ab0fec8ba874324ff2c09cf690c884980e436037824c...  [344013.395486] EXT4-fs (mmcblk0p5): mounted f...   \n",
       "\n",
       "                                                     timestamp  \n",
       "272f526b1398f4b6a01a300398da1bdaa48501ed906b4bf...  1613389600  \n",
       "d64119970eeab4153109eb8e0be66d6bd30684c068cdf98...  1613389600  \n",
       "945fcff5388c81b7b3d4adbe8f70ab0666d89f6d802f657...  1613392397  \n",
       "492a9a954b6f56be31e2cbff1266ad8af2339666d6588af...  1613389600  \n",
       "cfad33b78dc60a6b0ec0c0d8070a424faacfdbb9086a674...  1613389600  \n",
       "...                                                        ...  \n",
       "6c4e4d9c6caed5b676b45623dda1cd910aadbe8f7e07d8b...  1613389602  \n",
       "1716c8a3cb7f63e4997159243e8b26146c590c285fd142f...  1613392399  \n",
       "82667efb1ca188e52438836589caf5288cdab4b1aab336e...  1613389602  \n",
       "c1ee25cb94f45a52ac8472dc053cf7895a0c17071485368...  1613392399  \n",
       "429ab0fec8ba874324ff2c09cf690c884980e436037824c...  1613386955  \n",
       "\n",
       "[1125 rows x 5 columns]"
      ]
     },
     "execution_count": 24,
     "metadata": {},
     "output_type": "execute_result"
    }
   ],
   "source": [
    "dataframe.loc[dataframe['module'] == 'kernel']"
   ]
  },
  {
   "cell_type": "code",
   "execution_count": 22,
   "metadata": {},
   "outputs": [
    {
     "data": {
      "text/html": [
       "<div>\n",
       "<style scoped>\n",
       "    .dataframe tbody tr th:only-of-type {\n",
       "        vertical-align: middle;\n",
       "    }\n",
       "\n",
       "    .dataframe tbody tr th {\n",
       "        vertical-align: top;\n",
       "    }\n",
       "\n",
       "    .dataframe thead th {\n",
       "        text-align: right;\n",
       "    }\n",
       "</style>\n",
       "<table border=\"1\" class=\"dataframe\">\n",
       "  <thead>\n",
       "    <tr style=\"text-align: right;\">\n",
       "      <th></th>\n",
       "      <th>occurrence</th>\n",
       "      <th>module</th>\n",
       "      <th>code</th>\n",
       "      <th>message</th>\n",
       "      <th>timestamp</th>\n",
       "    </tr>\n",
       "  </thead>\n",
       "  <tbody>\n",
       "    <tr>\n",
       "      <th>76cd1e55f2e8bf23e56048b524fcf533b9a2c1aa960c79dcceb507142e0b42d5</th>\n",
       "      <td>4</td>\n",
       "      <td>cron</td>\n",
       "      <td>325</td>\n",
       "      <td>(CRON) INFO (Running @reboot jobs)</td>\n",
       "      <td>1613389600</td>\n",
       "    </tr>\n",
       "    <tr>\n",
       "      <th>53eac99acba6c33cfabdf631e4c7a0196f2e1647a0303190375ea680190510ed</th>\n",
       "      <td>4</td>\n",
       "      <td>cron</td>\n",
       "      <td>325</td>\n",
       "      <td>(CRON) INFO (pidfile fd = 3)</td>\n",
       "      <td>1613389600</td>\n",
       "    </tr>\n",
       "    <tr>\n",
       "      <th>81759ec7de5efa9657b37800e1ec317692fe41c67ca7de759b23fed45015a931</th>\n",
       "      <td>1</td>\n",
       "      <td>CRON</td>\n",
       "      <td>1152</td>\n",
       "      <td>(CRON) info (No MTA installed, discarding output)</td>\n",
       "      <td>1613386801</td>\n",
       "    </tr>\n",
       "    <tr>\n",
       "      <th>30129d78176e0d7a3e9fe5948b2df6bd3b4afd183f6b47f4c67a585239bf8fd7</th>\n",
       "      <td>24</td>\n",
       "      <td>CRON</td>\n",
       "      <td>18192</td>\n",
       "      <td>(root) CMD ( cd / &amp;&amp; run-parts --report /etc/c...</td>\n",
       "      <td>1613366221</td>\n",
       "    </tr>\n",
       "    <tr>\n",
       "      <th>c4ec89aae91fea6f4c675192f0d774c5796e101500d50d7db77bcac276ee0a16</th>\n",
       "      <td>1</td>\n",
       "      <td>CRON</td>\n",
       "      <td>1156</td>\n",
       "      <td>(root) CMD (./home/wickstjo/scripts/ropsten.sh)</td>\n",
       "      <td>1613386801</td>\n",
       "    </tr>\n",
       "  </tbody>\n",
       "</table>\n",
       "</div>"
      ],
      "text/plain": [
       "                                                    occurrence module   code  \\\n",
       "76cd1e55f2e8bf23e56048b524fcf533b9a2c1aa960c79d...           4   cron    325   \n",
       "53eac99acba6c33cfabdf631e4c7a0196f2e1647a030319...           4   cron    325   \n",
       "81759ec7de5efa9657b37800e1ec317692fe41c67ca7de7...           1   CRON   1152   \n",
       "30129d78176e0d7a3e9fe5948b2df6bd3b4afd183f6b47f...          24   CRON  18192   \n",
       "c4ec89aae91fea6f4c675192f0d774c5796e101500d50d7...           1   CRON   1156   \n",
       "\n",
       "                                                                                              message  \\\n",
       "76cd1e55f2e8bf23e56048b524fcf533b9a2c1aa960c79d...                 (CRON) INFO (Running @reboot jobs)   \n",
       "53eac99acba6c33cfabdf631e4c7a0196f2e1647a030319...                       (CRON) INFO (pidfile fd = 3)   \n",
       "81759ec7de5efa9657b37800e1ec317692fe41c67ca7de7...  (CRON) info (No MTA installed, discarding output)   \n",
       "30129d78176e0d7a3e9fe5948b2df6bd3b4afd183f6b47f...  (root) CMD ( cd / && run-parts --report /etc/c...   \n",
       "c4ec89aae91fea6f4c675192f0d774c5796e101500d50d7...    (root) CMD (./home/wickstjo/scripts/ropsten.sh)   \n",
       "\n",
       "                                                     timestamp  \n",
       "76cd1e55f2e8bf23e56048b524fcf533b9a2c1aa960c79d...  1613389600  \n",
       "53eac99acba6c33cfabdf631e4c7a0196f2e1647a030319...  1613389600  \n",
       "81759ec7de5efa9657b37800e1ec317692fe41c67ca7de7...  1613386801  \n",
       "30129d78176e0d7a3e9fe5948b2df6bd3b4afd183f6b47f...  1613366221  \n",
       "c4ec89aae91fea6f4c675192f0d774c5796e101500d50d7...  1613386801  "
      ]
     },
     "execution_count": 22,
     "metadata": {},
     "output_type": "execute_result"
    }
   ],
   "source": [
    "dataframe.head(5)"
   ]
  },
  {
   "cell_type": "code",
   "execution_count": 19,
   "metadata": {},
   "outputs": [],
   "source": [
    "#dataframe.to_csv('data/ignore-code.csv')"
   ]
  },
  {
   "cell_type": "markdown",
   "metadata": {},
   "source": [
    "### KERNEL CODE FIX"
   ]
  },
  {
   "cell_type": "code",
   "execution_count": 29,
   "metadata": {},
   "outputs": [],
   "source": [
    "import re\n",
    "from dateutil import parser"
   ]
  },
  {
   "cell_type": "code",
   "execution_count": 73,
   "metadata": {},
   "outputs": [],
   "source": [
    "def kernel_fix(line):\n",
    "    \n",
    "    # TRUNCATE MULTI-SPACING\n",
    "    line = re.sub(' +', ' ', line)\n",
    "    \n",
    "    # REMOVE LINEBREAK CHAR\n",
    "    line = re.sub('\\n', '', line)\n",
    "    \n",
    "    # FIND EACH OCCURRENCE OF SPACES IN LINE\n",
    "    spaces = [i for i, ltr in enumerate(line) if ltr == ' ']\n",
    "    \n",
    "    # PROCESS MODULE\n",
    "    raw_module = line[spaces[3] + 1:spaces[4] - 1]\n",
    "    \n",
    "    print(raw_module)\n",
    "    \n",
    "    # MODULE CODE\n",
    "    raw_code = re.search(r\"\\[(\\w+)\\]\", raw_module)\n",
    "    \n",
    "    # IF THERE IS NO CODE\n",
    "    if raw_code == None:\n",
    "        code = 'None'\n",
    "        \n",
    "    # OTHERWISE, EXTRACT IT\n",
    "    else:\n",
    "        code = raw_code.group(0)\n",
    "    \n",
    "    # MODULE NAME\n",
    "    module = raw_module.replace('[' + str(code) + ']', '')\n",
    "    \n",
    "    # PROCESS TIMESTAMP\n",
    "    raw_date = line[:spaces[2]]\n",
    "    unix = parser.parse(raw_date).timestamp()\n",
    "    \n",
    "    # MODULE, CODE, MESSAGE, TIMESTAMP\n",
    "    return module, code, line[spaces[4] + 1:], int(unix)"
   ]
  },
  {
   "cell_type": "code",
   "execution_count": 74,
   "metadata": {},
   "outputs": [],
   "source": [
    "foob = 'Feb 15 13:46:40 raspberrypi kernel: [    0.000000] cma: Reserved 8 MiB at 0x37800000'"
   ]
  },
  {
   "cell_type": "code",
   "execution_count": 75,
   "metadata": {},
   "outputs": [
    {
     "name": "stdout",
     "output_type": "stream",
     "text": [
      "kernel\n"
     ]
    },
    {
     "data": {
      "text/plain": [
       "('kernel', 'None', '[ 0.000000] cma: Reserved 8 MiB at 0x37800000', 1613389600)"
      ]
     },
     "execution_count": 75,
     "metadata": {},
     "output_type": "execute_result"
    }
   ],
   "source": [
    "kernel_fix(foob)"
   ]
  },
  {
   "cell_type": "code",
   "execution_count": 63,
   "metadata": {},
   "outputs": [],
   "source": [
    "re.search(r\"\\[(\\w+)\\]\", foob)"
   ]
  },
  {
   "cell_type": "code",
   "execution_count": 64,
   "metadata": {},
   "outputs": [
    {
     "data": {
      "text/plain": [
       "'Feb 15 13:46:40 raspberrypi kernel: [    0.000000] cma: Reserved 8 MiB at 0x37800000'"
      ]
     },
     "execution_count": 64,
     "metadata": {},
     "output_type": "execute_result"
    }
   ],
   "source": [
    "foob"
   ]
  },
  {
   "cell_type": "code",
   "execution_count": 66,
   "metadata": {},
   "outputs": [
    {
     "data": {
      "text/plain": [
       "'0.000000'"
      ]
     },
     "execution_count": 66,
     "metadata": {},
     "output_type": "execute_result"
    }
   ],
   "source": [
    "re.match(r\"[^[]*\\[([^]]*)\\]\", foob).groups()[0].replace(' ', '')"
   ]
  }
 ],
 "metadata": {
  "kernelspec": {
   "display_name": "Python 3",
   "language": "python",
   "name": "python3"
  },
  "language_info": {
   "codemirror_mode": {
    "name": "ipython",
    "version": 3
   },
   "file_extension": ".py",
   "mimetype": "text/x-python",
   "name": "python",
   "nbconvert_exporter": "python",
   "pygments_lexer": "ipython3",
   "version": "3.8.5"
  }
 },
 "nbformat": 4,
 "nbformat_minor": 4
}
