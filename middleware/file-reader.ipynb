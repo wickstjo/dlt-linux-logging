{
 "cells": [
  {
   "cell_type": "code",
   "execution_count": 16,
   "metadata": {},
   "outputs": [],
   "source": [
    "import gzip\n",
    "import nbimporter"
   ]
  },
  {
   "cell_type": "code",
   "execution_count": 17,
   "metadata": {},
   "outputs": [],
   "source": [
    "import utils"
   ]
  },
  {
   "cell_type": "markdown",
   "metadata": {},
   "source": [
    "### CLASSIFY EVENTS"
   ]
  },
  {
   "cell_type": "code",
   "execution_count": 37,
   "metadata": {},
   "outputs": [],
   "source": [
    "def classify(path):\n",
    "    \n",
    "    # CONTAINERS\n",
    "    instances = {}\n",
    "    events = {}\n",
    "    \n",
    "    # OPEN & READ THE COMPRESSED FILE\n",
    "    with gzip.open(path,'rb') as file:\n",
    "        for line in file:\n",
    "            \n",
    "            # DECODE AS STRING\n",
    "            decoded = line.decode(\"utf-8\")\n",
    "            \n",
    "            # PARSE OUT DETAILS\n",
    "            parsed = utils.parse_line(decoded)\n",
    "            \n",
    "            # IF THE EVENT HAS OCCURRED BEFORE\n",
    "            if parsed['hash'] in instances:\n",
    "                \n",
    "                # INCREMENT PROPERTY\n",
    "                instances[parsed['hash']].append(parsed['timestamp'])\n",
    "                \n",
    "            # OTHERWISE\n",
    "            else:\n",
    "                \n",
    "                # ADD PROPERTY TO BOTH CONTAINERS\n",
    "                instances[parsed['hash']] = [parsed]\n",
    "                events[parsed['hash']] = parsed\n",
    "                \n",
    "        return instances, events"
   ]
  },
  {
   "cell_type": "markdown",
   "metadata": {},
   "source": [
    "### EXECUTE"
   ]
  },
  {
   "cell_type": "code",
   "execution_count": 38,
   "metadata": {
    "scrolled": false
   },
   "outputs": [],
   "source": [
    "instances, events = classify('data/iot-syslog.gz')"
   ]
  },
  {
   "cell_type": "code",
   "execution_count": null,
   "metadata": {},
   "outputs": [],
   "source": []
  }
 ],
 "metadata": {
  "kernelspec": {
   "display_name": "Python 3",
   "language": "python",
   "name": "python3"
  },
  "language_info": {
   "codemirror_mode": {
    "name": "ipython",
    "version": 3
   },
   "file_extension": ".py",
   "mimetype": "text/x-python",
   "name": "python",
   "nbconvert_exporter": "python",
   "pygments_lexer": "ipython3",
   "version": "3.8.5"
  }
 },
 "nbformat": 4,
 "nbformat_minor": 4
}
