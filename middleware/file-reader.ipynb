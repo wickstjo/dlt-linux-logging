{
 "cells": [
  {
   "cell_type": "code",
   "execution_count": 3,
   "metadata": {},
   "outputs": [],
   "source": [
    "import gzip\n",
    "import pandas as pd\n",
    "import os\n",
    "import nbimporter"
   ]
  },
  {
   "cell_type": "code",
   "execution_count": 4,
   "metadata": {},
   "outputs": [],
   "source": [
    "import utils\n",
    "import machine_learning as ml"
   ]
  },
  {
   "cell_type": "markdown",
   "metadata": {},
   "source": [
    "### CLASSIFY EVENTS"
   ]
  },
  {
   "cell_type": "code",
   "execution_count": 5,
   "metadata": {},
   "outputs": [],
   "source": [
    "def classify(directory):\n",
    "    \n",
    "    # CONTAINERS\n",
    "    events = {}\n",
    "    \n",
    "    # FIND & SORT LOG FILES IN DIR\n",
    "    files = os.listdir(directory)\n",
    "    files.sort()\n",
    "    \n",
    "    # ROW COUNT\n",
    "    rows = 0\n",
    "    \n",
    "    # LOOP THROUGH LOG FILES\n",
    "    for file in files:\n",
    "        \n",
    "        # FILE PATH\n",
    "        path = '{}/{}'.format(directory, file)\n",
    "    \n",
    "        # OPEN & READ THE COMPRESSED FILE\n",
    "        with gzip.open(path, 'rb') as file:\n",
    "            for line in file:\n",
    "                \n",
    "                # INCREMENT ROWS\n",
    "                rows += 1\n",
    "\n",
    "                # DECODE AS STRING\n",
    "                decoded = line.decode('utf-8')\n",
    "\n",
    "                # PARSE LINE & EXTRACT PARAMS\n",
    "                module, code, message, timestamp = utils.parse_line(decoded)\n",
    "\n",
    "                # GENERATE AN EVENT HASH\n",
    "                hash_id = utils.hash_data({\n",
    "                    'module': module,\n",
    "                    'message': message\n",
    "                })\n",
    "\n",
    "                # IF THE EVENT HAS OCCURRED BEFORE\n",
    "                if hash_id in events:\n",
    "\n",
    "                    # INCREMENT OCCURRENCE\n",
    "                    events[hash_id]['occurrence'] += 1\n",
    "\n",
    "                # OTHERWISE, DD PROPERTY TO CONTAINER\n",
    "                else:\n",
    "                    events[hash_id] = {\n",
    "                        'module': module,\n",
    "                        'code': code,\n",
    "                        'message': message,\n",
    "                        'timestamp': timestamp,\n",
    "                        'hash': hash_id,\n",
    "                        'occurrence': 1\n",
    "                    }\n",
    "\n",
    "    # CONSTRUCT A DATAFRAME\n",
    "    dataframe = pd.DataFrame.from_dict(events, orient='index')\n",
    "\n",
    "    # DROP THE UNNECESSARY HASH COL (INDEX)\n",
    "    dataframe.drop(['hash'], axis=1, inplace=True)\n",
    "\n",
    "    # RE-ORDER COLUMNS\n",
    "    dataframe = dataframe.reindex(columns=[\n",
    "        'occurrence',\n",
    "        'module',\n",
    "        'code',\n",
    "        'message',\n",
    "        'timestamp'\n",
    "    ])\n",
    "\n",
    "    # SORT MY MESSAGE COL\n",
    "    dataframe = dataframe.sort_values(by=['message'])\n",
    "    \n",
    "    # PRINT LENGTHS\n",
    "    print('TOTAL ROWS FOUND:\\t', rows)\n",
    "    print('DATAFRAME LENGTH:\\t', len(dataframe))\n",
    "\n",
    "    return dataframe"
   ]
  },
  {
   "cell_type": "markdown",
   "metadata": {},
   "source": [
    "### CREATE DATAFRAME"
   ]
  },
  {
   "cell_type": "code",
   "execution_count": 6,
   "metadata": {
    "scrolled": false
   },
   "outputs": [
    {
     "name": "stdout",
     "output_type": "stream",
     "text": [
      "TOTAL ROWS FOUND:\t 3281\n",
      "DATAFRAME LENGTH:\t 802\n"
     ]
    }
   ],
   "source": [
    "dataframe = classify('data/logs')"
   ]
  },
  {
   "cell_type": "code",
   "execution_count": 7,
   "metadata": {
    "scrolled": true
   },
   "outputs": [
    {
     "data": {
      "text/html": [
       "<div>\n",
       "<style scoped>\n",
       "    .dataframe tbody tr th:only-of-type {\n",
       "        vertical-align: middle;\n",
       "    }\n",
       "\n",
       "    .dataframe tbody tr th {\n",
       "        vertical-align: top;\n",
       "    }\n",
       "\n",
       "    .dataframe thead th {\n",
       "        text-align: right;\n",
       "    }\n",
       "</style>\n",
       "<table border=\"1\" class=\"dataframe\">\n",
       "  <thead>\n",
       "    <tr style=\"text-align: right;\">\n",
       "      <th></th>\n",
       "      <th>occurrence</th>\n",
       "      <th>module</th>\n",
       "      <th>code</th>\n",
       "      <th>message</th>\n",
       "      <th>timestamp</th>\n",
       "    </tr>\n",
       "  </thead>\n",
       "  <tbody>\n",
       "    <tr>\n",
       "      <th>76cd1e55f2e8bf23e56048b524fcf533b9a2c1aa960c79dcceb507142e0b42d5</th>\n",
       "      <td>4</td>\n",
       "      <td>cron</td>\n",
       "      <td>325</td>\n",
       "      <td>(CRON) INFO (Running @reboot jobs)</td>\n",
       "      <td>1613389600</td>\n",
       "    </tr>\n",
       "    <tr>\n",
       "      <th>53eac99acba6c33cfabdf631e4c7a0196f2e1647a0303190375ea680190510ed</th>\n",
       "      <td>4</td>\n",
       "      <td>cron</td>\n",
       "      <td>325</td>\n",
       "      <td>(CRON) INFO (pidfile fd = 3)</td>\n",
       "      <td>1613389600</td>\n",
       "    </tr>\n",
       "    <tr>\n",
       "      <th>81759ec7de5efa9657b37800e1ec317692fe41c67ca7de759b23fed45015a931</th>\n",
       "      <td>6</td>\n",
       "      <td>CRON</td>\n",
       "      <td>15203</td>\n",
       "      <td>(CRON) info (No MTA installed, discarding output)</td>\n",
       "      <td>1613646001</td>\n",
       "    </tr>\n",
       "    <tr>\n",
       "      <th>30129d78176e0d7a3e9fe5948b2df6bd3b4afd183f6b47f4c67a585239bf8fd7</th>\n",
       "      <td>144</td>\n",
       "      <td>CRON</td>\n",
       "      <td>6126</td>\n",
       "      <td>(root) CMD ( cd / &amp;&amp; run-parts --report /etc/c...</td>\n",
       "      <td>1613625421</td>\n",
       "    </tr>\n",
       "    <tr>\n",
       "      <th>c4ec89aae91fea6f4c675192f0d774c5796e101500d50d7db77bcac276ee0a16</th>\n",
       "      <td>6</td>\n",
       "      <td>CRON</td>\n",
       "      <td>15207</td>\n",
       "      <td>(root) CMD (./home/wickstjo/scripts/ropsten.sh)</td>\n",
       "      <td>1613646001</td>\n",
       "    </tr>\n",
       "  </tbody>\n",
       "</table>\n",
       "</div>"
      ],
      "text/plain": [
       "                                                    occurrence module   code  \\\n",
       "76cd1e55f2e8bf23e56048b524fcf533b9a2c1aa960c79d...           4   cron    325   \n",
       "53eac99acba6c33cfabdf631e4c7a0196f2e1647a030319...           4   cron    325   \n",
       "81759ec7de5efa9657b37800e1ec317692fe41c67ca7de7...           6   CRON  15203   \n",
       "30129d78176e0d7a3e9fe5948b2df6bd3b4afd183f6b47f...         144   CRON   6126   \n",
       "c4ec89aae91fea6f4c675192f0d774c5796e101500d50d7...           6   CRON  15207   \n",
       "\n",
       "                                                                                              message  \\\n",
       "76cd1e55f2e8bf23e56048b524fcf533b9a2c1aa960c79d...                 (CRON) INFO (Running @reboot jobs)   \n",
       "53eac99acba6c33cfabdf631e4c7a0196f2e1647a030319...                       (CRON) INFO (pidfile fd = 3)   \n",
       "81759ec7de5efa9657b37800e1ec317692fe41c67ca7de7...  (CRON) info (No MTA installed, discarding output)   \n",
       "30129d78176e0d7a3e9fe5948b2df6bd3b4afd183f6b47f...  (root) CMD ( cd / && run-parts --report /etc/c...   \n",
       "c4ec89aae91fea6f4c675192f0d774c5796e101500d50d7...    (root) CMD (./home/wickstjo/scripts/ropsten.sh)   \n",
       "\n",
       "                                                     timestamp  \n",
       "76cd1e55f2e8bf23e56048b524fcf533b9a2c1aa960c79d...  1613389600  \n",
       "53eac99acba6c33cfabdf631e4c7a0196f2e1647a030319...  1613389600  \n",
       "81759ec7de5efa9657b37800e1ec317692fe41c67ca7de7...  1613646001  \n",
       "30129d78176e0d7a3e9fe5948b2df6bd3b4afd183f6b47f...  1613625421  \n",
       "c4ec89aae91fea6f4c675192f0d774c5796e101500d50d7...  1613646001  "
      ]
     },
     "execution_count": 7,
     "metadata": {},
     "output_type": "execute_result"
    }
   ],
   "source": [
    "dataframe.head(5)"
   ]
  },
  {
   "cell_type": "markdown",
   "metadata": {},
   "source": [
    "### SAVE IT"
   ]
  },
  {
   "cell_type": "code",
   "execution_count": 8,
   "metadata": {},
   "outputs": [],
   "source": [
    "#dataframe.to_csv('data/all-files-ignore-code-kernel-fix.csv')"
   ]
  },
  {
   "cell_type": "markdown",
   "metadata": {},
   "source": [
    "### VECTORIZE MESSAGES TO FEATURES"
   ]
  },
  {
   "cell_type": "code",
   "execution_count": 27,
   "metadata": {},
   "outputs": [],
   "source": [
    "features, vectorizer = ml.create_features(dataframe['message'])"
   ]
  },
  {
   "cell_type": "markdown",
   "metadata": {},
   "source": [
    "### TRAIN ISOLATION FOREST"
   ]
  },
  {
   "cell_type": "code",
   "execution_count": 28,
   "metadata": {},
   "outputs": [],
   "source": [
    "model = ml.train_isolation({\n",
    "    'estimators': 1,\n",
    "    'features': features\n",
    "})"
   ]
  },
  {
   "cell_type": "markdown",
   "metadata": {},
   "source": [
    "### PREDICT ON DATA"
   ]
  },
  {
   "cell_type": "code",
   "execution_count": 29,
   "metadata": {},
   "outputs": [],
   "source": [
    "predictions = model.predict(features)"
   ]
  },
  {
   "cell_type": "markdown",
   "metadata": {},
   "source": [
    "### CHECK STUFF"
   ]
  },
  {
   "cell_type": "code",
   "execution_count": null,
   "metadata": {
    "scrolled": false
   },
   "outputs": [],
   "source": [
    "# LOOP THROUGH PREDICTIONS\n",
    "for index, prediction in enumerate(predictions):\n",
    "    \n",
    "    # FIND THE ANOMALIES\n",
    "    if prediction == -1:\n",
    "        \n",
    "        # DECONSTRUCT VALUES\n",
    "        occurrence, module, code, msg, timestamp = dataframe.iloc[[index]].to_numpy()[0]\n",
    "        \n",
    "        print('OCCURRENCE:\\t', occurrence)\n",
    "        print('MODULE:\\t\\t', module)\n",
    "        print('CODE:\\t\\t', code)\n",
    "        print('MESSAGE:\\t', msg[:70])\n",
    "        print()"
   ]
  },
  {
   "cell_type": "code",
   "execution_count": null,
   "metadata": {},
   "outputs": [],
   "source": []
  }
 ],
 "metadata": {
  "kernelspec": {
   "display_name": "Python 3",
   "language": "python",
   "name": "python3"
  },
  "language_info": {
   "codemirror_mode": {
    "name": "ipython",
    "version": 3
   },
   "file_extension": ".py",
   "mimetype": "text/x-python",
   "name": "python",
   "nbconvert_exporter": "python",
   "pygments_lexer": "ipython3",
   "version": "3.8.5"
  }
 },
 "nbformat": 4,
 "nbformat_minor": 4
}
