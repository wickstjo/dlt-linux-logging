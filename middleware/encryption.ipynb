{
 "cells": [
  {
   "cell_type": "code",
   "execution_count": 14,
   "metadata": {},
   "outputs": [],
   "source": [
    "import cryptography\n",
    "import secrets\n",
    "import hashlib\n",
    "import json"
   ]
  },
  {
   "cell_type": "code",
   "execution_count": 5,
   "metadata": {},
   "outputs": [],
   "source": [
    "from cryptography.hazmat.backends import default_backend\n",
    "from cryptography.hazmat.primitives.asymmetric import rsa\n",
    "from cryptography.hazmat.primitives import serialization"
   ]
  },
  {
   "cell_type": "code",
   "execution_count": 6,
   "metadata": {},
   "outputs": [],
   "source": [
    "from cryptography.hazmat.primitives import hashes\n",
    "from cryptography.hazmat.primitives.asymmetric import padding"
   ]
  },
  {
   "cell_type": "code",
   "execution_count": 7,
   "metadata": {},
   "outputs": [],
   "source": [
    "from Crypto.Cipher import AES"
   ]
  },
  {
   "cell_type": "markdown",
   "metadata": {},
   "source": [
    "### AES SYMMETRIC ENCRYPTION"
   ]
  },
  {
   "cell_type": "code",
   "execution_count": 115,
   "metadata": {},
   "outputs": [],
   "source": [
    "def random_phrase(length):\n",
    "    return secrets.token_urlsafe(length)"
   ]
  },
  {
   "cell_type": "code",
   "execution_count": 15,
   "metadata": {},
   "outputs": [],
   "source": [
    "def aes_sym(message):\n",
    "    \n",
    "    # CONVERT DICT TO STRING\n",
    "    if type(message) == dict:\n",
    "        message = json.dumps(message)\n",
    "    \n",
    "    # GENERATE RANDOM PHRASES\n",
    "    password = random_phrase(12).encode()\n",
    "    init_vector = random_phrase(12).encode()\n",
    "    \n",
    "    # CREATE CIPHER\n",
    "    cipher = AES.new(password, AES.MODE_CBC, init_vector)\n",
    "    \n",
    "    # PAD MESSAGE TO APPROPARIATE LENGTH\n",
    "    while len(message) % 16 != 0:\n",
    "        message += \" \"\n",
    "    \n",
    "    # ENCRYPT ENCODED MESSAGE & RETURN\n",
    "    encrypted = cipher.encrypt(message.encode())\n",
    "    \n",
    "    return encrypted, password"
   ]
  },
  {
   "cell_type": "markdown",
   "metadata": {},
   "source": [
    "### RSA ASYMMETRIC ENCRYPTION"
   ]
  },
  {
   "cell_type": "code",
   "execution_count": 201,
   "metadata": {},
   "outputs": [],
   "source": [
    "# https://nitratine.net/blog/post/asymmetric-encryption-and-decryption-in-python/"
   ]
  },
  {
   "cell_type": "code",
   "execution_count": 10,
   "metadata": {},
   "outputs": [],
   "source": [
    "def generate_keys():\n",
    "    \n",
    "    # PRIVATE KEY\n",
    "    private_key = rsa.generate_private_key(\n",
    "        public_exponent=65537,\n",
    "        key_size=2048,\n",
    "        backend=default_backend()\n",
    "    )\n",
    "    \n",
    "    # PUBLIC KEY\n",
    "    public_key = private_key.public_key()\n",
    "    \n",
    "    # RETURN\n",
    "    return public_key, private_key"
   ]
  },
  {
   "cell_type": "code",
   "execution_count": 16,
   "metadata": {},
   "outputs": [],
   "source": [
    "def rsa_encrypt(message):\n",
    "    \n",
    "    # GENERATE NEW KEYPAIR\n",
    "    pub_key, priv_key = generate_keys()\n",
    "\n",
    "    # ENCRYPT WITH PUBKEY\n",
    "    encrypted = pub_key.encrypt(\n",
    "        message,\n",
    "        padding.OAEP(\n",
    "            mgf=padding.MGF1(algorithm=hashes.SHA256()),\n",
    "            algorithm=hashes.SHA256(),\n",
    "            label=None\n",
    "        )\n",
    "    )\n",
    "    \n",
    "    # PUBLIC KEY PEM\n",
    "    pub_pem = pub_key.public_bytes(\n",
    "        encoding=serialization.Encoding.PEM,\n",
    "        format=serialization.PublicFormat.SubjectPublicKeyInfo\n",
    "    )\n",
    "    \n",
    "    # PRIVATE KEY PEM\n",
    "    priv_pem = priv_key.private_bytes(\n",
    "        encoding=serialization.Encoding.PEM,\n",
    "        format=serialization.PrivateFormat.PKCS8,\n",
    "        encryption_algorithm=serialization.NoEncryption()\n",
    "    )\n",
    "    \n",
    "    return encrypted, pub_pem, priv_pem"
   ]
  },
  {
   "cell_type": "code",
   "execution_count": 12,
   "metadata": {},
   "outputs": [],
   "source": [
    "def rsa_decrypt(data, priv_key):\n",
    "\n",
    "    # DECRYPT WITH PRIVKEY\n",
    "    decrypted = priv_key.decrypt(\n",
    "        data,\n",
    "        padding.OAEP(\n",
    "            mgf=padding.MGF1(algorithm=hashes.SHA256()),\n",
    "            algorithm=hashes.SHA256(),\n",
    "            label=None\n",
    "        )\n",
    "    )\n",
    "    \n",
    "    return decrypted"
   ]
  },
  {
   "cell_type": "markdown",
   "metadata": {},
   "source": [
    "### CONVERT KEY FORMATS"
   ]
  },
  {
   "cell_type": "code",
   "execution_count": null,
   "metadata": {},
   "outputs": [],
   "source": [
    "def convert_pubkey(data):\n",
    "    \n",
    "    # IF IN BYTE FORMAT\n",
    "    if type(data) == bytes:\n",
    "        return serialization.load_pem_public_key(\n",
    "            data,\n",
    "            backend=default_backend()\n",
    "        )\n",
    "        \n",
    "    # IF IN BINARY FORMAT\n",
    "    else:\n",
    "        return pub_key.public_bytes(\n",
    "            encoding=serialization.Encoding.PEM,\n",
    "            format=serialization.PublicFormat.SubjectPublicKeyInfo\n",
    "        )"
   ]
  },
  {
   "cell_type": "code",
   "execution_count": 11,
   "metadata": {},
   "outputs": [],
   "source": [
    "def save_pubkey(pubkey, filename):\n",
    "    \n",
    "    # CREATE PEM\n",
    "    pem = pubkey.public_bytes(\n",
    "        encoding=serialization.Encoding.PEM,\n",
    "        format=serialization.PublicFormat.SubjectPublicKeyInfo\n",
    "    )\n",
    "    \n",
    "    # DECODE TO STRINGIFY\n",
    "\n",
    "    # CREATE FILE\n",
    "    with open('data/keys/' + filename, 'wb') as file:\n",
    "        file.write(pem)"
   ]
  },
  {
   "cell_type": "code",
   "execution_count": 12,
   "metadata": {},
   "outputs": [],
   "source": [
    "def save_privkey(privkey, filename):\n",
    "    \n",
    "    # CREATE PEM\n",
    "    pem = privkey.private_bytes(\n",
    "        encoding=serialization.Encoding.PEM,\n",
    "        format=serialization.PrivateFormat.PKCS8,\n",
    "        encryption_algorithm=serialization.NoEncryption()\n",
    "    )\n",
    "    \n",
    "    # DECODE TO STRINGIFY\n",
    "\n",
    "    # CREATE FILE\n",
    "    with open('data/keys/' + filename, 'wb') as file:\n",
    "        file.write(pem)"
   ]
  },
  {
   "cell_type": "code",
   "execution_count": null,
   "metadata": {},
   "outputs": [],
   "source": []
  }
 ],
 "metadata": {
  "kernelspec": {
   "display_name": "Python 3",
   "language": "python",
   "name": "python3"
  },
  "language_info": {
   "codemirror_mode": {
    "name": "ipython",
    "version": 3
   },
   "file_extension": ".py",
   "mimetype": "text/x-python",
   "name": "python",
   "nbconvert_exporter": "python",
   "pygments_lexer": "ipython3",
   "version": "3.8.5"
  }
 },
 "nbformat": 4,
 "nbformat_minor": 4
}
