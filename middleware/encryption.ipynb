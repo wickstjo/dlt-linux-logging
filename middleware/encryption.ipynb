{
 "cells": [
  {
   "cell_type": "code",
   "execution_count": 80,
   "metadata": {},
   "outputs": [],
   "source": [
    "import json\n",
    "import pandas as pd"
   ]
  },
  {
   "cell_type": "code",
   "execution_count": 81,
   "metadata": {},
   "outputs": [],
   "source": [
    "import cryptography"
   ]
  },
  {
   "cell_type": "code",
   "execution_count": 71,
   "metadata": {},
   "outputs": [],
   "source": [
    "from cryptography.hazmat.backends import default_backend\n",
    "from cryptography.hazmat.primitives.asymmetric import rsa\n",
    "from cryptography.hazmat.primitives import serialization"
   ]
  },
  {
   "cell_type": "code",
   "execution_count": 72,
   "metadata": {},
   "outputs": [],
   "source": [
    "from cryptography.hazmat.primitives import hashes\n",
    "from cryptography.hazmat.primitives.asymmetric import padding"
   ]
  },
  {
   "cell_type": "markdown",
   "metadata": {},
   "source": [
    "### IMPORT DATA"
   ]
  },
  {
   "cell_type": "code",
   "execution_count": 25,
   "metadata": {},
   "outputs": [],
   "source": [
    "dataframe = pd.read_csv('data/all-files-ignore-code-kernel-fix.csv', index_col='Unnamed: 0')"
   ]
  },
  {
   "cell_type": "code",
   "execution_count": 26,
   "metadata": {},
   "outputs": [],
   "source": [
    "data = dataframe.to_dict()"
   ]
  },
  {
   "cell_type": "markdown",
   "metadata": {},
   "source": [
    "### ENCRYPTION KEY STUFF"
   ]
  },
  {
   "cell_type": "code",
   "execution_count": 56,
   "metadata": {},
   "outputs": [],
   "source": [
    "# https://nitratine.net/blog/post/asymmetric-encryption-and-decryption-in-python/"
   ]
  },
  {
   "cell_type": "code",
   "execution_count": 88,
   "metadata": {},
   "outputs": [],
   "source": [
    "def generate_keys():\n",
    "    \n",
    "    # PRIVATE KEY\n",
    "    private_key = rsa.generate_private_key(\n",
    "        public_exponent=65537,\n",
    "        key_size=2048,\n",
    "        backend=default_backend()\n",
    "    )\n",
    "    \n",
    "    # PUBLIC KEY\n",
    "    public_key = private_key.public_key()\n",
    "    \n",
    "    # RETURN\n",
    "    return public_key, private_key"
   ]
  },
  {
   "cell_type": "code",
   "execution_count": 65,
   "metadata": {},
   "outputs": [],
   "source": [
    "def save_pubkey(pubkey, filename):\n",
    "    \n",
    "    # CREATE PEM\n",
    "    pem = pubkey.public_bytes(\n",
    "        encoding=serialization.Encoding.PEM,\n",
    "        format=serialization.PublicFormat.SubjectPublicKeyInfo\n",
    "    )\n",
    "\n",
    "    # CREATE FILE\n",
    "    with open('data/keys/' + filename, 'wb') as file:\n",
    "        file.write(pem)"
   ]
  },
  {
   "cell_type": "code",
   "execution_count": 66,
   "metadata": {},
   "outputs": [],
   "source": [
    "def save_privkey(privkey, filename):\n",
    "    \n",
    "    # CREATE PEM\n",
    "    pem = privkey.private_bytes(\n",
    "        encoding=serialization.Encoding.PEM,\n",
    "        format=serialization.PrivateFormat.PKCS8,\n",
    "        encryption_algorithm=serialization.NoEncryption()\n",
    "    )\n",
    "\n",
    "    # CREATE FILE\n",
    "    with open('data/keys/' + filename, 'wb') as file:\n",
    "        file.write(pem)"
   ]
  },
  {
   "cell_type": "markdown",
   "metadata": {},
   "source": [
    "### GENERATE KEYS"
   ]
  },
  {
   "cell_type": "code",
   "execution_count": 67,
   "metadata": {},
   "outputs": [],
   "source": [
    "global_pubkey, global_privkey = generate_keys()"
   ]
  },
  {
   "cell_type": "markdown",
   "metadata": {},
   "source": [
    "### CREATE BATCH OF LOG EVENTS"
   ]
  },
  {
   "cell_type": "code",
   "execution_count": 43,
   "metadata": {},
   "outputs": [],
   "source": [
    "def create_batch(hashes, data):\n",
    "    \n",
    "    # DATA CONTAINER\n",
    "    container = {}\n",
    "    \n",
    "    # DATAFRAME COLUMNS\n",
    "    cols = data.keys()\n",
    "    \n",
    "    # LOOP THROUGH\n",
    "    for target_hash in hashes:\n",
    "        \n",
    "        # CREATE ENTRY\n",
    "        container[target_hash] = {}\n",
    "        \n",
    "        # LOOP THROUGH COLUMNS\n",
    "        for col in cols:\n",
    "            \n",
    "            # ADD PROPERTY\n",
    "            container[target_hash][col] = data[col][target_hash]\n",
    "    \n",
    "    # RETURN COLLECTED DATA\n",
    "    return container"
   ]
  },
  {
   "cell_type": "code",
   "execution_count": 44,
   "metadata": {},
   "outputs": [],
   "source": [
    "batch = create_batch([\n",
    "    '53eac99acba6c33cfabdf631e4c7a0196f2e1647a0303190375ea680190510ed',\n",
    "    '81759ec7de5efa9657b37800e1ec317692fe41c67ca7de759b23fed45015a931',\n",
    "    '30129d78176e0d7a3e9fe5948b2df6bd3b4afd183f6b47f4c67a585239bf8fd7',\n",
    "    'c4ec89aae91fea6f4c675192f0d774c5796e101500d50d7db77bcac276ee0a16'\n",
    "], data)"
   ]
  },
  {
   "cell_type": "markdown",
   "metadata": {},
   "source": [
    "### ENCRYPT / DECRYPT FILES"
   ]
  },
  {
   "cell_type": "code",
   "execution_count": 112,
   "metadata": {},
   "outputs": [],
   "source": [
    "def encrypt(data, pubkey):\n",
    "    \n",
    "    # CONVERT DICT TO BYTES\n",
    "    data_bytes = json.dumps(data).encode('utf-8')\n",
    "\n",
    "    # ENCRYPT WITH PUBKEY\n",
    "    encrypted = pubkey.encrypt(\n",
    "        data_bytes,\n",
    "        padding.OAEP(\n",
    "            mgf=padding.MGF1(algorithm=hashes.SHA256()),\n",
    "            algorithm=hashes.SHA256(),\n",
    "            label=None\n",
    "        )\n",
    "    )\n",
    "    \n",
    "    return encrypted"
   ]
  },
  {
   "cell_type": "code",
   "execution_count": 113,
   "metadata": {},
   "outputs": [],
   "source": [
    "def decrypt(data, privkey):\n",
    "\n",
    "    # DECRYPT WITH PRIVKEY\n",
    "    decrypted = privkey.decrypt(\n",
    "        data,\n",
    "        padding.OAEP(\n",
    "            mgf=padding.MGF1(algorithm=hashes.SHA256()),\n",
    "            algorithm=hashes.SHA256(),\n",
    "            label=None\n",
    "        )\n",
    "    )\n",
    "    \n",
    "    return decrypted"
   ]
  },
  {
   "cell_type": "markdown",
   "metadata": {},
   "source": [
    "### ENCRYPT BATCH EVENT"
   ]
  },
  {
   "cell_type": "code",
   "execution_count": 97,
   "metadata": {},
   "outputs": [
    {
     "data": {
      "text/plain": [
       "b'encrypt me!'"
      ]
     },
     "execution_count": 97,
     "metadata": {},
     "output_type": "execute_result"
    }
   ],
   "source": [
    "b'encrypt me!'"
   ]
  },
  {
   "cell_type": "code",
   "execution_count": 100,
   "metadata": {},
   "outputs": [
    {
     "data": {
      "text/plain": [
       "b'{\"53eac99acba6c33cfabdf631e4c7a0196f2e1647a0303190375ea680190510ed\": {\"occurrence\": 4, \"module\": \"cron\", \"code\": \"325\", \"message\": \"(CRON) INFO (pidfile fd = 3)\", \"timestamp\": 1613389600}, \"81759ec7de5efa9657b37800e1ec317692fe41c67ca7de759b23fed45015a931\": {\"occurrence\": 6, \"module\": \"CRON\", \"code\": \"15203\", \"message\": \"(CRON) info (No MTA installed, discarding output)\", \"timestamp\": 1613646001}, \"30129d78176e0d7a3e9fe5948b2df6bd3b4afd183f6b47f4c67a585239bf8fd7\": {\"occurrence\": 144, \"module\": \"CRON\", \"code\": \"6126\", \"message\": \"(root) CMD ( cd / && run-parts --report /etc/cron.hourly)\", \"timestamp\": 1613625421}, \"c4ec89aae91fea6f4c675192f0d774c5796e101500d50d7db77bcac276ee0a16\": {\"occurrence\": 6, \"module\": \"CRON\", \"code\": \"15207\", \"message\": \"(root) CMD (./home/wickstjo/scripts/ropsten.sh)\", \"timestamp\": 1613646001}}'"
      ]
     },
     "execution_count": 100,
     "metadata": {},
     "output_type": "execute_result"
    }
   ],
   "source": [
    "json.dumps(batch).encode('utf-8')"
   ]
  },
  {
   "cell_type": "code",
   "execution_count": null,
   "metadata": {},
   "outputs": [],
   "source": [
    "encrypt(batch, global_pubkey)"
   ]
  },
  {
   "cell_type": "code",
   "execution_count": null,
   "metadata": {},
   "outputs": [],
   "source": []
  }
 ],
 "metadata": {
  "kernelspec": {
   "display_name": "Python 3",
   "language": "python",
   "name": "python3"
  },
  "language_info": {
   "codemirror_mode": {
    "name": "ipython",
    "version": 3
   },
   "file_extension": ".py",
   "mimetype": "text/x-python",
   "name": "python",
   "nbconvert_exporter": "python",
   "pygments_lexer": "ipython3",
   "version": "3.8.5"
  }
 },
 "nbformat": 4,
 "nbformat_minor": 4
}
