{
 "cells": [
  {
   "cell_type": "code",
   "execution_count": 6,
   "metadata": {},
   "outputs": [],
   "source": [
    "import pandas as pd\n",
    "import numpy as np"
   ]
  },
  {
   "cell_type": "code",
   "execution_count": 35,
   "metadata": {},
   "outputs": [],
   "source": [
    "from collections import Counter\n",
    "import binascii"
   ]
  },
  {
   "cell_type": "markdown",
   "metadata": {},
   "source": [
    "### LOAD DATAFRAME"
   ]
  },
  {
   "cell_type": "code",
   "execution_count": 8,
   "metadata": {},
   "outputs": [],
   "source": [
    "dataframe = pd.read_csv('data/cleaned_data.csv', index_col='Unnamed: 0')"
   ]
  },
  {
   "cell_type": "code",
   "execution_count": 9,
   "metadata": {},
   "outputs": [
    {
     "data": {
      "text/html": [
       "<div>\n",
       "<style scoped>\n",
       "    .dataframe tbody tr th:only-of-type {\n",
       "        vertical-align: middle;\n",
       "    }\n",
       "\n",
       "    .dataframe tbody tr th {\n",
       "        vertical-align: top;\n",
       "    }\n",
       "\n",
       "    .dataframe thead th {\n",
       "        text-align: right;\n",
       "    }\n",
       "</style>\n",
       "<table border=\"1\" class=\"dataframe\">\n",
       "  <thead>\n",
       "    <tr style=\"text-align: right;\">\n",
       "      <th></th>\n",
       "      <th>timestamp</th>\n",
       "      <th>module</th>\n",
       "      <th>code</th>\n",
       "      <th>message</th>\n",
       "    </tr>\n",
       "  </thead>\n",
       "  <tbody>\n",
       "    <tr>\n",
       "      <th>0</th>\n",
       "      <td>1613190301</td>\n",
       "      <td>libloggingstdlog</td>\n",
       "      <td>none</td>\n",
       "      <td>[origin software=\"rsyslogd\" swVersion=\"8.24.0\"...</td>\n",
       "    </tr>\n",
       "    <tr>\n",
       "      <th>1</th>\n",
       "      <td>1613193421</td>\n",
       "      <td>CRON</td>\n",
       "      <td>32398</td>\n",
       "      <td>(root) CMD ( cd / &amp;&amp; run-parts --report /etc/c...</td>\n",
       "    </tr>\n",
       "    <tr>\n",
       "      <th>2</th>\n",
       "      <td>1613197021</td>\n",
       "      <td>CRON</td>\n",
       "      <td>6546</td>\n",
       "      <td>(root) CMD ( cd / &amp;&amp; run-parts --report /etc/c...</td>\n",
       "    </tr>\n",
       "    <tr>\n",
       "      <th>3</th>\n",
       "      <td>1613200621</td>\n",
       "      <td>CRON</td>\n",
       "      <td>12800</td>\n",
       "      <td>(root) CMD ( cd / &amp;&amp; run-parts --report /etc/c...</td>\n",
       "    </tr>\n",
       "    <tr>\n",
       "      <th>4</th>\n",
       "      <td>1613204221</td>\n",
       "      <td>CRON</td>\n",
       "      <td>19277</td>\n",
       "      <td>(root) CMD ( cd / &amp;&amp; run-parts --report /etc/c...</td>\n",
       "    </tr>\n",
       "  </tbody>\n",
       "</table>\n",
       "</div>"
      ],
      "text/plain": [
       "    timestamp            module   code  \\\n",
       "0  1613190301  libloggingstdlog   none   \n",
       "1  1613193421              CRON  32398   \n",
       "2  1613197021              CRON   6546   \n",
       "3  1613200621              CRON  12800   \n",
       "4  1613204221              CRON  19277   \n",
       "\n",
       "                                             message  \n",
       "0  [origin software=\"rsyslogd\" swVersion=\"8.24.0\"...  \n",
       "1  (root) CMD ( cd / && run-parts --report /etc/c...  \n",
       "2  (root) CMD ( cd / && run-parts --report /etc/c...  \n",
       "3  (root) CMD ( cd / && run-parts --report /etc/c...  \n",
       "4  (root) CMD ( cd / && run-parts --report /etc/c...  "
      ]
     },
     "execution_count": 9,
     "metadata": {},
     "output_type": "execute_result"
    }
   ],
   "source": [
    "dataframe.head(5)"
   ]
  },
  {
   "cell_type": "markdown",
   "metadata": {},
   "source": [
    "### CONVERT MESSAGES TO NUMPY ARRAY"
   ]
  },
  {
   "cell_type": "code",
   "execution_count": 10,
   "metadata": {},
   "outputs": [],
   "source": [
    "dataset = np.array(dataframe['message'])"
   ]
  },
  {
   "cell_type": "markdown",
   "metadata": {},
   "source": [
    "### BLACKLISTED PHRASES -- ANOMALIES"
   ]
  },
  {
   "cell_type": "code",
   "execution_count": 17,
   "metadata": {},
   "outputs": [],
   "source": [
    "blacklist = [\n",
    "    'ropsten',\n",
    "    'Created slice User',\n",
    "    'Started Session c',\n",
    "    'New USB device found',\n",
    "    '@reboot jobs',\n",
    "    'Started System Logging'\n",
    "]"
   ]
  },
  {
   "cell_type": "markdown",
   "metadata": {},
   "source": [
    "### SPLIT INTO NORMAL & ANOMALOUS EVENTS"
   ]
  },
  {
   "cell_type": "code",
   "execution_count": 20,
   "metadata": {},
   "outputs": [],
   "source": [
    "def split(dataset, blacklist):\n",
    "    \n",
    "    # CONTAINERS\n",
    "    normal, anomalous = [], []\n",
    "    \n",
    "    # LOOP THROUGH DATASET\n",
    "    for event in dataset:\n",
    "        \n",
    "        # CHECK IF EVENT CONTAINS BLACKLISTED PHRASES\n",
    "        anomaly = contains(event, blacklist)\n",
    "        \n",
    "        # APPEND TO ANOMALOUS EVENTS\n",
    "        if anomaly:\n",
    "            anomalous.append(event)\n",
    "            \n",
    "        # APPEND TO NORMAL EVENTS\n",
    "        else:\n",
    "            normal.append(event)\n",
    "            \n",
    "    return normal, anomalous"
   ]
  },
  {
   "cell_type": "code",
   "execution_count": 21,
   "metadata": {},
   "outputs": [],
   "source": [
    "def contains(message, blacklist):\n",
    "    \n",
    "    # LOOP THROUGH BLACKLIST\n",
    "    for phrase in blacklist:\n",
    "        \n",
    "        # CHECK IF THE MESSAGE CONTAINS THE BAD PHRASE\n",
    "        if phrase in message:\n",
    "            return True\n",
    "        \n",
    "    return False"
   ]
  },
  {
   "cell_type": "code",
   "execution_count": 30,
   "metadata": {},
   "outputs": [],
   "source": [
    "normal_dataset, anomalous_dataset = split(dataset, blacklist)"
   ]
  },
  {
   "cell_type": "markdown",
   "metadata": {},
   "source": [
    "### CONVERT DATASETS TO SHINGLE HASHES"
   ]
  },
  {
   "cell_type": "code",
   "execution_count": 67,
   "metadata": {},
   "outputs": [],
   "source": [
    "def to_shingles(msg, k=10):\n",
    "    \n",
    "    # CONTAINER\n",
    "    shingles = set()  # we use a set to automatically eliminate duplicates\n",
    "    \n",
    "    # CRAWL THROUGH THE MESSAGE\n",
    "    for i in range(len(msg)-k+1):\n",
    "        \n",
    "        # CREATE SHINGLE & HASH IT\n",
    "        shingle = msg[i:i+k]\n",
    "        crc = binascii.crc32(shingle.encode('utf-8')) #& 0xffffffff  # hash the shingle to a 32-bit integer\n",
    "        \n",
    "        # APPEND TO CONTAINER\n",
    "        shingles.add(crc)\n",
    "        \n",
    "    # RETURN AS NUMPY ARRAY\n",
    "    return np.array(list(shingles))"
   ]
  },
  {
   "cell_type": "code",
   "execution_count": null,
   "metadata": {},
   "outputs": [],
   "source": []
  },
  {
   "cell_type": "code",
   "execution_count": 68,
   "metadata": {},
   "outputs": [],
   "source": [
    "foo = to_shingles(normal_dataset[5], k=3)"
   ]
  },
  {
   "cell_type": "code",
   "execution_count": 69,
   "metadata": {},
   "outputs": [
    {
     "data": {
      "text/plain": [
       "array([2402230784, 4010115586,   46379397, 2209542664, 2283854346,\n",
       "       2539417229, 2705265040, 3039523217, 2346285456, 2395644693,\n",
       "       3624532246,  339066393, 3663602841, 3764084251, 3183161246,\n",
       "       1218807839, 1236802723, 3604977963,  993083564, 1351207084,\n",
       "       4101391790, 1767766964, 4201251125, 4158576186, 1015804091,\n",
       "       3549537981, 1349952704,  164075330,  678980936, 3905434184,\n",
       "       3120258634,  783637705, 2041411532, 2073014609, 4231386708,\n",
       "        685994070, 3271754455, 4001269591,  711719256, 1976880086,\n",
       "       1375028830, 4138466142, 2479166307, 1937220836, 2464940133,\n",
       "       1131402726, 2734266728, 2606898921, 3441890539, 3893286898,\n",
       "       3770387442, 2995556597,  333081077,  152807927, 4117159806])"
      ]
     },
     "execution_count": 69,
     "metadata": {},
     "output_type": "execute_result"
    }
   ],
   "source": [
    "foo"
   ]
  },
  {
   "cell_type": "code",
   "execution_count": null,
   "metadata": {},
   "outputs": [],
   "source": []
  },
  {
   "cell_type": "code",
   "execution_count": null,
   "metadata": {},
   "outputs": [],
   "source": []
  },
  {
   "cell_type": "code",
   "execution_count": null,
   "metadata": {},
   "outputs": [],
   "source": []
  },
  {
   "cell_type": "code",
   "execution_count": null,
   "metadata": {},
   "outputs": [],
   "source": []
  }
 ],
 "metadata": {
  "kernelspec": {
   "display_name": "Python 3",
   "language": "python",
   "name": "python3"
  },
  "language_info": {
   "codemirror_mode": {
    "name": "ipython",
    "version": 3
   },
   "file_extension": ".py",
   "mimetype": "text/x-python",
   "name": "python",
   "nbconvert_exporter": "python",
   "pygments_lexer": "ipython3",
   "version": "3.8.5"
  }
 },
 "nbformat": 4,
 "nbformat_minor": 4
}
