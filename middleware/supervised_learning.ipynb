{
 "cells": [
  {
   "cell_type": "code",
   "execution_count": 104,
   "metadata": {},
   "outputs": [],
   "source": [
    "import pandas as pd\n",
    "import numpy as np"
   ]
  },
  {
   "cell_type": "code",
   "execution_count": 105,
   "metadata": {},
   "outputs": [],
   "source": [
    "import binascii\n",
    "import itertools"
   ]
  },
  {
   "cell_type": "markdown",
   "metadata": {},
   "source": [
    "### LOAD DATAFRAME"
   ]
  },
  {
   "cell_type": "code",
   "execution_count": 106,
   "metadata": {},
   "outputs": [],
   "source": [
    "dataframe = pd.read_csv('data/cleaned_data.csv', index_col='Unnamed: 0')"
   ]
  },
  {
   "cell_type": "code",
   "execution_count": 107,
   "metadata": {},
   "outputs": [
    {
     "data": {
      "text/html": [
       "<div>\n",
       "<style scoped>\n",
       "    .dataframe tbody tr th:only-of-type {\n",
       "        vertical-align: middle;\n",
       "    }\n",
       "\n",
       "    .dataframe tbody tr th {\n",
       "        vertical-align: top;\n",
       "    }\n",
       "\n",
       "    .dataframe thead th {\n",
       "        text-align: right;\n",
       "    }\n",
       "</style>\n",
       "<table border=\"1\" class=\"dataframe\">\n",
       "  <thead>\n",
       "    <tr style=\"text-align: right;\">\n",
       "      <th></th>\n",
       "      <th>timestamp</th>\n",
       "      <th>module</th>\n",
       "      <th>code</th>\n",
       "      <th>message</th>\n",
       "    </tr>\n",
       "  </thead>\n",
       "  <tbody>\n",
       "    <tr>\n",
       "      <th>0</th>\n",
       "      <td>1613190301</td>\n",
       "      <td>libloggingstdlog</td>\n",
       "      <td>none</td>\n",
       "      <td>[origin software=\"rsyslogd\" swVersion=\"8.24.0\"...</td>\n",
       "    </tr>\n",
       "    <tr>\n",
       "      <th>1</th>\n",
       "      <td>1613193421</td>\n",
       "      <td>CRON</td>\n",
       "      <td>32398</td>\n",
       "      <td>(root) CMD ( cd / &amp;&amp; run-parts --report /etc/c...</td>\n",
       "    </tr>\n",
       "    <tr>\n",
       "      <th>2</th>\n",
       "      <td>1613197021</td>\n",
       "      <td>CRON</td>\n",
       "      <td>6546</td>\n",
       "      <td>(root) CMD ( cd / &amp;&amp; run-parts --report /etc/c...</td>\n",
       "    </tr>\n",
       "    <tr>\n",
       "      <th>3</th>\n",
       "      <td>1613200621</td>\n",
       "      <td>CRON</td>\n",
       "      <td>12800</td>\n",
       "      <td>(root) CMD ( cd / &amp;&amp; run-parts --report /etc/c...</td>\n",
       "    </tr>\n",
       "    <tr>\n",
       "      <th>4</th>\n",
       "      <td>1613204221</td>\n",
       "      <td>CRON</td>\n",
       "      <td>19277</td>\n",
       "      <td>(root) CMD ( cd / &amp;&amp; run-parts --report /etc/c...</td>\n",
       "    </tr>\n",
       "  </tbody>\n",
       "</table>\n",
       "</div>"
      ],
      "text/plain": [
       "    timestamp            module   code  \\\n",
       "0  1613190301  libloggingstdlog   none   \n",
       "1  1613193421              CRON  32398   \n",
       "2  1613197021              CRON   6546   \n",
       "3  1613200621              CRON  12800   \n",
       "4  1613204221              CRON  19277   \n",
       "\n",
       "                                             message  \n",
       "0  [origin software=\"rsyslogd\" swVersion=\"8.24.0\"...  \n",
       "1  (root) CMD ( cd / && run-parts --report /etc/c...  \n",
       "2  (root) CMD ( cd / && run-parts --report /etc/c...  \n",
       "3  (root) CMD ( cd / && run-parts --report /etc/c...  \n",
       "4  (root) CMD ( cd / && run-parts --report /etc/c...  "
      ]
     },
     "execution_count": 107,
     "metadata": {},
     "output_type": "execute_result"
    }
   ],
   "source": [
    "dataframe.head(5)"
   ]
  },
  {
   "cell_type": "markdown",
   "metadata": {},
   "source": [
    "### CONVERT MESSAGES TO NUMPY ARRAY"
   ]
  },
  {
   "cell_type": "code",
   "execution_count": 108,
   "metadata": {},
   "outputs": [],
   "source": [
    "dataset = np.array(dataframe['message'])"
   ]
  },
  {
   "cell_type": "markdown",
   "metadata": {},
   "source": [
    "### BLACKLISTED PHRASES -- ANOMALIES"
   ]
  },
  {
   "cell_type": "code",
   "execution_count": 109,
   "metadata": {},
   "outputs": [],
   "source": [
    "blacklist = [\n",
    "    'ropsten',\n",
    "    'Created slice User',\n",
    "    'Started Session c',\n",
    "    'New USB device found',\n",
    "    '@reboot jobs',\n",
    "    'Started System Logging'\n",
    "]"
   ]
  },
  {
   "cell_type": "markdown",
   "metadata": {},
   "source": [
    "### SPLIT INTO NORMAL & ANOMALOUS EVENTS"
   ]
  },
  {
   "cell_type": "code",
   "execution_count": 120,
   "metadata": {},
   "outputs": [],
   "source": [
    "def split(dataset, blacklist):\n",
    "    \n",
    "    # CONTAINERS\n",
    "    normal, anomalous = [], []\n",
    "    \n",
    "    # LOOP THROUGH DATASET\n",
    "    for event in dataset:\n",
    "        \n",
    "        # CHECK IF EVENT CONTAINS BLACKLISTED PHRASES\n",
    "        anomaly = contains(event, blacklist)\n",
    "        \n",
    "        # APPEND TO ANOMALOUS EVENTS\n",
    "        if anomaly:\n",
    "            anomalous.append(event)\n",
    "            \n",
    "        # APPEND TO NORMAL EVENTS\n",
    "        else:\n",
    "            normal.append(event)\n",
    "        \n",
    "    # RETURN UNIQUE EVENTS\n",
    "    return list(set(normal)), list(set(anomalous))"
   ]
  },
  {
   "cell_type": "code",
   "execution_count": 121,
   "metadata": {},
   "outputs": [],
   "source": [
    "def contains(message, blacklist):\n",
    "    \n",
    "    # LOOP THROUGH BLACKLIST\n",
    "    for phrase in blacklist:\n",
    "        \n",
    "        # CHECK IF THE MESSAGE CONTAINS THE BAD PHRASE\n",
    "        if phrase in message:\n",
    "            return True\n",
    "        \n",
    "    return False"
   ]
  },
  {
   "cell_type": "code",
   "execution_count": 122,
   "metadata": {},
   "outputs": [],
   "source": [
    "normal_dataset, anomalous_dataset = split(dataset, blacklist)"
   ]
  },
  {
   "cell_type": "markdown",
   "metadata": {},
   "source": [
    "### CONVERT MESSAGE TO HASHED SHINGLES"
   ]
  },
  {
   "cell_type": "code",
   "execution_count": 129,
   "metadata": {},
   "outputs": [],
   "source": [
    "def hashed_shingles(message, size=10):\n",
    "    \n",
    "    # SHINGLE CONTAINER -- USING SET TO ELIMINATE DUPLICATED\n",
    "    shingles = set()\n",
    "\n",
    "    # CRAWL THROUGH THE MESSAGE\n",
    "    for i in range(len(message)-size+1):\n",
    "\n",
    "        # CREATE SHINGLE & HASH IT TO A 32-BIT INTEGER\n",
    "        shingle = message[i:i+size]\n",
    "        crc = binascii.crc32(shingle.encode('utf-8'))\n",
    "\n",
    "        # APPEND TO CONTAINER\n",
    "        shingles.add(crc)\n",
    "\n",
    "    return shingles"
   ]
  },
  {
   "cell_type": "markdown",
   "metadata": {},
   "source": [
    "### JACCARD SIMILARITY SCORE"
   ]
  },
  {
   "cell_type": "code",
   "execution_count": 130,
   "metadata": {},
   "outputs": [],
   "source": [
    "def jaccard_similarity(first_shingle, second_shingle):\n",
    "    \n",
    "    # CALCULATE CARDINALITIES\n",
    "    intersection_cardinality = len(first_shingle.intersection(second_shingle))\n",
    "    union_cardinality = len(first_shingle.union(second_shingle))\n",
    "    \n",
    "    # RETURN DIFFERENCE\n",
    "    return intersection_cardinality / float(union_cardinality)"
   ]
  },
  {
   "cell_type": "markdown",
   "metadata": {},
   "source": [
    "### FIND SIMILAR EVENTS"
   ]
  },
  {
   "cell_type": "code",
   "execution_count": 159,
   "metadata": {},
   "outputs": [],
   "source": [
    "def find_similar(dataset, shingle_size=10, similarity_threshold=0.5, debug=False):\n",
    "\n",
    "    # CONTAINER\n",
    "    candidates = []\n",
    "\n",
    "    # LOOP THROUGH UNIQUE EVENT PAIRS\n",
    "    for pair in itertools.combinations(dataset, 2):\n",
    "        \n",
    "        # GENERATE HASHED SHINGLES FOR PAIR\n",
    "        first = hashed_shingles(pair[0], size=shingle_size)\n",
    "        second = hashed_shingles(pair[1], size=shingle_size)\n",
    "        \n",
    "        # CALCULATE JACCARD SIMILARITY SCORE FOR PAIR\n",
    "        score = jaccard_similarity_score(first, second)\n",
    "\n",
    "        # IF THE SIMILARITY THRESHOLD IS BREACHED\n",
    "        if score > similarity_threshold:\n",
    "            \n",
    "            # IF DEBUGGING, PRINT PAIR\n",
    "            if debug:\n",
    "                print(pair, '\\n')\n",
    "                \n",
    "            # APPEND TO CONTAINER\n",
    "            candidates.append(pair)\n",
    "    \n",
    "    # PRINT RESULTS\n",
    "    print('SIMILARITY THRESHOLD:\\t\\t', similarity_threshold)\n",
    "    print('NUMBER OF SIMILAR ITEMS:\\t', len(candidates))\n",
    "    \n",
    "    return candidates"
   ]
  },
  {
   "cell_type": "markdown",
   "metadata": {},
   "source": [
    "### EXECUTE"
   ]
  },
  {
   "cell_type": "code",
   "execution_count": 160,
   "metadata": {
    "scrolled": true
   },
   "outputs": [
    {
     "name": "stdout",
     "output_type": "stream",
     "text": [
      "SIMILARITY THRESHOLD:\t\t 0.95\n",
      "NUMBER OF SIMILAR ITEMS:\t 6\n"
     ]
    }
   ],
   "source": [
    "similar_items = find_similar(\n",
    "    normal_dataset,\n",
    "    shingle_size=5,\n",
    "    similarity_threshold=0.95\n",
    ")"
   ]
  },
  {
   "cell_type": "code",
   "execution_count": 161,
   "metadata": {},
   "outputs": [
    {
     "name": "stdout",
     "output_type": "stream",
     "text": [
      "bcm2835-codec bcm2835-codec: Device registered as /dev/video12\n",
      "bcm2835-codec bcm2835-codec: Device registered as /dev/video11\n",
      "\n",
      "bcm2835-codec bcm2835-codec: Device registered as /dev/video12\n",
      "bcm2835-codec bcm2835-codec: Device registered as /dev/video10\n",
      "\n",
      "NET: Registered protocol family 16\n",
      "NET: Registered protocol family 1\n",
      "\n",
      "NET: Registered protocol family 17\n",
      "NET: Registered protocol family 1\n",
      "\n",
      "NET: Registered protocol family 1\n",
      "NET: Registered protocol family 10\n",
      "\n",
      "bcm2835-codec bcm2835-codec: Device registered as /dev/video11\n",
      "bcm2835-codec bcm2835-codec: Device registered as /dev/video10\n",
      "\n"
     ]
    }
   ],
   "source": [
    "for pair in similar_items:\n",
    "    print(pair[0])\n",
    "    print(pair[1])\n",
    "    print()"
   ]
  },
  {
   "cell_type": "code",
   "execution_count": 162,
   "metadata": {},
   "outputs": [],
   "source": [
    "# Reverse similarity algo. We're interested in finding the most dissimilar items."
   ]
  },
  {
   "cell_type": "code",
   "execution_count": null,
   "metadata": {},
   "outputs": [],
   "source": [
    "# CURRENT SOLUTION BOTTOMS OUT AT SCORE 0"
   ]
  },
  {
   "cell_type": "code",
   "execution_count": null,
   "metadata": {},
   "outputs": [],
   "source": []
  }
 ],
 "metadata": {
  "kernelspec": {
   "display_name": "Python 3",
   "language": "python",
   "name": "python3"
  },
  "language_info": {
   "codemirror_mode": {
    "name": "ipython",
    "version": 3
   },
   "file_extension": ".py",
   "mimetype": "text/x-python",
   "name": "python",
   "nbconvert_exporter": "python",
   "pygments_lexer": "ipython3",
   "version": "3.8.5"
  }
 },
 "nbformat": 4,
 "nbformat_minor": 4
}
