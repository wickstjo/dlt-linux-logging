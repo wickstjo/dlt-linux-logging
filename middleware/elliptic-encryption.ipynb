{
 "cells": [
  {
   "cell_type": "code",
   "execution_count": 87,
   "metadata": {},
   "outputs": [],
   "source": [
    "from ecies.utils import generate_eth_key, generate_key\n",
    "from ecies import encrypt, decrypt"
   ]
  },
  {
   "cell_type": "code",
   "execution_count": null,
   "metadata": {},
   "outputs": [],
   "source": [
    "# https://pypi.org/project/eciespy/"
   ]
  },
  {
   "cell_type": "code",
   "execution_count": null,
   "metadata": {},
   "outputs": [],
   "source": [
    "# http://www.math.brown.edu/johsilve/Presentations/WyomingEllipticCurve.pdf"
   ]
  },
  {
   "cell_type": "markdown",
   "metadata": {},
   "source": [
    "### PRIVATE KEY"
   ]
  },
  {
   "cell_type": "code",
   "execution_count": 88,
   "metadata": {},
   "outputs": [],
   "source": [
    "eth_k = generate_eth_key()"
   ]
  },
  {
   "cell_type": "code",
   "execution_count": 89,
   "metadata": {},
   "outputs": [
    {
     "data": {
      "text/plain": [
       "'0x03ee8c5fab03aa6d28f3911fd36a2698fc71caba67053d06ad6ee9b339d36f97'"
      ]
     },
     "execution_count": 89,
     "metadata": {},
     "output_type": "execute_result"
    }
   ],
   "source": [
    "eth_k"
   ]
  },
  {
   "cell_type": "markdown",
   "metadata": {},
   "source": [
    "### CONVERT TO HEX"
   ]
  },
  {
   "cell_type": "code",
   "execution_count": 96,
   "metadata": {},
   "outputs": [],
   "source": [
    "sk_hex = eth_k.to_hex()"
   ]
  },
  {
   "cell_type": "code",
   "execution_count": 97,
   "metadata": {},
   "outputs": [
    {
     "data": {
      "text/plain": [
       "'0x03ee8c5fab03aa6d28f3911fd36a2698fc71caba67053d06ad6ee9b339d36f97'"
      ]
     },
     "execution_count": 97,
     "metadata": {},
     "output_type": "execute_result"
    }
   ],
   "source": [
    "sk_hex"
   ]
  },
  {
   "cell_type": "markdown",
   "metadata": {},
   "source": [
    "### PUBLIC KEY"
   ]
  },
  {
   "cell_type": "code",
   "execution_count": 110,
   "metadata": {},
   "outputs": [],
   "source": [
    "pk_hex = eth_k.public_key.to_hex()"
   ]
  },
  {
   "cell_type": "code",
   "execution_count": 111,
   "metadata": {},
   "outputs": [
    {
     "data": {
      "text/plain": [
       "'0xb156ec544e1fc4dd102033a29c3e8b8f0d8135d439eed23d133acdebedb39a064f005d2fe4a264f4e4ba90810cfad128c5e2574889004809e54f958575c20260'"
      ]
     },
     "execution_count": 111,
     "metadata": {},
     "output_type": "execute_result"
    }
   ],
   "source": [
    "pk_hex"
   ]
  },
  {
   "cell_type": "markdown",
   "metadata": {},
   "source": [
    "### DATA"
   ]
  },
  {
   "cell_type": "code",
   "execution_count": 65,
   "metadata": {},
   "outputs": [],
   "source": [
    "data = b'this is a test'"
   ]
  },
  {
   "cell_type": "code",
   "execution_count": 75,
   "metadata": {},
   "outputs": [],
   "source": [
    "data = b'0x65180c9f9d8eeb268e6315f690833a61aed2b49d87ad57fda500f7602caa8a910345f5010928879b40cdb4582c1a0112677a4f296530620db2997c1bb9bd22560x65180c9f9d8eeb268e6315f690833a61aed2b49d87ad57fda500f7602caa8a910345f5010928879b40cdb4582c1a0112677a4f296530620db2997c1bb9bd22560x65180c9f9d8eeb268e6315f690833a61aed2b49d87ad57fda500f7602caa8a910345f5010928879b40cdb4582c1a0112677a4f296530620db2997c1bb9bd22560x65180c9f9d8eeb268e6315f690833a61aed2b49d87ad57fda500f7602caa8a910345f5010928879b40cdb4582c1a0112677a4f296530620db2997c1bb9bd22560x65180c9f9d8eeb268e6315f690833a61aed2b49d87ad57fda500f7602caa8a910345f5010928879b40cdb4582c1a0112677a4f296530620db2997c1bb9bd2256'"
   ]
  },
  {
   "cell_type": "code",
   "execution_count": 76,
   "metadata": {},
   "outputs": [
    {
     "data": {
      "text/plain": [
       "b'0x65180c9f9d8eeb268e6315f690833a61aed2b49d87ad57fda500f7602caa8a910345f5010928879b40cdb4582c1a0112677a4f296530620db2997c1bb9bd22560x65180c9f9d8eeb268e6315f690833a61aed2b49d87ad57fda500f7602caa8a910345f5010928879b40cdb4582c1a0112677a4f296530620db2997c1bb9bd22560x65180c9f9d8eeb268e6315f690833a61aed2b49d87ad57fda500f7602caa8a910345f5010928879b40cdb4582c1a0112677a4f296530620db2997c1bb9bd22560x65180c9f9d8eeb268e6315f690833a61aed2b49d87ad57fda500f7602caa8a910345f5010928879b40cdb4582c1a0112677a4f296530620db2997c1bb9bd22560x65180c9f9d8eeb268e6315f690833a61aed2b49d87ad57fda500f7602caa8a910345f5010928879b40cdb4582c1a0112677a4f296530620db2997c1bb9bd2256'"
      ]
     },
     "execution_count": 76,
     "metadata": {},
     "output_type": "execute_result"
    }
   ],
   "source": [
    "data"
   ]
  },
  {
   "cell_type": "markdown",
   "metadata": {},
   "source": [
    "### ENCRYPT"
   ]
  },
  {
   "cell_type": "code",
   "execution_count": 120,
   "metadata": {},
   "outputs": [],
   "source": [
    "encrypted = encrypt(pk_hex, data)"
   ]
  },
  {
   "cell_type": "code",
   "execution_count": 121,
   "metadata": {
    "scrolled": true
   },
   "outputs": [
    {
     "data": {
      "text/plain": [
       "b'\\x04\\x9ch\\xb9\\xee\\xe7\\xba\\xd5U\\x8c\\xef\\x1a\\x93\\x15\\xcfa\\xd4\\xaa\\xb5\\xcf\\xc1v\\x83\\xbd\\xc0\\x9fg\\xdeV\\xfd(\\xba\\x83\\xcc\\x9d\\x8e\\x8c?\\x0c\\x03\\xfc\\xdaj\\xa6]\\xa2~d\\x08T\\xc9\\xc8\\xd0J\\xf4\\xfae\\xa8 \\xf96\\xa6\\xbaWR\\x12$V9r\\xac8\\x93\\xb3\\xdb>\\t\\xa3\\x85G\\x14\\xb1Jzo\\xa9\\tF\\xe8\\xe5%\\xb2\\x99\\xd0\\xa9\\x96\\x81zm\\xc0G\\x05k\\x9c0\\xd5\\xfe(\\xfe\\x1dv\\xed\\x8a\\xb8\\x18\\x93d\\xf0\\xd0\\x82.>I\\x1a\\x81\\x04\\xa8\\x9b\\xb0\\xc5V\\xd2\\xed\\x00\\xcb\\xef\\x0f<\\xad\\xcaU?o:\\xf3;\\x86YL\\xab\\xf2\\x88\\xae\\xea\\xcbz\\x10\\xae@(\\xffS\\x00\\x17\\xec\\xd4\\xb05%\\x89X\\x99C\\x87\\x15\\x19\\xd4`\\xb1\\xfd\\x01p\\xa2hj\\x11$7\\xeexa\\x05\\xa4\\xa6WY\\xdf[]\\xbfx\\xc5\\xed{\\xc7\"\\x96\\x89Z\\x05\\x14\\'\\xc0\\xef\\xe7\\xda$\\xfa\\xd6>\\x9aX\\xd5\\xcf \\xd6\\xc3X\\xa0\\xb5BSM\\xca\\xc9\\xc2By\\x15\\x0b\\xa7~4+\\xbe0\\xefN\\x1e\\xc0\\r\\xca[>\\xb6\\x9e\\xa8&Wk\\xa2\\xbd6\\xb7\\xed\\xdeH\\x80\\x8fI\\xc4::4\\x18VD\\xfd\\x05\\x86-^\\x81\\xd2x\\xa9\\x00\\x9bV\\x19F\\xed\\n\\tiUQJ\\xd7\\xc9+@\\xaf\\xb4\\xe4o\\x0f\\x7f\\x9dc\\x97\\xd5\\xd4\\x8b#\\xffM\\xf7\\x17\\xf8\\xe5\\x95\\xa8\\x1b%\\xf5\\x93\\xa8vcNGu\\xd5\\x03E\\x8c/\\x98\\xbb\\xdb\\x9c\\x9c\\xdc\\xd0\\xd1\\xf3d\\xaat;\\x92\\x8f\\xb2/DE\\xcd\\xb0\\x9ab\\xb0\\x12twu\\x82Mc(\\xe1\\xfb\\x82\\x8d\\xcc,\\xd2\\xea\\xeaO\\x98\\xffA\\r\\xec\\xf9\\xcb\\xeaV\\x91\\xc7\\xfd\\n4b\\xb4\\x8e\\xcf\\x8c\\xc4v$\\xb1\\x15\\x08\\xc2b\\x96K\\xf1\\x15V;r\\x9f\\xceg~\\x8d\\xf7\"@h\\x8fs\\xd2(\\xce\\\\H\\xefi\\x0b\\x17\\x837>&\\xf4\\x1d\\x8fd\\xb1\\xfcN\\xc4\\xd9\\x07\\x18\\x0f\\x83\\x0c\\x07\\xac\\xc3h,\\x94\\x8a\\xb9\\xc0Q\\xeb\\x9c\\xe5\\x12\\xce\\xa8\\xff\\xa7Q\\x8f\\xb1\\xf5s\\xfa\\xa7<fw\\x1c\\xb5dt\\xa3\\x10\\x8a(k!\\xca]\\x94\\x15\\xce=\\x7f\\xa8\\xa7\\xb9\\xe2D#,\\xd4\\xc1\\xd7Eg\\xda\\xfe\\xfa!\\x9f\\xc1p>bB\\xa0K\\x8e(\\x11\\x8d\\xb7\\x8d\\x8f\\x1e\\xdcs\\xfeE,u\\xb5\\x80\\xfc\\xbd\\xeeH:\\x17\\x89r\\xe7\\xdcf\\x1f\\xdce\\xb7\\x14\\xb7\\xc8\\x06\\xca\\x0cW \\xc1\\x85\\xf9G\\xe8\\x82\\x1b\\x8d\\xc1\\xb8\\xb8\\xcd\\xf43\\xbb4\\xe8Q\\x9e\\xb4H\\xdd\\xed\\xbfJ9,\\xb90)W\\x14^\\x0c\\xc8j\"|w\\xf0\\xf8\\x1d\\xed\\xfei\\xec~\\xa5D\\xa1\\xdc\\t\\xaf\\xb1\\x92\\xb2\\xf0\\xb89\\x0beH\\xaa\\x07\\xe7\\x00\\x8e\\x8f\\x1b\\x10/\\x04\\x82\\x16\\xd32`\\x19d\\xbc\\xd4m\\x98g\\x9e\\x8cg\\x1e\\xf9n\\x0bk\\x1d\\xc8\\x92J\\xc4Q\\xda\\x8b\\x83!\\xe7\\xf0YL\\xf0J\\xb8\\xc8\\x95\\xc1\\xfb\\x9d\\xdd\\x80j\\x04\\xc5\\xfd\\xae\\xb1jV\\xe6:\\x88i\\xa0\\xa1\\xbe\\x9a\\xc2\\x93q\\xca\\x14\\x8a\\x937\\xf03\\xe9\\xd2\\xfd\\x1d\\xb5\\x85ub\\xc11L)\\x97\\xc0 \\xd6c\\xca\\xe5\\x8dC\\x12\\xd2\\x06\\x86\\xd6\\xeaY\\xa2G\\n\\xec\\xb4,\\xdfyQs\\x7f\\xf6\\x1fQ\\x14w\\xac'"
      ]
     },
     "execution_count": 121,
     "metadata": {},
     "output_type": "execute_result"
    }
   ],
   "source": [
    "encrypted"
   ]
  },
  {
   "cell_type": "markdown",
   "metadata": {},
   "source": [
    "### DECRYPT"
   ]
  },
  {
   "cell_type": "code",
   "execution_count": 79,
   "metadata": {},
   "outputs": [],
   "source": [
    "decrypted = decrypt(sk_hex, encrypted)"
   ]
  },
  {
   "cell_type": "code",
   "execution_count": 80,
   "metadata": {},
   "outputs": [
    {
     "data": {
      "text/plain": [
       "b'0x65180c9f9d8eeb268e6315f690833a61aed2b49d87ad57fda500f7602caa8a910345f5010928879b40cdb4582c1a0112677a4f296530620db2997c1bb9bd22560x65180c9f9d8eeb268e6315f690833a61aed2b49d87ad57fda500f7602caa8a910345f5010928879b40cdb4582c1a0112677a4f296530620db2997c1bb9bd22560x65180c9f9d8eeb268e6315f690833a61aed2b49d87ad57fda500f7602caa8a910345f5010928879b40cdb4582c1a0112677a4f296530620db2997c1bb9bd22560x65180c9f9d8eeb268e6315f690833a61aed2b49d87ad57fda500f7602caa8a910345f5010928879b40cdb4582c1a0112677a4f296530620db2997c1bb9bd22560x65180c9f9d8eeb268e6315f690833a61aed2b49d87ad57fda500f7602caa8a910345f5010928879b40cdb4582c1a0112677a4f296530620db2997c1bb9bd2256'"
      ]
     },
     "execution_count": 80,
     "metadata": {},
     "output_type": "execute_result"
    }
   ],
   "source": [
    "decrypted"
   ]
  },
  {
   "cell_type": "markdown",
   "metadata": {},
   "source": [
    "### OTHER"
   ]
  },
  {
   "cell_type": "code",
   "execution_count": 11,
   "metadata": {},
   "outputs": [],
   "source": [
    "secp_k = generate_key()"
   ]
  },
  {
   "cell_type": "code",
   "execution_count": 12,
   "metadata": {},
   "outputs": [
    {
     "data": {
      "text/plain": [
       "<coincurve.keys.PrivateKey at 0x7f096dd042e0>"
      ]
     },
     "execution_count": 12,
     "metadata": {},
     "output_type": "execute_result"
    }
   ],
   "source": [
    "secp_k"
   ]
  },
  {
   "cell_type": "code",
   "execution_count": 13,
   "metadata": {},
   "outputs": [],
   "source": [
    "sk_bytes = secp_k.secret"
   ]
  },
  {
   "cell_type": "code",
   "execution_count": 14,
   "metadata": {},
   "outputs": [
    {
     "data": {
      "text/plain": [
       "b'n\\x0eo1&*\\xa1\\x9d\\xfe\\x13w>\\xba\\xb9\\x88E\\xe6\\xeb\\xb8\\x1f4\\xe3\\x0cM\\tR\\x8a\\x93\\x05\\xbc\\xb9\\xd7'"
      ]
     },
     "execution_count": 14,
     "metadata": {},
     "output_type": "execute_result"
    }
   ],
   "source": [
    "sk_bytes"
   ]
  },
  {
   "cell_type": "code",
   "execution_count": 15,
   "metadata": {},
   "outputs": [],
   "source": [
    "pk_bytes = secp_k.public_key.format(True)"
   ]
  },
  {
   "cell_type": "code",
   "execution_count": 16,
   "metadata": {},
   "outputs": [
    {
     "data": {
      "text/plain": [
       "b'\\x02\\x0e<B\\xc2\\xaf\\x98%\\xf2m:\\xaf\\xba0\\xfe\\xe6\\xcb\\xcc\\x83\\x825c`\\xd4\\x0e\\x1a\\xcb,\\xab\\xd4\\xe0\\x086'"
      ]
     },
     "execution_count": 16,
     "metadata": {},
     "output_type": "execute_result"
    }
   ],
   "source": [
    "pk_bytes"
   ]
  },
  {
   "cell_type": "code",
   "execution_count": 17,
   "metadata": {},
   "outputs": [
    {
     "data": {
      "text/plain": [
       "b'this is a test'"
      ]
     },
     "execution_count": 17,
     "metadata": {},
     "output_type": "execute_result"
    }
   ],
   "source": [
    "decrypt(sk_bytes, encrypt(pk_bytes, data))"
   ]
  }
 ],
 "metadata": {
  "kernelspec": {
   "display_name": "Python 3",
   "language": "python",
   "name": "python3"
  },
  "language_info": {
   "codemirror_mode": {
    "name": "ipython",
    "version": 3
   },
   "file_extension": ".py",
   "mimetype": "text/x-python",
   "name": "python",
   "nbconvert_exporter": "python",
   "pygments_lexer": "ipython3",
   "version": "3.8.5"
  }
 },
 "nbformat": 4,
 "nbformat_minor": 4
}
