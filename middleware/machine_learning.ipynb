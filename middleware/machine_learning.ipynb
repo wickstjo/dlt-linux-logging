{
 "cells": [
  {
   "cell_type": "code",
   "execution_count": 1,
   "metadata": {},
   "outputs": [],
   "source": [
    "from sklearn.feature_extraction.text import TfidfVectorizer\n",
    "from sklearn.ensemble import IsolationForest"
   ]
  },
  {
   "cell_type": "code",
   "execution_count": 2,
   "metadata": {},
   "outputs": [],
   "source": [
    "import pandas as pd\n",
    "import numpy as np\n",
    "import math\n",
    "import random"
   ]
  },
  {
   "cell_type": "markdown",
   "metadata": {},
   "source": [
    "### LOAD DATASET"
   ]
  },
  {
   "cell_type": "code",
   "execution_count": 3,
   "metadata": {},
   "outputs": [],
   "source": [
    "dataframe = pd.read_csv('data/cleaned_data.csv', index_col='Unnamed: 0')"
   ]
  },
  {
   "cell_type": "code",
   "execution_count": 4,
   "metadata": {},
   "outputs": [
    {
     "data": {
      "text/html": [
       "<div>\n",
       "<style scoped>\n",
       "    .dataframe tbody tr th:only-of-type {\n",
       "        vertical-align: middle;\n",
       "    }\n",
       "\n",
       "    .dataframe tbody tr th {\n",
       "        vertical-align: top;\n",
       "    }\n",
       "\n",
       "    .dataframe thead th {\n",
       "        text-align: right;\n",
       "    }\n",
       "</style>\n",
       "<table border=\"1\" class=\"dataframe\">\n",
       "  <thead>\n",
       "    <tr style=\"text-align: right;\">\n",
       "      <th></th>\n",
       "      <th>timestamp</th>\n",
       "      <th>module</th>\n",
       "      <th>code</th>\n",
       "      <th>message</th>\n",
       "    </tr>\n",
       "  </thead>\n",
       "  <tbody>\n",
       "    <tr>\n",
       "      <th>0</th>\n",
       "      <td>1613190301</td>\n",
       "      <td>libloggingstdlog</td>\n",
       "      <td>none</td>\n",
       "      <td>[origin software=\"rsyslogd\" swVersion=\"8.24.0\"...</td>\n",
       "    </tr>\n",
       "    <tr>\n",
       "      <th>1</th>\n",
       "      <td>1613193421</td>\n",
       "      <td>CRON</td>\n",
       "      <td>32398</td>\n",
       "      <td>(root) CMD ( cd / &amp;&amp; run-parts --report /etc/c...</td>\n",
       "    </tr>\n",
       "    <tr>\n",
       "      <th>2</th>\n",
       "      <td>1613197021</td>\n",
       "      <td>CRON</td>\n",
       "      <td>6546</td>\n",
       "      <td>(root) CMD ( cd / &amp;&amp; run-parts --report /etc/c...</td>\n",
       "    </tr>\n",
       "    <tr>\n",
       "      <th>3</th>\n",
       "      <td>1613200621</td>\n",
       "      <td>CRON</td>\n",
       "      <td>12800</td>\n",
       "      <td>(root) CMD ( cd / &amp;&amp; run-parts --report /etc/c...</td>\n",
       "    </tr>\n",
       "    <tr>\n",
       "      <th>4</th>\n",
       "      <td>1613204221</td>\n",
       "      <td>CRON</td>\n",
       "      <td>19277</td>\n",
       "      <td>(root) CMD ( cd / &amp;&amp; run-parts --report /etc/c...</td>\n",
       "    </tr>\n",
       "    <tr>\n",
       "      <th>5</th>\n",
       "      <td>1613207821</td>\n",
       "      <td>CRON</td>\n",
       "      <td>25771</td>\n",
       "      <td>(root) CMD ( cd / &amp;&amp; run-parts --report /etc/c...</td>\n",
       "    </tr>\n",
       "    <tr>\n",
       "      <th>6</th>\n",
       "      <td>1613211421</td>\n",
       "      <td>CRON</td>\n",
       "      <td>32248</td>\n",
       "      <td>(root) CMD ( cd / &amp;&amp; run-parts --report /etc/c...</td>\n",
       "    </tr>\n",
       "    <tr>\n",
       "      <th>7</th>\n",
       "      <td>1613214001</td>\n",
       "      <td>CRON</td>\n",
       "      <td>4465</td>\n",
       "      <td>(root) CMD (./home/wickstjo/scripts/ropsten.sh)</td>\n",
       "    </tr>\n",
       "    <tr>\n",
       "      <th>8</th>\n",
       "      <td>1613214001</td>\n",
       "      <td>CRON</td>\n",
       "      <td>4461</td>\n",
       "      <td>(CRON) info (No MTA installed, discarding output)</td>\n",
       "    </tr>\n",
       "    <tr>\n",
       "      <th>9</th>\n",
       "      <td>1613215021</td>\n",
       "      <td>CRON</td>\n",
       "      <td>6268</td>\n",
       "      <td>(root) CMD ( cd / &amp;&amp; run-parts --report /etc/c...</td>\n",
       "    </tr>\n",
       "  </tbody>\n",
       "</table>\n",
       "</div>"
      ],
      "text/plain": [
       "    timestamp            module   code  \\\n",
       "0  1613190301  libloggingstdlog   none   \n",
       "1  1613193421              CRON  32398   \n",
       "2  1613197021              CRON   6546   \n",
       "3  1613200621              CRON  12800   \n",
       "4  1613204221              CRON  19277   \n",
       "5  1613207821              CRON  25771   \n",
       "6  1613211421              CRON  32248   \n",
       "7  1613214001              CRON   4465   \n",
       "8  1613214001              CRON   4461   \n",
       "9  1613215021              CRON   6268   \n",
       "\n",
       "                                             message  \n",
       "0  [origin software=\"rsyslogd\" swVersion=\"8.24.0\"...  \n",
       "1  (root) CMD ( cd / && run-parts --report /etc/c...  \n",
       "2  (root) CMD ( cd / && run-parts --report /etc/c...  \n",
       "3  (root) CMD ( cd / && run-parts --report /etc/c...  \n",
       "4  (root) CMD ( cd / && run-parts --report /etc/c...  \n",
       "5  (root) CMD ( cd / && run-parts --report /etc/c...  \n",
       "6  (root) CMD ( cd / && run-parts --report /etc/c...  \n",
       "7    (root) CMD (./home/wickstjo/scripts/ropsten.sh)  \n",
       "8  (CRON) info (No MTA installed, discarding output)  \n",
       "9  (root) CMD ( cd / && run-parts --report /etc/c...  "
      ]
     },
     "execution_count": 4,
     "metadata": {},
     "output_type": "execute_result"
    }
   ],
   "source": [
    "dataframe.head(10)"
   ]
  },
  {
   "cell_type": "code",
   "execution_count": 5,
   "metadata": {},
   "outputs": [],
   "source": [
    "dataset = np.array(dataframe['message'])"
   ]
  },
  {
   "cell_type": "markdown",
   "metadata": {},
   "source": [
    "### FIND ANOMALOUS EVENTS"
   ]
  },
  {
   "cell_type": "code",
   "execution_count": 6,
   "metadata": {},
   "outputs": [],
   "source": [
    "outliers = []"
   ]
  },
  {
   "cell_type": "code",
   "execution_count": 7,
   "metadata": {},
   "outputs": [],
   "source": [
    "blacklisted_phrases = [\n",
    "    'ropsten',\n",
    "    'Created slice User',\n",
    "    'Started Session c',\n",
    "    'New USB device found',\n",
    "    '@reboot jobs',\n",
    "    'Started System Logging'\n",
    "]"
   ]
  },
  {
   "cell_type": "code",
   "execution_count": 8,
   "metadata": {},
   "outputs": [],
   "source": [
    "# LOOP THROUGH DATASET ROWS\n",
    "for row in dataset:\n",
    "\n",
    "    # LOOP THROUGH BLACKLISTED PHRASES\n",
    "    for phrase in blacklisted_phrases:\n",
    "        \n",
    "        # CHECK IF THE ROW CONTAINS BAD PHRASES\n",
    "        if phrase in row:\n",
    "            outliers.append(row)"
   ]
  },
  {
   "cell_type": "markdown",
   "metadata": {},
   "source": [
    "### VECTORIZE DATASETS INTO FEATURES"
   ]
  },
  {
   "cell_type": "code",
   "execution_count": 9,
   "metadata": {},
   "outputs": [],
   "source": [
    "def create_features(dataset):\n",
    "    \n",
    "    # CREATE THE VECTORIZER\n",
    "    vectorizer = TfidfVectorizer()\n",
    "    \n",
    "    # FIT VECTORIZER & CREATE TRAIN FEATURES\n",
    "    features = vectorizer.fit_transform(dataset)\n",
    "    \n",
    "    return features, vectorizer"
   ]
  },
  {
   "cell_type": "code",
   "execution_count": 10,
   "metadata": {},
   "outputs": [],
   "source": [
    "features, vectorizer = create_features(dataset)"
   ]
  },
  {
   "cell_type": "markdown",
   "metadata": {},
   "source": [
    "### TRAIN ISOLATION FOREST"
   ]
  },
  {
   "cell_type": "code",
   "execution_count": 11,
   "metadata": {},
   "outputs": [],
   "source": [
    "model_config = {\n",
    "    'n_estimators': 1000,\n",
    "    'random_state': 200,\n",
    "    'contamination': len(outliers) / len(dataset)\n",
    "}"
   ]
  },
  {
   "cell_type": "code",
   "execution_count": 12,
   "metadata": {},
   "outputs": [],
   "source": [
    "def train_isolation(features):\n",
    "    \n",
    "    # CREATE THE MODEL\n",
    "    model = IsolationForest(**model_config)\n",
    "    \n",
    "    # TRAIN IT\n",
    "    model.fit(features)\n",
    "    \n",
    "    return model"
   ]
  },
  {
   "cell_type": "code",
   "execution_count": 13,
   "metadata": {},
   "outputs": [],
   "source": [
    "model = train_isolation(features)"
   ]
  },
  {
   "cell_type": "markdown",
   "metadata": {},
   "source": [
    "### PREDICT WITH SAME FEATURES"
   ]
  },
  {
   "cell_type": "code",
   "execution_count": 14,
   "metadata": {},
   "outputs": [],
   "source": [
    "predictions = model.predict(features)"
   ]
  },
  {
   "cell_type": "markdown",
   "metadata": {},
   "source": [
    "### INSPECT THE ANOMALOUS EVENTS"
   ]
  },
  {
   "cell_type": "code",
   "execution_count": 15,
   "metadata": {
    "scrolled": false
   },
   "outputs": [
    {
     "name": "stdout",
     "output_type": "stream",
     "text": [
      "Error getting user list from org.freedesktop.Accounts: GDBus.Error:org.freedesktop.DBus.Error.ServiceUnknown: The name org.freedesktop.Accounts was not provided by any .service files\n",
      "Error getting user list from org.freedesktop.Accounts: GDBus.Error:org.freedesktop.DBus.Error.ServiceUnknown: The name org.freedesktop.Accounts was not provided by any .service files\n",
      "Error getting user list from org.freedesktop.Accounts: GDBus.Error:org.freedesktop.DBus.Error.ServiceUnknown: The name org.freedesktop.Accounts was not provided by any .service files\n",
      "Kernel command line: coherent_pool=1M 8250.nr_uarts=1 bcm2708_fb.fbwidth=1824 bcm2708_fb.fbheight=984 bcm2708_fb.fbswap=1 vc_mem.mem_base=0x3ec00000 vc_mem.mem_size=0x40000000 dwc_otg.lpm_enable=0 console=tty1 console=ttyS0,115200 root=/dev/mmcblk0p7 rootfstype=ext4 elevator=deadline fsck.repair=yes rootwait splash plymouth.ignore-serial-consoles quiet\n",
      "input: Logitech Optical USB Mouse as /devices/platform/soc/3f980000.usb/usb1/1-1/1-1.2/1-1.2:1.0/0003:046D:C016.0001/input/input0\n",
      "Process '/usr/sbin/th-cmd --socket /var/run/thd.socket --passfd --udev' failed with exit code 1.\n",
      "Process '/usr/sbin/th-cmd --socket /var/run/thd.socket --passfd --udev' failed with exit code 1.\n",
      "Process '/usr/sbin/th-cmd --socket /var/run/thd.socket --passfd --udev' failed with exit code 1.\n",
      "vc_sm_cma: module is from the staging directory, the quality is unknown, you have been warned.\n",
      "snd_bcm2835: module is from the staging directory, the quality is unknown, you have been warned.\n",
      "bcm2835_mmal_vchiq: module is from the staging directory, the quality is unknown, you have been warned.\n",
      "bcm2835_mmal_vchiq: module is from the staging directory, the quality is unknown, you have been warned.\n",
      "bcm2835_v4l2: module is from the staging directory, the quality is unknown, you have been warned.\n",
      "bcm2835_codec: module is from the staging directory, the quality is unknown, you have been warned.\n",
      "Joining mDNS multicast group on interface wlan0.IPv6 with address fe80::d0c2:2478:962:777b.\n",
      "Leaving mDNS multicast group on interface wlan0.IPv6 with address fe80::d0c2:2478:962:777b.\n",
      "Error getting user list from org.freedesktop.Accounts: GDBus.Error:org.freedesktop.DBus.Error.ServiceUnknown: The name org.freedesktop.Accounts was not provided by any .service files\n",
      "Error getting user list from org.freedesktop.Accounts: GDBus.Error:org.freedesktop.DBus.Error.ServiceUnknown: The name org.freedesktop.Accounts was not provided by any .service files\n",
      "Error getting user list from org.freedesktop.Accounts: GDBus.Error:org.freedesktop.DBus.Error.ServiceUnknown: The name org.freedesktop.Accounts was not provided by any .service files\n",
      "Joining mDNS multicast group on interface wlan0.IPv6 with address 2001:708:170:360:93e7:82bf:af2c:bc6d.\n",
      "Registering new address record for 2001:708:170:360:93e7:82bf:af2c:bc6d on wlan0.*.\n",
      "Joining mDNS multicast group on interface wlan0.IPv4 with address 193.167.36.202.\n",
      "Registering new address record for 193.167.36.202 on wlan0.IPv4.\n",
      "Error getting user list from org.freedesktop.Accounts: GDBus.Error:org.freedesktop.DBus.Error.ServiceUnknown: The name org.freedesktop.Accounts was not provided by any .service files\n",
      "Error getting user list from org.freedesktop.Accounts: GDBus.Error:org.freedesktop.DBus.Error.ServiceUnknown: The name org.freedesktop.Accounts was not provided by any .service files\n",
      "Error getting user list from org.freedesktop.Accounts: GDBus.Error:org.freedesktop.DBus.Error.ServiceUnknown: The name org.freedesktop.Accounts was not provided by any .service files\n",
      "Kernel command line: coherent_pool=1M 8250.nr_uarts=1 bcm2708_fb.fbwidth=1824 bcm2708_fb.fbheight=984 bcm2708_fb.fbswap=1 vc_mem.mem_base=0x3ec00000 vc_mem.mem_size=0x40000000 dwc_otg.lpm_enable=0 console=tty1 console=ttyS0,115200 root=/dev/mmcblk0p7 rootfstype=ext4 elevator=deadline fsck.repair=yes rootwait splash plymouth.ignore-serial-consoles quiet\n",
      "Process '/usr/sbin/th-cmd --socket /var/run/thd.socket --passfd --udev' failed with exit code 1.\n",
      "Process '/usr/sbin/th-cmd --socket /var/run/thd.socket --passfd --udev' failed with exit code 1.\n",
      "Process '/usr/sbin/th-cmd --socket /var/run/thd.socket --passfd --udev' failed with exit code 1.\n",
      "input: Logitech Optical USB Mouse as /devices/platform/soc/3f980000.usb/usb1/1-1/1-1.2/1-1.2:1.0/0003:046D:C016.0001/input/input0\n",
      "vc_sm_cma: module is from the staging directory, the quality is unknown, you have been warned.\n",
      "snd_bcm2835: module is from the staging directory, the quality is unknown, you have been warned.\n",
      "bcm2835_mmal_vchiq: module is from the staging directory, the quality is unknown, you have been warned.\n",
      "bcm2835_mmal_vchiq: module is from the staging directory, the quality is unknown, you have been warned.\n",
      "bcm2835_v4l2: module is from the staging directory, the quality is unknown, you have been warned.\n",
      "bcm2835_codec: module is from the staging directory, the quality is unknown, you have been warned.\n",
      "Joining mDNS multicast group on interface wlan0.IPv6 with address fe80::d0c2:2478:962:777b.\n",
      "Leaving mDNS multicast group on interface wlan0.IPv6 with address fe80::d0c2:2478:962:777b.\n",
      "Error getting user list from org.freedesktop.Accounts: GDBus.Error:org.freedesktop.DBus.Error.ServiceUnknown: The name org.freedesktop.Accounts was not provided by any .service files\n",
      "Error getting user list from org.freedesktop.Accounts: GDBus.Error:org.freedesktop.DBus.Error.ServiceUnknown: The name org.freedesktop.Accounts was not provided by any .service files\n",
      "Error getting user list from org.freedesktop.Accounts: GDBus.Error:org.freedesktop.DBus.Error.ServiceUnknown: The name org.freedesktop.Accounts was not provided by any .service files\n",
      "Joining mDNS multicast group on interface wlan0.IPv6 with address 2001:708:170:360:93e7:82bf:af2c:bc6d.\n",
      "Registering new address record for 2001:708:170:360:93e7:82bf:af2c:bc6d on wlan0.*.\n",
      "Joining mDNS multicast group on interface wlan0.IPv4 with address 193.167.36.202.\n",
      "Registering new address record for 193.167.36.202 on wlan0.IPv4.\n",
      "Process '/usr/sbin/th-cmd --socket /var/run/thd.socket --passfd --udev' failed with exit code 1.\n",
      "Kernel command line: coherent_pool=1M 8250.nr_uarts=1 bcm2708_fb.fbwidth=1824 bcm2708_fb.fbheight=984 bcm2708_fb.fbswap=1 vc_mem.mem_base=0x3ec00000 vc_mem.mem_size=0x40000000 dwc_otg.lpm_enable=0 console=tty1 console=ttyS0,115200 root=/dev/mmcblk0p7 rootfstype=ext4 elevator=deadline fsck.repair=yes rootwait splash plymouth.ignore-serial-consoles quiet\n",
      "Process '/usr/sbin/th-cmd --socket /var/run/thd.socket --passfd --udev' failed with exit code 1.\n",
      "Process '/usr/sbin/th-cmd --socket /var/run/thd.socket --passfd --udev' failed with exit code 1.\n",
      "input: Logitech Optical USB Mouse as /devices/platform/soc/3f980000.usb/usb1/1-1/1-1.2/1-1.2:1.0/0003:046D:C016.0001/input/input0\n",
      "vc_sm_cma: module is from the staging directory, the quality is unknown, you have been warned.\n",
      "snd_bcm2835: module is from the staging directory, the quality is unknown, you have been warned.\n",
      "bcm2835_mmal_vchiq: module is from the staging directory, the quality is unknown, you have been warned.\n",
      "bcm2835_v4l2: module is from the staging directory, the quality is unknown, you have been warned.\n",
      "bcm2835_codec: module is from the staging directory, the quality is unknown, you have been warned.\n",
      "Error getting user list from org.freedesktop.Accounts: GDBus.Error:org.freedesktop.DBus.Error.ServiceUnknown: The name org.freedesktop.Accounts was not provided by any .service files\n",
      "Joining mDNS multicast group on interface wlan0.IPv6 with address fe80::d0c2:2478:962:777b.\n",
      "Leaving mDNS multicast group on interface wlan0.IPv6 with address fe80::d0c2:2478:962:777b.\n",
      "Error getting user list from org.freedesktop.Accounts: GDBus.Error:org.freedesktop.DBus.Error.ServiceUnknown: The name org.freedesktop.Accounts was not provided by any .service files\n",
      "Error getting user list from org.freedesktop.Accounts: GDBus.Error:org.freedesktop.DBus.Error.ServiceUnknown: The name org.freedesktop.Accounts was not provided by any .service files\n",
      "Joining mDNS multicast group on interface wlan0.IPv6 with address 2001:708:170:360:93e7:82bf:af2c:bc6d.\n",
      "Registering new address record for 2001:708:170:360:93e7:82bf:af2c:bc6d on wlan0.*.\n",
      "Joining mDNS multicast group on interface wlan0.IPv4 with address 193.167.36.202.\n",
      "Registering new address record for 193.167.36.202 on wlan0.IPv4.\n",
      "Kernel command line: coherent_pool=1M 8250.nr_uarts=1 bcm2708_fb.fbwidth=1824 bcm2708_fb.fbheight=984 bcm2708_fb.fbswap=1 vc_mem.mem_base=0x3ec00000 vc_mem.mem_size=0x40000000 dwc_otg.lpm_enable=0 console=tty1 console=ttyS0,115200 root=/dev/mmcblk0p7 rootfstype=ext4 elevator=deadline fsck.repair=yes rootwait splash plymouth.ignore-serial-consoles quiet\n",
      "Process '/usr/sbin/th-cmd --socket /var/run/thd.socket --passfd --udev' failed with exit code 1.\n",
      "Process '/usr/sbin/th-cmd --socket /var/run/thd.socket --passfd --udev' failed with exit code 1.\n",
      "Process '/usr/sbin/th-cmd --socket /var/run/thd.socket --passfd --udev' failed with exit code 1.\n",
      "input: Logitech Optical USB Mouse as /devices/platform/soc/3f980000.usb/usb1/1-1/1-1.2/1-1.2:1.0/0003:046D:C016.0001/input/input0\n",
      "vc_sm_cma: module is from the staging directory, the quality is unknown, you have been warned.\n",
      "snd_bcm2835: module is from the staging directory, the quality is unknown, you have been warned.\n",
      "bcm2835_mmal_vchiq: module is from the staging directory, the quality is unknown, you have been warned.\n",
      "bcm2835_mmal_vchiq: module is from the staging directory, the quality is unknown, you have been warned.\n",
      "bcm2835_v4l2: module is from the staging directory, the quality is unknown, you have been warned.\n",
      "bcm2835_codec: module is from the staging directory, the quality is unknown, you have been warned.\n",
      "Joining mDNS multicast group on interface wlan0.IPv6 with address fe80::d0c2:2478:962:777b.\n",
      "Leaving mDNS multicast group on interface wlan0.IPv6 with address fe80::d0c2:2478:962:777b.\n",
      "Error getting user list from org.freedesktop.Accounts: GDBus.Error:org.freedesktop.DBus.Error.ServiceUnknown: The name org.freedesktop.Accounts was not provided by any .service files\n",
      "Error getting user list from org.freedesktop.Accounts: GDBus.Error:org.freedesktop.DBus.Error.ServiceUnknown: The name org.freedesktop.Accounts was not provided by any .service files\n",
      "Error getting user list from org.freedesktop.Accounts: GDBus.Error:org.freedesktop.DBus.Error.ServiceUnknown: The name org.freedesktop.Accounts was not provided by any .service files\n",
      "Joining mDNS multicast group on interface wlan0.IPv6 with address 2001:708:170:360:93e7:82bf:af2c:bc6d.\n",
      "Registering new address record for 2001:708:170:360:93e7:82bf:af2c:bc6d on wlan0.*.\n",
      "Joining mDNS multicast group on interface wlan0.IPv4 with address 193.167.36.202.\n",
      "Registering new address record for 193.167.36.202 on wlan0.IPv4.\n",
      "Registering new address record for 2001:708:170:360:93e7:82bf:af2c:bc6d on wlan0.*.\n",
      "Registering new address record for 193.167.36.202 on wlan0.IPv4.\n"
     ]
    }
   ],
   "source": [
    "for index, prediction in enumerate(predictions):\n",
    "    \n",
    "    # FIND ALL -1 VALUES (ANOMALIES)\n",
    "    if prediction != 1:\n",
    "        \n",
    "        # PRINT ROW FROM TEST SET\n",
    "        print(dataset[index])"
   ]
  },
  {
   "cell_type": "code",
   "execution_count": null,
   "metadata": {},
   "outputs": [],
   "source": []
  }
 ],
 "metadata": {
  "kernelspec": {
   "display_name": "Python 3",
   "language": "python",
   "name": "python3"
  },
  "language_info": {
   "codemirror_mode": {
    "name": "ipython",
    "version": 3
   },
   "file_extension": ".py",
   "mimetype": "text/x-python",
   "name": "python",
   "nbconvert_exporter": "python",
   "pygments_lexer": "ipython3",
   "version": "3.7.9"
  }
 },
 "nbformat": 4,
 "nbformat_minor": 4
}
