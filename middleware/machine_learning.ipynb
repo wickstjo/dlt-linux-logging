{
 "cells": [
  {
   "cell_type": "code",
   "execution_count": 1,
   "metadata": {},
   "outputs": [],
   "source": [
    "from sklearn.feature_extraction.text import TfidfVectorizer\n",
    "from sklearn.ensemble import IsolationForest"
   ]
  },
  {
   "cell_type": "code",
   "execution_count": 2,
   "metadata": {},
   "outputs": [],
   "source": [
    "import pandas as pd\n",
    "import numpy as np\n",
    "import math\n",
    "import random"
   ]
  },
  {
   "cell_type": "markdown",
   "metadata": {},
   "source": [
    "### LOAD DATASET"
   ]
  },
  {
   "cell_type": "code",
   "execution_count": 3,
   "metadata": {},
   "outputs": [],
   "source": [
    "dataframe = pd.read_csv('data/cleaned_data.csv', index_col='Unnamed: 0')"
   ]
  },
  {
   "cell_type": "code",
   "execution_count": 4,
   "metadata": {},
   "outputs": [
    {
     "data": {
      "text/html": [
       "<div>\n",
       "<style scoped>\n",
       "    .dataframe tbody tr th:only-of-type {\n",
       "        vertical-align: middle;\n",
       "    }\n",
       "\n",
       "    .dataframe tbody tr th {\n",
       "        vertical-align: top;\n",
       "    }\n",
       "\n",
       "    .dataframe thead th {\n",
       "        text-align: right;\n",
       "    }\n",
       "</style>\n",
       "<table border=\"1\" class=\"dataframe\">\n",
       "  <thead>\n",
       "    <tr style=\"text-align: right;\">\n",
       "      <th></th>\n",
       "      <th>timestamp</th>\n",
       "      <th>module</th>\n",
       "      <th>code</th>\n",
       "      <th>message</th>\n",
       "    </tr>\n",
       "  </thead>\n",
       "  <tbody>\n",
       "    <tr>\n",
       "      <th>0</th>\n",
       "      <td>1613190301</td>\n",
       "      <td>libloggingstdlog</td>\n",
       "      <td>none</td>\n",
       "      <td>[origin software=\"rsyslogd\" swVersion=\"8.24.0\"...</td>\n",
       "    </tr>\n",
       "    <tr>\n",
       "      <th>1</th>\n",
       "      <td>1613193421</td>\n",
       "      <td>CRON</td>\n",
       "      <td>32398</td>\n",
       "      <td>(root) CMD ( cd / &amp;&amp; run-parts --report /etc/c...</td>\n",
       "    </tr>\n",
       "    <tr>\n",
       "      <th>2</th>\n",
       "      <td>1613197021</td>\n",
       "      <td>CRON</td>\n",
       "      <td>6546</td>\n",
       "      <td>(root) CMD ( cd / &amp;&amp; run-parts --report /etc/c...</td>\n",
       "    </tr>\n",
       "    <tr>\n",
       "      <th>3</th>\n",
       "      <td>1613200621</td>\n",
       "      <td>CRON</td>\n",
       "      <td>12800</td>\n",
       "      <td>(root) CMD ( cd / &amp;&amp; run-parts --report /etc/c...</td>\n",
       "    </tr>\n",
       "    <tr>\n",
       "      <th>4</th>\n",
       "      <td>1613204221</td>\n",
       "      <td>CRON</td>\n",
       "      <td>19277</td>\n",
       "      <td>(root) CMD ( cd / &amp;&amp; run-parts --report /etc/c...</td>\n",
       "    </tr>\n",
       "    <tr>\n",
       "      <th>5</th>\n",
       "      <td>1613207821</td>\n",
       "      <td>CRON</td>\n",
       "      <td>25771</td>\n",
       "      <td>(root) CMD ( cd / &amp;&amp; run-parts --report /etc/c...</td>\n",
       "    </tr>\n",
       "    <tr>\n",
       "      <th>6</th>\n",
       "      <td>1613211421</td>\n",
       "      <td>CRON</td>\n",
       "      <td>32248</td>\n",
       "      <td>(root) CMD ( cd / &amp;&amp; run-parts --report /etc/c...</td>\n",
       "    </tr>\n",
       "    <tr>\n",
       "      <th>7</th>\n",
       "      <td>1613214001</td>\n",
       "      <td>CRON</td>\n",
       "      <td>4465</td>\n",
       "      <td>(root) CMD (./home/wickstjo/scripts/ropsten.sh)</td>\n",
       "    </tr>\n",
       "    <tr>\n",
       "      <th>8</th>\n",
       "      <td>1613214001</td>\n",
       "      <td>CRON</td>\n",
       "      <td>4461</td>\n",
       "      <td>(CRON) info (No MTA installed, discarding output)</td>\n",
       "    </tr>\n",
       "    <tr>\n",
       "      <th>9</th>\n",
       "      <td>1613215021</td>\n",
       "      <td>CRON</td>\n",
       "      <td>6268</td>\n",
       "      <td>(root) CMD ( cd / &amp;&amp; run-parts --report /etc/c...</td>\n",
       "    </tr>\n",
       "  </tbody>\n",
       "</table>\n",
       "</div>"
      ],
      "text/plain": [
       "    timestamp            module   code  \\\n",
       "0  1613190301  libloggingstdlog   none   \n",
       "1  1613193421              CRON  32398   \n",
       "2  1613197021              CRON   6546   \n",
       "3  1613200621              CRON  12800   \n",
       "4  1613204221              CRON  19277   \n",
       "5  1613207821              CRON  25771   \n",
       "6  1613211421              CRON  32248   \n",
       "7  1613214001              CRON   4465   \n",
       "8  1613214001              CRON   4461   \n",
       "9  1613215021              CRON   6268   \n",
       "\n",
       "                                             message  \n",
       "0  [origin software=\"rsyslogd\" swVersion=\"8.24.0\"...  \n",
       "1  (root) CMD ( cd / && run-parts --report /etc/c...  \n",
       "2  (root) CMD ( cd / && run-parts --report /etc/c...  \n",
       "3  (root) CMD ( cd / && run-parts --report /etc/c...  \n",
       "4  (root) CMD ( cd / && run-parts --report /etc/c...  \n",
       "5  (root) CMD ( cd / && run-parts --report /etc/c...  \n",
       "6  (root) CMD ( cd / && run-parts --report /etc/c...  \n",
       "7    (root) CMD (./home/wickstjo/scripts/ropsten.sh)  \n",
       "8  (CRON) info (No MTA installed, discarding output)  \n",
       "9  (root) CMD ( cd / && run-parts --report /etc/c...  "
      ]
     },
     "execution_count": 4,
     "metadata": {},
     "output_type": "execute_result"
    }
   ],
   "source": [
    "dataframe.head(10)"
   ]
  },
  {
   "cell_type": "markdown",
   "metadata": {},
   "source": [
    "### SEPARATE GOOD & BAD EVENTS"
   ]
  },
  {
   "cell_type": "code",
   "execution_count": 5,
   "metadata": {},
   "outputs": [],
   "source": [
    "dataset = np.array(dataframe['message'])"
   ]
  },
  {
   "cell_type": "code",
   "execution_count": 6,
   "metadata": {},
   "outputs": [],
   "source": [
    "def blacklisted(row):\n",
    "    \n",
    "    # BLACKLISTED PHRASES\n",
    "    blacklist = [\n",
    "        'ropsten',\n",
    "        'Created slice User',\n",
    "        'Started Session c',\n",
    "        'New USB device found',\n",
    "        '@reboot jobs',\n",
    "        'Started System Logging'\n",
    "    ]\n",
    "    \n",
    "    # LOOP THROUGH PHRASES\n",
    "    for phrase in blacklist:\n",
    "        \n",
    "        # IF THE PHRASE IS FOUND, RETURN TRUE\n",
    "        if phrase in row:\n",
    "            return True\n",
    "        \n",
    "    # IF NOTHING WAS FOUND, RETURN FALSE\n",
    "    return False"
   ]
  },
  {
   "cell_type": "code",
   "execution_count": 7,
   "metadata": {},
   "outputs": [],
   "source": [
    "good_dataset, bad_dataset = [], []"
   ]
  },
  {
   "cell_type": "code",
   "execution_count": 8,
   "metadata": {},
   "outputs": [],
   "source": [
    "for row in dataset:\n",
    "    \n",
    "    # IF THE ROW CONTAINS A BLACKLISTED PHRASE\n",
    "    if blacklisted(row):\n",
    "        bad_dataset.append(row)\n",
    "        \n",
    "    # OTHERWISE..\n",
    "    else:\n",
    "        good_dataset.append(row)"
   ]
  },
  {
   "cell_type": "markdown",
   "metadata": {},
   "source": [
    "### SPLIT GOOD EVENTS INTO TRAIN & TESTSETS --- 90%"
   ]
  },
  {
   "cell_type": "code",
   "execution_count": 9,
   "metadata": {},
   "outputs": [],
   "source": [
    "def split(features, percentage):\n",
    "    \n",
    "    # CALCULATE THE BREAKPOINT INDEX\n",
    "    breakpoint = math.floor(len(dataset) * percentage)\n",
    "    \n",
    "    # SPLIT & RETURN AS TRAIN & TEST\n",
    "    return features[:breakpoint], features[breakpoint:]"
   ]
  },
  {
   "cell_type": "code",
   "execution_count": 10,
   "metadata": {},
   "outputs": [],
   "source": [
    "train_set, test_set = split(good_dataset, 0.9)"
   ]
  },
  {
   "cell_type": "markdown",
   "metadata": {},
   "source": [
    "### ADD BAD EVENTS TO TEST SET & RANDOMIZE"
   ]
  },
  {
   "cell_type": "code",
   "execution_count": 11,
   "metadata": {},
   "outputs": [],
   "source": [
    "contamination = len(bad_dataset) / len(test_set)"
   ]
  },
  {
   "cell_type": "code",
   "execution_count": 12,
   "metadata": {},
   "outputs": [],
   "source": [
    "test_set = test_set + bad_dataset"
   ]
  },
  {
   "cell_type": "code",
   "execution_count": 13,
   "metadata": {},
   "outputs": [],
   "source": [
    "random.shuffle(test_set)"
   ]
  },
  {
   "cell_type": "markdown",
   "metadata": {},
   "source": [
    "### VECTORIZE DATASETS INTO FEATURES"
   ]
  },
  {
   "cell_type": "code",
   "execution_count": 14,
   "metadata": {},
   "outputs": [],
   "source": [
    "def vectorize(train_set, test_set):\n",
    "    \n",
    "    # CREATE THE VECTORIZER\n",
    "    vectorizer = TfidfVectorizer()\n",
    "    \n",
    "    # FIT VECTORIZER & CREATE TRAIN FEATURES\n",
    "    train_features = vectorizer.fit_transform(train_set)\n",
    "    \n",
    "    # TRANSFORM TEST FEATUERS\n",
    "    test_features = vectorizer.transform(test_set)\n",
    "    \n",
    "    return train_features, test_features"
   ]
  },
  {
   "cell_type": "code",
   "execution_count": 15,
   "metadata": {},
   "outputs": [],
   "source": [
    "train_features, test_features = vectorize(train_set, test_set)"
   ]
  },
  {
   "cell_type": "markdown",
   "metadata": {},
   "source": [
    "### TRAIN ISOLATION FOREST"
   ]
  },
  {
   "cell_type": "code",
   "execution_count": 16,
   "metadata": {},
   "outputs": [],
   "source": [
    "model_config = {\n",
    "    'n_estimators': 1000,\n",
    "    'random_state': 200,\n",
    "    'contamination': contamination\n",
    "}"
   ]
  },
  {
   "cell_type": "code",
   "execution_count": 17,
   "metadata": {},
   "outputs": [],
   "source": [
    "def train_isolation(features):\n",
    "    \n",
    "    # CREATE THE MODEL\n",
    "    model = IsolationForest(**model_config)\n",
    "    \n",
    "    # TRAIN IT\n",
    "    model.fit(features)\n",
    "    \n",
    "    return model"
   ]
  },
  {
   "cell_type": "code",
   "execution_count": 18,
   "metadata": {},
   "outputs": [],
   "source": [
    "model = train_isolation(train_features)"
   ]
  },
  {
   "cell_type": "markdown",
   "metadata": {},
   "source": [
    "### PREDICT WITH TEST FEATURES"
   ]
  },
  {
   "cell_type": "code",
   "execution_count": 19,
   "metadata": {},
   "outputs": [],
   "source": [
    "predictions = model.predict(test_features)"
   ]
  },
  {
   "cell_type": "code",
   "execution_count": 20,
   "metadata": {},
   "outputs": [
    {
     "data": {
      "text/plain": [
       "array([-1,  1,  1, -1, -1, -1, -1, -1, -1, -1,  1, -1, -1,  1, -1,  1, -1,\n",
       "        1,  1,  1, -1,  1,  1,  1, -1,  1, -1,  1, -1, -1,  1, -1,  1,  1,\n",
       "        1, -1, -1, -1,  1,  1,  1, -1,  1, -1,  1, -1,  1, -1,  1, -1,  1,\n",
       "       -1,  1, -1, -1,  1, -1,  1, -1,  1, -1,  1,  1,  1,  1, -1,  1, -1,\n",
       "       -1,  1,  1, -1, -1,  1,  1, -1,  1, -1, -1, -1, -1, -1, -1,  1,  1,\n",
       "        1,  1,  1,  1,  1,  1,  1, -1, -1, -1,  1, -1,  1,  1, -1, -1, -1,\n",
       "        1, -1, -1,  1,  1, -1,  1, -1, -1,  1, -1, -1,  1, -1, -1,  1,  1,\n",
       "       -1,  1,  1, -1, -1, -1,  1,  1, -1, -1, -1, -1, -1,  1,  1, -1, -1,\n",
       "        1,  1,  1, -1,  1,  1, -1,  1, -1,  1, -1,  1,  1, -1, -1,  1, -1,\n",
       "       -1, -1, -1, -1,  1, -1,  1,  1,  1,  1, -1,  1,  1,  1, -1, -1, -1,\n",
       "        1,  1,  1, -1,  1,  1, -1, -1, -1,  1,  1, -1,  1, -1, -1, -1, -1,\n",
       "        1,  1, -1,  1,  1, -1,  1, -1, -1,  1, -1,  1,  1,  1, -1, -1,  1,\n",
       "       -1,  1, -1,  1, -1,  1, -1, -1,  1,  1,  1, -1,  1,  1,  1, -1,  1,\n",
       "       -1, -1, -1, -1,  1,  1,  1,  1,  1, -1, -1, -1, -1, -1,  1,  1, -1,\n",
       "        1,  1, -1,  1, -1,  1, -1, -1,  1, -1,  1,  1, -1,  1,  1, -1,  1,\n",
       "        1,  1, -1, -1,  1, -1, -1,  1, -1, -1,  1, -1, -1, -1, -1,  1, -1,\n",
       "       -1,  1, -1,  1,  1,  1,  1, -1, -1,  1,  1, -1,  1,  1,  1, -1,  1,\n",
       "       -1,  1,  1, -1, -1,  1,  1, -1, -1,  1,  1, -1, -1, -1, -1,  1,  1,\n",
       "       -1, -1,  1, -1, -1,  1, -1, -1, -1, -1, -1,  1, -1,  1,  1, -1, -1,\n",
       "        1,  1, -1,  1,  1, -1])"
      ]
     },
     "execution_count": 20,
     "metadata": {},
     "output_type": "execute_result"
    }
   ],
   "source": [
    "predictions"
   ]
  },
  {
   "cell_type": "markdown",
   "metadata": {},
   "source": [
    "### INSPECT THE ANOMALOUS EVENTS"
   ]
  },
  {
   "cell_type": "code",
   "execution_count": 21,
   "metadata": {
    "scrolled": false
   },
   "outputs": [
    {
     "name": "stdout",
     "output_type": "stream",
     "text": [
      "(root) CMD ( cd / && run-parts --report /etc/cron.hourly)\n",
      "(root) CMD ( cd / && run-parts --report /etc/cron.hourly)\n",
      "(root) CMD ( cd / && run-parts --report /etc/cron.hourly)\n",
      "Started Daily apt upgrade and clean activities.\n",
      "Joining mDNS multicast group on interface wlan0.IPv6 with address 2001:708:170:360:93e7:82bf:af2c:bc6d.\n",
      "apt-daily.timer: Adding 1h 24min 33.502020s random time.\n",
      "Server startup complete. Host name is raspberrypi-2.local. Local service cookie is 929520076.\n",
      "(root) CMD (test -x /usr/sbin/anacron || ( cd / && run-parts --report /etc/cron.daily ))\n",
      "[origin software=\"rsyslogd\" swVersion=\"8.24.0\" x-pid=\"363\" x-info=\"http://www.rsyslog.com\"] rsyslogd was HUPed\n",
      "Listening on GnuPG cryptographic agent and passphrase cache.\n",
      "(root) CMD ( cd / && run-parts --report /etc/cron.hourly)\n",
      "[origin software=\"rsyslogd\" swVersion=\"8.24.0\" x-pid=\"363\" x-info=\"http://www.rsyslog.com\"] rsyslogd was HUPed\n",
      "(root) CMD ( cd / && run-parts --report /etc/cron.hourly)\n",
      "Closed GnuPG cryptographic agent (access for web browsers).\n",
      "(root) CMD ( cd / && run-parts --report /etc/cron.hourly)\n",
      "(root) CMD ( cd / && run-parts --report /etc/cron.hourly)\n",
      "Closed GnuPG cryptographic agent and passphrase cache.\n",
      "(root) CMD ( cd / && run-parts --report /etc/cron.hourly)\n",
      "Withdrawing address record for fe80::1013:35ee:ab9d:d76b on wlan0.\n",
      "(root) CMD (test -x /usr/sbin/anacron || ( cd / && run-parts --report /etc/cron.daily ))\n",
      "[origin software=\"rsyslogd\" swVersion=\"8.24.0\" x-pid=\"363\" x-info=\"http://www.rsyslog.com\"] rsyslogd was HUPed\n",
      "(root) CMD ( cd / && run-parts --report /etc/cron.hourly)\n",
      "(root) CMD ( cd / && run-parts --report /etc/cron.hourly)\n",
      "(root) CMD ( cd / && run-parts --report /etc/cron.hourly)\n",
      "wlan0: adding route to 193.167.36.192/27\n",
      "(root) CMD ( cd / && run-parts --report /etc/cron.hourly)\n",
      "(root) CMD ( cd / && run-parts --report /etc/cron.hourly)\n",
      "(root) CMD ( cd / && run-parts --report /etc/cron.hourly)\n",
      "Received SIGRTMIN+24 from PID 3738 (kill).\n",
      "(root) CMD ( cd / && run-parts --report /etc/cron.hourly)\n",
      "(root) CMD ( cd / && run-parts --report /etc/cron.hourly)\n",
      "apt-daily-upgrade.timer: Adding 23min 25.275254s random time.\n",
      "(root) CMD ( cd / && run-parts --report /etc/cron.hourly)\n",
      "(root) CMD ( cd / && run-parts --report /etc/cron.hourly)\n",
      "Listening on D-Bus User Message Bus Socket.\n",
      "Closed GnuPG cryptographic agent (ssh-agent emulation).\n",
      "(root) CMD ( cd / && run-parts --report /etc/cron.hourly)\n",
      "(root) CMD ( cd / && run-parts --report /etc/cron.hourly)\n",
      "usb usb1: New USB device found, idVendor=1d6b, idProduct=0002, bcdDevice= 4.19\n",
      "Joining mDNS multicast group on interface wlan0.IPv4 with address 193.167.36.202.\n",
      "(root) CMD ( cd / && run-parts --report /etc/cron.hourly)\n",
      "Listening on GnuPG cryptographic agent and passphrase cache (restricted).\n",
      "(root) CMD ( cd / && run-parts --report /etc/cron.hourly)\n",
      "apt-daily.timer: Adding 1h 30min 47.293015s random time.\n",
      "[system] Successfully activated service 'org.freedesktop.PolicyKit1'\n",
      "(root) CMD ( cd / && run-parts --report /etc/cron.hourly)\n",
      "Starting Daily apt upgrade and clean activities...\n",
      "apt-daily.timer: Adding 1h 33min 15.156198s random time.\n",
      "(root) CMD ( cd / && run-parts --report /etc/cron.hourly)\n",
      "apt-daily-upgrade.timer: Adding 13min 50.715015s random time.\n",
      "(root) CMD ( cd / && run-parts --report /etc/cron.hourly)\n",
      "apt-daily-upgrade.timer: Adding 56.959605s random time.\n",
      "Started Daily apt upgrade and clean activities.\n",
      "(root) CMD ( cd / && run-parts --report /etc/cron.hourly)\n",
      "Listening on GnuPG cryptographic agent (ssh-agent emulation).\n",
      "(root) CMD ( cd / && run-parts --report /etc/cron.hourly)\n",
      "(root) CMD ( cd / && run-parts --report /etc/cron.hourly)\n",
      "[system] Activating via systemd: service name='org.freedesktop.PolicyKit1' unit='polkit.service'\n",
      "(root) CMD ( cd / && run-parts --report /etc/cron.hourly)\n",
      "Starting Daily apt upgrade and clean activities...\n",
      "(root) CMD ( cd / && run-parts --report /etc/cron.hourly)\n",
      "(root) CMD ( cd / && run-parts --report /etc/cron.hourly)\n",
      "usb usb1: New USB device found, idVendor=1d6b, idProduct=0002, bcdDevice= 4.19\n",
      "(root) CMD ( cd / && run-parts --report /etc/cron.hourly)\n",
      "apt-daily.timer: Adding 2h 43min 41.124832s random time.\n",
      "(root) CMD ( cd / && run-parts --report /etc/cron.hourly)\n",
      "(root) CMD ( cd / && run-parts --report /etc/cron.hourly)\n",
      "apt-daily.timer: Adding 2h 25min 58.580678s random time.\n",
      "(root) CMD ( cd / && run-parts --report /etc/cron.hourly)\n",
      "Closed GnuPG cryptographic agent (access for web browsers).\n",
      "(root) CMD ( cd / && run-parts --report /etc/cron.hourly)\n",
      "(root) CMD (test -x /usr/sbin/anacron || ( cd / && run-parts --report /etc/cron.daily ))\n",
      "(root) CMD ( cd / && run-parts --report /etc/cron.hourly)\n",
      "wlan0: adding default route via 193.167.36.222\n",
      "Registering new address record for 2001:708:170:360:93e7:82bf:af2c:bc6d on wlan0.*.\n",
      "(root) CMD ( cd / && run-parts --report /etc/cron.hourly)\n",
      "[system] Successfully activated service 'org.freedesktop.PackageKit'\n",
      "(root) CMD ( cd / && run-parts --report /etc/cron.hourly)\n",
      "(root) CMD ( cd / && run-parts --report /etc/cron.hourly)\n",
      "Registering new address record for 193.167.36.202 on wlan0.IPv4.\n",
      "apt-daily.timer: Adding 9h 12min 162.232ms random time.\n",
      "(root) CMD ( cd / && run-parts --report /etc/cron.hourly)\n",
      "(root) CMD ( cd / && run-parts --report /etc/cron.hourly)\n",
      "Listening on D-Bus User Message Bus Socket.\n",
      "(root) CMD ( cd / && run-parts --report /etc/cron.hourly)\n",
      "(root) CMD ( cd / && run-parts --report /etc/cron.hourly)\n",
      "(root) CMD ( cd / && run-parts --report /etc/cron.hourly)\n",
      "(root) CMD ( cd / && run-parts --report /etc/cron.hourly)\n",
      "Listening on GnuPG cryptographic agent (access for web browsers).\n",
      "(root) CMD ( cd / && run-parts --report /etc/cron.hourly)\n",
      "Leaving mDNS multicast group on interface wlan0.IPv6 with address fe80::1013:35ee:ab9d:d76b.\n",
      "Started Daily apt upgrade and clean activities.\n",
      "Registering new address record for 2001:708:170:360:93e7:82bf:af2c:bc6d on wlan0.*.\n",
      "Synchronized to time server [2606:4700:f1::1]:123 (2.debian.pool.ntp.org).\n",
      "(root) CMD (test -x /usr/sbin/anacron || ( cd / && run-parts --report /etc/cron.daily ))\n",
      "(root) CMD ( cd / && run-parts --report /etc/cron.hourly)\n",
      "apt-daily-upgrade.timer: Adding 40min 36.690180s random time.\n",
      "(root) CMD ( cd / && run-parts --report /etc/cron.hourly)\n",
      "usb usb1: New USB device found, idVendor=1d6b, idProduct=0002, bcdDevice= 4.19\n",
      "Closed GnuPG cryptographic agent and passphrase cache.\n",
      "Closed GnuPG cryptographic agent and passphrase cache (restricted).\n",
      "(root) CMD ( cd / && run-parts --report /etc/cron.hourly)\n",
      "apt-daily-upgrade.timer: Adding 52min 1.736880s random time.\n",
      "apt-daily.timer: Adding 4h 35min 10.748621s random time.\n",
      "(root) CMD ( cd / && run-parts --report /etc/cron.hourly)\n",
      "(root) CMD ( cd / && run-parts --report /etc/cron.hourly)\n",
      "apt-daily.timer: Adding 3h 18min 747.914ms random time.\n",
      "(root) CMD ( cd / && run-parts --report /etc/cron.hourly)\n",
      "(root) CMD ( cd / && run-parts --report /etc/cron.hourly)\n",
      "(root) CMD ( cd / && run-parts --report /etc/cron.hourly)\n",
      "apt-daily.timer: Adding 6h 37min 17.657883s random time.\n",
      "Registering new address record for 193.167.36.202 on wlan0.IPv4.\n",
      "apt-daily-upgrade.timer: Adding 55min 33.868343s random time.\n",
      "Closed GnuPG cryptographic agent and passphrase cache (restricted).\n",
      "Withdrawing address record for 193.167.36.202 on wlan0.\n",
      "apt-daily.timer: Adding 5h 59min 14.842879s random time.\n",
      "apt-daily-upgrade.timer: Adding 15min 23.655489s random time.\n",
      "(root) CMD ( cd / && run-parts --report /etc/cron.hourly)\n",
      "Listening on GnuPG cryptographic agent and passphrase cache (restricted).\n",
      "(root) CMD ( cd / && run-parts --report /etc/cron.hourly)\n",
      "(root) CMD ( cd / && run-parts --report /etc/cron.hourly)\n",
      "Listening on GnuPG cryptographic agent (ssh-agent emulation).\n",
      "(root) CMD ( cd / && run-parts --report /etc/cron.hourly)\n",
      "(root) CMD ( cd / && run-parts --report /etc/cron.hourly)\n",
      "(root) CMD ( cd / && run-parts --report /etc/cron.hourly)\n",
      "(root) CMD ( cd / && run-parts --report /etc/cron.hourly)\n",
      "(root) CMD ( cd / && run-parts --report /etc/cron.hourly)\n",
      "Starting Daily apt upgrade and clean activities...\n",
      "(root) CMD ( cd / && run-parts --report /etc/cron.hourly)\n",
      "(root) CMD ( cd / && run-parts --report /etc/cron.hourly)\n",
      "(root) CMD ( cd / && run-parts --report /etc/cron.hourly)\n",
      "(root) CMD ( cd / && run-parts --report /etc/cron.hourly)\n",
      "apt-daily-upgrade.timer: Adding 58min 49.841548s random time.\n",
      "(root) CMD ( cd / && run-parts --report /etc/cron.hourly)\n",
      "Started Daily apt upgrade and clean activities.\n",
      "(root) CMD ( cd / && run-parts --report /etc/cron.hourly)\n",
      "[origin software=\"rsyslogd\" swVersion=\"8.24.0\" x-pid=\"363\" x-info=\"http://www.rsyslog.com\"] rsyslogd was HUPed\n",
      "(root) CMD ( cd / && run-parts --report /etc/cron.hourly)\n",
      "apt-daily-upgrade.timer: Adding 53min 41.151317s random time.\n",
      "(root) CMD ( cd / && run-parts --report /etc/cron.hourly)\n",
      "(root) CMD ( cd / && run-parts --report /etc/cron.hourly)\n",
      "apt-daily.timer: Adding 6h 38min 29.866161s random time.\n",
      "(root) CMD ( cd / && run-parts --report /etc/cron.hourly)\n",
      "(root) CMD ( cd / && run-parts --report /etc/cron.hourly)\n",
      "(root) CMD ( cd / && run-parts --report /etc/cron.hourly)\n",
      "usb usb1: New USB device found, idVendor=1d6b, idProduct=0002, bcdDevice= 4.19\n",
      "(root) CMD ( cd / && run-parts --report /etc/cron.hourly)\n",
      "Received SIGRTMIN+24 from PID 10929 (kill).\n",
      "apt-daily.timer: Adding 10h 3min 41.700191s random time.\n",
      "(root) CMD ( cd / && run-parts --report /etc/cron.hourly)\n",
      "Closed GnuPG cryptographic agent (ssh-agent emulation).\n",
      "apt-daily.timer: Adding 11h 48min 45.652365s random time.\n",
      "(root) CMD ( cd / && run-parts --report /etc/cron.hourly)\n",
      "(root) CMD ( cd / && run-parts --report /etc/cron.hourly)\n",
      "apt-daily.timer: Adding 2h 31min 26.135619s random time.\n",
      "(root) CMD ( cd / && run-parts --report /etc/cron.hourly)\n",
      "apt-daily.timer: Adding 7h 38min 30.321493s random time.\n",
      "(root) CMD ( cd / && run-parts --report /etc/cron.hourly)\n",
      "Starting Daily apt upgrade and clean activities...\n",
      "Listening on GnuPG cryptographic agent and passphrase cache.\n",
      "(root) CMD ( cd / && run-parts --report /etc/cron.hourly)\n",
      "(root) CMD ( cd / && run-parts --report /etc/cron.hourly)\n",
      "[system] Activating via systemd: service name='org.freedesktop.PackageKit' unit='packagekit.service'\n",
      "Listening on GnuPG cryptographic agent (access for web browsers).\n",
      "(root) CMD ( cd / && run-parts --report /etc/cron.hourly)\n",
      "(root) CMD ( cd / && run-parts --report /etc/cron.hourly)\n",
      "(root) CMD ( cd / && run-parts --report /etc/cron.hourly)\n"
     ]
    }
   ],
   "source": [
    "for index, prediction in enumerate(predictions):\n",
    "    \n",
    "    # FIND ALL -1 VALUES (ANOMALIES)\n",
    "    if prediction != 1:\n",
    "        \n",
    "        # PRINT ROW FROM TEST SET\n",
    "        print(test_set[index])"
   ]
  },
  {
   "cell_type": "code",
   "execution_count": null,
   "metadata": {},
   "outputs": [],
   "source": []
  }
 ],
 "metadata": {
  "kernelspec": {
   "display_name": "Python 3",
   "language": "python",
   "name": "python3"
  },
  "language_info": {
   "codemirror_mode": {
    "name": "ipython",
    "version": 3
   },
   "file_extension": ".py",
   "mimetype": "text/x-python",
   "name": "python",
   "nbconvert_exporter": "python",
   "pygments_lexer": "ipython3",
   "version": "3.7.9"
  }
 },
 "nbformat": 4,
 "nbformat_minor": 4
}
