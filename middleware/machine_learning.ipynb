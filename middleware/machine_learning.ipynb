{
 "cells": [
  {
   "cell_type": "code",
   "execution_count": 1,
   "metadata": {},
   "outputs": [],
   "source": [
    "from sklearn.feature_extraction.text import TfidfVectorizer\n",
    "from sklearn.ensemble import IsolationForest"
   ]
  },
  {
   "cell_type": "code",
   "execution_count": 2,
   "metadata": {},
   "outputs": [],
   "source": [
    "import pandas as pd\n",
    "import math\n",
    "import numpy as np"
   ]
  },
  {
   "cell_type": "markdown",
   "metadata": {},
   "source": [
    "### LOAD DATASET"
   ]
  },
  {
   "cell_type": "code",
   "execution_count": 3,
   "metadata": {},
   "outputs": [],
   "source": [
    "dataset = pd.read_csv('data/cleaned_data.csv', index_col='Unnamed: 0')"
   ]
  },
  {
   "cell_type": "code",
   "execution_count": 4,
   "metadata": {},
   "outputs": [
    {
     "data": {
      "text/html": [
       "<div>\n",
       "<style scoped>\n",
       "    .dataframe tbody tr th:only-of-type {\n",
       "        vertical-align: middle;\n",
       "    }\n",
       "\n",
       "    .dataframe tbody tr th {\n",
       "        vertical-align: top;\n",
       "    }\n",
       "\n",
       "    .dataframe thead th {\n",
       "        text-align: right;\n",
       "    }\n",
       "</style>\n",
       "<table border=\"1\" class=\"dataframe\">\n",
       "  <thead>\n",
       "    <tr style=\"text-align: right;\">\n",
       "      <th></th>\n",
       "      <th>timestamp</th>\n",
       "      <th>module</th>\n",
       "      <th>code</th>\n",
       "      <th>message</th>\n",
       "    </tr>\n",
       "  </thead>\n",
       "  <tbody>\n",
       "    <tr>\n",
       "      <th>0</th>\n",
       "      <td>1613190301</td>\n",
       "      <td>libloggingstdlog</td>\n",
       "      <td>none</td>\n",
       "      <td>[origin software=\"rsyslogd\" swVersion=\"8.24.0\"...</td>\n",
       "    </tr>\n",
       "    <tr>\n",
       "      <th>1</th>\n",
       "      <td>1613193421</td>\n",
       "      <td>CRON</td>\n",
       "      <td>32398</td>\n",
       "      <td>(root) CMD ( cd / &amp;&amp; run-parts --report /etc/c...</td>\n",
       "    </tr>\n",
       "    <tr>\n",
       "      <th>2</th>\n",
       "      <td>1613197021</td>\n",
       "      <td>CRON</td>\n",
       "      <td>6546</td>\n",
       "      <td>(root) CMD ( cd / &amp;&amp; run-parts --report /etc/c...</td>\n",
       "    </tr>\n",
       "    <tr>\n",
       "      <th>3</th>\n",
       "      <td>1613200621</td>\n",
       "      <td>CRON</td>\n",
       "      <td>12800</td>\n",
       "      <td>(root) CMD ( cd / &amp;&amp; run-parts --report /etc/c...</td>\n",
       "    </tr>\n",
       "    <tr>\n",
       "      <th>4</th>\n",
       "      <td>1613204221</td>\n",
       "      <td>CRON</td>\n",
       "      <td>19277</td>\n",
       "      <td>(root) CMD ( cd / &amp;&amp; run-parts --report /etc/c...</td>\n",
       "    </tr>\n",
       "    <tr>\n",
       "      <th>5</th>\n",
       "      <td>1613207821</td>\n",
       "      <td>CRON</td>\n",
       "      <td>25771</td>\n",
       "      <td>(root) CMD ( cd / &amp;&amp; run-parts --report /etc/c...</td>\n",
       "    </tr>\n",
       "    <tr>\n",
       "      <th>6</th>\n",
       "      <td>1613211421</td>\n",
       "      <td>CRON</td>\n",
       "      <td>32248</td>\n",
       "      <td>(root) CMD ( cd / &amp;&amp; run-parts --report /etc/c...</td>\n",
       "    </tr>\n",
       "    <tr>\n",
       "      <th>7</th>\n",
       "      <td>1613214001</td>\n",
       "      <td>CRON</td>\n",
       "      <td>4465</td>\n",
       "      <td>(root) CMD (./home/wickstjo/scripts/ropsten.sh)</td>\n",
       "    </tr>\n",
       "    <tr>\n",
       "      <th>8</th>\n",
       "      <td>1613214001</td>\n",
       "      <td>CRON</td>\n",
       "      <td>4461</td>\n",
       "      <td>(CRON) info (No MTA installed, discarding output)</td>\n",
       "    </tr>\n",
       "    <tr>\n",
       "      <th>9</th>\n",
       "      <td>1613215021</td>\n",
       "      <td>CRON</td>\n",
       "      <td>6268</td>\n",
       "      <td>(root) CMD ( cd / &amp;&amp; run-parts --report /etc/c...</td>\n",
       "    </tr>\n",
       "  </tbody>\n",
       "</table>\n",
       "</div>"
      ],
      "text/plain": [
       "    timestamp            module   code  \\\n",
       "0  1613190301  libloggingstdlog   none   \n",
       "1  1613193421              CRON  32398   \n",
       "2  1613197021              CRON   6546   \n",
       "3  1613200621              CRON  12800   \n",
       "4  1613204221              CRON  19277   \n",
       "5  1613207821              CRON  25771   \n",
       "6  1613211421              CRON  32248   \n",
       "7  1613214001              CRON   4465   \n",
       "8  1613214001              CRON   4461   \n",
       "9  1613215021              CRON   6268   \n",
       "\n",
       "                                             message  \n",
       "0  [origin software=\"rsyslogd\" swVersion=\"8.24.0\"...  \n",
       "1  (root) CMD ( cd / && run-parts --report /etc/c...  \n",
       "2  (root) CMD ( cd / && run-parts --report /etc/c...  \n",
       "3  (root) CMD ( cd / && run-parts --report /etc/c...  \n",
       "4  (root) CMD ( cd / && run-parts --report /etc/c...  \n",
       "5  (root) CMD ( cd / && run-parts --report /etc/c...  \n",
       "6  (root) CMD ( cd / && run-parts --report /etc/c...  \n",
       "7    (root) CMD (./home/wickstjo/scripts/ropsten.sh)  \n",
       "8  (CRON) info (No MTA installed, discarding output)  \n",
       "9  (root) CMD ( cd / && run-parts --report /etc/c...  "
      ]
     },
     "execution_count": 4,
     "metadata": {},
     "output_type": "execute_result"
    }
   ],
   "source": [
    "dataset.head(10)"
   ]
  },
  {
   "cell_type": "markdown",
   "metadata": {},
   "source": [
    "### SPLIT INTO TRAIN & TESTSETS --- 80%"
   ]
  },
  {
   "cell_type": "code",
   "execution_count": 5,
   "metadata": {},
   "outputs": [],
   "source": [
    "def split(features, percentage):\n",
    "    \n",
    "    # CALCULATE THE BREAKPOINT INDEX\n",
    "    breakpoint = math.floor(len(dataset) * percentage)\n",
    "    \n",
    "    # SPLIT & RETURN AS TRAIN & TEST\n",
    "    return np.array(features[:breakpoint]), np.array(features[breakpoint:])"
   ]
  },
  {
   "cell_type": "code",
   "execution_count": 6,
   "metadata": {},
   "outputs": [],
   "source": [
    "train_set, test_set = split(dataset['message'], 0.8)"
   ]
  },
  {
   "cell_type": "markdown",
   "metadata": {},
   "source": [
    "### VECTORIZE DATASETS INTO FEATURES"
   ]
  },
  {
   "cell_type": "code",
   "execution_count": 7,
   "metadata": {},
   "outputs": [],
   "source": [
    "def vectorize(train_set):\n",
    "    \n",
    "    # CREATE THE VECTORIZER\n",
    "    vectorizer = TfidfVectorizer()\n",
    "    \n",
    "    # FIT VECTORIZER & CREATE TRAIN FEATURES\n",
    "    train_features = vectorizer.fit_transform(train_set)\n",
    "    \n",
    "    return train_features, vectorizer"
   ]
  },
  {
   "cell_type": "code",
   "execution_count": 8,
   "metadata": {},
   "outputs": [],
   "source": [
    "train_features, vectorizer = vectorize(train_set)"
   ]
  },
  {
   "cell_type": "code",
   "execution_count": 9,
   "metadata": {},
   "outputs": [],
   "source": [
    "test_features = vectorizer.transform(test_set)"
   ]
  },
  {
   "cell_type": "markdown",
   "metadata": {},
   "source": [
    "### TRAIN ISOLATION FOREST"
   ]
  },
  {
   "cell_type": "code",
   "execution_count": 10,
   "metadata": {},
   "outputs": [],
   "source": [
    "model_config = {\n",
    "    'n_estimators': 1\n",
    "}"
   ]
  },
  {
   "cell_type": "code",
   "execution_count": 11,
   "metadata": {},
   "outputs": [],
   "source": [
    "def train_isolation(features):\n",
    "    \n",
    "    # CREATE THE MODEL\n",
    "    model = IsolationForest(**model_config)\n",
    "    \n",
    "    # TRAIN IT\n",
    "    model.fit(features)\n",
    "    \n",
    "    return model"
   ]
  },
  {
   "cell_type": "code",
   "execution_count": 12,
   "metadata": {},
   "outputs": [],
   "source": [
    "model = train_isolation(train_features)"
   ]
  },
  {
   "cell_type": "markdown",
   "metadata": {},
   "source": [
    "### PREDICT WITH TEST FEATURES"
   ]
  },
  {
   "cell_type": "code",
   "execution_count": 13,
   "metadata": {},
   "outputs": [],
   "source": [
    "predictions = model.predict(test_features)"
   ]
  },
  {
   "cell_type": "code",
   "execution_count": 14,
   "metadata": {},
   "outputs": [
    {
     "data": {
      "text/plain": [
       "array([ 1,  1,  1,  1,  1,  1,  1,  1,  1,  1,  1,  1,  1,  1,  1,  1,  1,\n",
       "        1,  1,  1,  1,  1,  1,  1,  1,  1,  1,  1,  1,  1,  1,  1,  1, -1,\n",
       "        1,  1,  1,  1,  1,  1,  1,  1,  1,  1,  1,  1,  1,  1,  1,  1,  1,\n",
       "        1,  1,  1,  1,  1,  1,  1,  1,  1,  1,  1,  1,  1,  1,  1,  1,  1,\n",
       "        1,  1,  1,  1,  1,  1,  1,  1,  1,  1,  1,  1,  1,  1,  1,  1,  1,\n",
       "        1,  1,  1,  1,  1,  1,  1,  1,  1,  1,  1,  1,  1,  1,  1,  1,  1,\n",
       "        1,  1,  1,  1,  1,  1,  1,  1,  1,  1,  1,  1,  1,  1,  1,  1,  1,\n",
       "        1,  1,  1,  1,  1,  1,  1,  1,  1,  1,  1, -1,  1,  1,  1,  1,  1,\n",
       "        1,  1,  1, -1,  1,  1,  1,  1,  1,  1,  1,  1,  1,  1])"
      ]
     },
     "execution_count": 14,
     "metadata": {},
     "output_type": "execute_result"
    }
   ],
   "source": [
    "predictions[0:150]"
   ]
  },
  {
   "cell_type": "markdown",
   "metadata": {},
   "source": [
    "### INSPECT THE ANOMALOUS EVENTS"
   ]
  },
  {
   "cell_type": "code",
   "execution_count": 15,
   "metadata": {
    "scrolled": false
   },
   "outputs": [
    {
     "name": "stdout",
     "output_type": "stream",
     "text": [
      "High-Speed Isochronous Endpoints\n",
      "usb 1-1: new high-speed USB device number 2 using dwc_otg\n",
      "usb 1-1.1: new high-speed USB device number 3 using dwc_otg\n",
      "usb 1-1.1.1: new high-speed USB device number 7 using dwc_otg\n",
      "wlan0: adding address fe80::1013:35ee:ab9d:d76b\n",
      "Joining mDNS multicast group on interface wlan0.IPv6 with address fe80::1013:35ee:ab9d:d76b.\n",
      "Registering new address record for fe80::1013:35ee:ab9d:d76b on wlan0.*.\n",
      "Leaving mDNS multicast group on interface wlan0.IPv6 with address fe80::1013:35ee:ab9d:d76b.\n",
      "Withdrawing address record for fe80::1013:35ee:ab9d:d76b on wlan0.\n"
     ]
    }
   ],
   "source": [
    "for index, prediction in enumerate(predictions):\n",
    "    \n",
    "    # FIND ALL -1 VALUES (ANOMALIES)\n",
    "    if prediction != 1:\n",
    "        \n",
    "        # PRINT ROW FROM TEST SET\n",
    "        print(test_set[index])"
   ]
  },
  {
   "cell_type": "code",
   "execution_count": null,
   "metadata": {},
   "outputs": [],
   "source": []
  }
 ],
 "metadata": {
  "kernelspec": {
   "display_name": "Python 3",
   "language": "python",
   "name": "python3"
  },
  "language_info": {
   "codemirror_mode": {
    "name": "ipython",
    "version": 3
   },
   "file_extension": ".py",
   "mimetype": "text/x-python",
   "name": "python",
   "nbconvert_exporter": "python",
   "pygments_lexer": "ipython3",
   "version": "3.7.9"
  }
 },
 "nbformat": 4,
 "nbformat_minor": 4
}
