{
 "cells": [
  {
   "cell_type": "code",
   "execution_count": 1,
   "metadata": {},
   "outputs": [],
   "source": [
    "import json\n",
    "import pandas as pd\n",
    "import nbimporter"
   ]
  },
  {
   "cell_type": "code",
   "execution_count": 2,
   "metadata": {},
   "outputs": [
    {
     "name": "stdout",
     "output_type": "stream",
     "text": [
      "Importing Jupyter notebook from encryption.ipynb\n"
     ]
    }
   ],
   "source": [
    "import encryption"
   ]
  },
  {
   "cell_type": "markdown",
   "metadata": {},
   "source": [
    "### IMPORT DATA"
   ]
  },
  {
   "cell_type": "code",
   "execution_count": 3,
   "metadata": {},
   "outputs": [],
   "source": [
    "dataframe = pd.read_csv('data/all-files-ignore-code-kernel-fix.csv', index_col='Unnamed: 0')"
   ]
  },
  {
   "cell_type": "code",
   "execution_count": 4,
   "metadata": {},
   "outputs": [],
   "source": [
    "data = dataframe.to_dict()"
   ]
  },
  {
   "cell_type": "markdown",
   "metadata": {},
   "source": [
    "### CREATE BATCH OF LOG EVENTS"
   ]
  },
  {
   "cell_type": "code",
   "execution_count": 5,
   "metadata": {},
   "outputs": [],
   "source": [
    "def create_batch(hashes, data):\n",
    "    \n",
    "    # DATA CONTAINER\n",
    "    container = {}\n",
    "    \n",
    "    # DATAFRAME COLUMNS\n",
    "    cols = data.keys()\n",
    "    \n",
    "    # LOOP THROUGH\n",
    "    for target_hash in hashes:\n",
    "        \n",
    "        # CREATE ENTRY\n",
    "        container[target_hash] = {}\n",
    "        \n",
    "        # LOOP THROUGH COLUMNS\n",
    "        for col in cols:\n",
    "            \n",
    "            # ADD PROPERTY\n",
    "            container[target_hash][col] = data[col][target_hash]\n",
    "    \n",
    "    # RETURN COLLECTED DATA\n",
    "    return container"
   ]
  },
  {
   "cell_type": "code",
   "execution_count": 6,
   "metadata": {},
   "outputs": [],
   "source": [
    "batch = create_batch([\n",
    "    '53eac99acba6c33cfabdf631e4c7a0196f2e1647a0303190375ea680190510ed',\n",
    "    '81759ec7de5efa9657b37800e1ec317692fe41c67ca7de759b23fed45015a931',\n",
    "    '30129d78176e0d7a3e9fe5948b2df6bd3b4afd183f6b47f4c67a585239bf8fd7',\n",
    "    'c4ec89aae91fea6f4c675192f0d774c5796e101500d50d7db77bcac276ee0a16'\n",
    "], data)"
   ]
  },
  {
   "cell_type": "markdown",
   "metadata": {},
   "source": [
    "### AES ENCRYPT BATCH EVENT"
   ]
  },
  {
   "cell_type": "code",
   "execution_count": 7,
   "metadata": {},
   "outputs": [],
   "source": [
    "sym_data, sym_pass = encryption.aes_sym(batch)"
   ]
  },
  {
   "cell_type": "markdown",
   "metadata": {},
   "source": [
    "### RSA ENCRYPT SYMMETRIC PASSWORD"
   ]
  },
  {
   "cell_type": "code",
   "execution_count": 18,
   "metadata": {},
   "outputs": [],
   "source": [
    "asym_pass, pub_key, priv_key = encryption.rsa_encrypt(sym_pass)"
   ]
  },
  {
   "cell_type": "code",
   "execution_count": 19,
   "metadata": {},
   "outputs": [
    {
     "data": {
      "text/plain": [
       "<cryptography.hazmat.backends.openssl.rsa._RSAPublicKey at 0x7f8e05b23970>"
      ]
     },
     "execution_count": 19,
     "metadata": {},
     "output_type": "execute_result"
    }
   ],
   "source": [
    "pub_key"
   ]
  },
  {
   "cell_type": "code",
   "execution_count": 21,
   "metadata": {},
   "outputs": [],
   "source": [
    "test = pub_key.public_bytes(\n",
    "    encoding=serialization.Encoding.PEM,\n",
    "    format=serialization.PublicFormat.SubjectPublicKeyInfo\n",
    ")"
   ]
  },
  {
   "cell_type": "code",
   "execution_count": 22,
   "metadata": {},
   "outputs": [
    {
     "data": {
      "text/plain": [
       "b'-----BEGIN PUBLIC KEY-----\\nMIIBIjANBgkqhkiG9w0BAQEFAAOCAQ8AMIIBCgKCAQEAqSbVDYB8BBJvUuOiFtX3\\nWpVayPehNKXONw8K4PCJgIbjJXFw/+ZL9q1JoGv0/b4aUD/YOePXaI4lxZ/FE1Bp\\nfE9FBCbipDzbnBPSkTodF/G9xDum12yYayzUm2fzs6khzYYG+Q4OExOqyabMJ459\\nryxgiRzgvyO2zVIWyE2g8zH2HEPHkLjELzM3DDZlAMGt2GENah3vkFRGlc5lSzK/\\nXFQtwnSxCybaQub5U0k/+SrOaxPZaTUypdnqV8srKCDFf5pS/bLj4XI9Kk7HEp8s\\nTMRfcuivbMUlzNm1KM+xQXc13EAliAhnZKfE2VvuFRhsuynIH2PwL795chGElMIf\\nNQIDAQAB\\n-----END PUBLIC KEY-----\\n'"
      ]
     },
     "execution_count": 22,
     "metadata": {},
     "output_type": "execute_result"
    }
   ],
   "source": [
    "test"
   ]
  },
  {
   "cell_type": "code",
   "execution_count": 24,
   "metadata": {},
   "outputs": [],
   "source": [
    "from cryptography.hazmat.backends import default_backend"
   ]
  },
  {
   "cell_type": "code",
   "execution_count": 25,
   "metadata": {},
   "outputs": [
    {
     "data": {
      "text/plain": [
       "<cryptography.hazmat.backends.openssl.rsa._RSAPublicKey at 0x7f8e05ab72e0>"
      ]
     },
     "execution_count": 25,
     "metadata": {},
     "output_type": "execute_result"
    }
   ],
   "source": [
    "serialization.load_pem_public_key(\n",
    "    test,\n",
    "    backend=default_backend()\n",
    ")"
   ]
  },
  {
   "cell_type": "code",
   "execution_count": null,
   "metadata": {},
   "outputs": [],
   "source": []
  },
  {
   "cell_type": "code",
   "execution_count": 97,
   "metadata": {},
   "outputs": [
    {
     "data": {
      "text/plain": [
       "b'encrypt me!'"
      ]
     },
     "execution_count": 97,
     "metadata": {},
     "output_type": "execute_result"
    }
   ],
   "source": [
    "b'encrypt me!'"
   ]
  },
  {
   "cell_type": "code",
   "execution_count": 100,
   "metadata": {},
   "outputs": [
    {
     "data": {
      "text/plain": [
       "b'{\"53eac99acba6c33cfabdf631e4c7a0196f2e1647a0303190375ea680190510ed\": {\"occurrence\": 4, \"module\": \"cron\", \"code\": \"325\", \"message\": \"(CRON) INFO (pidfile fd = 3)\", \"timestamp\": 1613389600}, \"81759ec7de5efa9657b37800e1ec317692fe41c67ca7de759b23fed45015a931\": {\"occurrence\": 6, \"module\": \"CRON\", \"code\": \"15203\", \"message\": \"(CRON) info (No MTA installed, discarding output)\", \"timestamp\": 1613646001}, \"30129d78176e0d7a3e9fe5948b2df6bd3b4afd183f6b47f4c67a585239bf8fd7\": {\"occurrence\": 144, \"module\": \"CRON\", \"code\": \"6126\", \"message\": \"(root) CMD ( cd / && run-parts --report /etc/cron.hourly)\", \"timestamp\": 1613625421}, \"c4ec89aae91fea6f4c675192f0d774c5796e101500d50d7db77bcac276ee0a16\": {\"occurrence\": 6, \"module\": \"CRON\", \"code\": \"15207\", \"message\": \"(root) CMD (./home/wickstjo/scripts/ropsten.sh)\", \"timestamp\": 1613646001}}'"
      ]
     },
     "execution_count": 100,
     "metadata": {},
     "output_type": "execute_result"
    }
   ],
   "source": [
    "json.dumps(batch).encode('utf-8')"
   ]
  },
  {
   "cell_type": "code",
   "execution_count": null,
   "metadata": {},
   "outputs": [],
   "source": [
    "encrypt(batch, global_pubkey)"
   ]
  },
  {
   "cell_type": "markdown",
   "metadata": {},
   "source": [
    "### AES TESTING"
   ]
  },
  {
   "cell_type": "code",
   "execution_count": 23,
   "metadata": {},
   "outputs": [],
   "source": [
    "from Crypto.Cipher import AES"
   ]
  },
  {
   "cell_type": "code",
   "execution_count": 111,
   "metadata": {},
   "outputs": [],
   "source": [
    "from Crypto.Cipher import AES\n",
    "import hashlib"
   ]
  },
  {
   "cell_type": "markdown",
   "metadata": {},
   "source": [
    "### CIPHER PARAMS"
   ]
  },
  {
   "cell_type": "code",
   "execution_count": 193,
   "metadata": {},
   "outputs": [],
   "source": [
    "encr_data, encr_pass = sym_encrypt('foobar')"
   ]
  },
  {
   "cell_type": "code",
   "execution_count": null,
   "metadata": {},
   "outputs": [],
   "source": []
  },
  {
   "cell_type": "code",
   "execution_count": 25,
   "metadata": {},
   "outputs": [],
   "source": [
    "password = 'mypass'.encode()"
   ]
  },
  {
   "cell_type": "code",
   "execution_count": 33,
   "metadata": {},
   "outputs": [],
   "source": [
    "key = hashlib.sha256(password).digest()"
   ]
  },
  {
   "cell_type": "code",
   "execution_count": 34,
   "metadata": {},
   "outputs": [],
   "source": [
    "mode = AES.MODE_CBC"
   ]
  },
  {
   "cell_type": "code",
   "execution_count": 37,
   "metadata": {},
   "outputs": [],
   "source": [
    "init_vector = 'this is an IV456'.encode()"
   ]
  },
  {
   "cell_type": "markdown",
   "metadata": {},
   "source": [
    "### FOO"
   ]
  },
  {
   "cell_type": "code",
   "execution_count": 38,
   "metadata": {},
   "outputs": [],
   "source": [
    "cipher = AES.new(key, mode, init_vector)"
   ]
  },
  {
   "cell_type": "markdown",
   "metadata": {},
   "source": [
    "### MESSAGE"
   ]
  },
  {
   "cell_type": "code",
   "execution_count": 61,
   "metadata": {},
   "outputs": [],
   "source": [
    "def pad_message(msg):\n",
    "    while len(msg) % 16 != 0:\n",
    "        msg += \" \"\n",
    "    return msg.encode()"
   ]
  },
  {
   "cell_type": "code",
   "execution_count": 79,
   "metadata": {},
   "outputs": [],
   "source": [
    "#message = 'this is my super secret this is my super secret this is my super secret'"
   ]
  },
  {
   "cell_type": "code",
   "execution_count": 84,
   "metadata": {},
   "outputs": [],
   "source": [
    "message = '{\"53eac99acba6c33cfabdf631e4c7a0196f2e1647a0303190375ea680190510ed\": {\"occurrence\": 4, \"module\": \"cron\", \"code\": \"325\", \"message\": \"(CRON) INFO (pidfile fd = 3)\", \"timestamp\": 1613389600}, \"81759ec7de5efa9657b37800e1ec317692fe41c67ca7de759b23fed45015a931\": {\"occurrence\": 6, \"module\": \"CRON\", \"code\": \"15203\", \"message\": \"(CRON) info (No MTA installed, discarding output)\", \"timestamp\": 1613646001}, \"30129d78176e0d7a3e9fe5948b2df6bd3b4afd183f6b47f4c67a585239bf8fd7\": {\"occurrence\": 144, \"module\": \"CRON\", \"code\": \"6126\", \"message\": \"(root) CMD ( cd / && run-parts --report /etc/cron.hourly)\", \"timestamp\": 1613625421}, \"c4ec89aae91fea6f4c675192f0d774c5796e101500d50d7db77bcac276ee0a16\": {\"occurrence\": 6, \"module\": \"CRON\", \"code\": \"15207\", \"message\": \"(root) CMD (./home/wickstjo/scripts/ropsten.sh)\", \"timestamp\": 1613646001}}'"
   ]
  },
  {
   "cell_type": "code",
   "execution_count": 85,
   "metadata": {},
   "outputs": [
    {
     "data": {
      "text/plain": [
       "828"
      ]
     },
     "execution_count": 85,
     "metadata": {},
     "output_type": "execute_result"
    }
   ],
   "source": [
    "len(message)"
   ]
  },
  {
   "cell_type": "code",
   "execution_count": 86,
   "metadata": {},
   "outputs": [],
   "source": [
    "padded = pad_message(message)"
   ]
  },
  {
   "cell_type": "code",
   "execution_count": 87,
   "metadata": {
    "scrolled": true
   },
   "outputs": [
    {
     "data": {
      "text/plain": [
       "832"
      ]
     },
     "execution_count": 87,
     "metadata": {},
     "output_type": "execute_result"
    }
   ],
   "source": [
    "len(padded)"
   ]
  },
  {
   "cell_type": "markdown",
   "metadata": {},
   "source": [
    "### ENCRYPT"
   ]
  },
  {
   "cell_type": "code",
   "execution_count": 88,
   "metadata": {},
   "outputs": [],
   "source": [
    "encrypted = cipher.encrypt(padded)"
   ]
  },
  {
   "cell_type": "code",
   "execution_count": 89,
   "metadata": {},
   "outputs": [
    {
     "data": {
      "text/plain": [
       "b'&\\xb9\\xd9\\x8f\\xfaj\\xee\\xcc\\xb2 \\x8d\\xb7p\\x1d\\xa1\\x9dp\\xcbG\\xaaC\\x8d\\x05\\xd3C\\xf1\\xe2\\x14\\x04\\xda\\x1d\\xf6\\xcd\\xa7\\x89\\xc4\\x1b\\xed\\xd8\\xab\\x8a\\xcfZ\\xda0\\xd4\\x95\\xecM\\xc9f.\\x82\\xcc\\x83\\x15\\xf4\\x1e\\x98\\x0e\\xa5\\xa7\\xf1\\xdc\\xa0\\'\\xa6*Mw\\x01T\\xfb(\\xb0\\xd9X\\xaeI\\xd5\\x86E\\xb0\\x06\\x83j\\x85\\x93AW\\xd3sQ\\x9a\\xcfY=65\\xf5\\xe5\\x9f6+\\x01\\xf8\\x93\\xc5\\xa3\\xcc&\\xc3a\\x86\\x11kNoi\\x83\\x19KZ@-o\\x03!\\x82\\xd2\\xe6\\xdc/Bt\\xb4qY\\xf6I\\x00\\xdeJg\\xe5N\\xbf\\x0fw\\xc2L</\\xf8~\\xbd2\\x80\\xe6e\\xe7\\xbf\\xa1%\\xbf\\xabu\\x02xi\\xd5\\xe4M\\x8a\\x91A\\x8e\\xe1\\xbfi\\xd3\\x83Ae\\xfdw\\xa1\\x1d\\xee\\xca\\x91\\'\\x12N\\xb8\\xa2\\x1d\\xe0R\\x00\\x8b\\xbfv\\xfff\\xb2\\xa3\\x9b\\xe5\\xa4;\\r\\x95N\\x0f(3\\x15\\xe7\\xae\\xd2\\xb3\\xa5f\\x92\\xe4\\xadq\\x1bE\\xac\\x1b((\\x03\\xf7\\x06*9\\xc8dxC\\xdbb\\xa0\\xcd\\xbc\\xae\\xc1n\\xf0\\x93PW\\xee/\\xf6\\xa7\\xf9\\xd8\\xfe\\xd0\\'\\x19\\xfe\\x1co#.\\x89\\xc2\\x00\\x04\\xf7f\\xf0\\x18\\x13\\xf4\\xf02\\xd0\\xac_\\xaf\\xb1\\xa3\\xf5\\xe9\\xa4u\\xf2\\x1dU\\x19\\xce\\xd7`2G\\x83\\xa0\\xeb\\x9c\\tB\\x16\\x8dL$\\x9f\\x04\\xc2\\xfac:\\x1eszJ\\xdd=\\x9d\\x1e\\x11\\xe0\\xf0s\\x0853\\x01\\xb9\\xa6\\xb9\\xee\\xad~\\xe8K*\\x10\\xd1\\x1b\\x9f\\xa5\\xad\\xbe{\\xfe+{s\\x92q\\xde!#\\x9d\\xa0a\\x9a\\x83\\xfd<\\xdc\\x8a\\xa0\\xef>\\xf36\\x9b\\x13G\\x85\\x8a\\x82\\xe5i\\x03\\xc0c\\x15n*\\x9a!\\xe0o\\xd7\\xac\\x9f:\\xbc\\x1cl\\xfe/\\x97\\x01X4\\xeb\\x9a\\x08\\xcf\\xc8$0[\\xd3\\xba\\xa7\\x83\\ru\\xd0\\xa0Vyx\\x88j\\x98Sm\\xed\\xf9\\xb0\\xa4Y\\xb9\\xe7\\x86\\x9ff\\x9c.?\\xe6\\xa4\\x02\\x10t\\x00\\'\\xb9@\\xc4\\xf2\\x7fx\\x0c\\x08S\\xffF@q.*\\xe9JZ\\xbf\\x06w\\x99\\x9f;\\x9e\\x91\\x85\\x81\\xd6\\x1eye\\x8a\\xf4[I\\xcf\\xa8\\xce\\x00D9\\xb9\\xf6\\x0f\\xc5\\xb02\\xb5\\xf2\\xe9\\x87\\xba\\xad\\x02\\x97s\\x1b3a\\xe8\\xc9\\xd3w\\xd90\\x91\\x19+\\x16\\xe6\\x06\\xb0\\xb7?\\xa2\\x9d\\x97&\\xd4\\xac\\xca\\x1a>\\xf4j\\xa4\\x1dx\\xc4g\\xbb\\xc9_\\x1a/\\x8b\\x8e\\xbd\\xcd&W\\xd2\\x84\\xe5\\xe0\\xb2{\\r \\xd0\\xcf;B\"O\\x15z\\xe27\\x1az-y\\xe5\\x1e\\x15\\x9cZZb\\xdc\\xcc\\xd7a\\xc0Y\\xa7!\\x88\\xa3\\xe7\\x9f\\xf5\\xf8\\x97\\xd80\\x8aY\\xb2\\x10a\\xbcre\\xf8Tx\\x8a\\x0fy\\xa8i\\xfb\\xaa\\xac\\x9d\\x0f\\xd7\\xd8_\\xbe\\x93\\xe5\\x99aeO\\xdc\\xbd\\xe1\\x12m\\xce\\xb1\\ro+\\xa3\\xe9\\xd0\\x19\\xe0\\xaf\\x13D\\x1a\\x8d\\x1dy\\xaa\\xa3#\\xa6Q\\x92\\xbc\\xaa\\x0c1\\xe1aA\\xc0\\xbdS\\x87\\xb8\\x1a\\xe6\\x8a\\x95\\x9dF\\xe6\\x03\\x1a\\'\\xf7~l\\xaaG\\xe6\\xea\\xf5\\x16\\x83\\xe2\\x1c\\x96\\xe6h\\xfa\\x1e\\xa1~-\\x1d\\x04)3(\\x94\\xc5,\\x04\\xed\\xfed!$\\xae\\x1e\\t\\x16F&\\xa5\\x1c\\xa3\"\\xdes\\xd4\\xc9;)vM\\x96#4%G\\xc3\\x1eCaC\\xde\\xc2\\xb4\\xdbsz\\x84\\x8bF\\xa8z\\xea5jJ\\x91\\x05\\xfd\\x07u\\xc6h\\x1b\\xea\\x8a\\x9d\\xaf\\xe2\\xfc\\xf6J>\\xb9\\r\\xba\\xdf\\xb2\\x7f\\xf44\\xcc\\xe3I\\xfc\\xcc\\x9bg\\xb0@=]\\xc0\\x80\\x92\\xef+\\x8ei\\xd6-\\xd2\\x9c\\xc4\\x8e\\xac\\xe1c\\xb9\\x03}\\xce\\xce\\xc1q\\x0f\\x81\\xd5\\x97\\xa7\\x12C{\\xf1\\x90$C\\xda\\x1c;v\\xc8\\x9b\\xa1'"
      ]
     },
     "execution_count": 89,
     "metadata": {},
     "output_type": "execute_result"
    }
   ],
   "source": [
    "encrypted"
   ]
  },
  {
   "cell_type": "code",
   "execution_count": 90,
   "metadata": {},
   "outputs": [
    {
     "data": {
      "text/plain": [
       "832"
      ]
     },
     "execution_count": 90,
     "metadata": {},
     "output_type": "execute_result"
    }
   ],
   "source": [
    "len(encrypted)"
   ]
  },
  {
   "cell_type": "code",
   "execution_count": null,
   "metadata": {},
   "outputs": [],
   "source": []
  }
 ],
 "metadata": {
  "kernelspec": {
   "display_name": "Python 3",
   "language": "python",
   "name": "python3"
  },
  "language_info": {
   "codemirror_mode": {
    "name": "ipython",
    "version": 3
   },
   "file_extension": ".py",
   "mimetype": "text/x-python",
   "name": "python",
   "nbconvert_exporter": "python",
   "pygments_lexer": "ipython3",
   "version": "3.8.5"
  }
 },
 "nbformat": 4,
 "nbformat_minor": 4
}
