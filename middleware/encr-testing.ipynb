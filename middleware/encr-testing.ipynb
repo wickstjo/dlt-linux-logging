{
 "cells": [
  {
   "cell_type": "code",
   "execution_count": 1,
   "metadata": {},
   "outputs": [],
   "source": [
    "import json\n",
    "import pandas as pd\n",
    "import nbimporter"
   ]
  },
  {
   "cell_type": "code",
   "execution_count": 2,
   "metadata": {},
   "outputs": [
    {
     "name": "stdout",
     "output_type": "stream",
     "text": [
      "Importing Jupyter notebook from encryption.ipynb\n"
     ]
    }
   ],
   "source": [
    "import encryption"
   ]
  },
  {
   "cell_type": "markdown",
   "metadata": {},
   "source": [
    "### IMPORT DATA"
   ]
  },
  {
   "cell_type": "code",
   "execution_count": 3,
   "metadata": {},
   "outputs": [],
   "source": [
    "dataframe = pd.read_csv('data/all-files-ignore-code-kernel-fix.csv', index_col='Unnamed: 0')"
   ]
  },
  {
   "cell_type": "code",
   "execution_count": 4,
   "metadata": {},
   "outputs": [],
   "source": [
    "data = dataframe.to_dict()"
   ]
  },
  {
   "cell_type": "markdown",
   "metadata": {},
   "source": [
    "### CREATE BATCH OF LOG EVENTS"
   ]
  },
  {
   "cell_type": "code",
   "execution_count": 5,
   "metadata": {},
   "outputs": [],
   "source": [
    "def create_batch(hashes, data):\n",
    "    \n",
    "    # DATA CONTAINER\n",
    "    container = {}\n",
    "    \n",
    "    # DATAFRAME COLUMNS\n",
    "    cols = data.keys()\n",
    "    \n",
    "    # LOOP THROUGH\n",
    "    for target_hash in hashes:\n",
    "        \n",
    "        # CREATE ENTRY\n",
    "        container[target_hash] = {}\n",
    "        \n",
    "        # LOOP THROUGH COLUMNS\n",
    "        for col in cols:\n",
    "            \n",
    "            # ADD PROPERTY\n",
    "            container[target_hash][col] = data[col][target_hash]\n",
    "\n",
    "    return container"
   ]
  },
  {
   "cell_type": "code",
   "execution_count": 6,
   "metadata": {},
   "outputs": [],
   "source": [
    "batch = create_batch([\n",
    "    '53eac99acba6c33cfabdf631e4c7a0196f2e1647a0303190375ea680190510ed',\n",
    "    '81759ec7de5efa9657b37800e1ec317692fe41c67ca7de759b23fed45015a931',\n",
    "    '30129d78176e0d7a3e9fe5948b2df6bd3b4afd183f6b47f4c67a585239bf8fd7',\n",
    "    'c4ec89aae91fea6f4c675192f0d774c5796e101500d50d7db77bcac276ee0a16'\n",
    "], data)"
   ]
  },
  {
   "cell_type": "markdown",
   "metadata": {},
   "source": [
    "### AES ENCRYPT BATCH EVENT"
   ]
  },
  {
   "cell_type": "code",
   "execution_count": 7,
   "metadata": {},
   "outputs": [],
   "source": [
    "sym_data, sym_params = encryption.aes_encrypt(batch)"
   ]
  },
  {
   "cell_type": "code",
   "execution_count": 8,
   "metadata": {},
   "outputs": [
    {
     "data": {
      "text/plain": [
       "b'{\"password\": \"wX7PBtTSpWiiOm9e\", \"init_vector\": \"LinC71sLI_fgLyU5\"}'"
      ]
     },
     "execution_count": 8,
     "metadata": {},
     "output_type": "execute_result"
    }
   ],
   "source": [
    "sym_params"
   ]
  },
  {
   "cell_type": "markdown",
   "metadata": {},
   "source": [
    "### FETCH RSA PUBLIC KEY -- TEMPORARY"
   ]
  },
  {
   "cell_type": "code",
   "execution_count": 9,
   "metadata": {},
   "outputs": [],
   "source": [
    "raw_rsa_pubkey, raw_rsa_privkey = encryption.generate_rsa_keys()"
   ]
  },
  {
   "cell_type": "code",
   "execution_count": 10,
   "metadata": {},
   "outputs": [],
   "source": [
    "# SANITIZE TO SIMULATE BLOCKCHAIN FORMAT\n",
    "sanitized = encryption.sanitize_key(raw_rsa_pubkey)"
   ]
  },
  {
   "cell_type": "code",
   "execution_count": 11,
   "metadata": {},
   "outputs": [],
   "source": [
    "# CONVERT TO RSA FORMAT\n",
    "rsa_pubkey = encryption.serialize_key(sanitized)"
   ]
  },
  {
   "cell_type": "markdown",
   "metadata": {},
   "source": [
    "### RSA ENCRYPT AES PARAMS"
   ]
  },
  {
   "cell_type": "code",
   "execution_count": 12,
   "metadata": {},
   "outputs": [],
   "source": [
    "asym_params = encryption.rsa_encrypt(sym_params, rsa_pubkey)"
   ]
  },
  {
   "cell_type": "code",
   "execution_count": 13,
   "metadata": {},
   "outputs": [
    {
     "data": {
      "text/plain": [
       "b'-\\xf8C\\xc8_\\x05\\xb9\\xcf\\xde\\xd3\\xdf\\xff\\xfa\\xd99\\xca\\x81\\xab\\xd7\\x82\\xa0[\\x01u5l\\xd13M3\\xe1|\\x83\"\\xf5\\x1c\\xdd\\xa4G\\x07\\xd00}\\xc9\\xa5\\xbdC\\xeb\\xa4\\x82\\xc1\\x07AV\\xbd\\xa0\\xd8o\\xdb#\\xc7e\\xf4AH@\\x07\\xe8n\\xed\\xfa\\xdd\\xda\\x1b\\xc6\\xc9\\xd6~\\x17$\\xe8\\xd9\\x883\\xfd\\x04\\x16\\x9c\\xa2.\\xb1!\\xcc\\xefu\\x15\\xc39H\\xe9\\xd7\\xb3\\x0fD\\xe8\\xb9e\\x99\\xfdZ\\xc2\\xd6\\xa0\\xd8\\xf1|\\xe1g\\x83Ag\\x1d\\xd0\\xe7:\\x0c\\xf3]H\\x93\\xb9\\xe6zq~\\xd7\\xca\\xca@H\\x8aO\\xc9\\xa4<\\\\\\x02MDv\\x95\\xcc\\xf2\\x16\\xb7i\\x1d -2\\xc7!\\xab5ma\\xd5\\x9d\\xda\\x7fs\\xe1\\xdfs\\xf1\\xf3\\xa49\\x91\\x95\\xe2Gx\\xber\\xd0X\\x96Or\\xe36`<\\xca7v\\xa2\\x1d\\xfc\\x9eW\\xcaE\\x94~\\x9cuM\\xa4ha\\x1c\\xb2\\x0bd\\x11q8q\\x03\\xd1\\xcds\\x01\\xfe\\xaeT7\\x92\\xf7\\'z4L\\x19\\xbd\\x86\\x85\\x8a\\xdbH\\xda\\xff\\xba\\xbd\\xc9m\\xe2A\\xb8\\xc7\\x88`\\xca%'"
      ]
     },
     "execution_count": 13,
     "metadata": {},
     "output_type": "execute_result"
    }
   ],
   "source": [
    "asym_params"
   ]
  },
  {
   "cell_type": "markdown",
   "metadata": {},
   "source": [
    "#### ----------------- IOT PROCESS STOPS -----------------"
   ]
  },
  {
   "cell_type": "markdown",
   "metadata": {},
   "source": [
    "### RSA DECRYPT THE AES SYMKEY PARAMS"
   ]
  },
  {
   "cell_type": "code",
   "execution_count": 14,
   "metadata": {},
   "outputs": [],
   "source": [
    "decrypt_params = encryption.rsa_decrypt(asym_params, raw_rsa_privkey)"
   ]
  },
  {
   "cell_type": "code",
   "execution_count": 15,
   "metadata": {},
   "outputs": [
    {
     "data": {
      "text/plain": [
       "{'password': 'wX7PBtTSpWiiOm9e', 'init_vector': 'LinC71sLI_fgLyU5'}"
      ]
     },
     "execution_count": 15,
     "metadata": {},
     "output_type": "execute_result"
    }
   ],
   "source": [
    "decrypt_params"
   ]
  },
  {
   "cell_type": "markdown",
   "metadata": {},
   "source": [
    "### AES DECRYPT THE DATA"
   ]
  },
  {
   "cell_type": "code",
   "execution_count": 16,
   "metadata": {},
   "outputs": [],
   "source": [
    "decrypt_data = encryption.aes_decrypt(sym_data, decrypt_params)"
   ]
  },
  {
   "cell_type": "code",
   "execution_count": 17,
   "metadata": {},
   "outputs": [
    {
     "data": {
      "text/plain": [
       "{'53eac99acba6c33cfabdf631e4c7a0196f2e1647a0303190375ea680190510ed': {'occurrence': 4,\n",
       "  'module': 'cron',\n",
       "  'code': '325',\n",
       "  'message': '(CRON) INFO (pidfile fd = 3)',\n",
       "  'timestamp': 1613389600},\n",
       " '81759ec7de5efa9657b37800e1ec317692fe41c67ca7de759b23fed45015a931': {'occurrence': 6,\n",
       "  'module': 'CRON',\n",
       "  'code': '15203',\n",
       "  'message': '(CRON) info (No MTA installed, discarding output)',\n",
       "  'timestamp': 1613646001},\n",
       " '30129d78176e0d7a3e9fe5948b2df6bd3b4afd183f6b47f4c67a585239bf8fd7': {'occurrence': 144,\n",
       "  'module': 'CRON',\n",
       "  'code': '6126',\n",
       "  'message': '(root) CMD ( cd / && run-parts --report /etc/cron.hourly)',\n",
       "  'timestamp': 1613625421},\n",
       " 'c4ec89aae91fea6f4c675192f0d774c5796e101500d50d7db77bcac276ee0a16': {'occurrence': 6,\n",
       "  'module': 'CRON',\n",
       "  'code': '15207',\n",
       "  'message': '(root) CMD (./home/wickstjo/scripts/ropsten.sh)',\n",
       "  'timestamp': 1613646001}}"
      ]
     },
     "execution_count": 17,
     "metadata": {},
     "output_type": "execute_result"
    }
   ],
   "source": [
    "decrypt_data"
   ]
  },
  {
   "cell_type": "code",
   "execution_count": null,
   "metadata": {},
   "outputs": [],
   "source": []
  }
 ],
 "metadata": {
  "kernelspec": {
   "display_name": "Python 3",
   "language": "python",
   "name": "python3"
  },
  "language_info": {
   "codemirror_mode": {
    "name": "ipython",
    "version": 3
   },
   "file_extension": ".py",
   "mimetype": "text/x-python",
   "name": "python",
   "nbconvert_exporter": "python",
   "pygments_lexer": "ipython3",
   "version": "3.8.5"
  }
 },
 "nbformat": 4,
 "nbformat_minor": 4
}
