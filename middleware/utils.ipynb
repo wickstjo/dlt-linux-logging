{
 "cells": [
  {
   "cell_type": "code",
   "execution_count": 1,
   "metadata": {},
   "outputs": [],
   "source": [
    "import time\n",
    "import re\n",
    "from dateutil import parser\n",
    "import yaml\n",
    "import json\n",
    "import hashlib"
   ]
  },
  {
   "cell_type": "code",
   "execution_count": 2,
   "metadata": {},
   "outputs": [],
   "source": [
    "import pandas as pd\n",
    "import os\n",
    "import gzip"
   ]
  },
  {
   "cell_type": "markdown",
   "metadata": {},
   "source": [
    "### LOAD CSV"
   ]
  },
  {
   "cell_type": "code",
   "execution_count": 4,
   "metadata": {},
   "outputs": [],
   "source": [
    "def load_csv(path):\n",
    "    return pd.read_csv(path, index_col='Unnamed: 0')"
   ]
  },
  {
   "cell_type": "markdown",
   "metadata": {},
   "source": [
    "### LOAD YAML OR JSON FILE"
   ]
  },
  {
   "cell_type": "code",
   "execution_count": 3,
   "metadata": {},
   "outputs": [],
   "source": [
    "def load_yaml(path):\n",
    "    with open(path, mode='r') as file:\n",
    "        return yaml.load(file, Loader=yaml.FullLoader)"
   ]
  },
  {
   "cell_type": "code",
   "execution_count": 4,
   "metadata": {},
   "outputs": [],
   "source": [
    "def load_json(path):\n",
    "    with open(path) as json_file:\n",
    "        return json.load(json_file)"
   ]
  },
  {
   "cell_type": "markdown",
   "metadata": {},
   "source": [
    "### HASH DATA WITH SHA256"
   ]
  },
  {
   "cell_type": "code",
   "execution_count": 3,
   "metadata": {},
   "outputs": [],
   "source": [
    "def hash_data(data):\n",
    "    \n",
    "    # IF DATA IS A DICT, STRINGIFY IT\n",
    "    if type(data) == dict:\n",
    "        data = json.dumps(data, separators=(',', ':'))\n",
    "    \n",
    "    # ENCODE THE STRING WITH UTF8\n",
    "    encoded = data.encode('utf-8')\n",
    "    \n",
    "    # HASH ENCODED DATA\n",
    "    hashed = hashlib.sha256(encoded).hexdigest()\n",
    "    \n",
    "    return hashed"
   ]
  },
  {
   "cell_type": "markdown",
   "metadata": {},
   "source": [
    "### CREATE DATASET"
   ]
  },
  {
   "cell_type": "code",
   "execution_count": 3,
   "metadata": {},
   "outputs": [],
   "source": [
    "def create_dataset(main_dir):\n",
    "    \n",
    "    # CONTAINER\n",
    "    container = []\n",
    "    \n",
    "    # SORTED SUB DIRECTORIES\n",
    "    sub_dirs = os.listdir(main_dir)\n",
    "    sub_dirs.sort()\n",
    "    \n",
    "    # LOOP THROUGH SUB-DIR\n",
    "    for sub_dir in sub_dirs:\n",
    "        \n",
    "        # DIR PATH\n",
    "        path = '{}/{}'.format(main_dir, sub_dir)\n",
    "    \n",
    "        # FIND & REVERSE SORT LOG FILES\n",
    "        files = os.listdir(path)\n",
    "        files.sort()\n",
    "        files.reverse()\n",
    "    \n",
    "        # LOOP THROUGH LOG FILES\n",
    "        for file in files:\n",
    "            \n",
    "            # FILE PATH\n",
    "            path = '{}/{}/{}'.format(main_dir, sub_dir, file)\n",
    "\n",
    "            # OPEN & READ THE COMPRESSED FILE\n",
    "            with gzip.open(path, 'rb') as file:\n",
    "                for line in file:\n",
    "\n",
    "                    # DECODE AS STRING\n",
    "                    decoded = line.decode('utf-8')\n",
    "\n",
    "                    # PARSE LINE & EXTRACT PARAMS\n",
    "                    module, code, message, timestamp = parse_line(decoded)\n",
    "\n",
    "                    # APPEND TO CONTAINER\n",
    "                    container.append([timestamp, module, code, message])\n",
    "                    \n",
    "    # CREATE DATAFRAME\n",
    "    dataframe = pd.DataFrame(container, columns=[\n",
    "        'timestamp',\n",
    "        'module',\n",
    "        'code',\n",
    "        'message'\n",
    "    ])\n",
    "                \n",
    "    return dataframe"
   ]
  },
  {
   "cell_type": "markdown",
   "metadata": {},
   "source": [
    "### PARSE LINE INTO DICT"
   ]
  },
  {
   "cell_type": "code",
   "execution_count": 5,
   "metadata": {},
   "outputs": [],
   "source": [
    "def parse_line(line):\n",
    "    \n",
    "    # FISH OUT THE CODE\n",
    "    matches = re.findall(r\"\\[([0-9. ]*[0-9]+)\\]\", line)\n",
    "    \n",
    "    # DEFAULT TO NO CODE\n",
    "    code = 'none'\n",
    "    \n",
    "    # IF A CODE MATCH IS FOUND, USE IT INSTEAD\n",
    "    if len(matches) > 0:\n",
    "        raw_code = matches[0]\n",
    "        code = raw_code.replace(' ', '')\n",
    "    \n",
    "        # REMOVE THE BRACKETED CODE FROM THE LINE\n",
    "        temp_block = '[{}]'.format(raw_code)\n",
    "        line = line.replace(temp_block, '')\n",
    "    \n",
    "    # FIND ALL SPACES IN STRING\n",
    "    spaces = [i for i, ltr in enumerate(line) if ltr == ' ']\n",
    "    \n",
    "    # FISH OUT THE DATE\n",
    "    raw_date = line[:spaces[2]]\n",
    "    timestamp = int(parser.parse(raw_date).timestamp())\n",
    "    \n",
    "    # FISH OUT THE MODULE\n",
    "    raw_module = line[spaces[3]:spaces[4]]\n",
    "    module = re.sub(r'[^A-Za-z]', '', raw_module)\n",
    "    \n",
    "    # FISH OUT THE REMAINING MESSAGE\n",
    "    message = line[spaces[4]:].strip()\n",
    "    message = re.sub(' +', ' ', message)\n",
    "    \n",
    "    return module, code, message, timestamp"
   ]
  },
  {
   "cell_type": "markdown",
   "metadata": {},
   "source": [
    "### EXTRACT NUMBERS FROM MESSAGE"
   ]
  },
  {
   "cell_type": "code",
   "execution_count": 1,
   "metadata": {},
   "outputs": [],
   "source": [
    "def extract_numbers(message):\n",
    "\n",
    "    # EXTRACT NUMERIC VALUES\n",
    "    values = re.findall(r\"([0-9. ]*[0-9]+)\", message)\n",
    "    \n",
    "    # SUBSTITUTE THEM WITH BRACKETS\n",
    "    substituted = re.sub(r\"([0-9. ]*[0-9]+)\", '{}', message)\n",
    "    \n",
    "    return values, substituted"
   ]
  },
  {
   "cell_type": "markdown",
   "metadata": {},
   "source": [
    "### SAVE DATA TO FILE"
   ]
  },
  {
   "cell_type": "code",
   "execution_count": 4,
   "metadata": {},
   "outputs": [],
   "source": [
    "def save_data(data, path):\n",
    "    with open(path, 'w') as file:\n",
    "        file.write(data)"
   ]
  },
  {
   "cell_type": "markdown",
   "metadata": {},
   "source": [
    "### FILTER ZEROES FROM LIST"
   ]
  },
  {
   "cell_type": "code",
   "execution_count": 1,
   "metadata": {},
   "outputs": [],
   "source": [
    "def filter_backlog(data):\n",
    "    \n",
    "    # FILTER ZEROS\n",
    "    filtered = filter(lambda x: x != '0x0000000000000000000000000000000000000000', data)\n",
    "    \n",
    "    # CONVERT TO LIST & RETURN\n",
    "    return list(filtered)"
   ]
  },
  {
   "cell_type": "code",
   "execution_count": null,
   "metadata": {},
   "outputs": [],
   "source": []
  }
 ],
 "metadata": {
  "kernelspec": {
   "display_name": "Python 3",
   "language": "python",
   "name": "python3"
  },
  "language_info": {
   "codemirror_mode": {
    "name": "ipython",
    "version": 3
   },
   "file_extension": ".py",
   "mimetype": "text/x-python",
   "name": "python",
   "nbconvert_exporter": "python",
   "pygments_lexer": "ipython3",
   "version": "3.8.5"
  }
 },
 "nbformat": 4,
 "nbformat_minor": 4
}
