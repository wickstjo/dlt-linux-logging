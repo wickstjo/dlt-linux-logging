{
 "cells": [
  {
   "cell_type": "code",
   "execution_count": 5,
   "metadata": {},
   "outputs": [],
   "source": [
    "import time\n",
    "import os\n",
    "import re\n",
    "from dateutil import parser\n",
    "import yaml\n",
    "import json\n",
    "import hashlib"
   ]
  },
  {
   "cell_type": "markdown",
   "metadata": {},
   "source": [
    "### LOAD YAML OR JSON FILE"
   ]
  },
  {
   "cell_type": "code",
   "execution_count": 3,
   "metadata": {},
   "outputs": [],
   "source": [
    "def load_yaml(path):\n",
    "    with open(path, mode='r') as file:\n",
    "        return yaml.load(file, Loader=yaml.FullLoader)"
   ]
  },
  {
   "cell_type": "code",
   "execution_count": 4,
   "metadata": {},
   "outputs": [],
   "source": [
    "def load_json(path):\n",
    "    with open(path) as json_file:\n",
    "        return json.load(json_file)"
   ]
  },
  {
   "cell_type": "markdown",
   "metadata": {},
   "source": [
    "### HASH DATA WITH SHA256"
   ]
  },
  {
   "cell_type": "code",
   "execution_count": 6,
   "metadata": {},
   "outputs": [],
   "source": [
    "def hash_data(data):\n",
    "    \n",
    "    # REMOVE WHITESPACES\n",
    "    to_string = json.dumps(data, separators=(',', ':'))\n",
    "    \n",
    "    # ENCODE THE STRING WITH UTF8\n",
    "    encoded = to_string.encode('utf-8')\n",
    "    \n",
    "    # HASH ENCODED DATA\n",
    "    hashed = hashlib.sha256(encoded).hexdigest()\n",
    "    \n",
    "    return hashed"
   ]
  },
  {
   "cell_type": "markdown",
   "metadata": {},
   "source": [
    "### TRACK A LOGFILE"
   ]
  },
  {
   "cell_type": "code",
   "execution_count": 8,
   "metadata": {},
   "outputs": [],
   "source": [
    "def track(logfile, container):\n",
    "    \n",
    "    # OPEN THE FILE\n",
    "    file = open(logfile, 'r')\n",
    "\n",
    "    # EXTRACT FILE PARAM\n",
    "    st_results = os.stat(logfile)\n",
    "    st_size = st_results[6]\n",
    "    \n",
    "    # FIND THE TAILEND OF THE FILE\n",
    "    file.seek(st_size)\n",
    "\n",
    "    # EVENT LOOP\n",
    "    try:\n",
    "        print('LISTENING TO:', logfile)  \n",
    "        \n",
    "        while True:\n",
    "\n",
    "            # READ THE LAST LINE\n",
    "            where = file.tell()\n",
    "            line = file.readline()\n",
    "\n",
    "            # IF THERE IS NOTHING THERE, SLEEP FOR 1 SECOND\n",
    "            if not line:\n",
    "                time.sleep(1)\n",
    "                file.seek(where)\n",
    "\n",
    "            # OTHERWISE...\n",
    "            else:\n",
    "\n",
    "                # PARSE THE LINE\n",
    "                parsed = parse_line(line)\n",
    "\n",
    "                # APPEND TO THE CONTAINER\n",
    "                container.append(parsed)\n",
    "    \n",
    "    # WHEN THE PROCESS IS KILLED\n",
    "    except:\n",
    "        print('\\nTHE PROCESS WAS MANUALLY KILLED')  "
   ]
  },
  {
   "cell_type": "markdown",
   "metadata": {},
   "source": [
    "### PARSE LINE INTO DICT"
   ]
  },
  {
   "cell_type": "code",
   "execution_count": 57,
   "metadata": {},
   "outputs": [],
   "source": [
    "def parse_line(line):\n",
    "    \n",
    "    # TRUNCATE MULTI-SPACING\n",
    "    line = re.sub(' +', ' ', line)\n",
    "    \n",
    "    # REMOVE LINEBREAK CHAR\n",
    "    line = re.sub('\\n', '', line)\n",
    "    \n",
    "    # FIND EACH OCCURRENCE OF SPACES IN LINE\n",
    "    spaces = [i for i, ltr in enumerate(line) if ltr == ' ']\n",
    "    \n",
    "    # PROCESS DATE\n",
    "    raw_date = line[:spaces[2]]\n",
    "    unix = parser.parse(raw_date).timestamp()\n",
    "    \n",
    "    # PROCESS MODULE\n",
    "    raw_module = line[spaces[3] + 1:spaces[4] - 1]\n",
    "    \n",
    "    # MODULE CODE & NAME\n",
    "    code = re.search('(?!\\[)\\d*?(?=\\])', raw_module).group(0)\n",
    "    name = raw_module.replace('[' + str(code) + ']', '')\n",
    "    \n",
    "    return {\n",
    "        'timestamp': int(unix),\n",
    "        'platform': line[spaces[2] + 1:spaces[3]],\n",
    "        'module': {\n",
    "            'code': code,\n",
    "            'name': name\n",
    "        },\n",
    "        'msg': line[spaces[4] + 1:]\n",
    "    }"
   ]
  },
  {
   "cell_type": "code",
   "execution_count": null,
   "metadata": {},
   "outputs": [],
   "source": []
  }
 ],
 "metadata": {
  "kernelspec": {
   "display_name": "Python 3",
   "language": "python",
   "name": "python3"
  },
  "language_info": {
   "codemirror_mode": {
    "name": "ipython",
    "version": 3
   },
   "file_extension": ".py",
   "mimetype": "text/x-python",
   "name": "python",
   "nbconvert_exporter": "python",
   "pygments_lexer": "ipython3",
   "version": "3.8.5"
  }
 },
 "nbformat": 4,
 "nbformat_minor": 4
}
