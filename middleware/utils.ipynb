{
 "cells": [
  {
   "cell_type": "code",
   "execution_count": 5,
   "metadata": {},
   "outputs": [],
   "source": [
    "import time\n",
    "import re\n",
    "from dateutil import parser\n",
    "import yaml\n",
    "import json\n",
    "import hashlib\n",
    "import base64"
   ]
  },
  {
   "cell_type": "markdown",
   "metadata": {},
   "source": [
    "### LOAD YAML OR JSON FILE"
   ]
  },
  {
   "cell_type": "code",
   "execution_count": 3,
   "metadata": {},
   "outputs": [],
   "source": [
    "def load_yaml(path):\n",
    "    with open(path, mode='r') as file:\n",
    "        return yaml.load(file, Loader=yaml.FullLoader)"
   ]
  },
  {
   "cell_type": "code",
   "execution_count": 4,
   "metadata": {},
   "outputs": [],
   "source": [
    "def load_json(path):\n",
    "    with open(path) as json_file:\n",
    "        return json.load(json_file)"
   ]
  },
  {
   "cell_type": "markdown",
   "metadata": {},
   "source": [
    "### HASH DATA WITH SHA256"
   ]
  },
  {
   "cell_type": "code",
   "execution_count": 6,
   "metadata": {},
   "outputs": [],
   "source": [
    "def hash_data(data):\n",
    "    \n",
    "    # REMOVE WHITESPACES\n",
    "    to_string = json.dumps(data, separators=(',', ':'))\n",
    "    \n",
    "    # ENCODE THE STRING WITH UTF8\n",
    "    encoded = to_string.encode('utf-8')\n",
    "    \n",
    "    # HASH ENCODED DATA\n",
    "    hashed = hashlib.sha256(encoded).hexdigest()\n",
    "    \n",
    "    return hashed"
   ]
  },
  {
   "cell_type": "markdown",
   "metadata": {},
   "source": [
    "### PARSE LINE INTO DICT"
   ]
  },
  {
   "cell_type": "code",
   "execution_count": 3,
   "metadata": {},
   "outputs": [],
   "source": [
    "def parse_line(line):\n",
    "    \n",
    "    # TRUNCATE MULTI-SPACING\n",
    "    line = re.sub(' +', ' ', line)\n",
    "    \n",
    "    # REMOVE LINEBREAK CHAR\n",
    "    line = re.sub('\\n', '', line)\n",
    "    \n",
    "    # FIND EACH OCCURRENCE OF SPACES IN LINE\n",
    "    spaces = [i for i, ltr in enumerate(line) if ltr == ' ']\n",
    "    \n",
    "    # PROCESS MODULE\n",
    "    raw_module = line[spaces[3] + 1:spaces[4] - 1]\n",
    "    \n",
    "    # MODULE CODE\n",
    "    raw_code = re.search('(?!\\[)\\d*?(?=\\])', raw_module)\n",
    "    \n",
    "    # IF THERE IS NO CODE\n",
    "    if raw_code == None:\n",
    "        code = 'None'\n",
    "        \n",
    "    # OTHERWISE, EXTRACT IT\n",
    "    else:\n",
    "        code = raw_code.group(0)\n",
    "    \n",
    "    # MODULE NAME\n",
    "    module = raw_module.replace('[' + str(code) + ']', '')\n",
    "    \n",
    "    # PROCESS TIMESTAMP\n",
    "    raw_date = line[:spaces[2]]\n",
    "    unix = parser.parse(raw_date).timestamp()\n",
    "    \n",
    "    # MODULE, CODE, MESSAGE, TIMESTAMP\n",
    "    return module, code, line[spaces[4] + 1:], int(unix)"
   ]
  },
  {
   "cell_type": "markdown",
   "metadata": {},
   "source": [
    "### ENCODE JSON WITH BASE64"
   ]
  },
  {
   "cell_type": "code",
   "execution_count": 4,
   "metadata": {},
   "outputs": [],
   "source": [
    "def encode(data):\n",
    "    \n",
    "    # STRINGIFY & CONVERT TO BYTES\n",
    "    stringified = json.dumps(data)\n",
    "    to_bytes = str.encode(stringified)\n",
    "    \n",
    "    # ENCODE\n",
    "    encoded = base64.b64encode(to_bytes)\n",
    "    \n",
    "    # RETURN AS STRING\n",
    "    return encoded.decode()"
   ]
  },
  {
   "cell_type": "code",
   "execution_count": null,
   "metadata": {},
   "outputs": [],
   "source": []
  }
 ],
 "metadata": {
  "kernelspec": {
   "display_name": "Python 3",
   "language": "python",
   "name": "python3"
  },
  "language_info": {
   "codemirror_mode": {
    "name": "ipython",
    "version": 3
   },
   "file_extension": ".py",
   "mimetype": "text/x-python",
   "name": "python",
   "nbconvert_exporter": "python",
   "pygments_lexer": "ipython3",
   "version": "3.8.5"
  }
 },
 "nbformat": 4,
 "nbformat_minor": 4
}
