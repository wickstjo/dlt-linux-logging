{
 "cells": [
  {
   "cell_type": "code",
   "execution_count": 1,
   "metadata": {},
   "outputs": [],
   "source": [
    "import time\n",
    "import nbimporter"
   ]
  },
  {
   "cell_type": "code",
   "execution_count": 2,
   "metadata": {
    "scrolled": true
   },
   "outputs": [
    {
     "name": "stdout",
     "output_type": "stream",
     "text": [
      "Importing Jupyter notebook from utils.ipynb\n",
      "Importing Jupyter notebook from blockchain.ipynb\n",
      "Importing Jupyter notebook from encryption.ipynb\n"
     ]
    }
   ],
   "source": [
    "import utils\n",
    "import blockchain as blockchain\n",
    "import encryption"
   ]
  },
  {
   "cell_type": "markdown",
   "metadata": {},
   "source": [
    "### LOAD RESOURCES"
   ]
  },
  {
   "cell_type": "code",
   "execution_count": 3,
   "metadata": {},
   "outputs": [],
   "source": [
    "settings = utils.load_yaml('resources/settings.yaml')"
   ]
  },
  {
   "cell_type": "code",
   "execution_count": 5,
   "metadata": {},
   "outputs": [],
   "source": [
    "latest = utils.load_json('resources/latest.json')"
   ]
  },
  {
   "cell_type": "markdown",
   "metadata": {},
   "source": [
    "### CONNECT TO ETHEREUM GATEWAY"
   ]
  },
  {
   "cell_type": "code",
   "execution_count": null,
   "metadata": {},
   "outputs": [],
   "source": [
    "web3 = blockchain.connect(settings)"
   ]
  },
  {
   "cell_type": "markdown",
   "metadata": {},
   "source": [
    "### SERIALIZE THE SMART CONTRACT"
   ]
  },
  {
   "cell_type": "code",
   "execution_count": 7,
   "metadata": {},
   "outputs": [],
   "source": [
    "auth_manager = blockchain.contract(latest['authmanager'], web3, settings)"
   ]
  },
  {
   "cell_type": "markdown",
   "metadata": {},
   "source": [
    "### GENERATE & ASSIGN RSA ENCRYPTION KEY"
   ]
  },
  {
   "cell_type": "code",
   "execution_count": null,
   "metadata": {},
   "outputs": [],
   "source": [
    "def generate_key(device):\n",
    "    \n",
    "    # GENERATE AN RSA ENCRYPTION KEYPAIR\n",
    "    rsa_pubkey, rsa_privkey = encryption.generate_rsa_keys()\n",
    "    \n",
    "    # ASSIGN THE PUBLIC KEY TO THE DEVICE\n",
    "    auth_manager.write({\n",
    "        'func': 'assign_key',\n",
    "        'params': [device, rsa_pubkey]\n",
    "    })\n",
    "    \n",
    "    # SHA256 HASH THE PUBLIC KEY\n",
    "    hashed_pubkey = utils.hash_data(rsa_pubkey)\n",
    "    \n",
    "    # STORE THE PRIVATE KEY AS A FILE\n",
    "    utils.save_data(rsa_privkey, 'keys/' hashed_pubkey '.key')"
   ]
  },
  {
   "cell_type": "markdown",
   "metadata": {},
   "source": [
    "### FETCH MOST RECENT BACKLOG"
   ]
  },
  {
   "cell_type": "code",
   "execution_count": null,
   "metadata": {},
   "outputs": [],
   "source": [
    "def fetch_backlog():\n",
    "    \n",
    "    # FETCH RAW BACKLOG\n",
    "    raw_backlog = auth_manager.read('fetch_backlog')\n",
    "    \n",
    "    # RETURN FILTERED BACKLOG\n",
    "    return utils.filter_backlog(raw_backlog)"
   ]
  },
  {
   "cell_type": "markdown",
   "metadata": {},
   "source": [
    "### MODIFICATION EVENT"
   ]
  },
  {
   "cell_type": "code",
   "execution_count": null,
   "metadata": {},
   "outputs": [],
   "source": [
    "modification_event = auth_manager.event('modification')"
   ]
  },
  {
   "cell_type": "markdown",
   "metadata": {},
   "source": [
    "### EVENT LOOP"
   ]
  },
  {
   "cell_type": "code",
   "execution_count": null,
   "metadata": {},
   "outputs": [],
   "source": [
    "try:\n",
    "    print('AWAITING REQUESTS...\\n')\n",
    "    \n",
    "    # FETCH BACKLOG\n",
    "    backlog = fetch_backlog()\n",
    "\n",
    "    while(True):\n",
    "\n",
    "        # VARIABLE MODIFICATION EVENT\n",
    "        for event in modification_event.get_new_entries():\n",
    "            \n",
    "            # REFRESH BACKLOG\n",
    "            backlog = fetch_backlog()\n",
    "\n",
    "        # PERFORM TASKS IN BACKLOG\n",
    "        for device in backlog:\n",
    "            generate_key(device)\n",
    "            \n",
    "        # SLEEP FOR A SECOND\n",
    "        time.sleep(1)\n",
    "\n",
    "except:\n",
    "    print('\\nTHE PROCESS WAS MANUALLY KILLED')"
   ]
  }
 ],
 "metadata": {
  "kernelspec": {
   "display_name": "Python 3",
   "language": "python",
   "name": "python3"
  },
  "language_info": {
   "codemirror_mode": {
    "name": "ipython",
    "version": 3
   },
   "file_extension": ".py",
   "mimetype": "text/x-python",
   "name": "python",
   "nbconvert_exporter": "python",
   "pygments_lexer": "ipython3",
   "version": "3.8.5"
  }
 },
 "nbformat": 4,
 "nbformat_minor": 2
}
